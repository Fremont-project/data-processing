{
 "cells": [
  {
   "cell_type": "markdown",
   "metadata": {},
   "source": [
    "# Title of the iPython notebook"
   ]
  },
  {
   "cell_type": "markdown",
   "metadata": {},
   "source": [
    "### Goal of the notebook\n",
    "<font color=red>Explain here the goal of the notebook.</font>\n",
    "First explain what should be the output of the notebook (demand, flow, speed, ...).\n",
    "Then explain how the notebook is related to other notebooks and other python scripts.\n",
    "***\n",
    "**Outputs:** here clearly state the outputs: name of the files, structure of the files, IDs used for the files.\n",
    "- output 1,\n",
    "- output 2\n",
    "\n",
    "**Inputs:** here clearly state the inputs, is it raw data (raw, or manually made). Does it comes from the auxilary files of because the notebook should be run after a previous notebook and some manual work.\n",
    "Location of the inputs file should be clearly stated.\n",
    "- input one\n",
    "- input two\n",
    "\n",
    "**Dependent scripts:** here state the depend script. Add the github links\n",
    "- [Script 1](https://github.com/Fremont-project/data-processing/blob/master/fremontdropbox.py): the script does ...\n",
    "***\n",
    "**Work done by the code:** here explain the work done by the pipeline (in detail).\n",
    "- A. [Example](#section_ID)"
   ]
  },
  {
   "cell_type": "code",
   "execution_count": null,
   "metadata": {},
   "outputs": [],
   "source": [
    "from fremontdropbox import get_dropbox_location\n",
    "\n",
    "path_dropbox = get_dropbox_location()"
   ]
  },
  {
   "cell_type": "markdown",
   "metadata": {},
   "source": [
    "<a id=\"section_ID\"></a>\n",
    "## A. Example"
   ]
  },
  {
   "cell_type": "markdown",
   "metadata": {},
   "source": [
    "`here`\n",
    "> there\n",
    "$\\nabla$\n",
    "\n",
    "d &#9684;\n",
    "\n",
    "1. here\n",
    "2. there"
   ]
  },
  {
   "cell_type": "code",
   "execution_count": null,
   "metadata": {},
   "outputs": [],
   "source": []
  }
 ],
 "metadata": {
  "kernelspec": {
   "display_name": "Python 3",
   "language": "python",
   "name": "python3"
  },
  "language_info": {
   "codemirror_mode": {
    "name": "ipython",
    "version": 3
   },
   "file_extension": ".py",
   "mimetype": "text/x-python",
   "name": "python",
   "nbconvert_exporter": "python",
   "pygments_lexer": "ipython3",
   "version": "3.8.1"
  }
 },
 "nbformat": 4,
 "nbformat_minor": 2
}
