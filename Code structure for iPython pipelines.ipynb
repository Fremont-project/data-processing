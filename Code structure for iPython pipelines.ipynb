{
 "cells": [
  {
   "cell_type": "markdown",
   "metadata": {},
   "source": [
    "# Title of the iPython notebook"
   ]
  },
  {
   "cell_type": "markdown",
   "metadata": {},
   "source": [
    "### Goal of the notebook\n",
    "<font color=red>Explain here the goal of the notebook.</font>\n",
    "First explain what should be the output of the notebook (demand, flow, speed, ...).\n",
    "Then explain how the notebook is related to other notebooks and other python scripts.\n",
    "***\n",
    "**Outputs:** here clearly state the outputs: name of the files, structure of the files, IDs used for the files.\n",
    "- output 1. Available on dropbox in `path`.\n",
    "- output 2. Available on dropbox in `path`.\n",
    "\n",
    "**Inputs:** here clearly state the inputs, is it raw data (raw, or manually made). Does it comes from the auxilary files of because the notebook should be run after a previous notebook and some manual work.\n",
    "Location of the inputs file should be clearly stated.\n",
    "- input one [_raw, publicly available on ..._]. Available on dropbox in `path`.\n",
    "- input two [_raw, private, given by ..._]. Available on dropbox in `path`.\n",
    "- input three [_manually made_]. Available on dropbox in `path`.\n",
    "\n",
    "**Temporary files of the pipeline:** \n",
    "- file one\n",
    "- file two\n",
    "\n",
    "**Dependent scripts:** here state the depend script. Add the github links\n",
    "- [Script 1](https://github.com/Fremont-project/data-processing/blob/master/fremontdropbox.py): explain what the script does in the script using `\"\"\" explanations \"\"\"`. Then call the help in the iPython notebook.\n",
    "\n",
    "**Dependent libraries:**\n",
    "- [numpy](https://numpy.org), can be installed with `pip install numpy`\n",
    "- pandas, ...\n",
    "- ...\n",
    "***\n",
    "**Work done by the code:** here explain the work done by the pipeline (in detail).\n",
    "- A. [Example](#section_ID)"
   ]
  },
  {
   "cell_type": "code",
   "execution_count": 2,
   "metadata": {},
   "outputs": [],
   "source": [
    "from fremontdropbox import get_dropbox_location\n",
    "\n",
    "path_dropbox = get_dropbox_location()"
   ]
  },
  {
   "cell_type": "markdown",
   "metadata": {},
   "source": [
    "<a id=\"section_ID\"></a>\n",
    "## A. Example"
   ]
  },
  {
   "cell_type": "markdown",
   "metadata": {},
   "source": [
    "`here`\n",
    "> there\n",
    "$\\nabla$\n",
    "\n",
    "d &#9684;\n",
    "\n",
    "1. here\n",
    "2. there"
   ]
  },
  {
   "cell_type": "code",
   "execution_count": 3,
   "metadata": {},
   "outputs": [
    {
     "name": "stdout",
     "output_type": "stream",
     "text": [
      "Help on function get_dropbox_location in module fremontdropbox:\n",
      "\n",
      "get_dropbox_location(account_type='business')\n",
      "    Returns a string of the filepath of the Dropbox for this user\n",
      "    \n",
      "    :param account_type: str, 'business' or 'personal'\n",
      "\n"
     ]
    }
   ],
   "source": [
    "help(get_dropbox_location)"
   ]
  },
  {
   "cell_type": "code",
   "execution_count": null,
   "metadata": {},
   "outputs": [],
   "source": []
  }
 ],
 "metadata": {
  "kernelspec": {
   "display_name": "Python 3",
   "language": "python",
   "name": "python3"
  },
  "language_info": {
   "codemirror_mode": {
    "name": "ipython",
    "version": 3
   },
   "file_extension": ".py",
   "mimetype": "text/x-python",
   "name": "python",
   "nbconvert_exporter": "python",
   "pygments_lexer": "ipython3",
   "version": "3.7.3"
  }
 },
 "nbformat": 4,
 "nbformat_minor": 2
}
