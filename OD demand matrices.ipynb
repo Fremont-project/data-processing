{
 "cells": [
  {
   "cell_type": "markdown",
   "metadata": {},
   "source": [
    "# Generating OD matrices for the demand"
   ]
  },
  {
   "cell_type": "markdown",
   "metadata": {},
   "source": [
    "We'll going to work with demand data provided for various types of traffic in Fremont.\n",
    "Demand datasets **(that we currently have)** fall into three categories based on **origin** and **destination** of the cars driving through the areas:\n",
    "\n",
    "1. Cars that **start** their trip within internal centroid zones and **end** within internal centroid zones **(internal-internal demand)**\n",
    "2. Cars that **start** their trip within internal centroid zones and **end** within external centroid zones **(internal-external demand)**\n",
    "3. Cars that **start** their trip within external centroid zones and **end** within internal centroid zones **(external-internal demand)**\n",
    "\n",
    "As you can see, for now we don't have any knowledge about cars that drive through the area - in other words, they **start** their trip within external centroid zones (or are coming from outside) and **end** their trip within external centroid zones (or are on their way somewhere away from the city)."
   ]
  },
  {
   "cell_type": "code",
   "execution_count": 15,
   "metadata": {},
   "outputs": [],
   "source": [
    "# --- Global variables\n",
    "\n",
    "# Setting up the Coordinate Reference Systems up front in the necessary format.\n",
    "crs_degree = {'init': 'epsg:4326'} # CGS_WGS_1984 (what the GPS uses)\n",
    "\n",
    "# --- Paths\n",
    "\n",
    "# Root path of Fremont Dropbox\n",
    "from fremontdropbox import get_dropbox_location\n",
    "dbx = get_dropbox_location()\n",
    "\n",
    "# Temporary! Location of the folder where the restructuring is currently happening\n",
    "data_path = dbx + '/Private Structured data collection'\n",
    "\n",
    "# Processing output path\n",
    "output_path = data_path + '/Processed data'"
   ]
  },
  {
   "cell_type": "markdown",
   "metadata": {},
   "source": [
    "Internal and external centroid zones are exported from ArcGIS. They contain geometries (shapes created from polygons around certain zone) so they can be loaded with `GeoPandas` as `GeoDataFrame`:"
   ]
  },
  {
   "cell_type": "code",
   "execution_count": 2,
   "metadata": {},
   "outputs": [],
   "source": [
    "# Read more about GeoPandas data structures here: http://geopandas.org/data_structures.html\n",
    "from geopandas import GeoDataFrame\n",
    "\n",
    "# Centroid zones\n",
    "int_centroid_zones = GeoDataFrame.from_file(data_path + \"/Data processing/Demand/TAZ/InternalCentroidZones.shp\")\n",
    "ext_centroid_zones = GeoDataFrame.from_file(data_path + \"/Data processing/Demand/TAZ/ExternalCentroidZones.shp\")"
   ]
  },
  {
   "cell_type": "markdown",
   "metadata": {},
   "source": [
    "Let's load all the Fremont \"legs\", e.g. all categories of demand data we have:"
   ]
  },
  {
   "cell_type": "code",
   "execution_count": 3,
   "metadata": {},
   "outputs": [],
   "source": [
    "import pandas as pd\n",
    "\n",
    "# Cars that stay within internal centroid zones\n",
    "internal_legs = pd.read_csv(data_path+'/Data processing/Demand/SFCTA demand data/internal_fremont_legs.csv')\n",
    "\n",
    "# Cars that start within internal centroid zones and end outside\n",
    "starting_legs = pd.read_csv(data_path+'/Data processing/Demand/SFCTA demand data/starting_fremont_legs.csv')\n",
    "\n",
    "# Cars that start outside and end within internal centroid zones\n",
    "ending_legs = pd.read_csv(data_path+'/Data processing/Demand/SFCTA demand data/ending_fremont_legs.csv')"
   ]
  },
  {
   "cell_type": "markdown",
   "metadata": {},
   "source": [
    "We have to convert lattitude and longitude into **`Point` geometries** and convert Fremont legs `DataFrame`s into `GeoDataFrame`s. For \"enhancing\" the datasets with geometries, we're defining `add_point_geometry` function:"
   ]
  },
  {
   "cell_type": "code",
   "execution_count": 4,
   "metadata": {},
   "outputs": [],
   "source": [
    "def add_point_geometry(df, lng_column='start_node_lng', lat_column='start_node_lat', geometry_column='geometry'):\n",
    "    \"\"\"\n",
    "    Add a new Point geometry column\n",
    "    Parameters\n",
    "    ----------\n",
    "    df : DataFrame\n",
    "        DataFrame representing demand legs (internal|starting|ending)\n",
    "    lat_column : string\n",
    "        Name of the column representing lattitude\n",
    "    lng_column : string\n",
    "        Name of the column representing longitude\n",
    "    geometry_column : string\n",
    "        Name of the column that will represent geometry column\n",
    "\n",
    "    Returns\n",
    "    -------\n",
    "    df_with_geometry : GeoDataFrame\n",
    "        GeoDataFrame representing demand legs (internal|starting|ending) with added point geometry.\n",
    "    \"\"\"\n",
    "    # Process XY coordinates data as Point geometry\n",
    "    from shapely.geometry import Point\n",
    "    points = [Point(xy) for xy in zip(df[lng_column], df[lat_column])]\n",
    "    \n",
    "    gdf = GeoDataFrame(df, crs=crs_degree, geometry=points)\n",
    "    gdf = gdf.rename(columns={'geometry': geometry_column}).set_geometry(geometry_column)\n",
    "    return gdf"
   ]
  },
  {
   "cell_type": "code",
   "execution_count": 5,
   "metadata": {},
   "outputs": [],
   "source": [
    "# Geometries column names\n",
    "start_node_geometry_column = 'start_node_geometry'\n",
    "end_node_geometry_column = 'end_node_geometry'\n",
    "\n",
    "# Converting each leg into GeoDataFrame (with two geometries for start end nodes)\n",
    "int_int_legs = add_point_geometry(internal_legs, lng_column='start_node_lng', lat_column='start_node_lat', geometry_column=start_node_geometry_column)\n",
    "int_int_legs = add_point_geometry(int_int_legs, lng_column='end_node_lng', lat_column='end_node_lat', geometry_column=end_node_geometry_column)\n",
    "\n",
    "int_ext_legs = add_point_geometry(starting_legs, lng_column='start_node_lng', lat_column='start_node_lat', geometry_column=start_node_geometry_column)\n",
    "int_ext_legs = add_point_geometry(int_ext_legs, lng_column='end_node_lng', lat_column='end_node_lat', geometry_column=end_node_geometry_column)\n",
    "\n",
    "ext_int_legs = add_point_geometry(ending_legs, lng_column='start_node_lng', lat_column='start_node_lat', geometry_column=start_node_geometry_column)\n",
    "ext_int_legs = add_point_geometry(ext_int_legs, lng_column='end_node_lng', lat_column='end_node_lat', geometry_column=end_node_geometry_column)"
   ]
  },
  {
   "cell_type": "markdown",
   "metadata": {},
   "source": [
    "---"
   ]
  },
  {
   "cell_type": "markdown",
   "metadata": {},
   "source": [
    "## Spatial joins\n",
    "\n",
    "In a Spatial Join, observations from GeoDataFrames are combined **based on their spatial relationship to one another**.\n",
    "\n",
    "Docs: http://geopandas.org/mergingdata.html"
   ]
  },
  {
   "cell_type": "code",
   "execution_count": 6,
   "metadata": {},
   "outputs": [],
   "source": [
    "from geopandas import sjoin\n",
    "\n",
    "def spatial_join_nodes_with_centroids(gdf, centroid_zones, how='left', op='within', type='origin'):\n",
    "    if type == 'origin':\n",
    "        gdf_to_join = gdf.set_geometry(start_node_geometry_column)\n",
    "    elif type == 'destination':\n",
    "        gdf_to_join = gdf.set_geometry(end_node_geometry_column)\n",
    "    \n",
    "    if type not in ['origin', 'destination']:\n",
    "        raise ValueError('{type} argument is incorrect, use \"origin\" or \"destination\"'.format(type=repr(type)))\n",
    "        \n",
    "\n",
    "    gdf_to_join = sjoin(gdf_to_join, centroid_zones, how='left', op='within')\n",
    "    gdf_to_join.rename(\n",
    "        columns={\n",
    "            \"CentroidID\": \"CentroidID_O\" if type == 'origin' else \"CentroidID_D\"\n",
    "        },\n",
    "        inplace=True\n",
    "    )\n",
    "\n",
    "    for column in ['index_left', 'index_right', 'OBJECTID']:\n",
    "        try:\n",
    "            gdf_to_join.drop(column, axis=1, inplace=True)\n",
    "        except KeyError:\n",
    "            # ignore if there are no index columns\n",
    "            pass\n",
    "        \n",
    "    return gdf_to_join"
   ]
  },
  {
   "cell_type": "code",
   "execution_count": 7,
   "metadata": {},
   "outputs": [],
   "source": [
    "# Internal to internal OD matrix\n",
    "int_int_start_nodes = spatial_join_nodes_with_centroids(int_int_legs, int_centroid_zones, type='origin')\n",
    "int_int_end_nodes = spatial_join_nodes_with_centroids(int_int_legs, int_centroid_zones, type='destination')\n",
    "\n",
    "int_int_OD = int_int_start_nodes.combine_first(int_int_end_nodes)\n",
    "int_int_OD['OBJECTID'] = int_int_OD.index + 1"
   ]
  },
  {
   "cell_type": "code",
   "execution_count": 8,
   "metadata": {},
   "outputs": [],
   "source": [
    "# Internal to external OD matrix\n",
    "int_ext_start_nodes = spatial_join_nodes_with_centroids(int_ext_legs, int_centroid_zones, type='origin')\n",
    "int_ext_end_nodes = spatial_join_nodes_with_centroids(int_ext_legs, ext_centroid_zones, type='destination')\n",
    "\n",
    "int_ext_OD = int_ext_start_nodes.combine_first(int_ext_end_nodes)\n",
    "int_ext_OD['OBJECTID'] = int_ext_OD.index + 1"
   ]
  },
  {
   "cell_type": "markdown",
   "metadata": {},
   "source": [
    "### Attention! Index 56707 of int_ext_OD is duplicated. I don't know if it's okay!"
   ]
  },
  {
   "cell_type": "code",
   "execution_count": 9,
   "metadata": {},
   "outputs": [],
   "source": [
    "# Code to check it out:\n",
    "# int_ext_end_nodes_OD.loc[[56705, 56706, 56707, 56708, 56709, 56710]]"
   ]
  },
  {
   "cell_type": "code",
   "execution_count": 10,
   "metadata": {},
   "outputs": [],
   "source": [
    "# External to internal OD matrix\n",
    "ext_int_start_nodes = spatial_join_nodes_with_centroids(ext_int_legs, ext_centroid_zones, type='origin')\n",
    "ext_int_end_nodes = spatial_join_nodes_with_centroids(ext_int_legs, int_centroid_zones, type='destination')\n",
    "\n",
    "ext_int_OD = ext_int_start_nodes.combine_first(ext_int_end_nodes)\n",
    "ext_int_OD['OBJECTID'] = ext_int_OD.index + 1"
   ]
  },
  {
   "cell_type": "markdown",
   "metadata": {},
   "source": [
    "---"
   ]
  },
  {
   "cell_type": "markdown",
   "metadata": {},
   "source": [
    "## Export OD matrices as CSV files "
   ]
  },
  {
   "cell_type": "code",
   "execution_count": 11,
   "metadata": {},
   "outputs": [],
   "source": [
    "def export_od_matrix_to_csv(df, path):\n",
    "    \"\"\"\n",
    "    Exports an origin-destination matrix into CSV\n",
    "    Parameters\n",
    "    ----------\n",
    "    df : DataFrame\n",
    "        DataFrame representing OD matrix\n",
    "    output_path : string\n",
    "        Output path\n",
    "    \"\"\"\n",
    "    if path == '' or path == None:\n",
    "        raise ValueError('\"output_path\" cannot be empty.')\n",
    "        \n",
    "    pd.DataFrame.to_csv(df,\n",
    "        path,\n",
    "        encoding='utf8',\n",
    "        columns=[\"OBJECTID\", \"leg_id\",\"start_time\",\"start_node_lat\",\"start_node_lng\",\"end_node_lat\",\"end_node_lng\",\"CentroidID_O\",\"CentroidID_D\"]\n",
    "    )"
   ]
  },
  {
   "cell_type": "code",
   "execution_count": 16,
   "metadata": {},
   "outputs": [],
   "source": [
    "# Export all OD matrixes\n",
    "export_od_matrix_to_csv(int_int_OD, output_path+'/Demand/int_int_OD.csv')\n",
    "export_od_matrix_to_csv(int_ext_OD, output_path+'/Demand/int_ext_OD.csv')\n",
    "export_od_matrix_to_csv(ext_int_OD, output_path+'/Demand/ext_int_OD.csv')"
   ]
  },
  {
   "cell_type": "markdown",
   "metadata": {},
   "source": [
    "---"
   ]
  },
  {
   "cell_type": "raw",
   "metadata": {},
   "source": [
    "something"
   ]
  }
 ],
 "metadata": {
  "kernelspec": {
   "display_name": "Python 3",
   "language": "python",
   "name": "python3"
  },
  "language_info": {
   "codemirror_mode": {
    "name": "ipython",
    "version": 3
   },
   "file_extension": ".py",
   "mimetype": "text/x-python",
   "name": "python",
   "nbconvert_exporter": "python",
   "pygments_lexer": "ipython3",
   "version": "3.8.1"
  }
 },
 "nbformat": 4,
 "nbformat_minor": 4
}
