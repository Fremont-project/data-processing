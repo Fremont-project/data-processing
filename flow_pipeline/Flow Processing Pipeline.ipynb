{
 "cells": [
  {
   "cell_type": "markdown",
   "metadata": {},
   "source": [
    "# Flow Processing Pipeline\n"
   ]
  },
  {
   "cell_type": "markdown",
   "metadata": {},
   "source": [
    "## Goal of the pipeline\n",
    "\n",
    "<font color=red> the goal of this notebook is to process the raw ADT data and PeMs data for 2013, 2015, 2017 and 2019 into understandable format. Then, every detector of interest is associated with a network link inside Aimsun. Later, every detector is associated with a road section to create heatmap and compare flows between years. \n"
   ]
  },
  {
   "cell_type": "markdown",
   "metadata": {},
   "source": [
    "### Dependent scripts: \n",
    "- pems_download.py: the script automatically download PeMs data for chosen date\n",
    "- pre_process_flow.py: the script (A). parse the ADT data from xlsx, doc and csv files to csv files (B). Find the coordinates of the city detectors (C). Check and adjust the locations of the (City + PeMS) detectors to match them to our network using ArcGIS \n",
    "- process_flow.py: this script processes all the flow traffic data into one big CSV file from both city and PeMS data files\n",
    "- process_years_together.py: this script combines the previous scripts and processes the data for 2013, 2015, 2017, 2019\n"
   ]
  },
  {
   "cell_type": "markdown",
   "metadata": {},
   "source": [
    "### Inputs of the pipeline: \n",
    "- PeMS account\n",
    "- City flow data\n",
    "- Kimley-Horn flow and speed data\n",
    "\n",
    "### Outputs of the pipeline: \n",
    "- Processed flow data for 2013, 2015, 2017, 2019\n"
   ]
  },
  {
   "cell_type": "markdown",
   "metadata": {},
   "source": [
    "### TO DO:\n",
    "- should have exception handler in the process (and python function) if the files are not located where you are looking for.\n",
    "- run PCA and create heatmap with ArcGIS (heatmap will be done by Theo)"
   ]
  },
  {
   "cell_type": "markdown",
   "metadata": {},
   "source": [
    "##### 1. Obtaining Data\n",
    "\n",
    "### A) PeMS Data Download \n",
    "### [This script only work in Ipython notebook, don't test locally]\n",
    "    \n",
    "Source file code: PeMS Download.ipynb <br>\n",
    "Download traffic data from the PEMS website (pews.dot.ca.gov) for years 2013, 2015, 2017 and 2019 <br>\n",
    "\n",
    "\n",
    "We download the data calling the method download(detector_ids, year) from the pems_download.py file. The process takes about 5 minutes to run. \n",
    "\n",
    "The function has for input:\n",
    "- PeMS detectors ID\n",
    "- Year for the desired data \n",
    "\n",
    "The function has for output:\n",
    "- All corresponding PeMS detectors data file for the given year (and the given days encoded in the url)\n",
    "- Stored in the download folder as PeMS-ID_YEAR.xlsx (where PeMS-ID is the detector ID given by PeMS).\n",
    "\n",
    "For the function to work, you need to:\n",
    "- Log in to PeMS in the same browser that runs this Jupyter notebook\n",
    "\n",
    "For the pipeline to work:\n",
    "- The downloaded files are then manually moved to the folders PeMS/PeMS_YEAR (where YEAR=2013,2017 or 2019).\n",
    "\n",
    "### B) Turn city pdf to doc\n",
    "\n",
    "Some of the flow data that we got from the city were in pdf files. To be able to parse them, we convert them to doc files using online website.\n",
    "\n",
    "### C) Location and structure of the files\n",
    "\n",
    "#### PeMS files\n",
    "The PeMS files are in a folder PeMS/PeMS_YEAR/ (where YEAR=2013, 2017 or 2019).\n",
    "Every file is named PeMS-ID_YEAR.xlsx (where PeMS-ID is the detector ID given by PeMS).\n",
    "\n",
    "One xlsx file has two sheets:\n",
    "- PeMS Report Description\n",
    "- Report Data <br>\n",
    "    - Contains the traffic flow data\n",
    "    - Each row gives the number of vehicles observed in one time step (5 minutes) per lane number over the columns.\n",
    "    - The first column gives the date and time stamp, and the columns that follow are lanes (i.e. Lane 1 Flow, Lane 2 Flow)\n",
    "    - ***Edson Question***: There are columns that are ambiguous \"Flow (Veh/5 Minutes)\", \"# Lane Points\" and \"% Observed\". That is I don't know what they represent exactly. For example, \"Flow (Veh/5 Minutes)\" does not specify if it belongs to some Lane or if its a combination of the previous lane flows.\n",
    "    ***Theo Answer***: what matter is \"Flow (Veh/5 Minutes)\": the number of vehicles seen for every lane of the corresponding detectors and \"% Observed\": how much of the flow is due to real vehicles sensed or due to estimation form other days due to a technical issue that make the sensor not sensing every cars. \n",
    "\n",
    "#### City files\n",
    "\n",
    "The city files are in folder named \"Year ADT Data\" where Year takes values of 2013, 2015, 2017 or 2019. Almost every file is named using the convention \"Main Road Cross 1 Cross 2 Direction\". Main Road is the road on which the flow is recorded, Cross 1 and Cross 2 can be used to locate the sensor which is found between the intersection of the main road and road Cross 1 and the intersection of the main road and road Cross 2, and finally the Direction gives the direction of the flow such as \"EB\" which stands for East Bound. Note that files in \"Year ADT Data\" folder are of file type .xls, .xlsx, .csv and .pdf.\n",
    "\n",
    "- ***2013 Excel files*** are structured in data sheets. The first data sheet \"Summary\" contains the main road, cross streets, city information and the start date of the recording. It also summarizes the data contained in all other sheets into a bar plot of traffic flow vs time of day bins (i.e Tuesday AM, Wednesday PM) for different flow directions and into a line plot of traffic flow vs. hour of day for different days of the week. The sheets that follow are named \"D1\", \"D2\",...\"DN\" where N denotes the N'th day since the start date. These sheets are structured into two tables, AM counts and PM counts. Each table row gives the traffic flow per timestep of 15 minutes. The first column is the time of day in hh:mm format follow by direction columns of traffic flow (NB, SB, EB, WB).\n",
    "***Theo remark***: they are hidden sheets! This is very important for the parsing!\n",
    "\n",
    "\n",
    "- ***2015 Excel files*** The files come from Kimley Horn. Every excel file has 6 relevant sheets including the hidden sheets. They are ['ns Day 1', 'ns Day 2', 'ns Day 3', 'ew Day 1', 'ew Day 2', 'ew Day 3']. Depending on the direction of the road, the corresponding set of sheets are filled and the other half would be emtpy. Therefore, in the parsing algorithm, we first determine the flow direction, which then decide the set of sheets to parse. Each sheet is structured to have two tables side-by-side: Northbound(Eastbound) and Southbound(Westbound): in each table, the AM and PM flow are also side-by-side sharing the same column. Therefore, the algorithm would extract AM and PM flow first and stack them together to get traffic flow for the whole day. \n",
    "\n",
    "\n",
    "- ***2017 Excel files*** are structured in one data sheet giving a header and a table for traffic flow. The header gives the start date and time of the recording, site code and sensor location, and the table gives traffic flow per a 15 minute timestep. The table's first two columns give the date and time and the following columns give traffic flow per directions.\n",
    "\n",
    "- ***2017 PDF files*** are structured with a header and 3 tables of traffic flow data (one table per day of subsequent days). The header gives the site location and other miscellaneous meta data. Each table is titled by the date and timestep (15 minutes) of the recording. A table is organized by columns each representing the hour of day (0 - 23). Hence for a given column, the first row gives the hour of the day, the second gives the total flow for the hour, and the third to last row (4 rows total) gives traffic flow per 15 minute timestep for the hour.\n",
    "\n",
    "- ***2019 Excel files*** have similar structure as those of 2013. The data is organized in two types of sheet, \"Day N\" and \"GR N\" sheets. The \"Day N\" sheets give traffic flow data in the same fashion as the \"DN\" sheets of 2013 excel files. The day of recording can be found in the header of the two tables. The \"GR N\" sheets plot the corresponding flow data of the \"Day N\" sheets. A line plot of flow vs. hour of day for different flow directions is given.\n",
    "***Theo remark***: Same here, they are hidden sheets!\n",
    "\n",
    "- ***2019 PDF files*** have the same structure as those of 2017. \n",
    "\n"
   ]
  },
  {
   "cell_type": "code",
   "execution_count": 1,
   "metadata": {},
   "outputs": [
    {
     "name": "stdout",
     "output_type": "stream",
     "text": [
      "download path/Users/LiJiayi/Downloads\n"
     ]
    }
   ],
   "source": [
    "import pems_download as pems"
   ]
  },
  {
   "cell_type": "code",
   "execution_count": 2,
   "metadata": {},
   "outputs": [
    {
     "name": "stdout",
     "output_type": "stream",
     "text": [
      "http://pems.dot.ca.gov/?report_form=1&dnode=VDS&content=loops&tab=det_timeseries&export=xls&station_id=403250&s_time_id=1362441600&s_time_id_f=03%2F05%2F2013+00%3A00&e_time_id=1362700740&e_time_id_f=03%2F07%2F2013+23%3A59&tod=all&tod_from=0&tod_to=0&dow_0=on&dow_1=on&dow_2=on&dow_3=on&dow_4=on&dow_5=on&dow_6=on&holidays=on&q=flow&q2=&gn=5min&agg=on&lane1=on&lane2=onlane3=on\n",
      "http://pems.dot.ca.gov/?report_form=1&dnode=VDS&content=loops&tab=det_timeseries&export=xls&station_id=403256&s_time_id=1362441600&s_time_id_f=03%2F05%2F2013+00%3A00&e_time_id=1362700740&e_time_id_f=03%2F07%2F2013+23%3A59&tod=all&tod_from=0&tod_to=0&dow_0=on&dow_1=on&dow_2=on&dow_3=on&dow_4=on&dow_5=on&dow_6=on&holidays=on&q=flow&q2=&gn=5min&agg=on&lane1=on&lane2=onlane3=on\n",
      "http://pems.dot.ca.gov/?report_form=1&dnode=VDS&content=loops&tab=det_timeseries&export=xls&station_id=403255&s_time_id=1362441600&s_time_id_f=03%2F05%2F2013+00%3A00&e_time_id=1362700740&e_time_id_f=03%2F07%2F2013+23%3A59&tod=all&tod_from=0&tod_to=0&dow_0=on&dow_1=on&dow_2=on&dow_3=on&dow_4=on&dow_5=on&dow_6=on&holidays=on&q=flow&q2=&gn=5min&agg=on&lane1=on&lane2=onlane3=on\n",
      "http://pems.dot.ca.gov/?report_form=1&dnode=VDS&content=loops&tab=det_timeseries&export=xls&station_id=403257&s_time_id=1362441600&s_time_id_f=03%2F05%2F2013+00%3A00&e_time_id=1362700740&e_time_id_f=03%2F07%2F2013+23%3A59&tod=all&tod_from=0&tod_to=0&dow_0=on&dow_1=on&dow_2=on&dow_3=on&dow_4=on&dow_5=on&dow_6=on&holidays=on&q=flow&q2=&gn=5min&agg=on&lane1=on&lane2=onlane3=on\n",
      "http://pems.dot.ca.gov/?report_form=1&dnode=VDS&content=loops&tab=det_timeseries&export=xls&station_id=418387&s_time_id=1362441600&s_time_id_f=03%2F05%2F2013+00%3A00&e_time_id=1362700740&e_time_id_f=03%2F07%2F2013+23%3A59&tod=all&tod_from=0&tod_to=0&dow_0=on&dow_1=on&dow_2=on&dow_3=on&dow_4=on&dow_5=on&dow_6=on&holidays=on&q=flow&q2=&gn=5min&agg=on&lane1=on&lane2=onlane3=on\n",
      "http://pems.dot.ca.gov/?report_form=1&dnode=VDS&content=loops&tab=det_timeseries&export=xls&station_id=418388&s_time_id=1362441600&s_time_id_f=03%2F05%2F2013+00%3A00&e_time_id=1362700740&e_time_id_f=03%2F07%2F2013+23%3A59&tod=all&tod_from=0&tod_to=0&dow_0=on&dow_1=on&dow_2=on&dow_3=on&dow_4=on&dow_5=on&dow_6=on&holidays=on&q=flow&q2=&gn=5min&agg=on&lane1=on&lane2=onlane3=on\n",
      "http://pems.dot.ca.gov/?report_form=1&dnode=VDS&content=loops&tab=det_timeseries&export=xls&station_id=400376&s_time_id=1362441600&s_time_id_f=03%2F05%2F2013+00%3A00&e_time_id=1362700740&e_time_id_f=03%2F07%2F2013+23%3A59&tod=all&tod_from=0&tod_to=0&dow_0=on&dow_1=on&dow_2=on&dow_3=on&dow_4=on&dow_5=on&dow_6=on&holidays=on&q=flow&q2=&gn=5min&agg=on&lane1=on&lane2=onlane3=on\n",
      "http://pems.dot.ca.gov/?report_form=1&dnode=VDS&content=loops&tab=det_timeseries&export=xls&station_id=413981&s_time_id=1362441600&s_time_id_f=03%2F05%2F2013+00%3A00&e_time_id=1362700740&e_time_id_f=03%2F07%2F2013+23%3A59&tod=all&tod_from=0&tod_to=0&dow_0=on&dow_1=on&dow_2=on&dow_3=on&dow_4=on&dow_5=on&dow_6=on&holidays=on&q=flow&q2=&gn=5min&agg=on&lane1=on&lane2=onlane3=on\n",
      "http://pems.dot.ca.gov/?report_form=1&dnode=VDS&content=loops&tab=det_timeseries&export=xls&station_id=413980&s_time_id=1362441600&s_time_id_f=03%2F05%2F2013+00%3A00&e_time_id=1362700740&e_time_id_f=03%2F07%2F2013+23%3A59&tod=all&tod_from=0&tod_to=0&dow_0=on&dow_1=on&dow_2=on&dow_3=on&dow_4=on&dow_5=on&dow_6=on&holidays=on&q=flow&q2=&gn=5min&agg=on&lane1=on&lane2=onlane3=on\n",
      "http://pems.dot.ca.gov/?report_form=1&dnode=VDS&content=loops&tab=det_timeseries&export=xls&station_id=413982&s_time_id=1362441600&s_time_id_f=03%2F05%2F2013+00%3A00&e_time_id=1362700740&e_time_id_f=03%2F07%2F2013+23%3A59&tod=all&tod_from=0&tod_to=0&dow_0=on&dow_1=on&dow_2=on&dow_3=on&dow_4=on&dow_5=on&dow_6=on&holidays=on&q=flow&q2=&gn=5min&agg=on&lane1=on&lane2=onlane3=on\n",
      "http://pems.dot.ca.gov/?report_form=1&dnode=VDS&content=loops&tab=det_timeseries&export=xls&station_id=402794&s_time_id=1362441600&s_time_id_f=03%2F05%2F2013+00%3A00&e_time_id=1362700740&e_time_id_f=03%2F07%2F2013+23%3A59&tod=all&tod_from=0&tod_to=0&dow_0=on&dow_1=on&dow_2=on&dow_3=on&dow_4=on&dow_5=on&dow_6=on&holidays=on&q=flow&q2=&gn=5min&agg=on&lane1=on&lane2=onlane3=on\n",
      "http://pems.dot.ca.gov/?report_form=1&dnode=VDS&content=loops&tab=det_timeseries&export=xls&station_id=413983&s_time_id=1362441600&s_time_id_f=03%2F05%2F2013+00%3A00&e_time_id=1362700740&e_time_id_f=03%2F07%2F2013+23%3A59&tod=all&tod_from=0&tod_to=0&dow_0=on&dow_1=on&dow_2=on&dow_3=on&dow_4=on&dow_5=on&dow_6=on&holidays=on&q=flow&q2=&gn=5min&agg=on&lane1=on&lane2=onlane3=on\n",
      "http://pems.dot.ca.gov/?report_form=1&dnode=VDS&content=loops&tab=det_timeseries&export=xls&station_id=413984&s_time_id=1362441600&s_time_id_f=03%2F05%2F2013+00%3A00&e_time_id=1362700740&e_time_id_f=03%2F07%2F2013+23%3A59&tod=all&tod_from=0&tod_to=0&dow_0=on&dow_1=on&dow_2=on&dow_3=on&dow_4=on&dow_5=on&dow_6=on&holidays=on&q=flow&q2=&gn=5min&agg=on&lane1=on&lane2=onlane3=on\n",
      "http://pems.dot.ca.gov/?report_form=1&dnode=VDS&content=loops&tab=det_timeseries&export=xls&station_id=413985&s_time_id=1362441600&s_time_id_f=03%2F05%2F2013+00%3A00&e_time_id=1362700740&e_time_id_f=03%2F07%2F2013+23%3A59&tod=all&tod_from=0&tod_to=0&dow_0=on&dow_1=on&dow_2=on&dow_3=on&dow_4=on&dow_5=on&dow_6=on&holidays=on&q=flow&q2=&gn=5min&agg=on&lane1=on&lane2=onlane3=on\n",
      "http://pems.dot.ca.gov/?report_form=1&dnode=VDS&content=loops&tab=det_timeseries&export=xls&station_id=413987&s_time_id=1362441600&s_time_id_f=03%2F05%2F2013+00%3A00&e_time_id=1362700740&e_time_id_f=03%2F07%2F2013+23%3A59&tod=all&tod_from=0&tod_to=0&dow_0=on&dow_1=on&dow_2=on&dow_3=on&dow_4=on&dow_5=on&dow_6=on&holidays=on&q=flow&q2=&gn=5min&agg=on&lane1=on&lane2=onlane3=on\n",
      "http://pems.dot.ca.gov/?report_form=1&dnode=VDS&content=loops&tab=det_timeseries&export=xls&station_id=413986&s_time_id=1362441600&s_time_id_f=03%2F05%2F2013+00%3A00&e_time_id=1362700740&e_time_id_f=03%2F07%2F2013+23%3A59&tod=all&tod_from=0&tod_to=0&dow_0=on&dow_1=on&dow_2=on&dow_3=on&dow_4=on&dow_5=on&dow_6=on&holidays=on&q=flow&q2=&gn=5min&agg=on&lane1=on&lane2=onlane3=on\n",
      "http://pems.dot.ca.gov/?report_form=1&dnode=VDS&content=loops&tab=det_timeseries&export=xls&station_id=402796&s_time_id=1362441600&s_time_id_f=03%2F05%2F2013+00%3A00&e_time_id=1362700740&e_time_id_f=03%2F07%2F2013+23%3A59&tod=all&tod_from=0&tod_to=0&dow_0=on&dow_1=on&dow_2=on&dow_3=on&dow_4=on&dow_5=on&dow_6=on&holidays=on&q=flow&q2=&gn=5min&agg=on&lane1=on&lane2=onlane3=on\n",
      "http://pems.dot.ca.gov/?report_form=1&dnode=VDS&content=loops&tab=det_timeseries&export=xls&station_id=413988&s_time_id=1362441600&s_time_id_f=03%2F05%2F2013+00%3A00&e_time_id=1362700740&e_time_id_f=03%2F07%2F2013+23%3A59&tod=all&tod_from=0&tod_to=0&dow_0=on&dow_1=on&dow_2=on&dow_3=on&dow_4=on&dow_5=on&dow_6=on&holidays=on&q=flow&q2=&gn=5min&agg=on&lane1=on&lane2=onlane3=on\n",
      "http://pems.dot.ca.gov/?report_form=1&dnode=VDS&content=loops&tab=det_timeseries&export=xls&station_id=402799&s_time_id=1362441600&s_time_id_f=03%2F05%2F2013+00%3A00&e_time_id=1362700740&e_time_id_f=03%2F07%2F2013+23%3A59&tod=all&tod_from=0&tod_to=0&dow_0=on&dow_1=on&dow_2=on&dow_3=on&dow_4=on&dow_5=on&dow_6=on&holidays=on&q=flow&q2=&gn=5min&agg=on&lane1=on&lane2=onlane3=on\n",
      "http://pems.dot.ca.gov/?report_form=1&dnode=VDS&content=loops&tab=det_timeseries&export=xls&station_id=403251&s_time_id=1362441600&s_time_id_f=03%2F05%2F2013+00%3A00&e_time_id=1362700740&e_time_id_f=03%2F07%2F2013+23%3A59&tod=all&tod_from=0&tod_to=0&dow_0=on&dow_1=on&dow_2=on&dow_3=on&dow_4=on&dow_5=on&dow_6=on&holidays=on&q=flow&q2=&gn=5min&agg=on&lane1=on&lane2=onlane3=on\n",
      "http://pems.dot.ca.gov/?report_form=1&dnode=VDS&content=loops&tab=det_timeseries&export=xls&station_id=403710&s_time_id=1362441600&s_time_id_f=03%2F05%2F2013+00%3A00&e_time_id=1362700740&e_time_id_f=03%2F07%2F2013+23%3A59&tod=all&tod_from=0&tod_to=0&dow_0=on&dow_1=on&dow_2=on&dow_3=on&dow_4=on&dow_5=on&dow_6=on&holidays=on&q=flow&q2=&gn=5min&agg=on&lane1=on&lane2=onlane3=on\n",
      "http://pems.dot.ca.gov/?report_form=1&dnode=VDS&content=loops&tab=det_timeseries&export=xls&station_id=403254&s_time_id=1362441600&s_time_id_f=03%2F05%2F2013+00%3A00&e_time_id=1362700740&e_time_id_f=03%2F07%2F2013+23%3A59&tod=all&tod_from=0&tod_to=0&dow_0=on&dow_1=on&dow_2=on&dow_3=on&dow_4=on&dow_5=on&dow_6=on&holidays=on&q=flow&q2=&gn=5min&agg=on&lane1=on&lane2=onlane3=on\n"
     ]
    },
    {
     "name": "stdout",
     "output_type": "stream",
     "text": [
      "http://pems.dot.ca.gov/?report_form=1&dnode=VDS&content=loops&tab=det_timeseries&export=xls&station_id=403719&s_time_id=1362441600&s_time_id_f=03%2F05%2F2013+00%3A00&e_time_id=1362700740&e_time_id_f=03%2F07%2F2013+23%3A59&tod=all&tod_from=0&tod_to=0&dow_0=on&dow_1=on&dow_2=on&dow_3=on&dow_4=on&dow_5=on&dow_6=on&holidays=on&q=flow&q2=&gn=5min&agg=on&lane1=on&lane2=onlane3=on\n",
      "http://pems.dot.ca.gov/?report_form=1&dnode=VDS&content=loops&tab=det_timeseries&export=xls&station_id=400566&s_time_id=1362441600&s_time_id_f=03%2F05%2F2013+00%3A00&e_time_id=1362700740&e_time_id_f=03%2F07%2F2013+23%3A59&tod=all&tod_from=0&tod_to=0&dow_0=on&dow_1=on&dow_2=on&dow_3=on&dow_4=on&dow_5=on&dow_6=on&holidays=on&q=flow&q2=&gn=5min&agg=on&lane1=on&lane2=onlane3=on\n",
      "http://pems.dot.ca.gov/?report_form=1&dnode=VDS&content=loops&tab=det_timeseries&export=xls&station_id=418420&s_time_id=1362441600&s_time_id_f=03%2F05%2F2013+00%3A00&e_time_id=1362700740&e_time_id_f=03%2F07%2F2013+23%3A59&tod=all&tod_from=0&tod_to=0&dow_0=on&dow_1=on&dow_2=on&dow_3=on&dow_4=on&dow_5=on&dow_6=on&holidays=on&q=flow&q2=&gn=5min&agg=on&lane1=on&lane2=onlane3=on\n",
      "http://pems.dot.ca.gov/?report_form=1&dnode=VDS&content=loops&tab=det_timeseries&export=xls&station_id=418419&s_time_id=1362441600&s_time_id_f=03%2F05%2F2013+00%3A00&e_time_id=1362700740&e_time_id_f=03%2F07%2F2013+23%3A59&tod=all&tod_from=0&tod_to=0&dow_0=on&dow_1=on&dow_2=on&dow_3=on&dow_4=on&dow_5=on&dow_6=on&holidays=on&q=flow&q2=&gn=5min&agg=on&lane1=on&lane2=onlane3=on\n",
      "http://pems.dot.ca.gov/?report_form=1&dnode=VDS&content=loops&tab=det_timeseries&export=xls&station_id=418422&s_time_id=1362441600&s_time_id_f=03%2F05%2F2013+00%3A00&e_time_id=1362700740&e_time_id_f=03%2F07%2F2013+23%3A59&tod=all&tod_from=0&tod_to=0&dow_0=on&dow_1=on&dow_2=on&dow_3=on&dow_4=on&dow_5=on&dow_6=on&holidays=on&q=flow&q2=&gn=5min&agg=on&lane1=on&lane2=onlane3=on\n",
      "http://pems.dot.ca.gov/?report_form=1&dnode=VDS&content=loops&tab=det_timeseries&export=xls&station_id=418423&s_time_id=1362441600&s_time_id_f=03%2F05%2F2013+00%3A00&e_time_id=1362700740&e_time_id_f=03%2F07%2F2013+23%3A59&tod=all&tod_from=0&tod_to=0&dow_0=on&dow_1=on&dow_2=on&dow_3=on&dow_4=on&dow_5=on&dow_6=on&holidays=on&q=flow&q2=&gn=5min&agg=on&lane1=on&lane2=onlane3=on\n",
      "http://pems.dot.ca.gov/?report_form=1&dnode=VDS&content=loops&tab=det_timeseries&export=xls&station_id=402793&s_time_id=1362441600&s_time_id_f=03%2F05%2F2013+00%3A00&e_time_id=1362700740&e_time_id_f=03%2F07%2F2013+23%3A59&tod=all&tod_from=0&tod_to=0&dow_0=on&dow_1=on&dow_2=on&dow_3=on&dow_4=on&dow_5=on&dow_6=on&holidays=on&q=flow&q2=&gn=5min&agg=on&lane1=on&lane2=onlane3=on\n",
      "http://pems.dot.ca.gov/?report_form=1&dnode=VDS&content=loops&tab=det_timeseries&export=xls&station_id=403226&s_time_id=1362441600&s_time_id_f=03%2F05%2F2013+00%3A00&e_time_id=1362700740&e_time_id_f=03%2F07%2F2013+23%3A59&tod=all&tod_from=0&tod_to=0&dow_0=on&dow_1=on&dow_2=on&dow_3=on&dow_4=on&dow_5=on&dow_6=on&holidays=on&q=flow&q2=&gn=5min&agg=on&lane1=on&lane2=onlane3=on\n",
      "http://pems.dot.ca.gov/?report_form=1&dnode=VDS&content=loops&tab=det_timeseries&export=xls&station_id=414015&s_time_id=1362441600&s_time_id_f=03%2F05%2F2013+00%3A00&e_time_id=1362700740&e_time_id_f=03%2F07%2F2013+23%3A59&tod=all&tod_from=0&tod_to=0&dow_0=on&dow_1=on&dow_2=on&dow_3=on&dow_4=on&dow_5=on&dow_6=on&holidays=on&q=flow&q2=&gn=5min&agg=on&lane1=on&lane2=onlane3=on\n",
      "http://pems.dot.ca.gov/?report_form=1&dnode=VDS&content=loops&tab=det_timeseries&export=xls&station_id=414016&s_time_id=1362441600&s_time_id_f=03%2F05%2F2013+00%3A00&e_time_id=1362700740&e_time_id_f=03%2F07%2F2013+23%3A59&tod=all&tod_from=0&tod_to=0&dow_0=on&dow_1=on&dow_2=on&dow_3=on&dow_4=on&dow_5=on&dow_6=on&holidays=on&q=flow&q2=&gn=5min&agg=on&lane1=on&lane2=onlane3=on\n",
      "http://pems.dot.ca.gov/?report_form=1&dnode=VDS&content=loops&tab=det_timeseries&export=xls&station_id=402795&s_time_id=1362441600&s_time_id_f=03%2F05%2F2013+00%3A00&e_time_id=1362700740&e_time_id_f=03%2F07%2F2013+23%3A59&tod=all&tod_from=0&tod_to=0&dow_0=on&dow_1=on&dow_2=on&dow_3=on&dow_4=on&dow_5=on&dow_6=on&holidays=on&q=flow&q2=&gn=5min&agg=on&lane1=on&lane2=onlane3=on\n",
      "http://pems.dot.ca.gov/?report_form=1&dnode=VDS&content=loops&tab=det_timeseries&export=xls&station_id=402797&s_time_id=1362441600&s_time_id_f=03%2F05%2F2013+00%3A00&e_time_id=1362700740&e_time_id_f=03%2F07%2F2013+23%3A59&tod=all&tod_from=0&tod_to=0&dow_0=on&dow_1=on&dow_2=on&dow_3=on&dow_4=on&dow_5=on&dow_6=on&holidays=on&q=flow&q2=&gn=5min&agg=on&lane1=on&lane2=onlane3=on\n",
      "http://pems.dot.ca.gov/?report_form=1&dnode=VDS&content=loops&tab=det_timeseries&export=xls&station_id=414011&s_time_id=1362441600&s_time_id_f=03%2F05%2F2013+00%3A00&e_time_id=1362700740&e_time_id_f=03%2F07%2F2013+23%3A59&tod=all&tod_from=0&tod_to=0&dow_0=on&dow_1=on&dow_2=on&dow_3=on&dow_4=on&dow_5=on&dow_6=on&holidays=on&q=flow&q2=&gn=5min&agg=on&lane1=on&lane2=onlane3=on\n",
      "http://pems.dot.ca.gov/?report_form=1&dnode=VDS&content=loops&tab=det_timeseries&export=xls&station_id=402798&s_time_id=1362441600&s_time_id_f=03%2F05%2F2013+00%3A00&e_time_id=1362700740&e_time_id_f=03%2F07%2F2013+23%3A59&tod=all&tod_from=0&tod_to=0&dow_0=on&dow_1=on&dow_2=on&dow_3=on&dow_4=on&dow_5=on&dow_6=on&holidays=on&q=flow&q2=&gn=5min&agg=on&lane1=on&lane2=onlane3=on\n",
      "http://pems.dot.ca.gov/?report_form=1&dnode=VDS&content=loops&tab=det_timeseries&export=xls&station_id=403250&s_time_id=1425340800&s_time_id_f=03%2F03%2F2015+00%3A00&e_time_id=1362700740&e_time_id_f=03%2F07%2F2015+23%3A59&tod=all&tod_from=0&tod_to=0&dow_0=on&dow_1=on&dow_2=on&dow_3=on&dow_4=on&dow_5=on&dow_6=on&holidays=on&q=flow&q2=&gn=5min&agg=on&lane1=on&lane2=onlane3=on\n",
      "http://pems.dot.ca.gov/?report_form=1&dnode=VDS&content=loops&tab=det_timeseries&export=xls&station_id=403256&s_time_id=1425340800&s_time_id_f=03%2F03%2F2015+00%3A00&e_time_id=1362700740&e_time_id_f=03%2F07%2F2015+23%3A59&tod=all&tod_from=0&tod_to=0&dow_0=on&dow_1=on&dow_2=on&dow_3=on&dow_4=on&dow_5=on&dow_6=on&holidays=on&q=flow&q2=&gn=5min&agg=on&lane1=on&lane2=onlane3=on\n",
      "http://pems.dot.ca.gov/?report_form=1&dnode=VDS&content=loops&tab=det_timeseries&export=xls&station_id=403255&s_time_id=1425340800&s_time_id_f=03%2F03%2F2015+00%3A00&e_time_id=1362700740&e_time_id_f=03%2F07%2F2015+23%3A59&tod=all&tod_from=0&tod_to=0&dow_0=on&dow_1=on&dow_2=on&dow_3=on&dow_4=on&dow_5=on&dow_6=on&holidays=on&q=flow&q2=&gn=5min&agg=on&lane1=on&lane2=onlane3=on\n",
      "http://pems.dot.ca.gov/?report_form=1&dnode=VDS&content=loops&tab=det_timeseries&export=xls&station_id=403257&s_time_id=1425340800&s_time_id_f=03%2F03%2F2015+00%3A00&e_time_id=1362700740&e_time_id_f=03%2F07%2F2015+23%3A59&tod=all&tod_from=0&tod_to=0&dow_0=on&dow_1=on&dow_2=on&dow_3=on&dow_4=on&dow_5=on&dow_6=on&holidays=on&q=flow&q2=&gn=5min&agg=on&lane1=on&lane2=onlane3=on\n",
      "http://pems.dot.ca.gov/?report_form=1&dnode=VDS&content=loops&tab=det_timeseries&export=xls&station_id=418387&s_time_id=1425340800&s_time_id_f=03%2F03%2F2015+00%3A00&e_time_id=1362700740&e_time_id_f=03%2F07%2F2015+23%3A59&tod=all&tod_from=0&tod_to=0&dow_0=on&dow_1=on&dow_2=on&dow_3=on&dow_4=on&dow_5=on&dow_6=on&holidays=on&q=flow&q2=&gn=5min&agg=on&lane1=on&lane2=onlane3=on\n",
      "http://pems.dot.ca.gov/?report_form=1&dnode=VDS&content=loops&tab=det_timeseries&export=xls&station_id=418388&s_time_id=1425340800&s_time_id_f=03%2F03%2F2015+00%3A00&e_time_id=1362700740&e_time_id_f=03%2F07%2F2015+23%3A59&tod=all&tod_from=0&tod_to=0&dow_0=on&dow_1=on&dow_2=on&dow_3=on&dow_4=on&dow_5=on&dow_6=on&holidays=on&q=flow&q2=&gn=5min&agg=on&lane1=on&lane2=onlane3=on\n",
      "http://pems.dot.ca.gov/?report_form=1&dnode=VDS&content=loops&tab=det_timeseries&export=xls&station_id=400376&s_time_id=1425340800&s_time_id_f=03%2F03%2F2015+00%3A00&e_time_id=1362700740&e_time_id_f=03%2F07%2F2015+23%3A59&tod=all&tod_from=0&tod_to=0&dow_0=on&dow_1=on&dow_2=on&dow_3=on&dow_4=on&dow_5=on&dow_6=on&holidays=on&q=flow&q2=&gn=5min&agg=on&lane1=on&lane2=onlane3=on\n",
      "http://pems.dot.ca.gov/?report_form=1&dnode=VDS&content=loops&tab=det_timeseries&export=xls&station_id=413981&s_time_id=1425340800&s_time_id_f=03%2F03%2F2015+00%3A00&e_time_id=1362700740&e_time_id_f=03%2F07%2F2015+23%3A59&tod=all&tod_from=0&tod_to=0&dow_0=on&dow_1=on&dow_2=on&dow_3=on&dow_4=on&dow_5=on&dow_6=on&holidays=on&q=flow&q2=&gn=5min&agg=on&lane1=on&lane2=onlane3=on\n"
     ]
    },
    {
     "name": "stdout",
     "output_type": "stream",
     "text": [
      "http://pems.dot.ca.gov/?report_form=1&dnode=VDS&content=loops&tab=det_timeseries&export=xls&station_id=413980&s_time_id=1425340800&s_time_id_f=03%2F03%2F2015+00%3A00&e_time_id=1362700740&e_time_id_f=03%2F07%2F2015+23%3A59&tod=all&tod_from=0&tod_to=0&dow_0=on&dow_1=on&dow_2=on&dow_3=on&dow_4=on&dow_5=on&dow_6=on&holidays=on&q=flow&q2=&gn=5min&agg=on&lane1=on&lane2=onlane3=on\n",
      "http://pems.dot.ca.gov/?report_form=1&dnode=VDS&content=loops&tab=det_timeseries&export=xls&station_id=413982&s_time_id=1425340800&s_time_id_f=03%2F03%2F2015+00%3A00&e_time_id=1362700740&e_time_id_f=03%2F07%2F2015+23%3A59&tod=all&tod_from=0&tod_to=0&dow_0=on&dow_1=on&dow_2=on&dow_3=on&dow_4=on&dow_5=on&dow_6=on&holidays=on&q=flow&q2=&gn=5min&agg=on&lane1=on&lane2=onlane3=on\n",
      "http://pems.dot.ca.gov/?report_form=1&dnode=VDS&content=loops&tab=det_timeseries&export=xls&station_id=402794&s_time_id=1425340800&s_time_id_f=03%2F03%2F2015+00%3A00&e_time_id=1362700740&e_time_id_f=03%2F07%2F2015+23%3A59&tod=all&tod_from=0&tod_to=0&dow_0=on&dow_1=on&dow_2=on&dow_3=on&dow_4=on&dow_5=on&dow_6=on&holidays=on&q=flow&q2=&gn=5min&agg=on&lane1=on&lane2=onlane3=on\n",
      "http://pems.dot.ca.gov/?report_form=1&dnode=VDS&content=loops&tab=det_timeseries&export=xls&station_id=413983&s_time_id=1425340800&s_time_id_f=03%2F03%2F2015+00%3A00&e_time_id=1362700740&e_time_id_f=03%2F07%2F2015+23%3A59&tod=all&tod_from=0&tod_to=0&dow_0=on&dow_1=on&dow_2=on&dow_3=on&dow_4=on&dow_5=on&dow_6=on&holidays=on&q=flow&q2=&gn=5min&agg=on&lane1=on&lane2=onlane3=on\n",
      "http://pems.dot.ca.gov/?report_form=1&dnode=VDS&content=loops&tab=det_timeseries&export=xls&station_id=413984&s_time_id=1425340800&s_time_id_f=03%2F03%2F2015+00%3A00&e_time_id=1362700740&e_time_id_f=03%2F07%2F2015+23%3A59&tod=all&tod_from=0&tod_to=0&dow_0=on&dow_1=on&dow_2=on&dow_3=on&dow_4=on&dow_5=on&dow_6=on&holidays=on&q=flow&q2=&gn=5min&agg=on&lane1=on&lane2=onlane3=on\n",
      "http://pems.dot.ca.gov/?report_form=1&dnode=VDS&content=loops&tab=det_timeseries&export=xls&station_id=413985&s_time_id=1425340800&s_time_id_f=03%2F03%2F2015+00%3A00&e_time_id=1362700740&e_time_id_f=03%2F07%2F2015+23%3A59&tod=all&tod_from=0&tod_to=0&dow_0=on&dow_1=on&dow_2=on&dow_3=on&dow_4=on&dow_5=on&dow_6=on&holidays=on&q=flow&q2=&gn=5min&agg=on&lane1=on&lane2=onlane3=on\n",
      "http://pems.dot.ca.gov/?report_form=1&dnode=VDS&content=loops&tab=det_timeseries&export=xls&station_id=413987&s_time_id=1425340800&s_time_id_f=03%2F03%2F2015+00%3A00&e_time_id=1362700740&e_time_id_f=03%2F07%2F2015+23%3A59&tod=all&tod_from=0&tod_to=0&dow_0=on&dow_1=on&dow_2=on&dow_3=on&dow_4=on&dow_5=on&dow_6=on&holidays=on&q=flow&q2=&gn=5min&agg=on&lane1=on&lane2=onlane3=on\n",
      "http://pems.dot.ca.gov/?report_form=1&dnode=VDS&content=loops&tab=det_timeseries&export=xls&station_id=413986&s_time_id=1425340800&s_time_id_f=03%2F03%2F2015+00%3A00&e_time_id=1362700740&e_time_id_f=03%2F07%2F2015+23%3A59&tod=all&tod_from=0&tod_to=0&dow_0=on&dow_1=on&dow_2=on&dow_3=on&dow_4=on&dow_5=on&dow_6=on&holidays=on&q=flow&q2=&gn=5min&agg=on&lane1=on&lane2=onlane3=on\n",
      "http://pems.dot.ca.gov/?report_form=1&dnode=VDS&content=loops&tab=det_timeseries&export=xls&station_id=402796&s_time_id=1425340800&s_time_id_f=03%2F03%2F2015+00%3A00&e_time_id=1362700740&e_time_id_f=03%2F07%2F2015+23%3A59&tod=all&tod_from=0&tod_to=0&dow_0=on&dow_1=on&dow_2=on&dow_3=on&dow_4=on&dow_5=on&dow_6=on&holidays=on&q=flow&q2=&gn=5min&agg=on&lane1=on&lane2=onlane3=on\n",
      "http://pems.dot.ca.gov/?report_form=1&dnode=VDS&content=loops&tab=det_timeseries&export=xls&station_id=413988&s_time_id=1425340800&s_time_id_f=03%2F03%2F2015+00%3A00&e_time_id=1362700740&e_time_id_f=03%2F07%2F2015+23%3A59&tod=all&tod_from=0&tod_to=0&dow_0=on&dow_1=on&dow_2=on&dow_3=on&dow_4=on&dow_5=on&dow_6=on&holidays=on&q=flow&q2=&gn=5min&agg=on&lane1=on&lane2=onlane3=on\n",
      "http://pems.dot.ca.gov/?report_form=1&dnode=VDS&content=loops&tab=det_timeseries&export=xls&station_id=402799&s_time_id=1425340800&s_time_id_f=03%2F03%2F2015+00%3A00&e_time_id=1362700740&e_time_id_f=03%2F07%2F2015+23%3A59&tod=all&tod_from=0&tod_to=0&dow_0=on&dow_1=on&dow_2=on&dow_3=on&dow_4=on&dow_5=on&dow_6=on&holidays=on&q=flow&q2=&gn=5min&agg=on&lane1=on&lane2=onlane3=on\n",
      "http://pems.dot.ca.gov/?report_form=1&dnode=VDS&content=loops&tab=det_timeseries&export=xls&station_id=403251&s_time_id=1425340800&s_time_id_f=03%2F03%2F2015+00%3A00&e_time_id=1362700740&e_time_id_f=03%2F07%2F2015+23%3A59&tod=all&tod_from=0&tod_to=0&dow_0=on&dow_1=on&dow_2=on&dow_3=on&dow_4=on&dow_5=on&dow_6=on&holidays=on&q=flow&q2=&gn=5min&agg=on&lane1=on&lane2=onlane3=on\n",
      "http://pems.dot.ca.gov/?report_form=1&dnode=VDS&content=loops&tab=det_timeseries&export=xls&station_id=403710&s_time_id=1425340800&s_time_id_f=03%2F03%2F2015+00%3A00&e_time_id=1362700740&e_time_id_f=03%2F07%2F2015+23%3A59&tod=all&tod_from=0&tod_to=0&dow_0=on&dow_1=on&dow_2=on&dow_3=on&dow_4=on&dow_5=on&dow_6=on&holidays=on&q=flow&q2=&gn=5min&agg=on&lane1=on&lane2=onlane3=on\n",
      "http://pems.dot.ca.gov/?report_form=1&dnode=VDS&content=loops&tab=det_timeseries&export=xls&station_id=403254&s_time_id=1425340800&s_time_id_f=03%2F03%2F2015+00%3A00&e_time_id=1362700740&e_time_id_f=03%2F07%2F2015+23%3A59&tod=all&tod_from=0&tod_to=0&dow_0=on&dow_1=on&dow_2=on&dow_3=on&dow_4=on&dow_5=on&dow_6=on&holidays=on&q=flow&q2=&gn=5min&agg=on&lane1=on&lane2=onlane3=on\n",
      "http://pems.dot.ca.gov/?report_form=1&dnode=VDS&content=loops&tab=det_timeseries&export=xls&station_id=403719&s_time_id=1425340800&s_time_id_f=03%2F03%2F2015+00%3A00&e_time_id=1362700740&e_time_id_f=03%2F07%2F2015+23%3A59&tod=all&tod_from=0&tod_to=0&dow_0=on&dow_1=on&dow_2=on&dow_3=on&dow_4=on&dow_5=on&dow_6=on&holidays=on&q=flow&q2=&gn=5min&agg=on&lane1=on&lane2=onlane3=on\n",
      "http://pems.dot.ca.gov/?report_form=1&dnode=VDS&content=loops&tab=det_timeseries&export=xls&station_id=400566&s_time_id=1425340800&s_time_id_f=03%2F03%2F2015+00%3A00&e_time_id=1362700740&e_time_id_f=03%2F07%2F2015+23%3A59&tod=all&tod_from=0&tod_to=0&dow_0=on&dow_1=on&dow_2=on&dow_3=on&dow_4=on&dow_5=on&dow_6=on&holidays=on&q=flow&q2=&gn=5min&agg=on&lane1=on&lane2=onlane3=on\n",
      "http://pems.dot.ca.gov/?report_form=1&dnode=VDS&content=loops&tab=det_timeseries&export=xls&station_id=418420&s_time_id=1425340800&s_time_id_f=03%2F03%2F2015+00%3A00&e_time_id=1362700740&e_time_id_f=03%2F07%2F2015+23%3A59&tod=all&tod_from=0&tod_to=0&dow_0=on&dow_1=on&dow_2=on&dow_3=on&dow_4=on&dow_5=on&dow_6=on&holidays=on&q=flow&q2=&gn=5min&agg=on&lane1=on&lane2=onlane3=on\n",
      "http://pems.dot.ca.gov/?report_form=1&dnode=VDS&content=loops&tab=det_timeseries&export=xls&station_id=418419&s_time_id=1425340800&s_time_id_f=03%2F03%2F2015+00%3A00&e_time_id=1362700740&e_time_id_f=03%2F07%2F2015+23%3A59&tod=all&tod_from=0&tod_to=0&dow_0=on&dow_1=on&dow_2=on&dow_3=on&dow_4=on&dow_5=on&dow_6=on&holidays=on&q=flow&q2=&gn=5min&agg=on&lane1=on&lane2=onlane3=on\n",
      "http://pems.dot.ca.gov/?report_form=1&dnode=VDS&content=loops&tab=det_timeseries&export=xls&station_id=418422&s_time_id=1425340800&s_time_id_f=03%2F03%2F2015+00%3A00&e_time_id=1362700740&e_time_id_f=03%2F07%2F2015+23%3A59&tod=all&tod_from=0&tod_to=0&dow_0=on&dow_1=on&dow_2=on&dow_3=on&dow_4=on&dow_5=on&dow_6=on&holidays=on&q=flow&q2=&gn=5min&agg=on&lane1=on&lane2=onlane3=on\n",
      "http://pems.dot.ca.gov/?report_form=1&dnode=VDS&content=loops&tab=det_timeseries&export=xls&station_id=418423&s_time_id=1425340800&s_time_id_f=03%2F03%2F2015+00%3A00&e_time_id=1362700740&e_time_id_f=03%2F07%2F2015+23%3A59&tod=all&tod_from=0&tod_to=0&dow_0=on&dow_1=on&dow_2=on&dow_3=on&dow_4=on&dow_5=on&dow_6=on&holidays=on&q=flow&q2=&gn=5min&agg=on&lane1=on&lane2=onlane3=on\n",
      "http://pems.dot.ca.gov/?report_form=1&dnode=VDS&content=loops&tab=det_timeseries&export=xls&station_id=402793&s_time_id=1425340800&s_time_id_f=03%2F03%2F2015+00%3A00&e_time_id=1362700740&e_time_id_f=03%2F07%2F2015+23%3A59&tod=all&tod_from=0&tod_to=0&dow_0=on&dow_1=on&dow_2=on&dow_3=on&dow_4=on&dow_5=on&dow_6=on&holidays=on&q=flow&q2=&gn=5min&agg=on&lane1=on&lane2=onlane3=on\n",
      "http://pems.dot.ca.gov/?report_form=1&dnode=VDS&content=loops&tab=det_timeseries&export=xls&station_id=403226&s_time_id=1425340800&s_time_id_f=03%2F03%2F2015+00%3A00&e_time_id=1362700740&e_time_id_f=03%2F07%2F2015+23%3A59&tod=all&tod_from=0&tod_to=0&dow_0=on&dow_1=on&dow_2=on&dow_3=on&dow_4=on&dow_5=on&dow_6=on&holidays=on&q=flow&q2=&gn=5min&agg=on&lane1=on&lane2=onlane3=on\n"
     ]
    },
    {
     "name": "stdout",
     "output_type": "stream",
     "text": [
      "http://pems.dot.ca.gov/?report_form=1&dnode=VDS&content=loops&tab=det_timeseries&export=xls&station_id=414015&s_time_id=1425340800&s_time_id_f=03%2F03%2F2015+00%3A00&e_time_id=1362700740&e_time_id_f=03%2F07%2F2015+23%3A59&tod=all&tod_from=0&tod_to=0&dow_0=on&dow_1=on&dow_2=on&dow_3=on&dow_4=on&dow_5=on&dow_6=on&holidays=on&q=flow&q2=&gn=5min&agg=on&lane1=on&lane2=onlane3=on\n",
      "http://pems.dot.ca.gov/?report_form=1&dnode=VDS&content=loops&tab=det_timeseries&export=xls&station_id=414016&s_time_id=1425340800&s_time_id_f=03%2F03%2F2015+00%3A00&e_time_id=1362700740&e_time_id_f=03%2F07%2F2015+23%3A59&tod=all&tod_from=0&tod_to=0&dow_0=on&dow_1=on&dow_2=on&dow_3=on&dow_4=on&dow_5=on&dow_6=on&holidays=on&q=flow&q2=&gn=5min&agg=on&lane1=on&lane2=onlane3=on\n",
      "http://pems.dot.ca.gov/?report_form=1&dnode=VDS&content=loops&tab=det_timeseries&export=xls&station_id=402795&s_time_id=1425340800&s_time_id_f=03%2F03%2F2015+00%3A00&e_time_id=1362700740&e_time_id_f=03%2F07%2F2015+23%3A59&tod=all&tod_from=0&tod_to=0&dow_0=on&dow_1=on&dow_2=on&dow_3=on&dow_4=on&dow_5=on&dow_6=on&holidays=on&q=flow&q2=&gn=5min&agg=on&lane1=on&lane2=onlane3=on\n",
      "http://pems.dot.ca.gov/?report_form=1&dnode=VDS&content=loops&tab=det_timeseries&export=xls&station_id=402797&s_time_id=1425340800&s_time_id_f=03%2F03%2F2015+00%3A00&e_time_id=1362700740&e_time_id_f=03%2F07%2F2015+23%3A59&tod=all&tod_from=0&tod_to=0&dow_0=on&dow_1=on&dow_2=on&dow_3=on&dow_4=on&dow_5=on&dow_6=on&holidays=on&q=flow&q2=&gn=5min&agg=on&lane1=on&lane2=onlane3=on\n",
      "http://pems.dot.ca.gov/?report_form=1&dnode=VDS&content=loops&tab=det_timeseries&export=xls&station_id=414011&s_time_id=1425340800&s_time_id_f=03%2F03%2F2015+00%3A00&e_time_id=1362700740&e_time_id_f=03%2F07%2F2015+23%3A59&tod=all&tod_from=0&tod_to=0&dow_0=on&dow_1=on&dow_2=on&dow_3=on&dow_4=on&dow_5=on&dow_6=on&holidays=on&q=flow&q2=&gn=5min&agg=on&lane1=on&lane2=onlane3=on\n",
      "http://pems.dot.ca.gov/?report_form=1&dnode=VDS&content=loops&tab=det_timeseries&export=xls&station_id=402798&s_time_id=1425340800&s_time_id_f=03%2F03%2F2015+00%3A00&e_time_id=1362700740&e_time_id_f=03%2F07%2F2015+23%3A59&tod=all&tod_from=0&tod_to=0&dow_0=on&dow_1=on&dow_2=on&dow_3=on&dow_4=on&dow_5=on&dow_6=on&holidays=on&q=flow&q2=&gn=5min&agg=on&lane1=on&lane2=onlane3=on\n",
      "http://pems.dot.ca.gov/?report_form=1&dnode=VDS&content=loops&tab=det_timeseries&export=xls&station_id=403250&s_time_id=1488844800&s_time_id_f=03%2F07%2F2017+00%3A00&e_time_id=1489103940&e_time_id_f=03%2F09%2F2017+23%3A59&tod=all&tod_from=0&tod_to=0&dow_0=on&dow_1=on&dow_2=on&dow_3=on&dow_4=on&dow_5=on&dow_6=on&holidays=on&q=flow&q2=&gn=5min&agg=on&lane1=on&lane2=onlane3=on\n",
      "http://pems.dot.ca.gov/?report_form=1&dnode=VDS&content=loops&tab=det_timeseries&export=xls&station_id=403256&s_time_id=1488844800&s_time_id_f=03%2F07%2F2017+00%3A00&e_time_id=1489103940&e_time_id_f=03%2F09%2F2017+23%3A59&tod=all&tod_from=0&tod_to=0&dow_0=on&dow_1=on&dow_2=on&dow_3=on&dow_4=on&dow_5=on&dow_6=on&holidays=on&q=flow&q2=&gn=5min&agg=on&lane1=on&lane2=onlane3=on\n",
      "http://pems.dot.ca.gov/?report_form=1&dnode=VDS&content=loops&tab=det_timeseries&export=xls&station_id=403255&s_time_id=1488844800&s_time_id_f=03%2F07%2F2017+00%3A00&e_time_id=1489103940&e_time_id_f=03%2F09%2F2017+23%3A59&tod=all&tod_from=0&tod_to=0&dow_0=on&dow_1=on&dow_2=on&dow_3=on&dow_4=on&dow_5=on&dow_6=on&holidays=on&q=flow&q2=&gn=5min&agg=on&lane1=on&lane2=onlane3=on\n",
      "http://pems.dot.ca.gov/?report_form=1&dnode=VDS&content=loops&tab=det_timeseries&export=xls&station_id=403257&s_time_id=1488844800&s_time_id_f=03%2F07%2F2017+00%3A00&e_time_id=1489103940&e_time_id_f=03%2F09%2F2017+23%3A59&tod=all&tod_from=0&tod_to=0&dow_0=on&dow_1=on&dow_2=on&dow_3=on&dow_4=on&dow_5=on&dow_6=on&holidays=on&q=flow&q2=&gn=5min&agg=on&lane1=on&lane2=onlane3=on\n",
      "http://pems.dot.ca.gov/?report_form=1&dnode=VDS&content=loops&tab=det_timeseries&export=xls&station_id=418387&s_time_id=1488844800&s_time_id_f=03%2F07%2F2017+00%3A00&e_time_id=1489103940&e_time_id_f=03%2F09%2F2017+23%3A59&tod=all&tod_from=0&tod_to=0&dow_0=on&dow_1=on&dow_2=on&dow_3=on&dow_4=on&dow_5=on&dow_6=on&holidays=on&q=flow&q2=&gn=5min&agg=on&lane1=on&lane2=onlane3=on\n",
      "http://pems.dot.ca.gov/?report_form=1&dnode=VDS&content=loops&tab=det_timeseries&export=xls&station_id=418388&s_time_id=1488844800&s_time_id_f=03%2F07%2F2017+00%3A00&e_time_id=1489103940&e_time_id_f=03%2F09%2F2017+23%3A59&tod=all&tod_from=0&tod_to=0&dow_0=on&dow_1=on&dow_2=on&dow_3=on&dow_4=on&dow_5=on&dow_6=on&holidays=on&q=flow&q2=&gn=5min&agg=on&lane1=on&lane2=onlane3=on\n",
      "http://pems.dot.ca.gov/?report_form=1&dnode=VDS&content=loops&tab=det_timeseries&export=xls&station_id=400376&s_time_id=1488844800&s_time_id_f=03%2F07%2F2017+00%3A00&e_time_id=1489103940&e_time_id_f=03%2F09%2F2017+23%3A59&tod=all&tod_from=0&tod_to=0&dow_0=on&dow_1=on&dow_2=on&dow_3=on&dow_4=on&dow_5=on&dow_6=on&holidays=on&q=flow&q2=&gn=5min&agg=on&lane1=on&lane2=onlane3=on\n",
      "http://pems.dot.ca.gov/?report_form=1&dnode=VDS&content=loops&tab=det_timeseries&export=xls&station_id=413981&s_time_id=1488844800&s_time_id_f=03%2F07%2F2017+00%3A00&e_time_id=1489103940&e_time_id_f=03%2F09%2F2017+23%3A59&tod=all&tod_from=0&tod_to=0&dow_0=on&dow_1=on&dow_2=on&dow_3=on&dow_4=on&dow_5=on&dow_6=on&holidays=on&q=flow&q2=&gn=5min&agg=on&lane1=on&lane2=onlane3=on\n",
      "http://pems.dot.ca.gov/?report_form=1&dnode=VDS&content=loops&tab=det_timeseries&export=xls&station_id=413980&s_time_id=1488844800&s_time_id_f=03%2F07%2F2017+00%3A00&e_time_id=1489103940&e_time_id_f=03%2F09%2F2017+23%3A59&tod=all&tod_from=0&tod_to=0&dow_0=on&dow_1=on&dow_2=on&dow_3=on&dow_4=on&dow_5=on&dow_6=on&holidays=on&q=flow&q2=&gn=5min&agg=on&lane1=on&lane2=onlane3=on\n",
      "http://pems.dot.ca.gov/?report_form=1&dnode=VDS&content=loops&tab=det_timeseries&export=xls&station_id=413982&s_time_id=1488844800&s_time_id_f=03%2F07%2F2017+00%3A00&e_time_id=1489103940&e_time_id_f=03%2F09%2F2017+23%3A59&tod=all&tod_from=0&tod_to=0&dow_0=on&dow_1=on&dow_2=on&dow_3=on&dow_4=on&dow_5=on&dow_6=on&holidays=on&q=flow&q2=&gn=5min&agg=on&lane1=on&lane2=onlane3=on\n",
      "http://pems.dot.ca.gov/?report_form=1&dnode=VDS&content=loops&tab=det_timeseries&export=xls&station_id=402794&s_time_id=1488844800&s_time_id_f=03%2F07%2F2017+00%3A00&e_time_id=1489103940&e_time_id_f=03%2F09%2F2017+23%3A59&tod=all&tod_from=0&tod_to=0&dow_0=on&dow_1=on&dow_2=on&dow_3=on&dow_4=on&dow_5=on&dow_6=on&holidays=on&q=flow&q2=&gn=5min&agg=on&lane1=on&lane2=onlane3=on\n",
      "http://pems.dot.ca.gov/?report_form=1&dnode=VDS&content=loops&tab=det_timeseries&export=xls&station_id=413983&s_time_id=1488844800&s_time_id_f=03%2F07%2F2017+00%3A00&e_time_id=1489103940&e_time_id_f=03%2F09%2F2017+23%3A59&tod=all&tod_from=0&tod_to=0&dow_0=on&dow_1=on&dow_2=on&dow_3=on&dow_4=on&dow_5=on&dow_6=on&holidays=on&q=flow&q2=&gn=5min&agg=on&lane1=on&lane2=onlane3=on\n",
      "http://pems.dot.ca.gov/?report_form=1&dnode=VDS&content=loops&tab=det_timeseries&export=xls&station_id=413984&s_time_id=1488844800&s_time_id_f=03%2F07%2F2017+00%3A00&e_time_id=1489103940&e_time_id_f=03%2F09%2F2017+23%3A59&tod=all&tod_from=0&tod_to=0&dow_0=on&dow_1=on&dow_2=on&dow_3=on&dow_4=on&dow_5=on&dow_6=on&holidays=on&q=flow&q2=&gn=5min&agg=on&lane1=on&lane2=onlane3=on\n",
      "http://pems.dot.ca.gov/?report_form=1&dnode=VDS&content=loops&tab=det_timeseries&export=xls&station_id=413985&s_time_id=1488844800&s_time_id_f=03%2F07%2F2017+00%3A00&e_time_id=1489103940&e_time_id_f=03%2F09%2F2017+23%3A59&tod=all&tod_from=0&tod_to=0&dow_0=on&dow_1=on&dow_2=on&dow_3=on&dow_4=on&dow_5=on&dow_6=on&holidays=on&q=flow&q2=&gn=5min&agg=on&lane1=on&lane2=onlane3=on\n",
      "http://pems.dot.ca.gov/?report_form=1&dnode=VDS&content=loops&tab=det_timeseries&export=xls&station_id=413987&s_time_id=1488844800&s_time_id_f=03%2F07%2F2017+00%3A00&e_time_id=1489103940&e_time_id_f=03%2F09%2F2017+23%3A59&tod=all&tod_from=0&tod_to=0&dow_0=on&dow_1=on&dow_2=on&dow_3=on&dow_4=on&dow_5=on&dow_6=on&holidays=on&q=flow&q2=&gn=5min&agg=on&lane1=on&lane2=onlane3=on\n",
      "http://pems.dot.ca.gov/?report_form=1&dnode=VDS&content=loops&tab=det_timeseries&export=xls&station_id=413986&s_time_id=1488844800&s_time_id_f=03%2F07%2F2017+00%3A00&e_time_id=1489103940&e_time_id_f=03%2F09%2F2017+23%3A59&tod=all&tod_from=0&tod_to=0&dow_0=on&dow_1=on&dow_2=on&dow_3=on&dow_4=on&dow_5=on&dow_6=on&holidays=on&q=flow&q2=&gn=5min&agg=on&lane1=on&lane2=onlane3=on\n"
     ]
    },
    {
     "name": "stdout",
     "output_type": "stream",
     "text": [
      "http://pems.dot.ca.gov/?report_form=1&dnode=VDS&content=loops&tab=det_timeseries&export=xls&station_id=402796&s_time_id=1488844800&s_time_id_f=03%2F07%2F2017+00%3A00&e_time_id=1489103940&e_time_id_f=03%2F09%2F2017+23%3A59&tod=all&tod_from=0&tod_to=0&dow_0=on&dow_1=on&dow_2=on&dow_3=on&dow_4=on&dow_5=on&dow_6=on&holidays=on&q=flow&q2=&gn=5min&agg=on&lane1=on&lane2=onlane3=on\n",
      "http://pems.dot.ca.gov/?report_form=1&dnode=VDS&content=loops&tab=det_timeseries&export=xls&station_id=413988&s_time_id=1488844800&s_time_id_f=03%2F07%2F2017+00%3A00&e_time_id=1489103940&e_time_id_f=03%2F09%2F2017+23%3A59&tod=all&tod_from=0&tod_to=0&dow_0=on&dow_1=on&dow_2=on&dow_3=on&dow_4=on&dow_5=on&dow_6=on&holidays=on&q=flow&q2=&gn=5min&agg=on&lane1=on&lane2=onlane3=on\n",
      "http://pems.dot.ca.gov/?report_form=1&dnode=VDS&content=loops&tab=det_timeseries&export=xls&station_id=402799&s_time_id=1488844800&s_time_id_f=03%2F07%2F2017+00%3A00&e_time_id=1489103940&e_time_id_f=03%2F09%2F2017+23%3A59&tod=all&tod_from=0&tod_to=0&dow_0=on&dow_1=on&dow_2=on&dow_3=on&dow_4=on&dow_5=on&dow_6=on&holidays=on&q=flow&q2=&gn=5min&agg=on&lane1=on&lane2=onlane3=on\n",
      "http://pems.dot.ca.gov/?report_form=1&dnode=VDS&content=loops&tab=det_timeseries&export=xls&station_id=403251&s_time_id=1488844800&s_time_id_f=03%2F07%2F2017+00%3A00&e_time_id=1489103940&e_time_id_f=03%2F09%2F2017+23%3A59&tod=all&tod_from=0&tod_to=0&dow_0=on&dow_1=on&dow_2=on&dow_3=on&dow_4=on&dow_5=on&dow_6=on&holidays=on&q=flow&q2=&gn=5min&agg=on&lane1=on&lane2=onlane3=on\n",
      "http://pems.dot.ca.gov/?report_form=1&dnode=VDS&content=loops&tab=det_timeseries&export=xls&station_id=403710&s_time_id=1488844800&s_time_id_f=03%2F07%2F2017+00%3A00&e_time_id=1489103940&e_time_id_f=03%2F09%2F2017+23%3A59&tod=all&tod_from=0&tod_to=0&dow_0=on&dow_1=on&dow_2=on&dow_3=on&dow_4=on&dow_5=on&dow_6=on&holidays=on&q=flow&q2=&gn=5min&agg=on&lane1=on&lane2=onlane3=on\n",
      "http://pems.dot.ca.gov/?report_form=1&dnode=VDS&content=loops&tab=det_timeseries&export=xls&station_id=403254&s_time_id=1488844800&s_time_id_f=03%2F07%2F2017+00%3A00&e_time_id=1489103940&e_time_id_f=03%2F09%2F2017+23%3A59&tod=all&tod_from=0&tod_to=0&dow_0=on&dow_1=on&dow_2=on&dow_3=on&dow_4=on&dow_5=on&dow_6=on&holidays=on&q=flow&q2=&gn=5min&agg=on&lane1=on&lane2=onlane3=on\n",
      "http://pems.dot.ca.gov/?report_form=1&dnode=VDS&content=loops&tab=det_timeseries&export=xls&station_id=403719&s_time_id=1488844800&s_time_id_f=03%2F07%2F2017+00%3A00&e_time_id=1489103940&e_time_id_f=03%2F09%2F2017+23%3A59&tod=all&tod_from=0&tod_to=0&dow_0=on&dow_1=on&dow_2=on&dow_3=on&dow_4=on&dow_5=on&dow_6=on&holidays=on&q=flow&q2=&gn=5min&agg=on&lane1=on&lane2=onlane3=on\n",
      "http://pems.dot.ca.gov/?report_form=1&dnode=VDS&content=loops&tab=det_timeseries&export=xls&station_id=400566&s_time_id=1488844800&s_time_id_f=03%2F07%2F2017+00%3A00&e_time_id=1489103940&e_time_id_f=03%2F09%2F2017+23%3A59&tod=all&tod_from=0&tod_to=0&dow_0=on&dow_1=on&dow_2=on&dow_3=on&dow_4=on&dow_5=on&dow_6=on&holidays=on&q=flow&q2=&gn=5min&agg=on&lane1=on&lane2=onlane3=on\n",
      "http://pems.dot.ca.gov/?report_form=1&dnode=VDS&content=loops&tab=det_timeseries&export=xls&station_id=418420&s_time_id=1488844800&s_time_id_f=03%2F07%2F2017+00%3A00&e_time_id=1489103940&e_time_id_f=03%2F09%2F2017+23%3A59&tod=all&tod_from=0&tod_to=0&dow_0=on&dow_1=on&dow_2=on&dow_3=on&dow_4=on&dow_5=on&dow_6=on&holidays=on&q=flow&q2=&gn=5min&agg=on&lane1=on&lane2=onlane3=on\n",
      "http://pems.dot.ca.gov/?report_form=1&dnode=VDS&content=loops&tab=det_timeseries&export=xls&station_id=418419&s_time_id=1488844800&s_time_id_f=03%2F07%2F2017+00%3A00&e_time_id=1489103940&e_time_id_f=03%2F09%2F2017+23%3A59&tod=all&tod_from=0&tod_to=0&dow_0=on&dow_1=on&dow_2=on&dow_3=on&dow_4=on&dow_5=on&dow_6=on&holidays=on&q=flow&q2=&gn=5min&agg=on&lane1=on&lane2=onlane3=on\n",
      "http://pems.dot.ca.gov/?report_form=1&dnode=VDS&content=loops&tab=det_timeseries&export=xls&station_id=418422&s_time_id=1488844800&s_time_id_f=03%2F07%2F2017+00%3A00&e_time_id=1489103940&e_time_id_f=03%2F09%2F2017+23%3A59&tod=all&tod_from=0&tod_to=0&dow_0=on&dow_1=on&dow_2=on&dow_3=on&dow_4=on&dow_5=on&dow_6=on&holidays=on&q=flow&q2=&gn=5min&agg=on&lane1=on&lane2=onlane3=on\n",
      "http://pems.dot.ca.gov/?report_form=1&dnode=VDS&content=loops&tab=det_timeseries&export=xls&station_id=418423&s_time_id=1488844800&s_time_id_f=03%2F07%2F2017+00%3A00&e_time_id=1489103940&e_time_id_f=03%2F09%2F2017+23%3A59&tod=all&tod_from=0&tod_to=0&dow_0=on&dow_1=on&dow_2=on&dow_3=on&dow_4=on&dow_5=on&dow_6=on&holidays=on&q=flow&q2=&gn=5min&agg=on&lane1=on&lane2=onlane3=on\n",
      "http://pems.dot.ca.gov/?report_form=1&dnode=VDS&content=loops&tab=det_timeseries&export=xls&station_id=402793&s_time_id=1488844800&s_time_id_f=03%2F07%2F2017+00%3A00&e_time_id=1489103940&e_time_id_f=03%2F09%2F2017+23%3A59&tod=all&tod_from=0&tod_to=0&dow_0=on&dow_1=on&dow_2=on&dow_3=on&dow_4=on&dow_5=on&dow_6=on&holidays=on&q=flow&q2=&gn=5min&agg=on&lane1=on&lane2=onlane3=on\n",
      "http://pems.dot.ca.gov/?report_form=1&dnode=VDS&content=loops&tab=det_timeseries&export=xls&station_id=403226&s_time_id=1488844800&s_time_id_f=03%2F07%2F2017+00%3A00&e_time_id=1489103940&e_time_id_f=03%2F09%2F2017+23%3A59&tod=all&tod_from=0&tod_to=0&dow_0=on&dow_1=on&dow_2=on&dow_3=on&dow_4=on&dow_5=on&dow_6=on&holidays=on&q=flow&q2=&gn=5min&agg=on&lane1=on&lane2=onlane3=on\n",
      "http://pems.dot.ca.gov/?report_form=1&dnode=VDS&content=loops&tab=det_timeseries&export=xls&station_id=414015&s_time_id=1488844800&s_time_id_f=03%2F07%2F2017+00%3A00&e_time_id=1489103940&e_time_id_f=03%2F09%2F2017+23%3A59&tod=all&tod_from=0&tod_to=0&dow_0=on&dow_1=on&dow_2=on&dow_3=on&dow_4=on&dow_5=on&dow_6=on&holidays=on&q=flow&q2=&gn=5min&agg=on&lane1=on&lane2=onlane3=on\n",
      "http://pems.dot.ca.gov/?report_form=1&dnode=VDS&content=loops&tab=det_timeseries&export=xls&station_id=414016&s_time_id=1488844800&s_time_id_f=03%2F07%2F2017+00%3A00&e_time_id=1489103940&e_time_id_f=03%2F09%2F2017+23%3A59&tod=all&tod_from=0&tod_to=0&dow_0=on&dow_1=on&dow_2=on&dow_3=on&dow_4=on&dow_5=on&dow_6=on&holidays=on&q=flow&q2=&gn=5min&agg=on&lane1=on&lane2=onlane3=on\n",
      "http://pems.dot.ca.gov/?report_form=1&dnode=VDS&content=loops&tab=det_timeseries&export=xls&station_id=402795&s_time_id=1488844800&s_time_id_f=03%2F07%2F2017+00%3A00&e_time_id=1489103940&e_time_id_f=03%2F09%2F2017+23%3A59&tod=all&tod_from=0&tod_to=0&dow_0=on&dow_1=on&dow_2=on&dow_3=on&dow_4=on&dow_5=on&dow_6=on&holidays=on&q=flow&q2=&gn=5min&agg=on&lane1=on&lane2=onlane3=on\n",
      "http://pems.dot.ca.gov/?report_form=1&dnode=VDS&content=loops&tab=det_timeseries&export=xls&station_id=402797&s_time_id=1488844800&s_time_id_f=03%2F07%2F2017+00%3A00&e_time_id=1489103940&e_time_id_f=03%2F09%2F2017+23%3A59&tod=all&tod_from=0&tod_to=0&dow_0=on&dow_1=on&dow_2=on&dow_3=on&dow_4=on&dow_5=on&dow_6=on&holidays=on&q=flow&q2=&gn=5min&agg=on&lane1=on&lane2=onlane3=on\n",
      "http://pems.dot.ca.gov/?report_form=1&dnode=VDS&content=loops&tab=det_timeseries&export=xls&station_id=414011&s_time_id=1488844800&s_time_id_f=03%2F07%2F2017+00%3A00&e_time_id=1489103940&e_time_id_f=03%2F09%2F2017+23%3A59&tod=all&tod_from=0&tod_to=0&dow_0=on&dow_1=on&dow_2=on&dow_3=on&dow_4=on&dow_5=on&dow_6=on&holidays=on&q=flow&q2=&gn=5min&agg=on&lane1=on&lane2=onlane3=on\n",
      "http://pems.dot.ca.gov/?report_form=1&dnode=VDS&content=loops&tab=det_timeseries&export=xls&station_id=402798&s_time_id=1488844800&s_time_id_f=03%2F07%2F2017+00%3A00&e_time_id=1489103940&e_time_id_f=03%2F09%2F2017+23%3A59&tod=all&tod_from=0&tod_to=0&dow_0=on&dow_1=on&dow_2=on&dow_3=on&dow_4=on&dow_5=on&dow_6=on&holidays=on&q=flow&q2=&gn=5min&agg=on&lane1=on&lane2=onlane3=on\n"
     ]
    }
   ],
   "source": [
    "detector_ids = [403250, 403256, 403255, 403257, 418387, 418388, 400376,\n",
    "               413981, 413980, 413982, 402794, 413983, 413984, 413985,\n",
    "               413987, 413986, 402796, 413988, 402799, 403251, 403710,\n",
    "               403254, 403719, 400566, 418420, 418419, 418422, 418423,\n",
    "               402793, 403226, 414015, 414016, 402795, 402797, 414011,\n",
    "               402798]\n",
    "pems.download(2013, detector_ids)\n",
    "pems.download(2015, detector_ids)\n",
    "pems.download(2017, detector_ids)"
   ]
  },
  {
   "cell_type": "markdown",
   "metadata": {},
   "source": [
    "The IDs of the PeMS detectors where obtained using ArcGIS software and an input file, pems_detectors.csv, containing the locations of all the PeMS dectectors in California <br>\n",
    "***Edson Question:*** Not sure if this suffices. Who to ask to know more about this process?\n",
    "***Theo Answer:*** please ask me! We downloaded the list of all detectors and corresponding location from PeMS, then we perform a selection in ArcGIS to find the one in the area of interest."
   ]
  },
  {
   "cell_type": "markdown",
   "metadata": {},
   "source": [
    "## 2. Parsing city data\n",
    "Source file code: Pre-processing_flow.ipynb <br>\n",
    "\n",
    "**To do**: The time format should be the same everywhere after the processing\n",
    "\n",
    "### A) Parse the city data from xlsx, doc and csv files to csv files"
   ]
  },
  {
   "cell_type": "markdown",
   "metadata": {},
   "source": [
    "#### Process ADT Data files to csv files\n",
    "Here we process the Excel ADT data files (city data) into CSV files. We do this by calling the function process_adt_data(year) from the pre_process_flow.py python file. Note that one file corresponds to one main road and the traffic flow data recordings in it.\n",
    "\n",
    "Description of function process_adt_data(year) <br>\n",
    "The function has input:\n",
    "- Year which takes values of 2013, 2015, 2017 and 2019\n",
    "- Excel files located in \"Year ADT Data\" where Year=2013, 2015, 2017 or 2019\n",
    "\n",
    "The function has output:\n",
    "- CSV files located in \"Year processed\" where Year=2013, 2015, 2017 or 2019 \n",
    "\n",
    "For the function to work:\n",
    "- Excel files must be located in \"Year ADT Data\" folder\n",
    "\n",
    "For the pipeline to work: [Question for Theo???]\n",
    "- 2013 CSV files are manually relocated to \"City/2013 reformat\"\n",
    "- 2017 and 2019 CSV files are manually relocated to \"City/Year reformat/Format from xlsx\" where Year=2017 or 2019\n",
    "\n",
    "**(Done) TO DO 6**: Go over the code, comment it, make it easier to understand. State clearly the inputs and the outputs (this will help a lot for 2015 data). Ask Zixuan the work she did for 2015 data.\n",
    "<br>\n",
    "***Edson Question***: Code rewritten so that it is easier to understand. Input and outputs stated for large code segments in python files and methods being called here. Code comments made per code chunk as needed. I asked Zixuan for 2015 data, can I get access to the dropbox holding 2015 data?. She said she processed the speed and flow for 2015 data.\n",
    "***Theo Answer***: I send you the info on Slack\n",
    "\n",
    "***Theo Remark***: Maybe we should here put \"Year ADT Data\" and \"Year processed\" as parameters of the function process_adt_data"
   ]
  },
  {
   "cell_type": "code",
   "execution_count": 1,
   "metadata": {},
   "outputs": [],
   "source": [
    "import pre_process_flow as pre_process"
   ]
  },
  {
   "cell_type": "code",
   "execution_count": 78,
   "metadata": {},
   "outputs": [
    {
     "name": "stdout",
     "output_type": "stream",
     "text": [
      "Processing 2013 ADT data\n",
      "parsing: Auto Mall Pkwy betw. Fremont & I680.xlsx\n",
      "True\n",
      "/Users/LiJiayi/Fremont Dropbox/Theophile Cabannes/Private Structured data collection/Data processing/Temporary exports to be copied to processed data/Flow_processed/2013 processed/Auto Mall Pkwy betw. Fremont & I680.csv\n",
      "Processing 2015 ADT data\n",
      "parsing: Washington Blvd betw. Driscoll and Paseo Padre.xls\n",
      "False\n",
      "/Users/LiJiayi/Fremont Dropbox/Theophile Cabannes/Private Structured data collection/Data processing/Temporary exports to be copied to processed data/Flow_processed/2015 processed/Washington Blvd betw. Driscoll and Paseo Padre.csv\n",
      "parsing: Paseo Padre Pkwy betw. Mission and Curtner.xls\n",
      "False\n",
      "/Users/LiJiayi/Fremont Dropbox/Theophile Cabannes/Private Structured data collection/Data processing/Temporary exports to be copied to processed data/Flow_processed/2015 processed/Paseo Padre Pkwy betw. Mission and Curtner.csv\n",
      "parsing: Warren Ave betw. Curtner and Warm Springs.xls\n",
      "False\n",
      "/Users/LiJiayi/Fremont Dropbox/Theophile Cabannes/Private Structured data collection/Data processing/Temporary exports to be copied to processed data/Flow_processed/2015 processed/Warren Ave betw. Curtner and Warm Springs.csv\n",
      "parsing: Mission Blvd betw. Durham and Curtner.xls\n",
      "False\n",
      "/Users/LiJiayi/Fremont Dropbox/Theophile Cabannes/Private Structured data collection/Data processing/Temporary exports to be copied to processed data/Flow_processed/2015 processed/Mission Blvd betw. Durham and Curtner.csv\n",
      "parsing: Mission Blvd betw. St. Josephs and Pine.xls\n",
      "False\n",
      "/Users/LiJiayi/Fremont Dropbox/Theophile Cabannes/Private Structured data collection/Data processing/Temporary exports to be copied to processed data/Flow_processed/2015 processed/Mission Blvd betw. St. Josephs and Pine.csv\n",
      "parsing: Paseo Padre Pkwy betw. Quema and Durham.xls\n",
      "False\n",
      "/Users/LiJiayi/Fremont Dropbox/Theophile Cabannes/Private Structured data collection/Data processing/Temporary exports to be copied to processed data/Flow_processed/2015 processed/Paseo Padre Pkwy betw. Quema and Durham.csv\n",
      "parsing: Grimmer Blvd (South) betw. Osgood and Fremont.xls\n",
      "False\n",
      "/Users/LiJiayi/Fremont Dropbox/Theophile Cabannes/Private Structured data collection/Data processing/Temporary exports to be copied to processed data/Flow_processed/2015 processed/Grimmer Blvd (South) betw. Osgood and Fremont.csv\n",
      "parsing: Paseo Padre Pkwy betw. Onondaga and Mission.xls\n",
      "False\n",
      "/Users/LiJiayi/Fremont Dropbox/Theophile Cabannes/Private Structured data collection/Data processing/Temporary exports to be copied to processed data/Flow_processed/2015 processed/Paseo Padre Pkwy betw. Onondaga and Mission.csv\n",
      "parsing: Mission Blvd betw. Mission Rd and St. Josephs.xls\n",
      "False\n",
      "/Users/LiJiayi/Fremont Dropbox/Theophile Cabannes/Private Structured data collection/Data processing/Temporary exports to be copied to processed data/Flow_processed/2015 processed/Mission Blvd betw. Mission Rd and St. Josephs.csv\n",
      "parsing: Paseo Padre Pkwy betw. Durham and Onondaga.xls\n",
      "False\n",
      "/Users/LiJiayi/Fremont Dropbox/Theophile Cabannes/Private Structured data collection/Data processing/Temporary exports to be copied to processed data/Flow_processed/2015 processed/Paseo Padre Pkwy betw. Durham and Onondaga.csv\n",
      "parsing: Washington Blvd betw. Paseo Padre and Mission.xls\n",
      "False\n",
      "/Users/LiJiayi/Fremont Dropbox/Theophile Cabannes/Private Structured data collection/Data processing/Temporary exports to be copied to processed data/Flow_processed/2015 processed/Washington Blvd betw. Paseo Padre and Mission.csv\n",
      "parsing: Mission Blvd betw. Pine and Durham.xls\n",
      "False\n",
      "/Users/LiJiayi/Fremont Dropbox/Theophile Cabannes/Private Structured data collection/Data processing/Temporary exports to be copied to processed data/Flow_processed/2015 processed/Mission Blvd betw. Pine and Durham.csv\n",
      "parsing: Grimmer Blvd (South) betw. Paseo Padre and Osgood.xls\n",
      "False\n",
      "/Users/LiJiayi/Fremont Dropbox/Theophile Cabannes/Private Structured data collection/Data processing/Temporary exports to be copied to processed data/Flow_processed/2015 processed/Grimmer Blvd (South) betw. Paseo Padre and Osgood.csv\n",
      "parsing: Paseo Padre Pkwy betw. Driscoll and Quema.xls\n",
      "False\n",
      "/Users/LiJiayi/Fremont Dropbox/Theophile Cabannes/Private Structured data collection/Data processing/Temporary exports to be copied to processed data/Flow_processed/2015 processed/Paseo Padre Pkwy betw. Driscoll and Quema.csv\n",
      "parsing: Durham Rd betw. I-680 and Mission.xls\n",
      "False\n",
      "/Users/LiJiayi/Fremont Dropbox/Theophile Cabannes/Private Structured data collection/Data processing/Temporary exports to be copied to processed data/Flow_processed/2015 processed/Durham Rd betw. I-680 and Mission.csv\n",
      "Processing 2017 ADT data\n",
      "parsing: AUTO MALL PKWY BT FREMONT BLVD AND I680.xlsx\n",
      "False\n",
      "/Users/LiJiayi/Fremont Dropbox/Theophile Cabannes/Private Structured data collection/Data processing/Temporary exports to be copied to processed data/Flow_processed/2017 processed/AUTO MALL PKWY BT FREMONT BLVD AND I680.csv\n",
      "Processing 2019 ADT data\n",
      "parsing: Driscoll Rd Bet. Mission Blvd & Paseo Padre Pkwy.xls\n",
      "False\n",
      "/Users/LiJiayi/Fremont Dropbox/Theophile Cabannes/Private Structured data collection/Data processing/Temporary exports to be copied to processed data/Flow_processed/2019 processed/Driscoll Rd Bet. Mission Blvd & Paseo Padre Pkwy.csv\n"
     ]
    }
   ],
   "source": [
    "pre_process.process_adt_data(2013)\n",
    "pre_process.process_adt_data(2015)\n",
    "pre_process.process_adt_data(2017)\n",
    "pre_process.process_adt_data(2019)"
   ]
  },
  {
   "cell_type": "markdown",
   "metadata": {},
   "source": [
    "#### Word doc data pre-processing\n",
    "We process the word DOC files into CSV files by calling the function process_doc_data(year) from the pre_process.py python file. Note that year 2013 did not have DOC files.\n",
    "\n",
    "Description of function process_doc_data(year) <br>\n",
    "The function has input:\n",
    "- Year which takes values 2017 or 2019\n",
    "- Word DOC files located in the \"Year doc\" folder where Year=2017 or 2019\n",
    "\n",
    "The function has output:\n",
    "- CSV files located in the \"Year processed\" folder where Year=2017 or 2019\n",
    "\n",
    "For function to work:\n",
    "- DOC files must be located in \"Year doc\" folder where Year=2017 or 2019\n",
    "\n",
    "For pipeline to work:\n",
    "- CSV files must be manually relocated to \"City/Year reformat/Format from pdf\" folder where Year=2017 or 2019"
   ]
  },
  {
   "cell_type": "code",
   "execution_count": 5,
   "metadata": {},
   "outputs": [
    {
     "name": "stdout",
     "output_type": "stream",
     "text": [
      "processing file: MISSION BLVD BT DRISCOLL RD AND I 680 NB.doc\n",
      "processing file: AUTO MALL PKWY BT FREMONT BLVD AND I-680 EB.doc\n"
     ]
    }
   ],
   "source": [
    "pre_process.process_doc_data(2017)\n",
    "pre_process.process_doc_data(2019)"
   ]
  },
  {
   "cell_type": "markdown",
   "metadata": {},
   "source": [
    "# TO DO:\n",
    "- The following doc files from 2019 were not processed due to the textract package not parsing it correctly. The can be found on the 2019 error folder.\n",
    "    - DURHAM RD BT I-680 AND MISSION BLVD EB.doc\n",
    "    - MISSION BLVD BT WASHINGTON BLVD AND PINES ST SB.doc\n",
    "    \n",
    "Theo: I might have done some work manually here to create the two corresponding csv files. In this case explain the process done manually."
   ]
  },
  {
   "cell_type": "markdown",
   "metadata": {},
   "source": [
    "\n",
    "### B) Find the coordinates of the city detectors\n",
    "We obtained the coordinates of the detectors by calling the method get_geo_data(year) from the pre_process.py python file. Internally, it iterators over the ADT files and obtains the adresses of the detectors to then use with Google API to obtain latitude and longitude coordinates\n",
    "\n",
    "Description of get_geo_data(year) <br>\n",
    "The function has input:\n",
    "- Year takes values 2013, 2015, 2017, 2019\n",
    "- ADT files (Excel, PDF) located in \"Year ADT Data\"\n",
    "\n",
    "The function has output:\n",
    "- \"year_info_coor.csv\" containing the coordinates of detectors\n",
    "\n",
    "For the function to work:\n",
    "- ADT files must be located in \"Year ADT Data\" folder\n",
    "\n",
    "For the pipeline to work:\n",
    "- NA\n",
    "\n",
    "**(DONE) TO DO 7**: make sure that the \"parsing data\" code create year_info_coor.csv. I think that I have created the files using some bash scripts and some excel functions. Here is the google doc that we used for the process of the flow. https://docs.google.com/spreadsheets/d/1tcps-8aorPZLY8nswnNCmjWSJi-7ey8Ps4twWFz2ls0/edit#gid=0\n",
    "Also this step is very important because this is where I gave an ID to every detector. Please check this step with Theo, to write out the process. We might need to write a function inside Python (instead of bash + Excel).\n",
    "<br>\n",
    "***Edson***: Geo data is now obtained through parsing of the file data or the file name. That is, the address is obtained and then used with google API to get Latitude and Longitude.\n",
    "\n",
    "***Theo remark***: Theo and Edson should discuss about that to get the process right.\n"
   ]
  },
  {
   "cell_type": "code",
   "execution_count": 2,
   "metadata": {},
   "outputs": [
    {
     "name": "stdout",
     "output_type": "stream",
     "text": [
      "Obtaining geo data from 2013 ADT files\n",
      "processing: Auto Mall Pkwy betw. Fremont & I680.xlsx\n",
      "Auto Mall Pkwy betw. Fremont & I680.xlsx\n",
      "main road info: ('Auto Mall Pkwy betw. Fremont & I680.xlsx', 'Fremont', 'Auto Mall Parkway', 'Between Fremont and Osgood', 'Fremont', 'Osgood')\n",
      "address:  Auto Mall Parkway & Fremont, Fremont\n",
      "address w coord lat, lng Auto Mall Parkway & Fremont, Fremont 37.5076894 -121.9665398\n",
      "address:  Auto Mall Parkway & Osgood, Fremont\n",
      "address w coord lat, lng Auto Mall Parkway & Osgood, Fremont 37.5139048 -121.9426157\n",
      "<_io.TextIOWrapper name='/Users/LiJiayi/Fremont Dropbox/Theophile Cabannes/Private Structured data collection/Data processing/Temporary exports to be copied to processed data/Flow_processed/2013_info_coor.csv' mode='w' encoding='UTF-8'>\n"
     ]
    }
   ],
   "source": [
    "pre_process.get_geo_data(2013)"
   ]
  },
  {
   "cell_type": "code",
   "execution_count": 3,
   "metadata": {},
   "outputs": [
    {
     "name": "stdout",
     "output_type": "stream",
     "text": [
      "Obtaining geo data from 2015 ADT files\n",
      "processing: Washington Blvd betw. Driscoll and Paseo Padre.xls\n",
      "Washington Blvd betw. Driscoll and Paseo Padre.xls\n",
      "main road info: ('Washington Blvd betw. Driscoll and Paseo Padre.xls', 'Fremont', 'Washington Blvd', 'Driscoll and Paseo Padre', 'Driscoll', 'Paseo Padre')\n",
      "processing: Paseo Padre Pkwy betw. Mission and Curtner.xls\n",
      "Paseo Padre Pkwy betw. Mission and Curtner.xls\n",
      "main road info: ('Paseo Padre Pkwy betw. Mission and Curtner.xls', 'Fremont', 'Paseo Padre Pkwy', 'Mission and Curtner', 'Mission', 'Curtner')\n",
      "processing: Warren Ave betw. Curtner and Warm Springs.xls\n",
      "Warren Ave betw. Curtner and Warm Springs.xls\n",
      "main road info: ('Warren Ave betw. Curtner and Warm Springs.xls', 'Fremont', 'Warren Ave', 'Curtner and Warm Springs', 'Curtner', 'Warm Springs')\n",
      "processing: Mission Blvd betw. Durham and Curtner.xls\n",
      "Mission Blvd betw. Durham and Curtner.xls\n",
      "main road info: ('Mission Blvd betw. Durham and Curtner.xls', 'Fremont', 'Mission Blvd', 'Durham and Curtner', 'Durham', 'Curtner')\n",
      "processing: Mission Blvd betw. St. Josephs and Pine.xls\n",
      "Mission Blvd betw. St. Josephs and Pine.xls\n",
      "main road info: ('Mission Blvd betw. St. Josephs and Pine.xls', 'Fremont', 'Mission Blvd', 'St. Josephs and Pine', 'St. Josephs', 'Pine')\n",
      "processing: Paseo Padre Pkwy betw. Quema and Durham.xls\n",
      "Paseo Padre Pkwy betw. Quema and Durham.xls\n",
      "main road info: ('Paseo Padre Pkwy betw. Quema and Durham.xls', 'Fremont', 'Paseo Padre Pkwy', 'Quema and Durham', 'Quema', 'Durham')\n",
      "processing: Grimmer Blvd (South) betw. Osgood and Fremont.xls\n",
      "Grimmer Blvd (South) betw. Osgood and Fremont.xls\n",
      "main road info: ('Grimmer Blvd (South) betw. Osgood and Fremont.xls', 'Fremont', 'Grimmer Blvd (South)', 'Osgood and Fremont', 'Osgood', 'Fremont')\n",
      "processing: Paseo Padre Pkwy betw. Onondaga and Mission.xls\n",
      "Paseo Padre Pkwy betw. Onondaga and Mission.xls\n",
      "main road info: ('Paseo Padre Pkwy betw. Onondaga and Mission.xls', 'Fremont', 'Paseo Padre Pkwy', 'Onondaga and Mission', 'Onondaga', 'Mission')\n",
      "processing: Mission Blvd betw. Mission Rd and St. Josephs.xls\n",
      "Mission Blvd betw. Mission Rd and St. Josephs.xls\n",
      "main road info: ('Mission Blvd betw. Mission Rd and St. Josephs.xls', 'Fremont', 'Mission Blvd', 'Mission Rd and St. Josephs', 'Mission Rd', 'St. Josephs')\n",
      "processing: Paseo Padre Pkwy betw. Durham and Onondaga.xls\n",
      "Paseo Padre Pkwy betw. Durham and Onondaga.xls\n",
      "main road info: ('Paseo Padre Pkwy betw. Durham and Onondaga.xls', 'Fremont', 'Paseo Padre Pkwy', 'Durham and Onondaga', 'Durham', 'Onondaga')\n",
      "processing: Washington Blvd betw. Paseo Padre and Mission.xls\n",
      "Washington Blvd betw. Paseo Padre and Mission.xls\n",
      "main road info: ('Washington Blvd betw. Paseo Padre and Mission.xls', 'Fremont', 'Washington Blvd', 'Paseo Padre and Mission', 'Paseo Padre', 'Mission')\n",
      "processing: Mission Blvd betw. Pine and Durham.xls\n",
      "Mission Blvd betw. Pine and Durham.xls\n",
      "main road info: ('Mission Blvd betw. Pine and Durham.xls', 'Fremont', 'Mission Blvd', 'Pine and Durham', 'Pine', 'Durham')\n",
      "processing: Grimmer Blvd (South) betw. Paseo Padre and Osgood.xls\n",
      "Grimmer Blvd (South) betw. Paseo Padre and Osgood.xls\n",
      "main road info: ('Grimmer Blvd (South) betw. Paseo Padre and Osgood.xls', 'Fremont', 'Grimmer Blvd (South)', 'Paseo Padre and Osgood', 'Paseo Padre', 'Osgood')\n",
      "processing: Paseo Padre Pkwy betw. Driscoll and Quema.xls\n",
      "Paseo Padre Pkwy betw. Driscoll and Quema.xls\n",
      "main road info: ('Paseo Padre Pkwy betw. Driscoll and Quema.xls', 'Fremont', 'Paseo Padre Pkwy', 'Driscoll and Quema', 'Driscoll', 'Quema')\n",
      "processing: Durham Rd betw. I-680 and Mission.xls\n",
      "Durham Rd betw. I-680 and Mission.xls\n",
      "main road info: ('Durham Rd betw. I-680 and Mission.xls', 'Fremont', 'Durham Rd', 'I-680 and Mission', 'I-680', 'Mission')\n",
      "address:  Washington Blvd & Driscoll, Fremont\n",
      "address w coord lat, lng Washington Blvd & Driscoll, Fremont 37.5317313 -121.9572184\n",
      "address:  Washington Blvd & Paseo Padre, Fremont\n",
      "address w coord lat, lng Washington Blvd & Paseo Padre, Fremont 37.5316567 -121.9342\n",
      "address:  Paseo Padre Pkwy & Mission, Fremont\n",
      "address w coord lat, lng Paseo Padre Pkwy & Mission, Fremont 37.5003147 -121.9194104\n",
      "address:  Paseo Padre Pkwy & Curtner, Fremont\n",
      "address w coord lat, lng Paseo Padre Pkwy & Curtner, Fremont 37.4956742 -121.9141113\n",
      "address:  Warren Ave & Curtner, Fremont\n",
      "address w coord lat, lng Warren Ave & Curtner, Fremont 37.4956742 -121.9141113\n",
      "address:  Warren Ave & Warm Springs, Fremont\n",
      "address w coord lat, lng Warren Ave & Warm Springs, Fremont 37.4871224 -121.9280083\n",
      "address:  Mission Blvd & Durham, Fremont\n",
      "address w coord lat, lng Mission Blvd & Durham, Fremont 37.5136269 -121.9194106\n",
      "address:  Mission Blvd & Curtner, Fremont\n",
      "address w coord lat, lng Mission Blvd & Curtner, Fremont 37.4972833 -121.9206722\n",
      "address:  Mission Blvd & St. Josephs, Fremont\n",
      "address w coord lat, lng Mission Blvd & St. Josephs, Fremont 37.5351069 -121.9205143\n",
      "address:  Mission Blvd & Pine, Fremont\n",
      "address w coord lat, lng Mission Blvd & Pine, Fremont 37.5260897 -121.9179423\n",
      "address:  Paseo Padre Pkwy & Quema, Fremont\n",
      "address w coord lat, lng Paseo Padre Pkwy & Quema, Fremont 37.5283439 -121.9314697\n",
      "address:  Paseo Padre Pkwy & Durham, Fremont\n",
      "address w coord lat, lng Paseo Padre Pkwy & Durham, Fremont 37.5528328 -121.9797912\n",
      "address:  Grimmer Blvd (South) & Osgood, Fremont\n",
      "address w coord lat, lng Grimmer Blvd (South) & Osgood, Fremont 37.50526139999999 -121.9377826\n",
      "address:  Grimmer Blvd (South) & Fremont, Fremont\n",
      "address w coord lat, lng Grimmer Blvd (South) & Fremont, Fremont 37.5046393 -121.941068\n",
      "address:  Paseo Padre Pkwy & Onondaga, Fremont\n",
      "address w coord lat, lng Paseo Padre Pkwy & Onondaga, Fremont 37.5053937 -121.9273542\n",
      "address:  Paseo Padre Pkwy & Mission, Fremont\n",
      "address w coord lat, lng Paseo Padre Pkwy & Mission, Fremont 37.5003147 -121.9194104\n",
      "address:  Mission Blvd & Mission Rd, Fremont\n",
      "address w coord lat, lng Mission Blvd & Mission Rd, Fremont 37.53956 -121.9238021\n",
      "address:  Mission Blvd & St. Josephs, Fremont\n",
      "address w coord lat, lng Mission Blvd & St. Josephs, Fremont 37.5351069 -121.9205143\n",
      "address:  Paseo Padre Pkwy & Durham, Fremont\n",
      "address w coord lat, lng Paseo Padre Pkwy & Durham, Fremont 37.5528328 -121.9797912\n",
      "address:  Paseo Padre Pkwy & Onondaga, Fremont\n",
      "address w coord lat, lng Paseo Padre Pkwy & Onondaga, Fremont 37.5053937 -121.9273542\n",
      "address:  Washington Blvd & Paseo Padre, Fremont\n",
      "address w coord lat, lng Washington Blvd & Paseo Padre, Fremont 37.5316567 -121.9342\n",
      "address:  Washington Blvd & Mission, Fremont\n",
      "address w coord lat, lng Washington Blvd & Mission, Fremont 37.5334051 -121.9200877\n",
      "address:  Mission Blvd & Pine, Fremont\n",
      "address w coord lat, lng Mission Blvd & Pine, Fremont 37.5260897 -121.9179423\n",
      "address:  Mission Blvd & Durham, Fremont\n",
      "address w coord lat, lng Mission Blvd & Durham, Fremont 37.5136269 -121.9194106\n",
      "address:  Grimmer Blvd (South) & Paseo Padre, Fremont\n",
      "address w coord lat, lng Grimmer Blvd (South) & Paseo Padre, Fremont 37.5073396 -121.9282451\n",
      "address:  Grimmer Blvd (South) & Osgood, Fremont\n",
      "address w coord lat, lng Grimmer Blvd (South) & Osgood, Fremont 37.50526139999999 -121.9377826\n",
      "address:  Paseo Padre Pkwy & Driscoll, Fremont\n",
      "address w coord lat, lng Paseo Padre Pkwy & Driscoll, Fremont 37.5412612 -121.9482207\n",
      "address:  Paseo Padre Pkwy & Quema, Fremont\n",
      "address w coord lat, lng Paseo Padre Pkwy & Quema, Fremont 37.5283439 -121.9314697\n",
      "address:  Durham Rd & I-680, Fremont\n",
      "address w coord lat, lng Durham Rd & I-680, Fremont 37.5143251 -121.9316307\n",
      "address:  Durham Rd & Mission, Fremont\n",
      "address w coord lat, lng Durham Rd & Mission, Fremont 37.5136269 -121.9194106\n",
      "<_io.TextIOWrapper name='/Users/LiJiayi/Fremont Dropbox/Theophile Cabannes/Private Structured data collection/Data processing/Temporary exports to be copied to processed data/Flow_processed/2015_info_coor.csv' mode='w' encoding='UTF-8'>\n"
     ]
    }
   ],
   "source": [
    "pre_process.get_geo_data(2015)"
   ]
  },
  {
   "cell_type": "code",
   "execution_count": 4,
   "metadata": {
    "scrolled": true
   },
   "outputs": [
    {
     "name": "stdout",
     "output_type": "stream",
     "text": [
      "Obtaining geo data from 2017 ADT files\n",
      "processing: AUTO MALL PKWY BT FREMONT BLVD AND I680.xlsx\n",
      "main road info: ('AUTO MALL PKWY BT FREMONT BLVD AND I680.xlsx', 'Fremont', 'Auto Mall Pkwy', 'Fremont Blvd And I680', 'Fremont Blvd', 'I680')\n",
      "address:  Auto Mall Pkwy & Fremont Blvd, Fremont\n",
      "address w coord lat, lng Auto Mall Pkwy & Fremont Blvd, Fremont 37.51209619999999 -121.9511975\n",
      "address:  Auto Mall Pkwy & I680, Fremont\n",
      "address w coord lat, lng Auto Mall Pkwy & I680, Fremont 37.5076894 -121.9665398\n",
      "<_io.TextIOWrapper name='/Users/LiJiayi/Fremont Dropbox/Theophile Cabannes/Private Structured data collection/Data processing/Temporary exports to be copied to processed data/Flow_processed/2017_info_coor.csv' mode='w' encoding='UTF-8'>\n",
      "Obtaining geo data from 2019 ADT files\n",
      "processing: Driscoll Rd Bet. Mission Blvd & Paseo Padre Pkwy.xls\n",
      "main road info: ('Driscoll Rd Bet. Mission Blvd & Paseo Padre Pkwy.xls', 'Fremont', 'Driscoll Rd', 'Mission Blvd & Paseo Padre Pkwy', 'Mission Blvd', 'Paseo Padre Pkwy')\n",
      "address:  Driscoll Rd & Mission Blvd, Fremont\n",
      "address w coord lat, lng Driscoll Rd & Mission Blvd, Fremont 37.5497624 -121.9399602\n",
      "address:  Driscoll Rd & Paseo Padre Pkwy, Fremont\n",
      "address w coord lat, lng Driscoll Rd & Paseo Padre Pkwy, Fremont 37.5412612 -121.9482207\n",
      "<_io.TextIOWrapper name='/Users/LiJiayi/Fremont Dropbox/Theophile Cabannes/Private Structured data collection/Data processing/Temporary exports to be copied to processed data/Flow_processed/2019_info_coor.csv' mode='w' encoding='UTF-8'>\n"
     ]
    }
   ],
   "source": [
    "pre_process.get_geo_data(2017)\n",
    "pre_process.get_geo_data(2019)"
   ]
  },
  {
   "cell_type": "markdown",
   "metadata": {},
   "source": [
    "### C) Check and adjust the locations of the (City + PeMS) detectors to match them to our network using ArcGIS <br>\n",
    "Done in the software manually in ArcGIS.\n",
    "1. Export Aimsun network as GIS file\n",
    "2. Import Aimsun network in ArcGIS\n",
    "3. Import detectors in ArcGIS as XY_points\n",
    "4. Move detectors to put them on corresponding road in Aimsun\n",
    "5. Associate to every detectors the External ID of the Aimsun road (to be done again)\n",
    "\n",
    "**TO DO THEO**: Add the process to create the detectors inside Aimsun.\n",
    "Add the process to match the detectors to road section (and create the file lines_to_detectors.xlsx\n",
    "\n",
    "\n",
    "### Later to do: do the spatial join in python"
   ]
  },
  {
   "cell_type": "markdown",
   "metadata": {},
   "source": [
    "### 3. Process Data"
   ]
  },
  {
   "cell_type": "code",
   "execution_count": 1,
   "metadata": {},
   "outputs": [],
   "source": [
    "import process_flow as pf"
   ]
  },
  {
   "cell_type": "markdown",
   "metadata": {},
   "source": [
    "### A) Process the csv files (city + caltrans) to one big file. <br>\n",
    "source code: processing flow to one CSV.ipynb <br>\n",
    "\n",
    "We combine all the flow traffic data into one big CSV file from both city and PeMS data files. This is done by calling the function process_data() from the process_flow.py python file. \n",
    "\n",
    "Description of function process_data()\n",
    "<br>\n",
    "The function has input:\n",
    "- \"Flow_processed_tmp.csv\" file that lists all the processed files from city and PeMS data\n",
    "- The processed files created from the Parsing Data section\n",
    "\n",
    "The function has output:\n",
    "- \"Flow_processed_city.csv\" containing combined city flow data for all year\n",
    "- \"Flow_processed_PeMS.csv\" containing combined PeMS flow data for all years\n",
    "\n",
    "For the function to work:\n",
    "- The processed files (input) must be located in City and PeMs folders\n",
    "- 2013 city processed files are located in \"City/2013 reformat/\"\n",
    "- 2017 and 2019 city processed files that originated from DOC (which originated from PDF) files are located in \"City/Year reformat/Format from pdf\" folder where Year=2017 or 2019\n",
    "- 2017 and 2019 city processed files that originated from Excel files are located in \"City/Year reformat/Format from xlsx\" folder where Year=2017 or 2019\n",
    "- 2013, 2017 and 2019 PeMS data files are located in \"PeMS_Year\" folder where Year=2013, 2017 or 2019\n",
    "\n",
    "For the pipeline to work:\n",
    "- The ouput files must remain in the working directory, no moving necessary.\n",
    "\n",
    "Structure of ouput files: \n",
    "- Flow_processed_city.csv\n",
    "    - contains city traffic data where the rows represent traffic flow. The first 5 columns give info about the traffic flow and are Year, Name, Id, Direction, Day 1 where Name refers to the file name from which the data originated, Id is the Id from the \"Flow_processed_tmp.csv\" file, Direction is the direction of flow and Day 1 is the start date of recording. The columns that follow are day-timesteps for flow data. There are 3 days total over which traffic flow is recorded and time progresses in 15 minute steps. Hence the data columns progress as \"Day 1 - 0:0\", \"Day 1 - 0:15\", \"Day 1 - 0:30\",...,\"Day 3 - 23:30\", \"Day 3 - 23:45\".\n",
    "- Flow_processed_PeMS.csv\n",
    "    - contains PeMS flow traffic data where the rows represent traffic flow. The first columns are Name, Id and Name PeMS where Name contains the PeMS detector Id, Id is the Id assigned from \"Flow_processed_tmp.csv\", Name PeMs is the road address. The next 6 columns give Observed Year and Day Year for the 3 years, 2013, 2017 and 2019. Observed Year is the percentage of the observed data and Day Year is the start date of recording. The columns that follow are Year-Day-timestep, there are 3 years, 3 days and time progresses in 15 minute steps. Hence the columns progress as \"2013-Day 1 - 0:0\", \"2013-Day 1 - 0:15\", \"2013-Day 1 - 0:30\",...,\"2019-Day 3 - 23:30\", \"2019-Day 3 - 23:45\".\n",
    "\n",
    "**(DONE) TO DO 8**: Explain the structure of the output files. Also, feel free to document the doc in the python file (or iPython file). Explain also the input (Flow_processed_tmp.csv) and how it was created (I think it was created from the google doc https://docs.google.com/spreadsheets/d/1tcps-8aorPZLY8nswnNCmjWSJi-7ey8Ps4twWFz2ls0/edit#gid=0).\n",
    "\n",
    "***Edson Question***: the Flow_processed_tmp.csv file and the google doc seem the same to me (except for the lat, lng info on the right side of the google doc). Beyond this, I don't know how the file was created. Who to ask for more info?\n",
    "\n",
    "***Theo Answer***: I guess I have created the file from the google doc. But I have also created the google doc during the parsing. Probably in 2) we can create Flow_processed_tmp.csv from year_info.csv\n",
    "\n",
    "# added 2015 year"
   ]
  },
  {
   "cell_type": "code",
   "execution_count": 6,
   "metadata": {},
   "outputs": [],
   "source": []
  },
  {
   "cell_type": "code",
   "execution_count": 4,
   "metadata": {},
   "outputs": [],
   "source": []
  },
  {
   "cell_type": "code",
   "execution_count": 1,
   "metadata": {},
   "outputs": [
    {
     "name": "stdout",
     "output_type": "stream",
     "text": [
      "file not processed:  DURHAM RD BT I-680 AND MISSION BLVD EB\n",
      "file not processed:  MISSION BLVD BT WASHINGTON BLVD AND PINES ST SB\n",
      "file not processed:  DURHAM RD BT I-680 AND MISSION BLVD EB\n",
      "file not processed:  MISSION BLVD BT WASHINGTON BLVD AND PINES ST SB\n"
     ]
    }
   ],
   "source": [
    "import process_flow as pf\n",
    "pf.process_data()"
   ]
  },
  {
   "cell_type": "markdown",
   "metadata": {},
   "source": [
    "### B) Create file that gives traffic flows for specific road sections for every year. <br>\n",
    "source note: put years together.ipynb\n",
    "\n",
    "- Use detectors (lines_to_detectors.csv) and flow processed city (flow_processed_city.csv) data to create all years flow data in \"flow_processed_section.csv\"\n",
    "- Note that the erroneous files are still being skipped, they are: ['DurhamRd I680 MissionBlv EB', 'Mission blvd Pine Washington SB']\n",
    "\n",
    "# To do 9: the function pytogether should be written again. + add 2015\n",
    "- add the PeMS data\n",
    "- be more clever about missing data or road section associated with several detectors (take the average)\n",
    "\n",
    "### To do later, do the spatial join in python"
   ]
  },
  {
   "cell_type": "code",
   "execution_count": 2,
   "metadata": {},
   "outputs": [
    {
     "ename": "FileNotFoundError",
     "evalue": "[Errno 2] File lines_to_detectors.csv does not exist: 'lines_to_detectors.csv'",
     "output_type": "error",
     "traceback": [
      "\u001b[0;31m---------------------------------------------------------------------------\u001b[0m",
      "\u001b[0;31mFileNotFoundError\u001b[0m                         Traceback (most recent call last)",
      "\u001b[0;32m<ipython-input-2-b5f4b970248c>\u001b[0m in \u001b[0;36m<module>\u001b[0;34m\u001b[0m\n\u001b[1;32m      3\u001b[0m \u001b[0mline_to_detectors\u001b[0m \u001b[0;34m=\u001b[0m \u001b[0;34m'lines_to_detectors.csv'\u001b[0m\u001b[0;34m\u001b[0m\u001b[0;34m\u001b[0m\u001b[0m\n\u001b[1;32m      4\u001b[0m \u001b[0mflow_processed_city\u001b[0m \u001b[0;34m=\u001b[0m \u001b[0;34m'Flow_processed_city.csv'\u001b[0m\u001b[0;34m\u001b[0m\u001b[0;34m\u001b[0m\u001b[0m\n\u001b[0;32m----> 5\u001b[0;31m \u001b[0mpytogether\u001b[0m\u001b[0;34m.\u001b[0m\u001b[0mrun\u001b[0m\u001b[0;34m(\u001b[0m\u001b[0mline_to_detectors\u001b[0m\u001b[0;34m,\u001b[0m \u001b[0mflow_processed_city\u001b[0m\u001b[0;34m)\u001b[0m\u001b[0;34m\u001b[0m\u001b[0;34m\u001b[0m\u001b[0m\n\u001b[0m",
      "\u001b[0;32m~/Documents/data-processing/flow_pipeline/process_years_together.py\u001b[0m in \u001b[0;36mrun\u001b[0;34m(line_to_detectors, flow_processed_city)\u001b[0m\n\u001b[1;32m      5\u001b[0m \u001b[0;34m\u001b[0m\u001b[0m\n\u001b[1;32m      6\u001b[0m \u001b[0;32mdef\u001b[0m \u001b[0mrun\u001b[0m\u001b[0;34m(\u001b[0m\u001b[0mline_to_detectors\u001b[0m\u001b[0;34m,\u001b[0m \u001b[0mflow_processed_city\u001b[0m\u001b[0;34m)\u001b[0m\u001b[0;34m:\u001b[0m\u001b[0;34m\u001b[0m\u001b[0;34m\u001b[0m\u001b[0m\n\u001b[0;32m----> 7\u001b[0;31m     \u001b[0msection\u001b[0m \u001b[0;34m=\u001b[0m \u001b[0mpd\u001b[0m\u001b[0;34m.\u001b[0m\u001b[0mread_csv\u001b[0m\u001b[0;34m(\u001b[0m\u001b[0mline_to_detectors\u001b[0m\u001b[0;34m)\u001b[0m\u001b[0;34m\u001b[0m\u001b[0;34m\u001b[0m\u001b[0m\n\u001b[0m\u001b[1;32m      8\u001b[0m     \u001b[0mflow\u001b[0m \u001b[0;34m=\u001b[0m \u001b[0mpd\u001b[0m\u001b[0;34m.\u001b[0m\u001b[0mread_csv\u001b[0m\u001b[0;34m(\u001b[0m\u001b[0mflow_processed_city\u001b[0m\u001b[0;34m)\u001b[0m\u001b[0;34m\u001b[0m\u001b[0;34m\u001b[0m\u001b[0m\n\u001b[1;32m      9\u001b[0m     \u001b[0msection_no_na\u001b[0m \u001b[0;34m=\u001b[0m \u001b[0msection\u001b[0m\u001b[0;34m.\u001b[0m\u001b[0mdropna\u001b[0m\u001b[0;34m(\u001b[0m\u001b[0;34m)\u001b[0m\u001b[0;34m\u001b[0m\u001b[0;34m\u001b[0m\u001b[0m\n",
      "\u001b[0;32m~/anaconda3/envs/Fremont_proj/lib/python3.6/site-packages/pandas/io/parsers.py\u001b[0m in \u001b[0;36mparser_f\u001b[0;34m(filepath_or_buffer, sep, delimiter, header, names, index_col, usecols, squeeze, prefix, mangle_dupe_cols, dtype, engine, converters, true_values, false_values, skipinitialspace, skiprows, skipfooter, nrows, na_values, keep_default_na, na_filter, verbose, skip_blank_lines, parse_dates, infer_datetime_format, keep_date_col, date_parser, dayfirst, cache_dates, iterator, chunksize, compression, thousands, decimal, lineterminator, quotechar, quoting, doublequote, escapechar, comment, encoding, dialect, error_bad_lines, warn_bad_lines, delim_whitespace, low_memory, memory_map, float_precision)\u001b[0m\n\u001b[1;32m    674\u001b[0m         )\n\u001b[1;32m    675\u001b[0m \u001b[0;34m\u001b[0m\u001b[0m\n\u001b[0;32m--> 676\u001b[0;31m         \u001b[0;32mreturn\u001b[0m \u001b[0m_read\u001b[0m\u001b[0;34m(\u001b[0m\u001b[0mfilepath_or_buffer\u001b[0m\u001b[0;34m,\u001b[0m \u001b[0mkwds\u001b[0m\u001b[0;34m)\u001b[0m\u001b[0;34m\u001b[0m\u001b[0;34m\u001b[0m\u001b[0m\n\u001b[0m\u001b[1;32m    677\u001b[0m \u001b[0;34m\u001b[0m\u001b[0m\n\u001b[1;32m    678\u001b[0m     \u001b[0mparser_f\u001b[0m\u001b[0;34m.\u001b[0m\u001b[0m__name__\u001b[0m \u001b[0;34m=\u001b[0m \u001b[0mname\u001b[0m\u001b[0;34m\u001b[0m\u001b[0;34m\u001b[0m\u001b[0m\n",
      "\u001b[0;32m~/anaconda3/envs/Fremont_proj/lib/python3.6/site-packages/pandas/io/parsers.py\u001b[0m in \u001b[0;36m_read\u001b[0;34m(filepath_or_buffer, kwds)\u001b[0m\n\u001b[1;32m    446\u001b[0m \u001b[0;34m\u001b[0m\u001b[0m\n\u001b[1;32m    447\u001b[0m     \u001b[0;31m# Create the parser.\u001b[0m\u001b[0;34m\u001b[0m\u001b[0;34m\u001b[0m\u001b[0;34m\u001b[0m\u001b[0m\n\u001b[0;32m--> 448\u001b[0;31m     \u001b[0mparser\u001b[0m \u001b[0;34m=\u001b[0m \u001b[0mTextFileReader\u001b[0m\u001b[0;34m(\u001b[0m\u001b[0mfp_or_buf\u001b[0m\u001b[0;34m,\u001b[0m \u001b[0;34m**\u001b[0m\u001b[0mkwds\u001b[0m\u001b[0;34m)\u001b[0m\u001b[0;34m\u001b[0m\u001b[0;34m\u001b[0m\u001b[0m\n\u001b[0m\u001b[1;32m    449\u001b[0m \u001b[0;34m\u001b[0m\u001b[0m\n\u001b[1;32m    450\u001b[0m     \u001b[0;32mif\u001b[0m \u001b[0mchunksize\u001b[0m \u001b[0;32mor\u001b[0m \u001b[0miterator\u001b[0m\u001b[0;34m:\u001b[0m\u001b[0;34m\u001b[0m\u001b[0;34m\u001b[0m\u001b[0m\n",
      "\u001b[0;32m~/anaconda3/envs/Fremont_proj/lib/python3.6/site-packages/pandas/io/parsers.py\u001b[0m in \u001b[0;36m__init__\u001b[0;34m(self, f, engine, **kwds)\u001b[0m\n\u001b[1;32m    878\u001b[0m             \u001b[0mself\u001b[0m\u001b[0;34m.\u001b[0m\u001b[0moptions\u001b[0m\u001b[0;34m[\u001b[0m\u001b[0;34m\"has_index_names\"\u001b[0m\u001b[0;34m]\u001b[0m \u001b[0;34m=\u001b[0m \u001b[0mkwds\u001b[0m\u001b[0;34m[\u001b[0m\u001b[0;34m\"has_index_names\"\u001b[0m\u001b[0;34m]\u001b[0m\u001b[0;34m\u001b[0m\u001b[0;34m\u001b[0m\u001b[0m\n\u001b[1;32m    879\u001b[0m \u001b[0;34m\u001b[0m\u001b[0m\n\u001b[0;32m--> 880\u001b[0;31m         \u001b[0mself\u001b[0m\u001b[0;34m.\u001b[0m\u001b[0m_make_engine\u001b[0m\u001b[0;34m(\u001b[0m\u001b[0mself\u001b[0m\u001b[0;34m.\u001b[0m\u001b[0mengine\u001b[0m\u001b[0;34m)\u001b[0m\u001b[0;34m\u001b[0m\u001b[0;34m\u001b[0m\u001b[0m\n\u001b[0m\u001b[1;32m    881\u001b[0m \u001b[0;34m\u001b[0m\u001b[0m\n\u001b[1;32m    882\u001b[0m     \u001b[0;32mdef\u001b[0m \u001b[0mclose\u001b[0m\u001b[0;34m(\u001b[0m\u001b[0mself\u001b[0m\u001b[0;34m)\u001b[0m\u001b[0;34m:\u001b[0m\u001b[0;34m\u001b[0m\u001b[0;34m\u001b[0m\u001b[0m\n",
      "\u001b[0;32m~/anaconda3/envs/Fremont_proj/lib/python3.6/site-packages/pandas/io/parsers.py\u001b[0m in \u001b[0;36m_make_engine\u001b[0;34m(self, engine)\u001b[0m\n\u001b[1;32m   1112\u001b[0m     \u001b[0;32mdef\u001b[0m \u001b[0m_make_engine\u001b[0m\u001b[0;34m(\u001b[0m\u001b[0mself\u001b[0m\u001b[0;34m,\u001b[0m \u001b[0mengine\u001b[0m\u001b[0;34m=\u001b[0m\u001b[0;34m\"c\"\u001b[0m\u001b[0;34m)\u001b[0m\u001b[0;34m:\u001b[0m\u001b[0;34m\u001b[0m\u001b[0;34m\u001b[0m\u001b[0m\n\u001b[1;32m   1113\u001b[0m         \u001b[0;32mif\u001b[0m \u001b[0mengine\u001b[0m \u001b[0;34m==\u001b[0m \u001b[0;34m\"c\"\u001b[0m\u001b[0;34m:\u001b[0m\u001b[0;34m\u001b[0m\u001b[0;34m\u001b[0m\u001b[0m\n\u001b[0;32m-> 1114\u001b[0;31m             \u001b[0mself\u001b[0m\u001b[0;34m.\u001b[0m\u001b[0m_engine\u001b[0m \u001b[0;34m=\u001b[0m \u001b[0mCParserWrapper\u001b[0m\u001b[0;34m(\u001b[0m\u001b[0mself\u001b[0m\u001b[0;34m.\u001b[0m\u001b[0mf\u001b[0m\u001b[0;34m,\u001b[0m \u001b[0;34m**\u001b[0m\u001b[0mself\u001b[0m\u001b[0;34m.\u001b[0m\u001b[0moptions\u001b[0m\u001b[0;34m)\u001b[0m\u001b[0;34m\u001b[0m\u001b[0;34m\u001b[0m\u001b[0m\n\u001b[0m\u001b[1;32m   1115\u001b[0m         \u001b[0;32melse\u001b[0m\u001b[0;34m:\u001b[0m\u001b[0;34m\u001b[0m\u001b[0;34m\u001b[0m\u001b[0m\n\u001b[1;32m   1116\u001b[0m             \u001b[0;32mif\u001b[0m \u001b[0mengine\u001b[0m \u001b[0;34m==\u001b[0m \u001b[0;34m\"python\"\u001b[0m\u001b[0;34m:\u001b[0m\u001b[0;34m\u001b[0m\u001b[0;34m\u001b[0m\u001b[0m\n",
      "\u001b[0;32m~/anaconda3/envs/Fremont_proj/lib/python3.6/site-packages/pandas/io/parsers.py\u001b[0m in \u001b[0;36m__init__\u001b[0;34m(self, src, **kwds)\u001b[0m\n\u001b[1;32m   1889\u001b[0m         \u001b[0mkwds\u001b[0m\u001b[0;34m[\u001b[0m\u001b[0;34m\"usecols\"\u001b[0m\u001b[0;34m]\u001b[0m \u001b[0;34m=\u001b[0m \u001b[0mself\u001b[0m\u001b[0;34m.\u001b[0m\u001b[0musecols\u001b[0m\u001b[0;34m\u001b[0m\u001b[0;34m\u001b[0m\u001b[0m\n\u001b[1;32m   1890\u001b[0m \u001b[0;34m\u001b[0m\u001b[0m\n\u001b[0;32m-> 1891\u001b[0;31m         \u001b[0mself\u001b[0m\u001b[0;34m.\u001b[0m\u001b[0m_reader\u001b[0m \u001b[0;34m=\u001b[0m \u001b[0mparsers\u001b[0m\u001b[0;34m.\u001b[0m\u001b[0mTextReader\u001b[0m\u001b[0;34m(\u001b[0m\u001b[0msrc\u001b[0m\u001b[0;34m,\u001b[0m \u001b[0;34m**\u001b[0m\u001b[0mkwds\u001b[0m\u001b[0;34m)\u001b[0m\u001b[0;34m\u001b[0m\u001b[0;34m\u001b[0m\u001b[0m\n\u001b[0m\u001b[1;32m   1892\u001b[0m         \u001b[0mself\u001b[0m\u001b[0;34m.\u001b[0m\u001b[0munnamed_cols\u001b[0m \u001b[0;34m=\u001b[0m \u001b[0mself\u001b[0m\u001b[0;34m.\u001b[0m\u001b[0m_reader\u001b[0m\u001b[0;34m.\u001b[0m\u001b[0munnamed_cols\u001b[0m\u001b[0;34m\u001b[0m\u001b[0;34m\u001b[0m\u001b[0m\n\u001b[1;32m   1893\u001b[0m \u001b[0;34m\u001b[0m\u001b[0m\n",
      "\u001b[0;32mpandas/_libs/parsers.pyx\u001b[0m in \u001b[0;36mpandas._libs.parsers.TextReader.__cinit__\u001b[0;34m()\u001b[0m\n",
      "\u001b[0;32mpandas/_libs/parsers.pyx\u001b[0m in \u001b[0;36mpandas._libs.parsers.TextReader._setup_parser_source\u001b[0;34m()\u001b[0m\n",
      "\u001b[0;31mFileNotFoundError\u001b[0m: [Errno 2] File lines_to_detectors.csv does not exist: 'lines_to_detectors.csv'"
     ]
    },
    {
     "ename": "FileNotFoundError",
     "evalue": "[Errno 2] File lines_to_detectors.csv does not exist: 'lines_to_detectors.csv'",
     "output_type": "error",
     "traceback": [
      "\u001b[0;31m---------------------------------------------------------------------------\u001b[0m",
      "\u001b[0;31mFileNotFoundError\u001b[0m                         Traceback (most recent call last)",
      "\u001b[0;32m<ipython-input-2-b5f4b970248c>\u001b[0m in \u001b[0;36m<module>\u001b[0;34m\u001b[0m\n\u001b[1;32m      3\u001b[0m \u001b[0mline_to_detectors\u001b[0m \u001b[0;34m=\u001b[0m \u001b[0;34m'lines_to_detectors.csv'\u001b[0m\u001b[0;34m\u001b[0m\u001b[0;34m\u001b[0m\u001b[0m\n\u001b[1;32m      4\u001b[0m \u001b[0mflow_processed_city\u001b[0m \u001b[0;34m=\u001b[0m \u001b[0;34m'Flow_processed_city.csv'\u001b[0m\u001b[0;34m\u001b[0m\u001b[0;34m\u001b[0m\u001b[0m\n\u001b[0;32m----> 5\u001b[0;31m \u001b[0mpytogether\u001b[0m\u001b[0;34m.\u001b[0m\u001b[0mrun\u001b[0m\u001b[0;34m(\u001b[0m\u001b[0mline_to_detectors\u001b[0m\u001b[0;34m,\u001b[0m \u001b[0mflow_processed_city\u001b[0m\u001b[0;34m)\u001b[0m\u001b[0;34m\u001b[0m\u001b[0;34m\u001b[0m\u001b[0m\n\u001b[0m",
      "\u001b[0;32m~/Documents/data-processing/flow_pipeline/process_years_together.py\u001b[0m in \u001b[0;36mrun\u001b[0;34m(line_to_detectors, flow_processed_city)\u001b[0m\n\u001b[1;32m      5\u001b[0m \u001b[0;34m\u001b[0m\u001b[0m\n\u001b[1;32m      6\u001b[0m \u001b[0;32mdef\u001b[0m \u001b[0mrun\u001b[0m\u001b[0;34m(\u001b[0m\u001b[0mline_to_detectors\u001b[0m\u001b[0;34m,\u001b[0m \u001b[0mflow_processed_city\u001b[0m\u001b[0;34m)\u001b[0m\u001b[0;34m:\u001b[0m\u001b[0;34m\u001b[0m\u001b[0;34m\u001b[0m\u001b[0m\n\u001b[0;32m----> 7\u001b[0;31m     \u001b[0msection\u001b[0m \u001b[0;34m=\u001b[0m \u001b[0mpd\u001b[0m\u001b[0;34m.\u001b[0m\u001b[0mread_csv\u001b[0m\u001b[0;34m(\u001b[0m\u001b[0mline_to_detectors\u001b[0m\u001b[0;34m)\u001b[0m\u001b[0;34m\u001b[0m\u001b[0;34m\u001b[0m\u001b[0m\n\u001b[0m\u001b[1;32m      8\u001b[0m     \u001b[0mflow\u001b[0m \u001b[0;34m=\u001b[0m \u001b[0mpd\u001b[0m\u001b[0;34m.\u001b[0m\u001b[0mread_csv\u001b[0m\u001b[0;34m(\u001b[0m\u001b[0mflow_processed_city\u001b[0m\u001b[0;34m)\u001b[0m\u001b[0;34m\u001b[0m\u001b[0;34m\u001b[0m\u001b[0m\n\u001b[1;32m      9\u001b[0m     \u001b[0msection_no_na\u001b[0m \u001b[0;34m=\u001b[0m \u001b[0msection\u001b[0m\u001b[0;34m.\u001b[0m\u001b[0mdropna\u001b[0m\u001b[0;34m(\u001b[0m\u001b[0;34m)\u001b[0m\u001b[0;34m\u001b[0m\u001b[0;34m\u001b[0m\u001b[0m\n",
      "\u001b[0;32m~/anaconda3/envs/Fremont_proj/lib/python3.6/site-packages/pandas/io/parsers.py\u001b[0m in \u001b[0;36mparser_f\u001b[0;34m(filepath_or_buffer, sep, delimiter, header, names, index_col, usecols, squeeze, prefix, mangle_dupe_cols, dtype, engine, converters, true_values, false_values, skipinitialspace, skiprows, skipfooter, nrows, na_values, keep_default_na, na_filter, verbose, skip_blank_lines, parse_dates, infer_datetime_format, keep_date_col, date_parser, dayfirst, cache_dates, iterator, chunksize, compression, thousands, decimal, lineterminator, quotechar, quoting, doublequote, escapechar, comment, encoding, dialect, error_bad_lines, warn_bad_lines, delim_whitespace, low_memory, memory_map, float_precision)\u001b[0m\n\u001b[1;32m    674\u001b[0m         )\n\u001b[1;32m    675\u001b[0m \u001b[0;34m\u001b[0m\u001b[0m\n\u001b[0;32m--> 676\u001b[0;31m         \u001b[0;32mreturn\u001b[0m \u001b[0m_read\u001b[0m\u001b[0;34m(\u001b[0m\u001b[0mfilepath_or_buffer\u001b[0m\u001b[0;34m,\u001b[0m \u001b[0mkwds\u001b[0m\u001b[0;34m)\u001b[0m\u001b[0;34m\u001b[0m\u001b[0;34m\u001b[0m\u001b[0m\n\u001b[0m\u001b[1;32m    677\u001b[0m \u001b[0;34m\u001b[0m\u001b[0m\n\u001b[1;32m    678\u001b[0m     \u001b[0mparser_f\u001b[0m\u001b[0;34m.\u001b[0m\u001b[0m__name__\u001b[0m \u001b[0;34m=\u001b[0m \u001b[0mname\u001b[0m\u001b[0;34m\u001b[0m\u001b[0;34m\u001b[0m\u001b[0m\n",
      "\u001b[0;32m~/anaconda3/envs/Fremont_proj/lib/python3.6/site-packages/pandas/io/parsers.py\u001b[0m in \u001b[0;36m_read\u001b[0;34m(filepath_or_buffer, kwds)\u001b[0m\n\u001b[1;32m    446\u001b[0m \u001b[0;34m\u001b[0m\u001b[0m\n\u001b[1;32m    447\u001b[0m     \u001b[0;31m# Create the parser.\u001b[0m\u001b[0;34m\u001b[0m\u001b[0;34m\u001b[0m\u001b[0;34m\u001b[0m\u001b[0m\n\u001b[0;32m--> 448\u001b[0;31m     \u001b[0mparser\u001b[0m \u001b[0;34m=\u001b[0m \u001b[0mTextFileReader\u001b[0m\u001b[0;34m(\u001b[0m\u001b[0mfp_or_buf\u001b[0m\u001b[0;34m,\u001b[0m \u001b[0;34m**\u001b[0m\u001b[0mkwds\u001b[0m\u001b[0;34m)\u001b[0m\u001b[0;34m\u001b[0m\u001b[0;34m\u001b[0m\u001b[0m\n\u001b[0m\u001b[1;32m    449\u001b[0m \u001b[0;34m\u001b[0m\u001b[0m\n\u001b[1;32m    450\u001b[0m     \u001b[0;32mif\u001b[0m \u001b[0mchunksize\u001b[0m \u001b[0;32mor\u001b[0m \u001b[0miterator\u001b[0m\u001b[0;34m:\u001b[0m\u001b[0;34m\u001b[0m\u001b[0;34m\u001b[0m\u001b[0m\n",
      "\u001b[0;32m~/anaconda3/envs/Fremont_proj/lib/python3.6/site-packages/pandas/io/parsers.py\u001b[0m in \u001b[0;36m__init__\u001b[0;34m(self, f, engine, **kwds)\u001b[0m\n\u001b[1;32m    878\u001b[0m             \u001b[0mself\u001b[0m\u001b[0;34m.\u001b[0m\u001b[0moptions\u001b[0m\u001b[0;34m[\u001b[0m\u001b[0;34m\"has_index_names\"\u001b[0m\u001b[0;34m]\u001b[0m \u001b[0;34m=\u001b[0m \u001b[0mkwds\u001b[0m\u001b[0;34m[\u001b[0m\u001b[0;34m\"has_index_names\"\u001b[0m\u001b[0;34m]\u001b[0m\u001b[0;34m\u001b[0m\u001b[0;34m\u001b[0m\u001b[0m\n\u001b[1;32m    879\u001b[0m \u001b[0;34m\u001b[0m\u001b[0m\n\u001b[0;32m--> 880\u001b[0;31m         \u001b[0mself\u001b[0m\u001b[0;34m.\u001b[0m\u001b[0m_make_engine\u001b[0m\u001b[0;34m(\u001b[0m\u001b[0mself\u001b[0m\u001b[0;34m.\u001b[0m\u001b[0mengine\u001b[0m\u001b[0;34m)\u001b[0m\u001b[0;34m\u001b[0m\u001b[0;34m\u001b[0m\u001b[0m\n\u001b[0m\u001b[1;32m    881\u001b[0m \u001b[0;34m\u001b[0m\u001b[0m\n\u001b[1;32m    882\u001b[0m     \u001b[0;32mdef\u001b[0m \u001b[0mclose\u001b[0m\u001b[0;34m(\u001b[0m\u001b[0mself\u001b[0m\u001b[0;34m)\u001b[0m\u001b[0;34m:\u001b[0m\u001b[0;34m\u001b[0m\u001b[0;34m\u001b[0m\u001b[0m\n",
      "\u001b[0;32m~/anaconda3/envs/Fremont_proj/lib/python3.6/site-packages/pandas/io/parsers.py\u001b[0m in \u001b[0;36m_make_engine\u001b[0;34m(self, engine)\u001b[0m\n\u001b[1;32m   1112\u001b[0m     \u001b[0;32mdef\u001b[0m \u001b[0m_make_engine\u001b[0m\u001b[0;34m(\u001b[0m\u001b[0mself\u001b[0m\u001b[0;34m,\u001b[0m \u001b[0mengine\u001b[0m\u001b[0;34m=\u001b[0m\u001b[0;34m\"c\"\u001b[0m\u001b[0;34m)\u001b[0m\u001b[0;34m:\u001b[0m\u001b[0;34m\u001b[0m\u001b[0;34m\u001b[0m\u001b[0m\n\u001b[1;32m   1113\u001b[0m         \u001b[0;32mif\u001b[0m \u001b[0mengine\u001b[0m \u001b[0;34m==\u001b[0m \u001b[0;34m\"c\"\u001b[0m\u001b[0;34m:\u001b[0m\u001b[0;34m\u001b[0m\u001b[0;34m\u001b[0m\u001b[0m\n\u001b[0;32m-> 1114\u001b[0;31m             \u001b[0mself\u001b[0m\u001b[0;34m.\u001b[0m\u001b[0m_engine\u001b[0m \u001b[0;34m=\u001b[0m \u001b[0mCParserWrapper\u001b[0m\u001b[0;34m(\u001b[0m\u001b[0mself\u001b[0m\u001b[0;34m.\u001b[0m\u001b[0mf\u001b[0m\u001b[0;34m,\u001b[0m \u001b[0;34m**\u001b[0m\u001b[0mself\u001b[0m\u001b[0;34m.\u001b[0m\u001b[0moptions\u001b[0m\u001b[0;34m)\u001b[0m\u001b[0;34m\u001b[0m\u001b[0;34m\u001b[0m\u001b[0m\n\u001b[0m\u001b[1;32m   1115\u001b[0m         \u001b[0;32melse\u001b[0m\u001b[0;34m:\u001b[0m\u001b[0;34m\u001b[0m\u001b[0;34m\u001b[0m\u001b[0m\n\u001b[1;32m   1116\u001b[0m             \u001b[0;32mif\u001b[0m \u001b[0mengine\u001b[0m \u001b[0;34m==\u001b[0m \u001b[0;34m\"python\"\u001b[0m\u001b[0;34m:\u001b[0m\u001b[0;34m\u001b[0m\u001b[0;34m\u001b[0m\u001b[0m\n",
      "\u001b[0;32m~/anaconda3/envs/Fremont_proj/lib/python3.6/site-packages/pandas/io/parsers.py\u001b[0m in \u001b[0;36m__init__\u001b[0;34m(self, src, **kwds)\u001b[0m\n\u001b[1;32m   1889\u001b[0m         \u001b[0mkwds\u001b[0m\u001b[0;34m[\u001b[0m\u001b[0;34m\"usecols\"\u001b[0m\u001b[0;34m]\u001b[0m \u001b[0;34m=\u001b[0m \u001b[0mself\u001b[0m\u001b[0;34m.\u001b[0m\u001b[0musecols\u001b[0m\u001b[0;34m\u001b[0m\u001b[0;34m\u001b[0m\u001b[0m\n\u001b[1;32m   1890\u001b[0m \u001b[0;34m\u001b[0m\u001b[0m\n\u001b[0;32m-> 1891\u001b[0;31m         \u001b[0mself\u001b[0m\u001b[0;34m.\u001b[0m\u001b[0m_reader\u001b[0m \u001b[0;34m=\u001b[0m \u001b[0mparsers\u001b[0m\u001b[0;34m.\u001b[0m\u001b[0mTextReader\u001b[0m\u001b[0;34m(\u001b[0m\u001b[0msrc\u001b[0m\u001b[0;34m,\u001b[0m \u001b[0;34m**\u001b[0m\u001b[0mkwds\u001b[0m\u001b[0;34m)\u001b[0m\u001b[0;34m\u001b[0m\u001b[0;34m\u001b[0m\u001b[0m\n\u001b[0m\u001b[1;32m   1892\u001b[0m         \u001b[0mself\u001b[0m\u001b[0;34m.\u001b[0m\u001b[0munnamed_cols\u001b[0m \u001b[0;34m=\u001b[0m \u001b[0mself\u001b[0m\u001b[0;34m.\u001b[0m\u001b[0m_reader\u001b[0m\u001b[0;34m.\u001b[0m\u001b[0munnamed_cols\u001b[0m\u001b[0;34m\u001b[0m\u001b[0;34m\u001b[0m\u001b[0m\n\u001b[1;32m   1893\u001b[0m \u001b[0;34m\u001b[0m\u001b[0m\n",
      "\u001b[0;32mpandas/_libs/parsers.pyx\u001b[0m in \u001b[0;36mpandas._libs.parsers.TextReader.__cinit__\u001b[0;34m()\u001b[0m\n",
      "\u001b[0;32mpandas/_libs/parsers.pyx\u001b[0m in \u001b[0;36mpandas._libs.parsers.TextReader._setup_parser_source\u001b[0;34m()\u001b[0m\n",
      "\u001b[0;31mFileNotFoundError\u001b[0m: [Errno 2] File lines_to_detectors.csv does not exist: 'lines_to_detectors.csv'"
     ]
    }
   ],
   "source": [
    "import process_years_together as pytogether\n",
    "\n",
    "line_to_detectors = 'lines_to_detectors.csv'\n",
    "flow_processed_city = 'Flow_processed_city.csv'\n",
    "pytogether.run(line_to_detectors, flow_processed_city)"
   ]
  },
  {
   "cell_type": "markdown",
   "metadata": {},
   "source": [
    "### 4. Data Analysis\n",
    "\n",
    "# TO DO: To be done after the other to dos has been done."
   ]
  },
  {
   "cell_type": "markdown",
   "metadata": {},
   "source": [
    "A) PCA"
   ]
  },
  {
   "cell_type": "markdown",
   "metadata": {},
   "source": [
    "B) Analyse PCA results using heatmap inside ArcGIS"
   ]
  },
  {
   "cell_type": "code",
   "execution_count": null,
   "metadata": {},
   "outputs": [],
   "source": []
  },
  {
   "cell_type": "code",
   "execution_count": null,
   "metadata": {},
   "outputs": [],
   "source": []
  },
  {
   "cell_type": "code",
   "execution_count": null,
   "metadata": {},
   "outputs": [],
   "source": []
  }
 ],
 "metadata": {
  "kernelspec": {
   "display_name": "Fremont_proj",
   "language": "python",
   "name": "fremont_proj"
  },
  "language_info": {
   "codemirror_mode": {
    "name": "ipython",
    "version": 3
   },
   "file_extension": ".py",
   "mimetype": "text/x-python",
   "name": "python",
   "nbconvert_exporter": "python",
   "pygments_lexer": "ipython3",
   "version": "3.6.9"
  }
 },
 "nbformat": 4,
 "nbformat_minor": 2
}
