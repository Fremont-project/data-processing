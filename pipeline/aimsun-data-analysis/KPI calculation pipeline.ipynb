{
 "cells": [
  {
   "cell_type": "markdown",
   "metadata": {},
   "source": [
    "# Key Performance Indicator (KPI) Calculation Pipeline "
   ]
  },
  {
   "cell_type": "markdown",
   "metadata": {},
   "source": [
    "# To do: clean the notebook so it is easy to read"
   ]
  },
  {
   "cell_type": "markdown",
   "metadata": {},
   "source": [
    "### Goal of the notebook"
   ]
  },
  {
   "cell_type": "markdown",
   "metadata": {},
   "source": [
    "This notebook takes in \n",
    "(1).Aimsun network(nodes and sections) \n",
    "(2).scraped Point of Interests in Fremont area \n",
    "(3).Aimsun Microsimulation outputs \n",
    "to calculate KPI of interest (eg. accessibility) and generate easily understandable heatmaps and isochrones in Kepler.gl. "
   ]
  },
  {
   "cell_type": "markdown",
   "metadata": {},
   "source": [
    "### Inputs of the pipeline:"
   ]
  },
  {
   "cell_type": "markdown",
   "metadata": {},
   "source": [
    "- Raw Aimsun network data (only load notes and sections): in the dropbox folder under /Data processing/Raw/Network/Aimsun/\n",
    "- Scraped Point of Interests (POIs) in Fremont area (a csv file): in the dropbox folder under /Data processing/Raw/Network/KPIs\n",
    "- The Aimsun Microsimulation outputs have already been transfered from SGLite to csv, and stored in dropbox folder: /Aimsun/Outputs/vehSectTrajectory.csv"
   ]
  },
  {
   "cell_type": "markdown",
   "metadata": {},
   "source": [
    "### Dependent libraries:"
   ]
  },
  {
   "cell_type": "markdown",
   "metadata": {},
   "source": [
    "- os\n",
    "- sys\n",
    "- fremontdropbox\n",
    "- geopandas\n",
    "- shapely.geometry (Points and Linsting manipulation)\n",
    "- keplergl (visualization)\n",
    "- pandas\n",
    "- networkx (network manipulation)\n",
    "- pandana (accessibility measurement)\n",
    "- warnings (supprese unnecessaryly warnings)"
   ]
  },
  {
   "cell_type": "markdown",
   "metadata": {},
   "source": [
    "### Deliverables"
   ]
  },
  {
   "cell_type": "markdown",
   "metadata": {},
   "source": [
    "The accessibility heatmaps and isochrones are generated along the way through Kepler.gl."
   ]
  },
  {
   "cell_type": "markdown",
   "metadata": {},
   "source": [
    "## Table of Contents\n",
    "1. [Loading Aimsun network](#aim_net)\n",
    "2. [Loading and Processing the scraped POIs](#POIs)\n",
    "3. [Using Pandana package to plot the accessibility heatmap](#Pandana)\n",
    "4. [Loading the micro-simulation results to Pandana network](#sim_results)\n",
    "5. [Assign each POI to its nearest Aimsun node](#matching)\n",
    "6. [Measuring accessibility and generate heatmap](#accessibility)\n",
    "7. [Calculating accessility and generate isochrone](#isochrone)"
   ]
  },
  {
   "cell_type": "code",
   "execution_count": 1,
   "metadata": {},
   "outputs": [],
   "source": [
    "# Setting up the Coordinate Reference Systems up front in the necessary format.\n",
    "crs_degree = {'init': 'epsg:4326'} # CGS_WGS_1984 (what the GPS uses)\n",
    "\n",
    "# --- Paths\n",
    "\n",
    "# Root path of Fremont Dropbox\n",
    "import os\n",
    "import sys\n",
    "# We let this notebook to know where to look for fremontdropbox module\n",
    "module_path = os.path.abspath(os.path.join('../..'))\n",
    "if module_path not in sys.path:\n",
    "    sys.path.append(module_path)\n",
    "    \n",
    "from fremontdropbox import get_dropbox_location\n",
    "# Root path of the Dropbox business account\n",
    "\n",
    "\n",
    "\n",
    "dbx = get_dropbox_location()\n",
    "\n",
    "# Temporary! Location of the folder where the restructuring is currently happening\n",
    "data_path = dbx + '/Private Structured data collection'\n",
    "\n",
    "aux_files = data_path+'/Data processing/Auxiliary files'\n",
    "\n",
    "# Processing output path\n",
    "output_path = aux_files + '/OD demand'"
   ]
  },
  {
   "cell_type": "code",
   "execution_count": 2,
   "metadata": {},
   "outputs": [],
   "source": [
    "# Read more about GeoPandas data structures here: http://geopandas.org/data_structures.html\n",
    "import geopandas as gpd # To work with spatial data in a DataFrame\n",
    "from shapely.geometry import Point, LineString # To create line geometries that can be used in a GeoDataFrame\n",
    "from keplergl import KeplerGl\n",
    "import pandas as pd\n",
    "\n",
    "# packages for network manipulation and visualization\n",
    "#import csv\n",
    "#from operator import itemgetter\n",
    "import networkx as nx\n",
    "#import osmnx as ox\n",
    "#import matplotlib.pyplot as plt\n",
    "#import matplotlib.lines as mlines\n",
    "#import cartopy.crs as ccrs\n",
    "#from IPython.display import Image\n",
    "#from mpl_toolkits.basemap import Basemap as Basemap #Installation failed\n",
    "#from networkx.algorithms import community #This part of networkx, for community detection, needs to be imported separately.\n",
    "\n",
    "\n",
    "#pandana\n",
    "# import pandana as pdna\n",
    "# from pandana.loaders import osm\n",
    "%matplotlib inline\n",
    "#from descartes import PolygonPatch\n",
    "#import random\n",
    "# import warnings\n",
    "# warnings.filterwarnings('ignore')\n",
    "\n",
    "#change the projection of the code\n",
    "#import pyproj as proj"
   ]
  },
  {
   "cell_type": "markdown",
   "metadata": {},
   "source": [
    "## Loading Aimsun network\n",
    "<a id=\"aim_net\"> </a>"
   ]
  },
  {
   "cell_type": "markdown",
   "metadata": {},
   "source": [
    "- Geopandas (to read and convert the files) \n",
    "- Networkx (to convert the data to a network) \n",
    "- Visualize the Geopandas network shapefile in Kepler.gl"
   ]
  },
  {
   "cell_type": "code",
   "execution_count": 3,
   "metadata": {},
   "outputs": [],
   "source": [
    "def read_gdf(path):\n",
    "    gdf = gpd.GeoDataFrame.from_file(path)\n",
    "    gdf = gdf.to_crs(epsg=4326)\n",
    "    return gdf\n",
    "\n",
    "Aimsun_nodes = read_gdf(data_path + \"/Data processing/Raw/Network/Aimsun/nodes.shp\")\n",
    "Aimsun_sections = read_gdf(data_path + \"/Data processing/Raw/Network/Aimsun/sections.shp\")"
   ]
  },
  {
   "cell_type": "code",
   "execution_count": 4,
   "metadata": {},
   "outputs": [
    {
     "name": "stdout",
     "output_type": "stream",
     "text": [
      "Number of sections: 5626\n",
      "Number of nodes: 2013\n"
     ]
    }
   ],
   "source": [
    "print(\"Number of sections: \" + str(Aimsun_sections.id.count()))\n",
    "print(\"Number of nodes: \" + str(Aimsun_nodes.id.count()))"
   ]
  },
  {
   "cell_type": "code",
   "execution_count": 5,
   "metadata": {},
   "outputs": [
    {
     "name": "stdout",
     "output_type": "stream",
     "text": [
      "Sections\n",
      "      id  eid  name  nb_lanes  speed  capacity  rd_type  func_class   fnode  \\\n",
      "0  242.0  242  None         1  120.0    2100.0    175.0           1  9845.0   \n",
      "1  243.0  243  None         3  104.0    6300.0    175.0           1  9852.0   \n",
      "2  244.0  244  None         3  104.0    6300.0    175.0           1  9850.0   \n",
      "\n",
      "    tnode                                           geometry  \n",
      "0  9923.0  LINESTRING (-121.92244 37.49593, -121.92242 37...  \n",
      "1  9848.0  LINESTRING (-121.92313 37.49526, -121.92173 37...  \n",
      "2  9852.0  LINESTRING (-121.92352 37.49561, -121.92313 37...  \n",
      "\n",
      "Nodes\n",
      "       id   eid  name  nodetype                     geometry\n",
      "0  9845.0  9845  None       3.0  POINT (-121.92249 37.49593)\n",
      "1  9848.0  9848  None       0.0  POINT (-121.92173 37.49401)\n",
      "2  9850.0  9850  None       0.0  POINT (-121.92353 37.49561)\n"
     ]
    }
   ],
   "source": [
    "print(\"Sections\")\n",
    "print(Aimsun_sections.head(3))\n",
    "print()\n",
    "print(\"Nodes\")\n",
    "print(Aimsun_nodes.head(3))"
   ]
  },
  {
   "cell_type": "markdown",
   "metadata": {},
   "source": [
    "## To do: fill NaN values with new nodes"
   ]
  },
  {
   "cell_type": "code",
   "execution_count": 6,
   "metadata": {},
   "outputs": [
    {
     "name": "stdout",
     "output_type": "stream",
     "text": [
      "['9845' '9848' '9850' ... '62848' '62852' None]\n"
     ]
    }
   ],
   "source": [
    "# To do here\n",
    "print(Aimsun_nodes.eid.unique())"
   ]
  },
  {
   "cell_type": "code",
   "execution_count": 7,
   "metadata": {},
   "outputs": [
    {
     "name": "stdout",
     "output_type": "stream",
     "text": [
      "    id  id_node_source  id_node_target  capacity  speed\n",
      "0  242            9845            9923      2100    120\n",
      "1  243            9852            9848      6300    104\n",
      "2  244            9850            9852      6300    104\n"
     ]
    }
   ],
   "source": [
    "# Keeping only some columns\n",
    "edges_topo = Aimsun_sections[['id', 'fnode', 'tnode', 'capacity', 'speed']]\n",
    "\n",
    "edges_topo = edges_topo[edges_topo['fnode'].notna()]\n",
    "edges_topo = edges_topo[edges_topo['tnode'].notna()]\n",
    "\n",
    "edges_topo = edges_topo.rename(columns={\"fnode\": \"id_node_source\", \"tnode\": \"id_node_target\"})\n",
    "edges_topo = edges_topo.astype(int)\n",
    "\n",
    "print(edges_topo.head(3))"
   ]
  },
  {
   "cell_type": "code",
   "execution_count": 8,
   "metadata": {},
   "outputs": [
    {
     "name": "stdout",
     "output_type": "stream",
     "text": [
      "New number of sections: 4318\n"
     ]
    }
   ],
   "source": [
    "print(\"New number of sections: \" + str(edges_topo.id.count()))"
   ]
  },
  {
   "cell_type": "code",
   "execution_count": 9,
   "metadata": {
    "scrolled": false
   },
   "outputs": [],
   "source": [
    "# Uncomment to render the data\n",
    "\n",
    "# map_1 = KeplerGl(height=1000)\n",
    "# map_1.add_data(data=Aimsun_sections, name = \"sections\")\n",
    "# map_1.add_data(data=Aimsun_nodes, name = \"nodes\")\n",
    "# map_1"
   ]
  },
  {
   "cell_type": "markdown",
   "metadata": {},
   "source": [
    "## Loading and Processing the Point of Interests\n",
    "<a id=\"POIs\"> </a>"
   ]
  },
  {
   "cell_type": "code",
   "execution_count": 10,
   "metadata": {},
   "outputs": [
    {
     "data": {
      "text/html": [
       "<div>\n",
       "<style scoped>\n",
       "    .dataframe tbody tr th:only-of-type {\n",
       "        vertical-align: middle;\n",
       "    }\n",
       "\n",
       "    .dataframe tbody tr th {\n",
       "        vertical-align: top;\n",
       "    }\n",
       "\n",
       "    .dataframe thead th {\n",
       "        text-align: right;\n",
       "    }\n",
       "</style>\n",
       "<table border=\"1\" class=\"dataframe\">\n",
       "  <thead>\n",
       "    <tr style=\"text-align: right;\">\n",
       "      <th></th>\n",
       "      <th>Unnamed: 0</th>\n",
       "      <th>Names</th>\n",
       "      <th>Types</th>\n",
       "      <th>Lat</th>\n",
       "      <th>Long</th>\n",
       "      <th>geometry</th>\n",
       "    </tr>\n",
       "  </thead>\n",
       "  <tbody>\n",
       "    <tr>\n",
       "      <th>0</th>\n",
       "      <td>0</td>\n",
       "      <td>Fremont</td>\n",
       "      <td>['locality', 'political']</td>\n",
       "      <td>37.548540</td>\n",
       "      <td>-121.988583</td>\n",
       "      <td>POINT (-121.98858 37.54854)</td>\n",
       "    </tr>\n",
       "    <tr>\n",
       "      <th>1</th>\n",
       "      <td>1</td>\n",
       "      <td>ProCreativeWriters</td>\n",
       "      <td>['point_of_interest', 'establishment']</td>\n",
       "      <td>37.504377</td>\n",
       "      <td>-121.964423</td>\n",
       "      <td>POINT (-121.96442 37.50438)</td>\n",
       "    </tr>\n",
       "    <tr>\n",
       "      <th>2</th>\n",
       "      <td>2</td>\n",
       "      <td>Baylands</td>\n",
       "      <td>['neighborhood', 'political']</td>\n",
       "      <td>37.485034</td>\n",
       "      <td>-121.964375</td>\n",
       "      <td>POINT (-121.96437 37.48503)</td>\n",
       "    </tr>\n",
       "  </tbody>\n",
       "</table>\n",
       "</div>"
      ],
      "text/plain": [
       "   Unnamed: 0               Names                                   Types  \\\n",
       "0           0             Fremont               ['locality', 'political']   \n",
       "1           1  ProCreativeWriters  ['point_of_interest', 'establishment']   \n",
       "2           2            Baylands           ['neighborhood', 'political']   \n",
       "\n",
       "         Lat        Long                     geometry  \n",
       "0  37.548540 -121.988583  POINT (-121.98858 37.54854)  \n",
       "1  37.504377 -121.964423  POINT (-121.96442 37.50438)  \n",
       "2  37.485034 -121.964375  POINT (-121.96437 37.48503)  "
      ]
     },
     "execution_count": 10,
     "metadata": {},
     "output_type": "execute_result"
    }
   ],
   "source": [
    "#Point of Interests scraped from Google API\n",
    "POIs = pd.read_csv(data_path + \"/Data processing/Raw/Network/KPIs/locations_crawl.csv\")\n",
    "# Creating a Geographic data frame for Point of Interests\n",
    "POIs_gdf = gpd.GeoDataFrame(POIs, crs=crs_degree, geometry=gpd.points_from_xy(POIs.Long, POIs.Lat))\n",
    "\n",
    "POIs_gdf.head(3)"
   ]
  },
  {
   "cell_type": "code",
   "execution_count": 12,
   "metadata": {},
   "outputs": [],
   "source": [
    "nodes = Aimsun_nodes[['id']].astype(int)\n",
    "nodes['x'] = Aimsun_nodes.geometry.x\n",
    "nodes['y'] = Aimsun_nodes.geometry.y\n",
    "nodes = nodes.rename(columns={\"id\": \"id_node\"})"
   ]
  },
  {
   "cell_type": "code",
   "execution_count": 13,
   "metadata": {},
   "outputs": [
    {
     "name": "stdout",
     "output_type": "stream",
     "text": [
      "Sections\n",
      "    id  id_node_source  id_node_target  capacity  speed\n",
      "0  242            9845            9923      2100    120\n",
      "1  243            9852            9848      6300    104\n",
      "2  244            9850            9852      6300    104\n",
      "\n",
      "Nodes\n",
      "   id_node           x          y\n",
      "0     9845 -121.922491  37.495935\n",
      "1     9848 -121.921727  37.494013\n",
      "2     9850 -121.923525  37.495613\n"
     ]
    }
   ],
   "source": [
    "print(\"Sections\")\n",
    "print(edges_topo.head(3))\n",
    "print()\n",
    "print(\"Nodes\")\n",
    "print(nodes.head(3))"
   ]
  },
  {
   "cell_type": "code",
   "execution_count": 50,
   "metadata": {},
   "outputs": [
    {
     "name": "stdout",
     "output_type": "stream",
     "text": [
      "Number of sections: 4318\n",
      "Number of nodes: 2013\n",
      "Number of end nodes: 2000\n",
      "Number of start nodes: 2000\n"
     ]
    }
   ],
   "source": [
    "print(\"Number of sections: \" + str(edges_topo.id.count()))\n",
    "print(\"Number of nodes: \" + str(nodes.id_node.count()))\n",
    "\n",
    "print(\"Number of end nodes: \" + str(edges_topo.id_node_target.unique().shape[0]))\n",
    "print(\"Number of start nodes: \" + str(edges_topo.id_node_source.unique().shape[0]))"
   ]
  },
  {
   "cell_type": "markdown",
   "metadata": {},
   "source": [
    "## Loading simulation results"
   ]
  },
  {
   "cell_type": "markdown",
   "metadata": {},
   "source": [
    "### To do: \n",
    "1. Check MISECT DATABASE instead of MISECTTrajectory"
   ]
  },
  {
   "cell_type": "code",
   "execution_count": 51,
   "metadata": {},
   "outputs": [],
   "source": [
    "vehSectTraj = pd.read_csv(data_path + '/Aimsun/Outputs/vehSectTrajectory.csv')"
   ]
  },
  {
   "cell_type": "code",
   "execution_count": 52,
   "metadata": {},
   "outputs": [
    {
     "name": "stdout",
     "output_type": "stream",
     "text": [
      "Number of datapoints in the simulation: : 1539569\n",
      "Number of sections in the simulation: : 3073\n"
     ]
    },
    {
     "data": {
      "text/html": [
       "<div>\n",
       "<style scoped>\n",
       "    .dataframe tbody tr th:only-of-type {\n",
       "        vertical-align: middle;\n",
       "    }\n",
       "\n",
       "    .dataframe tbody tr th {\n",
       "        vertical-align: top;\n",
       "    }\n",
       "\n",
       "    .dataframe thead th {\n",
       "        text-align: right;\n",
       "    }\n",
       "</style>\n",
       "<table border=\"1\" class=\"dataframe\">\n",
       "  <thead>\n",
       "    <tr style=\"text-align: right;\">\n",
       "      <th></th>\n",
       "      <th>Unnamed: 0</th>\n",
       "      <th>did</th>\n",
       "      <th>oid</th>\n",
       "      <th>ent</th>\n",
       "      <th>sectionId</th>\n",
       "      <th>exitTime</th>\n",
       "      <th>travelTime</th>\n",
       "      <th>delayTime</th>\n",
       "    </tr>\n",
       "  </thead>\n",
       "  <tbody>\n",
       "    <tr>\n",
       "      <th>0</th>\n",
       "      <td>0</td>\n",
       "      <td>27989</td>\n",
       "      <td>1</td>\n",
       "      <td>1</td>\n",
       "      <td>2873</td>\n",
       "      <td>50420.3</td>\n",
       "      <td>19.33450</td>\n",
       "      <td>0.000000</td>\n",
       "    </tr>\n",
       "    <tr>\n",
       "      <th>1</th>\n",
       "      <td>1</td>\n",
       "      <td>27989</td>\n",
       "      <td>1</td>\n",
       "      <td>2</td>\n",
       "      <td>2874</td>\n",
       "      <td>50433.3</td>\n",
       "      <td>12.74100</td>\n",
       "      <td>0.065405</td>\n",
       "    </tr>\n",
       "    <tr>\n",
       "      <th>2</th>\n",
       "      <td>2</td>\n",
       "      <td>27989</td>\n",
       "      <td>1</td>\n",
       "      <td>3</td>\n",
       "      <td>2880</td>\n",
       "      <td>50435.1</td>\n",
       "      <td>1.84495</td>\n",
       "      <td>0.000000</td>\n",
       "    </tr>\n",
       "    <tr>\n",
       "      <th>3</th>\n",
       "      <td>3</td>\n",
       "      <td>27989</td>\n",
       "      <td>1</td>\n",
       "      <td>4</td>\n",
       "      <td>7155</td>\n",
       "      <td>50444.2</td>\n",
       "      <td>9.11629</td>\n",
       "      <td>0.000000</td>\n",
       "    </tr>\n",
       "    <tr>\n",
       "      <th>4</th>\n",
       "      <td>4</td>\n",
       "      <td>27989</td>\n",
       "      <td>1</td>\n",
       "      <td>5</td>\n",
       "      <td>9212</td>\n",
       "      <td>50447.5</td>\n",
       "      <td>3.23939</td>\n",
       "      <td>0.000000</td>\n",
       "    </tr>\n",
       "  </tbody>\n",
       "</table>\n",
       "</div>"
      ],
      "text/plain": [
       "   Unnamed: 0    did  oid  ent  sectionId  exitTime  travelTime  delayTime\n",
       "0           0  27989    1    1       2873   50420.3    19.33450   0.000000\n",
       "1           1  27989    1    2       2874   50433.3    12.74100   0.065405\n",
       "2           2  27989    1    3       2880   50435.1     1.84495   0.000000\n",
       "3           3  27989    1    4       7155   50444.2     9.11629   0.000000\n",
       "4           4  27989    1    5       9212   50447.5     3.23939   0.000000"
      ]
     },
     "execution_count": 52,
     "metadata": {},
     "output_type": "execute_result"
    }
   ],
   "source": [
    "print(\"Number of datapoints in the simulation: : \" + str(len(vehSectTraj)))\n",
    "print(\"Number of sections in the simulation: : \" + str(vehSectTraj.sectionId.unique().shape[0]))\n",
    "\n",
    "vehSectTraj.head()"
   ]
  },
  {
   "cell_type": "code",
   "execution_count": 53,
   "metadata": {},
   "outputs": [
    {
     "name": "stdout",
     "output_type": "stream",
     "text": [
      "6730.82\n",
      "21.536573605930496\n"
     ]
    }
   ],
   "source": [
    "max_tt = vehSectTraj.travelTime.max()\n",
    "mean_tt = vehSectTraj.travelTime.mean()\n",
    "\n",
    "print(max_tt)\n",
    "print(mean_tt)"
   ]
  },
  {
   "cell_type": "code",
   "execution_count": 54,
   "metadata": {},
   "outputs": [
    {
     "data": {
      "text/html": [
       "<div>\n",
       "<style scoped>\n",
       "    .dataframe tbody tr th:only-of-type {\n",
       "        vertical-align: middle;\n",
       "    }\n",
       "\n",
       "    .dataframe tbody tr th {\n",
       "        vertical-align: top;\n",
       "    }\n",
       "\n",
       "    .dataframe thead th {\n",
       "        text-align: right;\n",
       "    }\n",
       "</style>\n",
       "<table border=\"1\" class=\"dataframe\">\n",
       "  <thead>\n",
       "    <tr style=\"text-align: right;\">\n",
       "      <th></th>\n",
       "      <th>Unnamed: 0</th>\n",
       "      <th>did</th>\n",
       "      <th>oid</th>\n",
       "      <th>ent</th>\n",
       "      <th>exitTime</th>\n",
       "      <th>travelTime</th>\n",
       "      <th>delayTime</th>\n",
       "    </tr>\n",
       "    <tr>\n",
       "      <th>sectionId</th>\n",
       "      <th></th>\n",
       "      <th></th>\n",
       "      <th></th>\n",
       "      <th></th>\n",
       "      <th></th>\n",
       "      <th></th>\n",
       "      <th></th>\n",
       "    </tr>\n",
       "  </thead>\n",
       "  <tbody>\n",
       "    <tr>\n",
       "      <th>242</th>\n",
       "      <td>5.323860e+05</td>\n",
       "      <td>27989.0</td>\n",
       "      <td>19612.531982</td>\n",
       "      <td>24.076351</td>\n",
       "      <td>59995.530405</td>\n",
       "      <td>26.016289</td>\n",
       "      <td>19.982331</td>\n",
       "    </tr>\n",
       "    <tr>\n",
       "      <th>243</th>\n",
       "      <td>6.488195e+05</td>\n",
       "      <td>27989.0</td>\n",
       "      <td>24440.117725</td>\n",
       "      <td>17.790915</td>\n",
       "      <td>61953.610201</td>\n",
       "      <td>6.407848</td>\n",
       "      <td>0.116653</td>\n",
       "    </tr>\n",
       "    <tr>\n",
       "      <th>244</th>\n",
       "      <td>6.492795e+05</td>\n",
       "      <td>27989.0</td>\n",
       "      <td>24459.738245</td>\n",
       "      <td>16.789826</td>\n",
       "      <td>61953.859779</td>\n",
       "      <td>1.824515</td>\n",
       "      <td>0.079628</td>\n",
       "    </tr>\n",
       "    <tr>\n",
       "      <th>248</th>\n",
       "      <td>9.508395e+05</td>\n",
       "      <td>27989.0</td>\n",
       "      <td>37096.313725</td>\n",
       "      <td>3.000000</td>\n",
       "      <td>64670.654902</td>\n",
       "      <td>11.845910</td>\n",
       "      <td>8.478374</td>\n",
       "    </tr>\n",
       "    <tr>\n",
       "      <th>249</th>\n",
       "      <td>1.174674e+06</td>\n",
       "      <td>27989.0</td>\n",
       "      <td>44143.833333</td>\n",
       "      <td>29.333333</td>\n",
       "      <td>67056.750000</td>\n",
       "      <td>5.157480</td>\n",
       "      <td>2.083440</td>\n",
       "    </tr>\n",
       "  </tbody>\n",
       "</table>\n",
       "</div>"
      ],
      "text/plain": [
       "             Unnamed: 0      did           oid        ent      exitTime  \\\n",
       "sectionId                                                                 \n",
       "242        5.323860e+05  27989.0  19612.531982  24.076351  59995.530405   \n",
       "243        6.488195e+05  27989.0  24440.117725  17.790915  61953.610201   \n",
       "244        6.492795e+05  27989.0  24459.738245  16.789826  61953.859779   \n",
       "248        9.508395e+05  27989.0  37096.313725   3.000000  64670.654902   \n",
       "249        1.174674e+06  27989.0  44143.833333  29.333333  67056.750000   \n",
       "\n",
       "           travelTime  delayTime  \n",
       "sectionId                         \n",
       "242         26.016289  19.982331  \n",
       "243          6.407848   0.116653  \n",
       "244          1.824515   0.079628  \n",
       "248         11.845910   8.478374  \n",
       "249          5.157480   2.083440  "
      ]
     },
     "execution_count": 54,
     "metadata": {},
     "output_type": "execute_result"
    }
   ],
   "source": [
    "# Would be changed depending on the specific scenario: currently, I am using the travelTime of each section by the first car\n",
    "vehSectTraj_temp = vehSectTraj.groupby(\"sectionId\").mean() # was first before\n",
    "\n",
    "vehSectTraj_temp.head()"
   ]
  },
  {
   "cell_type": "code",
   "execution_count": 64,
   "metadata": {},
   "outputs": [
    {
     "name": "stdout",
     "output_type": "stream",
     "text": [
      "     id  id_node_source  id_node_target  capacity  speed  Unnamed: 0  did  \\\n",
      "18  268            9957           14770       700     50         NaN  NaN   \n",
      "19  270           14770            9957       700     50         NaN  NaN   \n",
      "\n",
      "    oid  ent  exitTime  travelTime  delayTime  \n",
      "18  NaN  NaN       NaN   21.536574        NaN  \n",
      "19  NaN  NaN       NaN   21.536574        NaN  \n",
      "    id  id_node_source  id_node_target  capacity  speed     Unnamed: 0  \\\n",
      "0  242            9845            9923      2100    120  532386.041892   \n",
      "1  243            9852            9848      6300    104  648819.540560   \n",
      "\n",
      "       did           oid        ent      exitTime  travelTime  delayTime  \n",
      "0  27989.0  19612.531982  24.076351  59995.530405   26.016289  19.982331  \n",
      "1  27989.0  24440.117725  17.790915  61953.610201    6.407848   0.116653  \n"
     ]
    }
   ],
   "source": [
    "edge_weighted = pd.merge(edges_topo,\n",
    "                           vehSectTraj_temp,\n",
    "                           left_on='id',\n",
    "                           right_on='sectionId',\n",
    "                           how='left',\n",
    "                           sort=True)\n",
    "\n",
    "edge_weighted.travelTime.fillna(mean_tt, inplace = True)\n",
    "\n",
    "# print(edge_weighted[edge_weighted.travelTime.isna()].head())\n",
    "print(edge_weighted[edge_weighted.exitTime.isna()].head(2))\n",
    "print(edge_weighted.head(2))"
   ]
  },
  {
   "cell_type": "code",
   "execution_count": 66,
   "metadata": {},
   "outputs": [],
   "source": [
    "## Side work: plot sections that are not used\n",
    "\n",
    "# Aimsun_sections_simulation = pd.merge(Aimsun_sections,\n",
    "#                            vehSectTraj_temp,\n",
    "#                            left_on='id',\n",
    "#                            right_on='sectionId',\n",
    "#                            how='left',\n",
    "#                            sort=True)\n",
    "\n",
    "# map_1 = KeplerGl(height=1000)\n",
    "# map_1.add_data(data=Aimsun_sections_simulation[Aimsun_sections_simulation.travelTime.isnull()], name = \"Sections without traffic\")\n",
    "# map_1.add_data(data=Aimsun_sections_simulation[Aimsun_sections_simulation.travelTime.notna()], name = \"Sections with traffic\")\n",
    "# map_1"
   ]
  },
  {
   "cell_type": "markdown",
   "metadata": {},
   "source": [
    "## To do: fix the code such that the two numbers below are equal"
   ]
  },
  {
   "cell_type": "code",
   "execution_count": 69,
   "metadata": {},
   "outputs": [
    {
     "name": "stdout",
     "output_type": "stream",
     "text": [
      "Number of Aimsun sections: 5626\n",
      "Number of sections used (after dropna in Aimsun section): 4318\n",
      "Number of sections with travel time after adding simulation values: 2391\n",
      "Number of sections with travel time after adding mean to NaN values: 4318\n"
     ]
    }
   ],
   "source": [
    "print(\"Number of Aimsun sections: \" + str(Aimsun_sections.id.count()))\n",
    "print(\"Number of sections used (after dropna in Aimsun section): \" + str(edge_weighted.id.count()))\n",
    "print(\"Number of sections with travel time after adding simulation values: \" + str(edge_weighted.delayTime.count()))\n",
    "print(\"Number of sections with travel time after adding mean to NaN values: \" + str(edge_weighted.travelTime.count()))\n"
   ]
  },
  {
   "cell_type": "code",
   "execution_count": null,
   "metadata": {},
   "outputs": [],
   "source": []
  },
  {
   "cell_type": "markdown",
   "metadata": {},
   "source": [
    "## Loading the edge weights into the Pandana network sections\n",
    "## To do: put this later because Theo does not have pandana, and would like to be able to run everything without having errors (but it after BFS with Networkx\n",
    "<a id=\"sim_results\"> </a>"
   ]
  },
  {
   "cell_type": "code",
   "execution_count": null,
   "metadata": {},
   "outputs": [],
   "source": [
    "# This is not correct\n",
    "edge_weighted = edge_weighted[edge_weighted.travelTime.notna()]"
   ]
  },
  {
   "cell_type": "code",
   "execution_count": null,
   "metadata": {},
   "outputs": [],
   "source": [
    "print(nodes_gdf[\"x\"].count())"
   ]
  },
  {
   "cell_type": "code",
   "execution_count": null,
   "metadata": {},
   "outputs": [],
   "source": [
    "#initialize the Pandana network \n",
    "net = pdna.Network(node_x = nodes_gdf[\"x\"],\n",
    "                   node_y = nodes_gdf[\"y\"],\n",
    "                   edge_from = edge_weighted[\"id_node_source\"], \n",
    "                   edge_to = edge_weighted[\"id_node_target\"],\n",
    "                   edge_weights = edge_weighted[[\"travelTime\"]])"
   ]
  },
  {
   "cell_type": "code",
   "execution_count": null,
   "metadata": {},
   "outputs": [],
   "source": [
    "#scraped Point of Interests in Fremont Area\n",
    "POIs_gdf.head()"
   ]
  },
  {
   "cell_type": "code",
   "execution_count": null,
   "metadata": {},
   "outputs": [],
   "source": [
    "#only keep the POIs within Aimsun network\n",
    "bounding_box = Aimsun_sections.unary_union.envelope\n",
    "tem_df = gpd.GeoDataFrame(gpd.GeoSeries(bounding_box), columns=['geometry'])\n",
    "intersections = gpd.overlay(POIs_gdf, tem_df, how='intersection')"
   ]
  },
  {
   "cell_type": "code",
   "execution_count": null,
   "metadata": {},
   "outputs": [],
   "source": [
    "#save the scraped Point of Interests to shapefile\n",
    "intersections.to_file(driver = 'ESRI Shapefile', filename= data_path + \"/Data processing/Raw/Network/Aimsun/POI.shp\")"
   ]
  },
  {
   "cell_type": "code",
   "execution_count": null,
   "metadata": {},
   "outputs": [],
   "source": [
    "#visualize the POIs \n",
    "map_2 = KeplerGl(height=1000)\n",
    "map_2.add_data(data=intersections, name = \"Point Of Interests\")\n",
    "map_2.add_data(data=Aimsun_sections, name = \"sections\")\n",
    "map_2.add_data(data=Aimsun_nodes, name = \"nodes\")\n",
    "map_2\n",
    "\n",
    "\n"
   ]
  },
  {
   "cell_type": "markdown",
   "metadata": {},
   "source": [
    "## Assign each POI to corresponding nearest Aimsun node\n",
    "<a id=\"matching\"> </a>"
   ]
  },
  {
   "cell_type": "markdown",
   "metadata": {},
   "source": [
    "## To do: Maybe KDTree can be done without loading the network in Pandana"
   ]
  },
  {
   "cell_type": "code",
   "execution_count": null,
   "metadata": {},
   "outputs": [],
   "source": [
    "#get_node_ids uses the KDTree from scipy --> Make it explicit that this is the important line here\n",
    "near_ids = net.get_node_ids(intersections['Long'],\n",
    "                            intersections['Lat'])\n",
    "\n",
    "# Set the response as a new column on the POI reference df\n",
    "intersections['nearest_node_id'] = near_ids"
   ]
  },
  {
   "cell_type": "code",
   "execution_count": null,
   "metadata": {},
   "outputs": [],
   "source": [
    "nodes_gdf.index = range(len(nodes_gdf))"
   ]
  },
  {
   "cell_type": "code",
   "execution_count": null,
   "metadata": {},
   "outputs": [],
   "source": [
    "# Create a merged dataframe that holds the node data (esp. x and y values)\n",
    "# that relate to each nearest neighbor of each POI\n",
    "nearest_to_pois = pd.merge(intersections,\n",
    "                           nodes_gdf,\n",
    "                           left_on='nearest_node_id',\n",
    "                           right_on='id_node',\n",
    "                           how='left',\n",
    "                           sort=False,\n",
    "                           suffixes=['_from', '_to'])"
   ]
  },
  {
   "cell_type": "code",
   "execution_count": null,
   "metadata": {},
   "outputs": [],
   "source": [
    "#showing how each POI is matched to the nearest node id\n",
    "nearest_to_pois.head(5)"
   ]
  },
  {
   "cell_type": "code",
   "execution_count": null,
   "metadata": {},
   "outputs": [],
   "source": [
    "POI_matching_lines = []\n",
    "for row_id, row in nearest_to_pois.iterrows():\n",
    "    linestr = LineString([(row['geometry'].x, row['geometry'].y),\n",
    "                          (row['x'], row['y'])]).buffer(0.000001)\n",
    "    POI_matching_lines.append(linestr)\n",
    "    "
   ]
  },
  {
   "cell_type": "code",
   "execution_count": null,
   "metadata": {},
   "outputs": [],
   "source": [
    "POI_matching_lines_gdf = pd.DataFrame({'geometry':POI_matching_lines})\n",
    "POI_matching_lines_gdf = gpd.GeoDataFrame(POI_matching_lines_gdf, crs=crs)"
   ]
  },
  {
   "cell_type": "code",
   "execution_count": null,
   "metadata": {},
   "outputs": [],
   "source": [
    "POI_matching_lines_gdf.head(5)"
   ]
  },
  {
   "cell_type": "code",
   "execution_count": null,
   "metadata": {
    "scrolled": false
   },
   "outputs": [],
   "source": [
    "map_4 = KeplerGl(height=1000)\n",
    "map_4.add_data(data=POI_matching_lines_gdf, name = \"POI matching nodes\")\n",
    "map_4.add_data(data=intersections, name = \"Point Of Interests\")\n",
    "map_4.add_data(data=Aimsun_sections, name = \"sections\")\n",
    "map_4.add_data(data=Aimsun_nodes, name = \"nodes\")\n",
    "\n",
    "map_4"
   ]
  },
  {
   "cell_type": "code",
   "execution_count": null,
   "metadata": {},
   "outputs": [],
   "source": [
    "#Set the location of all the pois of this category. maxdist is the maximum distance that will \n",
    "#later be used in find_all_nearest_pois, and maxitems - the maximum number of items that will \n",
    "#later be requested in find_all_nearest_pois\n",
    "\n",
    "#\n",
    "net.set_pois(\"All\", 300, 20, intersections['Long'], intersections['Lat'])\n",
    "\n",
    "#Find the distance to the nearest pois from each source node. \n",
    "#The bigger values in this case mean less accessibility.\n",
    "access = net.nearest_pois(300, \"All\", num_pois=10)"
   ]
  },
  {
   "cell_type": "code",
   "execution_count": null,
   "metadata": {
    "scrolled": true
   },
   "outputs": [],
   "source": [
    "access.head()"
   ]
  },
  {
   "cell_type": "markdown",
   "metadata": {},
   "source": [
    "# Accessibility visualization Measures\n",
    "<a id=\"accessibility\"> </a>"
   ]
  },
  {
   "cell_type": "code",
   "execution_count": null,
   "metadata": {},
   "outputs": [],
   "source": [
    "n = 1\n",
    "temp_access = access[[n]]\n",
    "nodes_gdf['cost'] = access[n] \n",
    "nodes_gdf.cost[:] = access[n]"
   ]
  },
  {
   "cell_type": "markdown",
   "metadata": {},
   "source": [
    "## Remark from Theo, I really do not understand why you remove geometry from Aimsun_node to add column x and y, and then add geometry again?\n",
    "is it because of pandana?"
   ]
  },
  {
   "cell_type": "code",
   "execution_count": null,
   "metadata": {},
   "outputs": [],
   "source": [
    "nodes_gdf['geometry'] = [Point(xy) for xy in zip(nodes_gdf['x'], nodes_gdf['y'])]\n",
    "nodes_gdf = gpd.GeoDataFrame(nodes_gdf, crs=crs)"
   ]
  },
  {
   "cell_type": "code",
   "execution_count": null,
   "metadata": {},
   "outputs": [],
   "source": [
    "nodes_gdf.head()\n",
    "\n",
    "#manually create the bins for the dataset only for visualization"
   ]
  },
  {
   "cell_type": "code",
   "execution_count": null,
   "metadata": {},
   "outputs": [],
   "source": [
    "nodes_gdf['cost'].describe()"
   ]
  },
  {
   "cell_type": "code",
   "execution_count": null,
   "metadata": {
    "scrolled": false
   },
   "outputs": [],
   "source": [
    "map_5 = KeplerGl(height=600)\n",
    "#map_5.add_data(data=Aimsun_nodes, name = \"nodes\")\n",
    "map_5.add_data(data=nodes_gdf[nodes_gdf['cost']>20], name = \"accessibility heatmap\")\n",
    "map_5.add_data(data=nodes_gdf[nodes_gdf['cost']<=20], name = \"accessibility heatmap_s\")\n",
    "#need manually change to heatmap and let the radius depends on accessibility level\n",
    "map_5"
   ]
  },
  {
   "cell_type": "code",
   "execution_count": null,
   "metadata": {},
   "outputs": [],
   "source": [
    "net.set_pois(\"POIs\", 300, 20, intersections['Long'], intersections['Lat'])\n",
    "\n",
    "# access = net.nearest_pois(300, \"restaurants\", num_pois=10)\n",
    "\n",
    "# x, y = buildings.x, buildings.y\n",
    "# buildings[\"node_ids\"] = net.get_node_ids(x, y)\n",
    "# net.set(node_ids, variable=buildings.square_footage, name=\"square_footage\")\n",
    "# net.set(node_ids, variable=buildings.residential_units,\n",
    "#         name=\"residential_units\")"
   ]
  },
  {
   "cell_type": "code",
   "execution_count": null,
   "metadata": {},
   "outputs": [],
   "source": []
  },
  {
   "cell_type": "code",
   "execution_count": null,
   "metadata": {},
   "outputs": [],
   "source": []
  },
  {
   "cell_type": "code",
   "execution_count": null,
   "metadata": {
    "scrolled": true
   },
   "outputs": [],
   "source": [
    "net.set(intersections['nearest_node_id']) #variable=intersections['count']\n",
    "aggregated = net.aggregate(60, type='sum', decay='flat') #, imp_name=None, name='tmp'\n",
    "aggregated"
   ]
  },
  {
   "cell_type": "code",
   "execution_count": null,
   "metadata": {},
   "outputs": [],
   "source": [
    "aggregated.index = range(len(aggregated))"
   ]
  },
  {
   "cell_type": "code",
   "execution_count": null,
   "metadata": {},
   "outputs": [],
   "source": [
    "nodes_gdf.join(aggregated.to_frame())"
   ]
  },
  {
   "cell_type": "code",
   "execution_count": null,
   "metadata": {},
   "outputs": [],
   "source": [
    "aggregated.index = range(len(aggregated))\n",
    "joined = nodes_gdf.join(aggregated.to_frame())\n",
    "joined = joined.rename(columns={0:'access_level'})\n",
    "#joined.plot(column='access_level', cmap='OrRd', figsize=(7, 7))"
   ]
  },
  {
   "cell_type": "code",
   "execution_count": null,
   "metadata": {},
   "outputs": [],
   "source": [
    "joined.head()"
   ]
  },
  {
   "cell_type": "code",
   "execution_count": null,
   "metadata": {},
   "outputs": [],
   "source": []
  },
  {
   "cell_type": "code",
   "execution_count": null,
   "metadata": {
    "scrolled": false
   },
   "outputs": [],
   "source": [
    "map_6 = KeplerGl(height=600)\n",
    "map_6.add_data(data=joined[joined['access_level'] < 20], name = \"aggregated accessibility heatmap_1\")\n",
    "map_6.add_data(data=joined[joined['access_level']>=20], name = \"aggregated accessibility heatmap_2\")\n",
    "\n",
    "map_6"
   ]
  },
  {
   "cell_type": "markdown",
   "metadata": {},
   "source": [
    "## Creating accessibility isochrone with networkx\n",
    "<a id=\"isochrone\"> </a>"
   ]
  },
  {
   "cell_type": "code",
   "execution_count": 70,
   "metadata": {},
   "outputs": [],
   "source": [
    "G = nx.Graph()"
   ]
  },
  {
   "cell_type": "code",
   "execution_count": 71,
   "metadata": {
    "scrolled": true
   },
   "outputs": [
    {
     "data": {
      "text/html": [
       "<div>\n",
       "<style scoped>\n",
       "    .dataframe tbody tr th:only-of-type {\n",
       "        vertical-align: middle;\n",
       "    }\n",
       "\n",
       "    .dataframe tbody tr th {\n",
       "        vertical-align: top;\n",
       "    }\n",
       "\n",
       "    .dataframe thead th {\n",
       "        text-align: right;\n",
       "    }\n",
       "</style>\n",
       "<table border=\"1\" class=\"dataframe\">\n",
       "  <thead>\n",
       "    <tr style=\"text-align: right;\">\n",
       "      <th></th>\n",
       "      <th>id</th>\n",
       "      <th>id_node_source</th>\n",
       "      <th>id_node_target</th>\n",
       "      <th>capacity</th>\n",
       "      <th>speed</th>\n",
       "      <th>Unnamed: 0</th>\n",
       "      <th>did</th>\n",
       "      <th>oid</th>\n",
       "      <th>ent</th>\n",
       "      <th>exitTime</th>\n",
       "      <th>travelTime</th>\n",
       "      <th>delayTime</th>\n",
       "    </tr>\n",
       "  </thead>\n",
       "  <tbody>\n",
       "    <tr>\n",
       "      <th>0</th>\n",
       "      <td>242</td>\n",
       "      <td>9845</td>\n",
       "      <td>9923</td>\n",
       "      <td>2100</td>\n",
       "      <td>120</td>\n",
       "      <td>5.323860e+05</td>\n",
       "      <td>27989.0</td>\n",
       "      <td>19612.531982</td>\n",
       "      <td>24.076351</td>\n",
       "      <td>59995.530405</td>\n",
       "      <td>26.016289</td>\n",
       "      <td>19.982331</td>\n",
       "    </tr>\n",
       "    <tr>\n",
       "      <th>1</th>\n",
       "      <td>243</td>\n",
       "      <td>9852</td>\n",
       "      <td>9848</td>\n",
       "      <td>6300</td>\n",
       "      <td>104</td>\n",
       "      <td>6.488195e+05</td>\n",
       "      <td>27989.0</td>\n",
       "      <td>24440.117725</td>\n",
       "      <td>17.790915</td>\n",
       "      <td>61953.610201</td>\n",
       "      <td>6.407848</td>\n",
       "      <td>0.116653</td>\n",
       "    </tr>\n",
       "    <tr>\n",
       "      <th>2</th>\n",
       "      <td>244</td>\n",
       "      <td>9850</td>\n",
       "      <td>9852</td>\n",
       "      <td>6300</td>\n",
       "      <td>104</td>\n",
       "      <td>6.492795e+05</td>\n",
       "      <td>27989.0</td>\n",
       "      <td>24459.738245</td>\n",
       "      <td>16.789826</td>\n",
       "      <td>61953.859779</td>\n",
       "      <td>1.824515</td>\n",
       "      <td>0.079628</td>\n",
       "    </tr>\n",
       "    <tr>\n",
       "      <th>3</th>\n",
       "      <td>248</td>\n",
       "      <td>9881</td>\n",
       "      <td>15043</td>\n",
       "      <td>700</td>\n",
       "      <td>50</td>\n",
       "      <td>9.508395e+05</td>\n",
       "      <td>27989.0</td>\n",
       "      <td>37096.313725</td>\n",
       "      <td>3.000000</td>\n",
       "      <td>64670.654902</td>\n",
       "      <td>11.845910</td>\n",
       "      <td>8.478374</td>\n",
       "    </tr>\n",
       "    <tr>\n",
       "      <th>4</th>\n",
       "      <td>249</td>\n",
       "      <td>15043</td>\n",
       "      <td>9881</td>\n",
       "      <td>700</td>\n",
       "      <td>50</td>\n",
       "      <td>1.174674e+06</td>\n",
       "      <td>27989.0</td>\n",
       "      <td>44143.833333</td>\n",
       "      <td>29.333333</td>\n",
       "      <td>67056.750000</td>\n",
       "      <td>5.157480</td>\n",
       "      <td>2.083440</td>\n",
       "    </tr>\n",
       "  </tbody>\n",
       "</table>\n",
       "</div>"
      ],
      "text/plain": [
       "    id  id_node_source  id_node_target  capacity  speed    Unnamed: 0  \\\n",
       "0  242            9845            9923      2100    120  5.323860e+05   \n",
       "1  243            9852            9848      6300    104  6.488195e+05   \n",
       "2  244            9850            9852      6300    104  6.492795e+05   \n",
       "3  248            9881           15043       700     50  9.508395e+05   \n",
       "4  249           15043            9881       700     50  1.174674e+06   \n",
       "\n",
       "       did           oid        ent      exitTime  travelTime  delayTime  \n",
       "0  27989.0  19612.531982  24.076351  59995.530405   26.016289  19.982331  \n",
       "1  27989.0  24440.117725  17.790915  61953.610201    6.407848   0.116653  \n",
       "2  27989.0  24459.738245  16.789826  61953.859779    1.824515   0.079628  \n",
       "3  27989.0  37096.313725   3.000000  64670.654902   11.845910   8.478374  \n",
       "4  27989.0  44143.833333  29.333333  67056.750000    5.157480   2.083440  "
      ]
     },
     "execution_count": 71,
     "metadata": {},
     "output_type": "execute_result"
    }
   ],
   "source": [
    "edge_weighted.head(5)"
   ]
  },
  {
   "cell_type": "markdown",
   "metadata": {},
   "source": [
    "## Mark!!!"
   ]
  },
  {
   "cell_type": "markdown",
   "metadata": {},
   "source": [
    "## To do: use the function from_pandas_dataframe"
   ]
  },
  {
   "cell_type": "code",
   "execution_count": 72,
   "metadata": {},
   "outputs": [
    {
     "data": {
      "text/html": [
       "<div>\n",
       "<style scoped>\n",
       "    .dataframe tbody tr th:only-of-type {\n",
       "        vertical-align: middle;\n",
       "    }\n",
       "\n",
       "    .dataframe tbody tr th {\n",
       "        vertical-align: top;\n",
       "    }\n",
       "\n",
       "    .dataframe thead th {\n",
       "        text-align: right;\n",
       "    }\n",
       "</style>\n",
       "<table border=\"1\" class=\"dataframe\">\n",
       "  <thead>\n",
       "    <tr style=\"text-align: right;\">\n",
       "      <th></th>\n",
       "      <th>id_node</th>\n",
       "      <th>x</th>\n",
       "      <th>y</th>\n",
       "    </tr>\n",
       "  </thead>\n",
       "  <tbody>\n",
       "    <tr>\n",
       "      <th>0</th>\n",
       "      <td>9845</td>\n",
       "      <td>-121.922491</td>\n",
       "      <td>37.495935</td>\n",
       "    </tr>\n",
       "    <tr>\n",
       "      <th>1</th>\n",
       "      <td>9848</td>\n",
       "      <td>-121.921727</td>\n",
       "      <td>37.494013</td>\n",
       "    </tr>\n",
       "    <tr>\n",
       "      <th>2</th>\n",
       "      <td>9850</td>\n",
       "      <td>-121.923525</td>\n",
       "      <td>37.495613</td>\n",
       "    </tr>\n",
       "    <tr>\n",
       "      <th>3</th>\n",
       "      <td>9852</td>\n",
       "      <td>-121.923128</td>\n",
       "      <td>37.495265</td>\n",
       "    </tr>\n",
       "    <tr>\n",
       "      <th>4</th>\n",
       "      <td>9854</td>\n",
       "      <td>-121.934705</td>\n",
       "      <td>37.505858</td>\n",
       "    </tr>\n",
       "  </tbody>\n",
       "</table>\n",
       "</div>"
      ],
      "text/plain": [
       "   id_node           x          y\n",
       "0     9845 -121.922491  37.495935\n",
       "1     9848 -121.921727  37.494013\n",
       "2     9850 -121.923525  37.495613\n",
       "3     9852 -121.923128  37.495265\n",
       "4     9854 -121.934705  37.505858"
      ]
     },
     "execution_count": 72,
     "metadata": {},
     "output_type": "execute_result"
    }
   ],
   "source": [
    "nodes.head(5)"
   ]
  },
  {
   "cell_type": "code",
   "execution_count": 75,
   "metadata": {},
   "outputs": [],
   "source": [
    "#load the edges and notes to networkx Graph, including the simulated results as attributes\n",
    "for i in range(len(edge_weighted)):\n",
    "    id_edge = edge_weighted.iloc[i]['id']\n",
    "    source_node = edge_weighted.iloc[i]['id_node_source']\n",
    "    target_node = edge_weighted.iloc[i]['id_node_target']\n",
    "    distance = edge_weighted.iloc[i]['capacity'] # Here we should get the section distance\n",
    "    travelTime = edge_weighted.iloc[i]['travelTime']\n",
    "    G.add_edge(source_node, target_node, id_edge = id_edge, distance=distance, travelTime=travelTime)"
   ]
  },
  {
   "cell_type": "code",
   "execution_count": null,
   "metadata": {},
   "outputs": [],
   "source": [
    "for i in range(len(nodes_gdf)):\n",
    "    id_node = nodes_gdf.iloc[i]['id_node']\n",
    "    point = nodes_gdf.iloc[i]['geometry']\n",
    "#     cost = nodes_gdf.iloc[i]['cost']\n",
    "    G.add_node(id_node, point = point)\n",
    "#                , cost = cost)"
   ]
  },
  {
   "cell_type": "code",
   "execution_count": null,
   "metadata": {},
   "outputs": [],
   "source": [
    "def node_getter(index): \n",
    "    \"\"\"\n",
    "    retrieve the lat and lon of a node at specific index\n",
    "    \"\"\"\n",
    "    return list(G.nodes(data=True))[index][0]\n",
    "def edge_getter(index):\n",
    "    \"\"\"\n",
    "    retrieve the starting node and endinge node of of an edge at specific index\n",
    "    \"\"\"\n",
    "    u, v, w = list(G.edges(data=True))[index]\n",
    "    return (u, v, w)\n"
   ]
  },
  {
   "cell_type": "code",
   "execution_count": null,
   "metadata": {},
   "outputs": [],
   "source": []
  },
  {
   "cell_type": "markdown",
   "metadata": {},
   "source": [
    "### Applying BFS on generating isochrone"
   ]
  },
  {
   "cell_type": "code",
   "execution_count": null,
   "metadata": {},
   "outputs": [],
   "source": []
  },
  {
   "cell_type": "code",
   "execution_count": null,
   "metadata": {},
   "outputs": [],
   "source": []
  },
  {
   "cell_type": "code",
   "execution_count": null,
   "metadata": {},
   "outputs": [],
   "source": []
  },
  {
   "cell_type": "code",
   "execution_count": null,
   "metadata": {},
   "outputs": [],
   "source": []
  },
  {
   "cell_type": "code",
   "execution_count": null,
   "metadata": {},
   "outputs": [],
   "source": [
    "BFS_trav = list(nx.bfs_edges(G, source=node_getter(1), depth_limit=2))\n",
    "traversed = []\n",
    "for t in BFS_trav:\n",
    "    traversed.append(int(t[0]))\n",
    "    traversed.append(int(t[1]))\n",
    "traversed_2 = sorted(list(set(traversed)))"
   ]
  },
  {
   "cell_type": "code",
   "execution_count": null,
   "metadata": {},
   "outputs": [],
   "source": []
  },
  {
   "cell_type": "code",
   "execution_count": null,
   "metadata": {
    "scrolled": false
   },
   "outputs": [],
   "source": [
    "BFS_trav = list(nx.bfs_edges(G, source=node_getter(1), depth_limit=5))\n",
    "traversed = []\n",
    "for t in BFS_trav:\n",
    "    traversed.append(int(t[0]))\n",
    "    traversed.append(int(t[1]))\n",
    "traversed_5 = sorted(list(set(traversed)))"
   ]
  },
  {
   "cell_type": "code",
   "execution_count": null,
   "metadata": {},
   "outputs": [],
   "source": [
    "BFS_trav = list(nx.bfs_edges(G, source=node_getter(1), depth_limit=1))\n",
    "traversed = []\n",
    "for t in BFS_trav:\n",
    "    traversed.append(int(t[0]))\n",
    "    traversed.append(int(t[1]))\n",
    "traversed_1 = sorted(list(set(traversed)))"
   ]
  },
  {
   "cell_type": "code",
   "execution_count": null,
   "metadata": {},
   "outputs": [],
   "source": [
    "node_colors = {}\n",
    "for node in traversed_5:\n",
    "    node_colors[node] = 3\n",
    "for node in traversed_2:\n",
    "    node_colors[node] = 2\n",
    "for node in traversed_1:\n",
    "    node_colors[node] = 1\n",
    "    \n",
    "nc = [node_colors[node] if node in node_colors else 'none' for node in G.nodes()]\n",
    "#ns = [20 if node in node_colors else 0 for node in G.nodes()]\n",
    "joined['color'] = nc"
   ]
  },
  {
   "cell_type": "code",
   "execution_count": null,
   "metadata": {},
   "outputs": [],
   "source": [
    "nodes_1 = traversed_1 \n",
    "nodes_2 = traversed_2\n",
    "nodes_3 =  traversed_5"
   ]
  },
  {
   "cell_type": "code",
   "execution_count": null,
   "metadata": {},
   "outputs": [],
   "source": [
    "node_getter(1)"
   ]
  },
  {
   "cell_type": "markdown",
   "metadata": {},
   "source": [
    "## To do: maybe here use alpha shape instead of convex hull"
   ]
  },
  {
   "cell_type": "code",
   "execution_count": null,
   "metadata": {},
   "outputs": [],
   "source": [
    "# Transfering the nodes at different traversal depth to isochrone layer\n",
    "def traversal_to_layer(node_set):\n",
    "    layer_nodes_gdf = nodes_gdf[nodes_gdf.id_node.isin(node_set)]\n",
    "    #generate a convex hull containing all the subgraph nodes \n",
    "    bounding_poly = gpd.GeoSeries(layer_nodes_gdf['geometry']).unary_union.convex_hull\n",
    "    #creating a layer (geopandas df) for this bounding convex hull to be visualized in Kepler.gl\n",
    "    layer = gpd.GeoDataFrame([bounding_poly], crs=crs)\n",
    "    layer['geometry'] = layer[0]\n",
    "    return layer[['geometry']]"
   ]
  },
  {
   "cell_type": "code",
   "execution_count": null,
   "metadata": {},
   "outputs": [],
   "source": [
    "layer_1 = traversal_to_layer(nodes_1)\n",
    "layer_2 = traversal_to_layer(nodes_2)\n",
    "layer_3 = traversal_to_layer(nodes_3)"
   ]
  },
  {
   "cell_type": "code",
   "execution_count": null,
   "metadata": {},
   "outputs": [],
   "source": [
    "POIs_gdf"
   ]
  },
  {
   "cell_type": "code",
   "execution_count": null,
   "metadata": {},
   "outputs": [],
   "source": [
    "#calculate the amount of POIs in each layer, applying the gdf.sjoin(): https://geopandas.org/reference/geopandas.sjoin.html\n",
    "\n",
    "merged = gpd.sjoin(POIs_gdf, layer_1, how='left', op='within')\n",
    "contained_POIs = merged[merged['index_right'].notna()]\n",
    "num_contained = len(contained_POIs)"
   ]
  },
  {
   "cell_type": "code",
   "execution_count": null,
   "metadata": {},
   "outputs": [],
   "source": []
  },
  {
   "cell_type": "code",
   "execution_count": null,
   "metadata": {},
   "outputs": [],
   "source": [
    "map_8 = KeplerGl(height=600)\n",
    "map_8.add_data(data=nodes_gdf[nodes_gdf['id_node'] == 9923], name = \"center POI\")\n",
    "map_8.add_data(data=layer_1, name = \"isochrone_1\")#[joined['color'] == 1]\n",
    "map_8.add_data(data=layer_2, name = \"isochrone_2\")\n",
    "map_8.add_data(data=layer_3, name = \"isochrone_3\")\n",
    "map_8.add_data(data=Aimsun_sections, name = \"sections\")\n",
    "map_8.add_data(data=Aimsun_nodes, name = \"nodes\")\n",
    "map_8"
   ]
  },
  {
   "cell_type": "markdown",
   "metadata": {},
   "source": [
    "### Using networkx ego graph to plot isochrone: https://networkx.github.io/documentation/networkx-1.10/reference/generated/networkx.generators.ego.ego_graph.html"
   ]
  },
  {
   "cell_type": "code",
   "execution_count": null,
   "metadata": {},
   "outputs": [],
   "source": [
    "edge_weighted[edge_weighted['id_node_source'] == node_getter(1)]"
   ]
  },
  {
   "cell_type": "code",
   "execution_count": null,
   "metadata": {},
   "outputs": [],
   "source": [
    "subgraph_1 = nx.ego_graph(G, node_getter(1), radius=15, distance='travelTime')\n",
    "subgraph_2 = nx.ego_graph(G, node_getter(1), radius=20, distance='travelTime')\n",
    "subgraph_3 = nx.ego_graph(G, node_getter(1), radius=60, distance='travelTime')"
   ]
  },
  {
   "cell_type": "code",
   "execution_count": null,
   "metadata": {},
   "outputs": [],
   "source": [
    "def subgraph_layer(nodes_gdf, subgraph):\n",
    "    #extract the Nodes dataframe for subgraph\n",
    "    subgraph_nodes_gdf = nodes_gdf[nodes_gdf.id_node.isin(list(subgraph.nodes))]\n",
    "    #generate a convex hull containing all the subgraph nodes \n",
    "    bounding_poly = gpd.GeoSeries(subgraph_nodes_gdf['geometry']).unary_union.convex_hull\n",
    "    #creating a layer (geopandas df) for this bounding convex hull to be visualized in Kepler.gl\n",
    "    layer = gpd.GeoDataFrame([bounding_poly], crs=crs)\n",
    "    layer['geometry'] = layer[0]\n",
    "    return layer[['geometry']]"
   ]
  },
  {
   "cell_type": "code",
   "execution_count": null,
   "metadata": {},
   "outputs": [],
   "source": [
    "layer_1 = subgraph_layer(nodes_gdf, subgraph_1)\n",
    "layer_2 = subgraph_layer(nodes_gdf, subgraph_2)\n",
    "layer_3 = subgraph_layer(nodes_gdf, subgraph_3)"
   ]
  },
  {
   "cell_type": "code",
   "execution_count": null,
   "metadata": {},
   "outputs": [],
   "source": []
  },
  {
   "cell_type": "code",
   "execution_count": null,
   "metadata": {
    "scrolled": false
   },
   "outputs": [],
   "source": [
    "map_9 = KeplerGl(height=600)\n",
    "map_9.add_data(data=nodes_gdf[nodes_gdf['id_node'] == node_getter(1)], name = \"all POIs\")\n",
    "# map_8.add_data(data=joined[joined['color'] == 1], name = \"isochrone\")\n",
    "# map_8.add_data(data=joined[joined['color'] == 2], name = \"isochrone_1\")\n",
    "map_9.add_data(data=Aimsun_sections, name = \"sections\")\n",
    "map_9.add_data(data=Aimsun_nodes, name = \"nodes\")\n",
    "map_9.add_data(data=layer_1, name = 'layer_1')\n",
    "map_9.add_data(data=layer_2, name = 'layer_2')\n",
    "map_9.add_data(data=layer_3, name = 'layer_3')\n",
    "map_9"
   ]
  },
  {
   "cell_type": "code",
   "execution_count": null,
   "metadata": {},
   "outputs": [],
   "source": []
  },
  {
   "cell_type": "code",
   "execution_count": null,
   "metadata": {},
   "outputs": [],
   "source": []
  },
  {
   "cell_type": "code",
   "execution_count": null,
   "metadata": {},
   "outputs": [],
   "source": []
  },
  {
   "cell_type": "code",
   "execution_count": null,
   "metadata": {},
   "outputs": [],
   "source": []
  },
  {
   "cell_type": "code",
   "execution_count": null,
   "metadata": {},
   "outputs": [],
   "source": []
  },
  {
   "cell_type": "code",
   "execution_count": null,
   "metadata": {},
   "outputs": [],
   "source": []
  },
  {
   "cell_type": "code",
   "execution_count": null,
   "metadata": {},
   "outputs": [],
   "source": []
  },
  {
   "cell_type": "code",
   "execution_count": null,
   "metadata": {},
   "outputs": [],
   "source": []
  },
  {
   "cell_type": "code",
   "execution_count": null,
   "metadata": {},
   "outputs": [],
   "source": []
  },
  {
   "cell_type": "code",
   "execution_count": null,
   "metadata": {},
   "outputs": [],
   "source": []
  },
  {
   "cell_type": "code",
   "execution_count": null,
   "metadata": {},
   "outputs": [],
   "source": []
  },
  {
   "cell_type": "markdown",
   "metadata": {},
   "source": [
    "For each selected starting POI, we first find and link it to the closest Aimsun network node. \n",
    "Then, by running the BFS, we find the range of reachable spots (accessibility area) from this traversal and count the amount of POIs of different categories reachable within the area. \n",
    "And develop an algorithm to calculate the accessibility score\n"
   ]
  },
  {
   "cell_type": "code",
   "execution_count": null,
   "metadata": {},
   "outputs": [],
   "source": []
  }
 ],
 "metadata": {
  "kernelspec": {
   "display_name": "Python 3",
   "language": "python",
   "name": "python3"
  },
  "language_info": {
   "codemirror_mode": {
    "name": "ipython",
    "version": 3
   },
   "file_extension": ".py",
   "mimetype": "text/x-python",
   "name": "python",
   "nbconvert_exporter": "python",
   "pygments_lexer": "ipython3",
   "version": "3.6.5"
  }
 },
 "nbformat": 4,
 "nbformat_minor": 2
}
