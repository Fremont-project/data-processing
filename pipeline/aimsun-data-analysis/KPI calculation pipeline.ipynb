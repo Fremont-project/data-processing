{
 "cells": [
  {
   "cell_type": "code",
   "execution_count": 1,
   "metadata": {},
   "outputs": [],
   "source": [
    "# Setting up the Coordinate Reference Systems up front in the necessary format.\n",
    "crs_degree = {'init': 'epsg:4326'} # CGS_WGS_1984 (what the GPS uses)\n",
    "\n",
    "# --- Paths\n",
    "\n",
    "# Root path of Fremont Dropbox\n",
    "import os\n",
    "import sys\n",
    "# We let this notebook to know where to look for fremontdropbox module\n",
    "module_path = os.path.abspath(os.path.join('../..'))\n",
    "if module_path not in sys.path:\n",
    "    sys.path.append(module_path)\n",
    "    \n",
    "from fremontdropbox import get_dropbox_location\n",
    "# Root path of the Dropbox business account\n",
    "\n",
    "\n",
    "\n",
    "dbx = get_dropbox_location()\n",
    "\n",
    "# Temporary! Location of the folder where the restructuring is currently happening\n",
    "data_path = dbx + '/Private Structured data collection'\n",
    "\n",
    "aux_files = data_path+'/Data processing/Auxiliary files'\n",
    "\n",
    "# Processing output path\n",
    "output_path = aux_files + '/OD demand'"
   ]
  },
  {
   "cell_type": "code",
   "execution_count": 2,
   "metadata": {},
   "outputs": [],
   "source": [
    "# Read more about GeoPandas data structures here: http://geopandas.org/data_structures.html\n",
    "from geopandas import GeoDataFrame\n",
    "import geopandas as gpd # To work with spatial data in a DataFrame\n",
    "from shapely.geometry import Point, LineString # To create line geometries that can be used in a GeoDataFrame\n",
    "from keplergl import KeplerGl\n",
    "import pandas as pd\n",
    "\n",
    "# packages for network manipulation and visualization\n",
    "import csv\n",
    "from operator import itemgetter\n",
    "import networkx as nx\n",
    "import osmnx as ox\n",
    "import matplotlib.pyplot as plt\n",
    "import matplotlib.lines as mlines\n",
    "#import cartopy.crs as ccrs\n",
    "from IPython.display import Image\n",
    "#from mpl_toolkits.basemap import Basemap as Basemap #Installation failed\n",
    "from networkx.algorithms import community #This part of networkx, for community detection, needs to be imported separately.\n",
    "\n",
    "\n",
    "#pandana\n",
    "import pandana as pdna\n",
    "from pandana.loaders import osm\n",
    "%matplotlib inline\n",
    "from descartes import PolygonPatch\n",
    "import random\n",
    "import warnings\n",
    "warnings.filterwarnings('ignore')\n",
    "\n",
    "#change the projection of the code\n",
    "import pyproj as proj"
   ]
  },
  {
   "cell_type": "markdown",
   "metadata": {},
   "source": [
    "### Load the Aimsun network using:\n",
    "- Geopandas (to read and convert the files) \n",
    "- Networkx (to convert the data to a network) \n",
    "- Visualize the Geopandas network shapefile in Kepler.gl"
   ]
  },
  {
   "cell_type": "code",
   "execution_count": 3,
   "metadata": {},
   "outputs": [],
   "source": [
    "#centroid_connections = GeoDataFrame.from_file(data_path + \"/Data processing/Raw/Network/Aimsun/centroid_connections.shp\")\n",
    "#centroids = GeoDataFrame.from_file(data_path + \"/Data processing/Raw/Network/Aimsun/centroids.shp\")\n",
    "#detectors = GeoDataFrame.from_file(data_path + \"/Data processing/Raw/Network/Aimsun/detectors.shp\")\n",
    "#meterings = GeoDataFrame.from_file(data_path + \"/Data processing/Raw/Network/Aimsun/meterings.shp\")\n",
    "nodes = GeoDataFrame.from_file(data_path + \"/Data processing/Raw/Network/Aimsun/nodes.shp\")\n",
    "#polygons = GeoDataFrame.from_file(data_path + \"/Data processing/Raw/Network/Aimsun/polygons.shp\")\n",
    "sections = GeoDataFrame.from_file(data_path + \"/Data processing/Raw/Network/Aimsun/sections.shp\")\n",
    "#sectionsGeo = GeoDataFrame.from_file(data_path + \"/Data processing/Raw/Network/Aimsun/sectionsGeo.shp\")\n"
   ]
  },
  {
   "cell_type": "code",
   "execution_count": 4,
   "metadata": {},
   "outputs": [],
   "source": [
    "Aimsun_nodes = nodes.to_crs(epsg=4326)\n",
    "Aimsun_sections = sections.to_crs(epsg=4326)"
   ]
  },
  {
   "cell_type": "code",
   "execution_count": 5,
   "metadata": {},
   "outputs": [
    {
     "data": {
      "text/html": [
       "<div>\n",
       "<style scoped>\n",
       "    .dataframe tbody tr th:only-of-type {\n",
       "        vertical-align: middle;\n",
       "    }\n",
       "\n",
       "    .dataframe tbody tr th {\n",
       "        vertical-align: top;\n",
       "    }\n",
       "\n",
       "    .dataframe thead th {\n",
       "        text-align: right;\n",
       "    }\n",
       "</style>\n",
       "<table border=\"1\" class=\"dataframe\">\n",
       "  <thead>\n",
       "    <tr style=\"text-align: right;\">\n",
       "      <th></th>\n",
       "      <th>id</th>\n",
       "      <th>eid</th>\n",
       "      <th>name</th>\n",
       "      <th>nb_lanes</th>\n",
       "      <th>speed</th>\n",
       "      <th>capacity</th>\n",
       "      <th>rd_type</th>\n",
       "      <th>func_class</th>\n",
       "      <th>fnode</th>\n",
       "      <th>tnode</th>\n",
       "      <th>geometry</th>\n",
       "    </tr>\n",
       "  </thead>\n",
       "  <tbody>\n",
       "    <tr>\n",
       "      <th>0</th>\n",
       "      <td>242.0</td>\n",
       "      <td>242</td>\n",
       "      <td>None</td>\n",
       "      <td>1</td>\n",
       "      <td>120.0</td>\n",
       "      <td>2100.0</td>\n",
       "      <td>175.0</td>\n",
       "      <td>1</td>\n",
       "      <td>9845.0</td>\n",
       "      <td>9923.0</td>\n",
       "      <td>LINESTRING (-121.92244 37.49593, -121.92242 37...</td>\n",
       "    </tr>\n",
       "    <tr>\n",
       "      <th>1</th>\n",
       "      <td>243.0</td>\n",
       "      <td>243</td>\n",
       "      <td>None</td>\n",
       "      <td>3</td>\n",
       "      <td>104.0</td>\n",
       "      <td>6300.0</td>\n",
       "      <td>175.0</td>\n",
       "      <td>1</td>\n",
       "      <td>9852.0</td>\n",
       "      <td>9848.0</td>\n",
       "      <td>LINESTRING (-121.92313 37.49526, -121.92173 37...</td>\n",
       "    </tr>\n",
       "    <tr>\n",
       "      <th>2</th>\n",
       "      <td>244.0</td>\n",
       "      <td>244</td>\n",
       "      <td>None</td>\n",
       "      <td>3</td>\n",
       "      <td>104.0</td>\n",
       "      <td>6300.0</td>\n",
       "      <td>175.0</td>\n",
       "      <td>1</td>\n",
       "      <td>9850.0</td>\n",
       "      <td>9852.0</td>\n",
       "      <td>LINESTRING (-121.92352 37.49561, -121.92313 37...</td>\n",
       "    </tr>\n",
       "    <tr>\n",
       "      <th>3</th>\n",
       "      <td>246.0</td>\n",
       "      <td>246</td>\n",
       "      <td>Geyser Court</td>\n",
       "      <td>1</td>\n",
       "      <td>50.0</td>\n",
       "      <td>700.0</td>\n",
       "      <td>179.0</td>\n",
       "      <td>5</td>\n",
       "      <td>9868.0</td>\n",
       "      <td>NaN</td>\n",
       "      <td>LINESTRING (-121.91449 37.50455, -121.91477 37...</td>\n",
       "    </tr>\n",
       "    <tr>\n",
       "      <th>4</th>\n",
       "      <td>247.0</td>\n",
       "      <td>247</td>\n",
       "      <td>Geyser Court</td>\n",
       "      <td>1</td>\n",
       "      <td>50.0</td>\n",
       "      <td>700.0</td>\n",
       "      <td>179.0</td>\n",
       "      <td>5</td>\n",
       "      <td>NaN</td>\n",
       "      <td>9868.0</td>\n",
       "      <td>LINESTRING (-121.91572 37.50422, -121.91560 37...</td>\n",
       "    </tr>\n",
       "  </tbody>\n",
       "</table>\n",
       "</div>"
      ],
      "text/plain": [
       "      id  eid          name  nb_lanes  speed  capacity  rd_type  func_class  \\\n",
       "0  242.0  242          None         1  120.0    2100.0    175.0           1   \n",
       "1  243.0  243          None         3  104.0    6300.0    175.0           1   \n",
       "2  244.0  244          None         3  104.0    6300.0    175.0           1   \n",
       "3  246.0  246  Geyser Court         1   50.0     700.0    179.0           5   \n",
       "4  247.0  247  Geyser Court         1   50.0     700.0    179.0           5   \n",
       "\n",
       "    fnode   tnode                                           geometry  \n",
       "0  9845.0  9923.0  LINESTRING (-121.92244 37.49593, -121.92242 37...  \n",
       "1  9852.0  9848.0  LINESTRING (-121.92313 37.49526, -121.92173 37...  \n",
       "2  9850.0  9852.0  LINESTRING (-121.92352 37.49561, -121.92313 37...  \n",
       "3  9868.0     NaN  LINESTRING (-121.91449 37.50455, -121.91477 37...  \n",
       "4     NaN  9868.0  LINESTRING (-121.91572 37.50422, -121.91560 37...  "
      ]
     },
     "execution_count": 5,
     "metadata": {},
     "output_type": "execute_result"
    }
   ],
   "source": [
    "Aimsun_sections.head(5)"
   ]
  },
  {
   "cell_type": "code",
   "execution_count": 6,
   "metadata": {
    "scrolled": false
   },
   "outputs": [
    {
     "name": "stdout",
     "output_type": "stream",
     "text": [
      "User Guide: https://github.com/keplergl/kepler.gl/blob/master/docs/keplergl-jupyter/user-guide.md\n"
     ]
    },
    {
     "data": {
      "application/vnd.jupyter.widget-view+json": {
       "model_id": "908db2a661164ef08060e72c956a6cb7",
       "version_major": 2,
       "version_minor": 0
      },
      "text/plain": [
       "KeplerGl(data={'sections': {'index': [0, 1, 2, 3, 4, 5, 6, 7, 8, 9, 10, 11, 12, 13, 14, 15, 16, 17, 18, 19, 20…"
      ]
     },
     "metadata": {},
     "output_type": "display_data"
    }
   ],
   "source": [
    "map_1 = KeplerGl(height=1000)\n",
    "map_1.add_data(data=Aimsun_sections, name = \"sections\")\n",
    "map_1.add_data(data=Aimsun_nodes, name = \"nodes\")\n",
    "map_1\n",
    "\n"
   ]
  },
  {
   "cell_type": "code",
   "execution_count": 7,
   "metadata": {},
   "outputs": [],
   "source": [
    "# Loading the Aimsun network in networkx\n",
    "# Nodes = nx.read_shp(data_path + \"/Data processing/Raw/Network/Aimsun/nodes.shp\")\n",
    "# Edges = nx.read_shp(data_path + \"/Data processing/Raw/Network/Aimsun/sections.shp\")\n",
    "#Point of Interests scraped from Google API\n",
    "POIs = pd.read_csv(data_path + \"/Data processing/Raw/Network/KPIs/locations_crawl.csv\")\n",
    "POIs['geometry'] = [Point(xy) for xy in zip(POIs['Long'], POIs['Lat'])]\n",
    "crs = {'init': 'epsg:4326'}\n",
    "# Creating a Geographic data frame for Point of Interests\n",
    "POIs_gdf = gpd.GeoDataFrame(POIs, crs=crs)"
   ]
  },
  {
   "cell_type": "code",
   "execution_count": 8,
   "metadata": {},
   "outputs": [
    {
     "data": {
      "text/html": [
       "<div>\n",
       "<style scoped>\n",
       "    .dataframe tbody tr th:only-of-type {\n",
       "        vertical-align: middle;\n",
       "    }\n",
       "\n",
       "    .dataframe tbody tr th {\n",
       "        vertical-align: top;\n",
       "    }\n",
       "\n",
       "    .dataframe thead th {\n",
       "        text-align: right;\n",
       "    }\n",
       "</style>\n",
       "<table border=\"1\" class=\"dataframe\">\n",
       "  <thead>\n",
       "    <tr style=\"text-align: right;\">\n",
       "      <th></th>\n",
       "      <th>Unnamed: 0</th>\n",
       "      <th>Names</th>\n",
       "      <th>Types</th>\n",
       "      <th>Lat</th>\n",
       "      <th>Long</th>\n",
       "      <th>geometry</th>\n",
       "    </tr>\n",
       "  </thead>\n",
       "  <tbody>\n",
       "    <tr>\n",
       "      <th>0</th>\n",
       "      <td>0</td>\n",
       "      <td>Fremont</td>\n",
       "      <td>['locality', 'political']</td>\n",
       "      <td>37.548540</td>\n",
       "      <td>-121.988583</td>\n",
       "      <td>POINT (-121.98858 37.54854)</td>\n",
       "    </tr>\n",
       "    <tr>\n",
       "      <th>1</th>\n",
       "      <td>1</td>\n",
       "      <td>ProCreativeWriters</td>\n",
       "      <td>['point_of_interest', 'establishment']</td>\n",
       "      <td>37.504377</td>\n",
       "      <td>-121.964423</td>\n",
       "      <td>POINT (-121.96442 37.50438)</td>\n",
       "    </tr>\n",
       "    <tr>\n",
       "      <th>2</th>\n",
       "      <td>2</td>\n",
       "      <td>Baylands</td>\n",
       "      <td>['neighborhood', 'political']</td>\n",
       "      <td>37.485034</td>\n",
       "      <td>-121.964375</td>\n",
       "      <td>POINT (-121.96437 37.48503)</td>\n",
       "    </tr>\n",
       "    <tr>\n",
       "      <th>3</th>\n",
       "      <td>3</td>\n",
       "      <td>Fremont</td>\n",
       "      <td>['locality', 'political']</td>\n",
       "      <td>37.548540</td>\n",
       "      <td>-121.988583</td>\n",
       "      <td>POINT (-121.98858 37.54854)</td>\n",
       "    </tr>\n",
       "    <tr>\n",
       "      <th>4</th>\n",
       "      <td>4</td>\n",
       "      <td>Mission Sierra Taekwon-Do</td>\n",
       "      <td>['health', 'point_of_interest', 'establishment']</td>\n",
       "      <td>37.532586</td>\n",
       "      <td>-121.922044</td>\n",
       "      <td>POINT (-121.92204 37.53259)</td>\n",
       "    </tr>\n",
       "  </tbody>\n",
       "</table>\n",
       "</div>"
      ],
      "text/plain": [
       "   Unnamed: 0                      Names  \\\n",
       "0           0                    Fremont   \n",
       "1           1         ProCreativeWriters   \n",
       "2           2                   Baylands   \n",
       "3           3                    Fremont   \n",
       "4           4  Mission Sierra Taekwon-Do   \n",
       "\n",
       "                                              Types        Lat        Long  \\\n",
       "0                         ['locality', 'political']  37.548540 -121.988583   \n",
       "1            ['point_of_interest', 'establishment']  37.504377 -121.964423   \n",
       "2                     ['neighborhood', 'political']  37.485034 -121.964375   \n",
       "3                         ['locality', 'political']  37.548540 -121.988583   \n",
       "4  ['health', 'point_of_interest', 'establishment']  37.532586 -121.922044   \n",
       "\n",
       "                      geometry  \n",
       "0  POINT (-121.98858 37.54854)  \n",
       "1  POINT (-121.96442 37.50438)  \n",
       "2  POINT (-121.96437 37.48503)  \n",
       "3  POINT (-121.98858 37.54854)  \n",
       "4  POINT (-121.92204 37.53259)  "
      ]
     },
     "execution_count": 8,
     "metadata": {},
     "output_type": "execute_result"
    }
   ],
   "source": [
    "POIs_gdf.head(5)"
   ]
  },
  {
   "cell_type": "code",
   "execution_count": 9,
   "metadata": {},
   "outputs": [],
   "source": []
  },
  {
   "cell_type": "code",
   "execution_count": null,
   "metadata": {},
   "outputs": [],
   "source": []
  },
  {
   "cell_type": "markdown",
   "metadata": {},
   "source": [
    "## Using Pandana package to plot the accessibility heatmap"
   ]
  },
  {
   "cell_type": "code",
   "execution_count": null,
   "metadata": {},
   "outputs": [],
   "source": []
  },
  {
   "cell_type": "markdown",
   "metadata": {},
   "source": [
    "preprocess the dataset before dumping the network into pandana"
   ]
  },
  {
   "cell_type": "code",
   "execution_count": 10,
   "metadata": {},
   "outputs": [],
   "source": [
    "Aimsun_nodes['x'] = Aimsun_nodes['geometry'].x\n",
    "Aimsun_nodes['y'] = Aimsun_nodes['geometry'].y"
   ]
  },
  {
   "cell_type": "code",
   "execution_count": 11,
   "metadata": {},
   "outputs": [],
   "source": [
    "Aimsun_nodes = Aimsun_nodes.rename(columns={'id': \"id_node\"})\n",
    "Aimsun_nodes['id_node'] = Aimsun_nodes['id_node'].astype(int)\n",
    "Aimsun_nodes.index = Aimsun_nodes['id_node']\n",
    "Aimsun_nodes_gdf = Aimsun_nodes[['id_node', 'x', 'y']]"
   ]
  },
  {
   "cell_type": "code",
   "execution_count": 12,
   "metadata": {},
   "outputs": [
    {
     "data": {
      "text/html": [
       "<div>\n",
       "<style scoped>\n",
       "    .dataframe tbody tr th:only-of-type {\n",
       "        vertical-align: middle;\n",
       "    }\n",
       "\n",
       "    .dataframe tbody tr th {\n",
       "        vertical-align: top;\n",
       "    }\n",
       "\n",
       "    .dataframe thead th {\n",
       "        text-align: right;\n",
       "    }\n",
       "</style>\n",
       "<table border=\"1\" class=\"dataframe\">\n",
       "  <thead>\n",
       "    <tr style=\"text-align: right;\">\n",
       "      <th></th>\n",
       "      <th>id_node</th>\n",
       "      <th>x</th>\n",
       "      <th>y</th>\n",
       "    </tr>\n",
       "    <tr>\n",
       "      <th>id_node</th>\n",
       "      <th></th>\n",
       "      <th></th>\n",
       "      <th></th>\n",
       "    </tr>\n",
       "  </thead>\n",
       "  <tbody>\n",
       "    <tr>\n",
       "      <th>9845</th>\n",
       "      <td>9845</td>\n",
       "      <td>-121.922491</td>\n",
       "      <td>37.495935</td>\n",
       "    </tr>\n",
       "    <tr>\n",
       "      <th>9848</th>\n",
       "      <td>9848</td>\n",
       "      <td>-121.921727</td>\n",
       "      <td>37.494013</td>\n",
       "    </tr>\n",
       "    <tr>\n",
       "      <th>9850</th>\n",
       "      <td>9850</td>\n",
       "      <td>-121.923525</td>\n",
       "      <td>37.495613</td>\n",
       "    </tr>\n",
       "    <tr>\n",
       "      <th>9852</th>\n",
       "      <td>9852</td>\n",
       "      <td>-121.923128</td>\n",
       "      <td>37.495265</td>\n",
       "    </tr>\n",
       "    <tr>\n",
       "      <th>9854</th>\n",
       "      <td>9854</td>\n",
       "      <td>-121.934705</td>\n",
       "      <td>37.505858</td>\n",
       "    </tr>\n",
       "  </tbody>\n",
       "</table>\n",
       "</div>"
      ],
      "text/plain": [
       "         id_node           x          y\n",
       "id_node                                \n",
       "9845        9845 -121.922491  37.495935\n",
       "9848        9848 -121.921727  37.494013\n",
       "9850        9850 -121.923525  37.495613\n",
       "9852        9852 -121.923128  37.495265\n",
       "9854        9854 -121.934705  37.505858"
      ]
     },
     "execution_count": 12,
     "metadata": {},
     "output_type": "execute_result"
    }
   ],
   "source": [
    "Aimsun_nodes_gdf.head(5)"
   ]
  },
  {
   "cell_type": "code",
   "execution_count": 13,
   "metadata": {},
   "outputs": [],
   "source": [
    "Aimsun_sections.index = range(len(Aimsun_sections))\n",
    "Aimsun_sections_gdf = Aimsun_sections[['id', 'fnode', 'tnode', 'capacity']]\n",
    "Aimsun_sections_gdf['id'] = Aimsun_sections_gdf['id'].fillna(0.0).astype(int)"
   ]
  },
  {
   "cell_type": "code",
   "execution_count": 14,
   "metadata": {},
   "outputs": [],
   "source": [
    "Aimsun_sections['fnode'].fillna(9845, inplace=True)\n",
    "Aimsun_sections['tnode'].fillna(9845, inplace=True)\n",
    "Aimsun_sections.index = range(len(Aimsun_sections))\n",
    "Aimsun_sections_gdf = Aimsun_sections[['id', 'eid', 'fnode', 'tnode', 'capacity']]\n",
    "Aimsun_sections_gdf['id'] = Aimsun_sections_gdf['id'].fillna(0.0).astype(int)\n",
    "\n",
    "Aimsun_sections_gdf['tnode'] = Aimsun_sections_gdf['tnode'].astype(int)\n",
    "Aimsun_sections_gdf['fnode'] = Aimsun_sections_gdf['fnode'].astype(int)\n",
    "Aimsun_sections_gdf.id = range(len(Aimsun_sections_gdf))"
   ]
  },
  {
   "cell_type": "code",
   "execution_count": 15,
   "metadata": {},
   "outputs": [
    {
     "data": {
      "text/html": [
       "<div>\n",
       "<style scoped>\n",
       "    .dataframe tbody tr th:only-of-type {\n",
       "        vertical-align: middle;\n",
       "    }\n",
       "\n",
       "    .dataframe tbody tr th {\n",
       "        vertical-align: top;\n",
       "    }\n",
       "\n",
       "    .dataframe thead th {\n",
       "        text-align: right;\n",
       "    }\n",
       "</style>\n",
       "<table border=\"1\" class=\"dataframe\">\n",
       "  <thead>\n",
       "    <tr style=\"text-align: right;\">\n",
       "      <th></th>\n",
       "      <th>id</th>\n",
       "      <th>eid</th>\n",
       "      <th>name</th>\n",
       "      <th>nb_lanes</th>\n",
       "      <th>speed</th>\n",
       "      <th>capacity</th>\n",
       "      <th>rd_type</th>\n",
       "      <th>func_class</th>\n",
       "      <th>fnode</th>\n",
       "      <th>tnode</th>\n",
       "      <th>geometry</th>\n",
       "    </tr>\n",
       "  </thead>\n",
       "  <tbody>\n",
       "    <tr>\n",
       "      <th>0</th>\n",
       "      <td>242.0</td>\n",
       "      <td>242</td>\n",
       "      <td>None</td>\n",
       "      <td>1</td>\n",
       "      <td>120.0</td>\n",
       "      <td>2100.0</td>\n",
       "      <td>175.0</td>\n",
       "      <td>1</td>\n",
       "      <td>9845.0</td>\n",
       "      <td>9923.0</td>\n",
       "      <td>LINESTRING (-121.92244 37.49593, -121.92242 37...</td>\n",
       "    </tr>\n",
       "    <tr>\n",
       "      <th>1</th>\n",
       "      <td>243.0</td>\n",
       "      <td>243</td>\n",
       "      <td>None</td>\n",
       "      <td>3</td>\n",
       "      <td>104.0</td>\n",
       "      <td>6300.0</td>\n",
       "      <td>175.0</td>\n",
       "      <td>1</td>\n",
       "      <td>9852.0</td>\n",
       "      <td>9848.0</td>\n",
       "      <td>LINESTRING (-121.92313 37.49526, -121.92173 37...</td>\n",
       "    </tr>\n",
       "    <tr>\n",
       "      <th>2</th>\n",
       "      <td>244.0</td>\n",
       "      <td>244</td>\n",
       "      <td>None</td>\n",
       "      <td>3</td>\n",
       "      <td>104.0</td>\n",
       "      <td>6300.0</td>\n",
       "      <td>175.0</td>\n",
       "      <td>1</td>\n",
       "      <td>9850.0</td>\n",
       "      <td>9852.0</td>\n",
       "      <td>LINESTRING (-121.92352 37.49561, -121.92313 37...</td>\n",
       "    </tr>\n",
       "    <tr>\n",
       "      <th>3</th>\n",
       "      <td>246.0</td>\n",
       "      <td>246</td>\n",
       "      <td>Geyser Court</td>\n",
       "      <td>1</td>\n",
       "      <td>50.0</td>\n",
       "      <td>700.0</td>\n",
       "      <td>179.0</td>\n",
       "      <td>5</td>\n",
       "      <td>9868.0</td>\n",
       "      <td>9845.0</td>\n",
       "      <td>LINESTRING (-121.91449 37.50455, -121.91477 37...</td>\n",
       "    </tr>\n",
       "    <tr>\n",
       "      <th>4</th>\n",
       "      <td>247.0</td>\n",
       "      <td>247</td>\n",
       "      <td>Geyser Court</td>\n",
       "      <td>1</td>\n",
       "      <td>50.0</td>\n",
       "      <td>700.0</td>\n",
       "      <td>179.0</td>\n",
       "      <td>5</td>\n",
       "      <td>9845.0</td>\n",
       "      <td>9868.0</td>\n",
       "      <td>LINESTRING (-121.91572 37.50422, -121.91560 37...</td>\n",
       "    </tr>\n",
       "  </tbody>\n",
       "</table>\n",
       "</div>"
      ],
      "text/plain": [
       "      id  eid          name  nb_lanes  speed  capacity  rd_type  func_class  \\\n",
       "0  242.0  242          None         1  120.0    2100.0    175.0           1   \n",
       "1  243.0  243          None         3  104.0    6300.0    175.0           1   \n",
       "2  244.0  244          None         3  104.0    6300.0    175.0           1   \n",
       "3  246.0  246  Geyser Court         1   50.0     700.0    179.0           5   \n",
       "4  247.0  247  Geyser Court         1   50.0     700.0    179.0           5   \n",
       "\n",
       "    fnode   tnode                                           geometry  \n",
       "0  9845.0  9923.0  LINESTRING (-121.92244 37.49593, -121.92242 37...  \n",
       "1  9852.0  9848.0  LINESTRING (-121.92313 37.49526, -121.92173 37...  \n",
       "2  9850.0  9852.0  LINESTRING (-121.92352 37.49561, -121.92313 37...  \n",
       "3  9868.0  9845.0  LINESTRING (-121.91449 37.50455, -121.91477 37...  \n",
       "4  9845.0  9868.0  LINESTRING (-121.91572 37.50422, -121.91560 37...  "
      ]
     },
     "execution_count": 15,
     "metadata": {},
     "output_type": "execute_result"
    }
   ],
   "source": [
    "Aimsun_sections.head(5)"
   ]
  },
  {
   "cell_type": "code",
   "execution_count": 16,
   "metadata": {},
   "outputs": [
    {
     "data": {
      "text/html": [
       "<div>\n",
       "<style scoped>\n",
       "    .dataframe tbody tr th:only-of-type {\n",
       "        vertical-align: middle;\n",
       "    }\n",
       "\n",
       "    .dataframe tbody tr th {\n",
       "        vertical-align: top;\n",
       "    }\n",
       "\n",
       "    .dataframe thead th {\n",
       "        text-align: right;\n",
       "    }\n",
       "</style>\n",
       "<table border=\"1\" class=\"dataframe\">\n",
       "  <thead>\n",
       "    <tr style=\"text-align: right;\">\n",
       "      <th></th>\n",
       "      <th>id</th>\n",
       "      <th>eid</th>\n",
       "      <th>fnode</th>\n",
       "      <th>tnode</th>\n",
       "      <th>capacity</th>\n",
       "    </tr>\n",
       "  </thead>\n",
       "  <tbody>\n",
       "    <tr>\n",
       "      <th>0</th>\n",
       "      <td>0</td>\n",
       "      <td>242</td>\n",
       "      <td>9845</td>\n",
       "      <td>9923</td>\n",
       "      <td>2100.0</td>\n",
       "    </tr>\n",
       "    <tr>\n",
       "      <th>1</th>\n",
       "      <td>1</td>\n",
       "      <td>243</td>\n",
       "      <td>9852</td>\n",
       "      <td>9848</td>\n",
       "      <td>6300.0</td>\n",
       "    </tr>\n",
       "    <tr>\n",
       "      <th>2</th>\n",
       "      <td>2</td>\n",
       "      <td>244</td>\n",
       "      <td>9850</td>\n",
       "      <td>9852</td>\n",
       "      <td>6300.0</td>\n",
       "    </tr>\n",
       "    <tr>\n",
       "      <th>3</th>\n",
       "      <td>3</td>\n",
       "      <td>246</td>\n",
       "      <td>9868</td>\n",
       "      <td>9845</td>\n",
       "      <td>700.0</td>\n",
       "    </tr>\n",
       "    <tr>\n",
       "      <th>4</th>\n",
       "      <td>4</td>\n",
       "      <td>247</td>\n",
       "      <td>9845</td>\n",
       "      <td>9868</td>\n",
       "      <td>700.0</td>\n",
       "    </tr>\n",
       "  </tbody>\n",
       "</table>\n",
       "</div>"
      ],
      "text/plain": [
       "   id  eid  fnode  tnode  capacity\n",
       "0   0  242   9845   9923    2100.0\n",
       "1   1  243   9852   9848    6300.0\n",
       "2   2  244   9850   9852    6300.0\n",
       "3   3  246   9868   9845     700.0\n",
       "4   4  247   9845   9868     700.0"
      ]
     },
     "execution_count": 16,
     "metadata": {},
     "output_type": "execute_result"
    }
   ],
   "source": [
    "Aimsun_sections_gdf.head(5)"
   ]
  },
  {
   "cell_type": "code",
   "execution_count": 17,
   "metadata": {},
   "outputs": [],
   "source": [
    "id_keys = range(len(Aimsun_nodes_gdf))\n",
    "id_values = Aimsun_nodes_gdf.id_node\n",
    "id_dictionary = dict(zip(id_keys, id_values))\n",
    "\n",
    "x_values = Aimsun_nodes_gdf.x\n",
    "x_dictionary = dict(zip(id_keys, x_values))\n",
    "\n",
    "y_values = Aimsun_nodes_gdf.y\n",
    "y_dictionary = dict(zip(id_keys, y_values))\n",
    "\n",
    "edge_keys = range(len(Aimsun_sections_gdf))\n",
    "edge_values = Aimsun_sections.eid.astype(int)\n",
    "edge_dictionary = dict(zip(edge_keys, edge_values))\n",
    "\n",
    "from_values = Aimsun_sections_gdf.fnode.fillna(0.0).astype(int)\n",
    "to_values = Aimsun_sections_gdf.tnode.fillna(0.0).astype(int)\n",
    "\n",
    "from_dict = dict(zip(edge_keys, from_values))\n",
    "to_dict = dict(zip(edge_keys, to_values))\n",
    "\n",
    "weight_values = Aimsun_sections_gdf.capacity\n",
    "weight_dict = dict(zip(edge_keys, weight_values))"
   ]
  },
  {
   "cell_type": "code",
   "execution_count": 18,
   "metadata": {},
   "outputs": [],
   "source": [
    "#check to ensure that all the section ends are network nodes\n",
    "node_set = set(Aimsun_nodes_gdf.id_node)\n",
    "for node in Aimsun_sections.fnode.fillna(0.0).astype(int):\n",
    "    if node not in node_set:\n",
    "        print(node)"
   ]
  },
  {
   "cell_type": "code",
   "execution_count": 19,
   "metadata": {},
   "outputs": [],
   "source": [
    "Aimsun_edge_dict = {\n",
    " 'id': edge_dictionary,\n",
    " 'id_node_source': from_dict,\n",
    " 'id_node_target': to_dict,\n",
    " 'distance': weight_dict}\n",
    "\n",
    "node_dict = {\n",
    " 'id_node': id_dictionary,\n",
    " 'x': x_dictionary,\n",
    " 'y': y_dictionary}\n",
    "\n",
    "# read dictionary into dataframe\n",
    "edges_topo = pd.DataFrame.from_dict(Aimsun_edge_dict)\n",
    "nodes_gdf = pd.DataFrame.from_dict(node_dict)\n",
    "nodes_gdf.index = nodes_gdf['id_node']\n",
    "\n"
   ]
  },
  {
   "cell_type": "markdown",
   "metadata": {},
   "source": [
    "## Loading the edge weights into the Pandana network sections"
   ]
  },
  {
   "cell_type": "code",
   "execution_count": 20,
   "metadata": {},
   "outputs": [],
   "source": [
    "vehSectTraj = pd.read_csv(data_path + '/Aimsun/Outputs/vehSectTrajectory.csv')\n",
    "vehSectTraj = vehSectTraj[vehSectTraj.notna()]"
   ]
  },
  {
   "cell_type": "code",
   "execution_count": 21,
   "metadata": {},
   "outputs": [],
   "source": [
    "vehSectTraj_temp = vehSectTraj.groupby(\"sectionId\").first()"
   ]
  },
  {
   "cell_type": "code",
   "execution_count": 22,
   "metadata": {},
   "outputs": [],
   "source": [
    "edge_weighted = pd.merge(edges_topo,\n",
    "                           vehSectTraj_temp,\n",
    "                           left_on='id',\n",
    "                           right_on='sectionId',\n",
    "                           how='left',\n",
    "                           sort=True)"
   ]
  },
  {
   "cell_type": "code",
   "execution_count": 23,
   "metadata": {},
   "outputs": [],
   "source": [
    "edge_weighted = edge_weighted[edge_weighted.travelTime.notna()]"
   ]
  },
  {
   "cell_type": "code",
   "execution_count": 24,
   "metadata": {},
   "outputs": [],
   "source": [
    "#initialize the Pandana network \n",
    "net = pdna.Network(node_x = nodes_gdf[\"x\"],\n",
    "                   node_y = nodes_gdf[\"y\"],\n",
    "                   edge_from = edge_weighted[\"id_node_source\"], \n",
    "                   edge_to = edge_weighted[\"id_node_target\"],\n",
    "                   edge_weights = edge_weighted[[\"travelTime\"]])"
   ]
  },
  {
   "cell_type": "code",
   "execution_count": 25,
   "metadata": {},
   "outputs": [
    {
     "data": {
      "text/html": [
       "<div>\n",
       "<style scoped>\n",
       "    .dataframe tbody tr th:only-of-type {\n",
       "        vertical-align: middle;\n",
       "    }\n",
       "\n",
       "    .dataframe tbody tr th {\n",
       "        vertical-align: top;\n",
       "    }\n",
       "\n",
       "    .dataframe thead th {\n",
       "        text-align: right;\n",
       "    }\n",
       "</style>\n",
       "<table border=\"1\" class=\"dataframe\">\n",
       "  <thead>\n",
       "    <tr style=\"text-align: right;\">\n",
       "      <th></th>\n",
       "      <th>Unnamed: 0</th>\n",
       "      <th>Names</th>\n",
       "      <th>Types</th>\n",
       "      <th>Lat</th>\n",
       "      <th>Long</th>\n",
       "      <th>geometry</th>\n",
       "    </tr>\n",
       "  </thead>\n",
       "  <tbody>\n",
       "    <tr>\n",
       "      <th>0</th>\n",
       "      <td>0</td>\n",
       "      <td>Fremont</td>\n",
       "      <td>['locality', 'political']</td>\n",
       "      <td>37.548540</td>\n",
       "      <td>-121.988583</td>\n",
       "      <td>POINT (-121.98858 37.54854)</td>\n",
       "    </tr>\n",
       "    <tr>\n",
       "      <th>1</th>\n",
       "      <td>1</td>\n",
       "      <td>ProCreativeWriters</td>\n",
       "      <td>['point_of_interest', 'establishment']</td>\n",
       "      <td>37.504377</td>\n",
       "      <td>-121.964423</td>\n",
       "      <td>POINT (-121.96442 37.50438)</td>\n",
       "    </tr>\n",
       "    <tr>\n",
       "      <th>2</th>\n",
       "      <td>2</td>\n",
       "      <td>Baylands</td>\n",
       "      <td>['neighborhood', 'political']</td>\n",
       "      <td>37.485034</td>\n",
       "      <td>-121.964375</td>\n",
       "      <td>POINT (-121.96437 37.48503)</td>\n",
       "    </tr>\n",
       "    <tr>\n",
       "      <th>3</th>\n",
       "      <td>3</td>\n",
       "      <td>Fremont</td>\n",
       "      <td>['locality', 'political']</td>\n",
       "      <td>37.548540</td>\n",
       "      <td>-121.988583</td>\n",
       "      <td>POINT (-121.98858 37.54854)</td>\n",
       "    </tr>\n",
       "    <tr>\n",
       "      <th>4</th>\n",
       "      <td>4</td>\n",
       "      <td>Mission Sierra Taekwon-Do</td>\n",
       "      <td>['health', 'point_of_interest', 'establishment']</td>\n",
       "      <td>37.532586</td>\n",
       "      <td>-121.922044</td>\n",
       "      <td>POINT (-121.92204 37.53259)</td>\n",
       "    </tr>\n",
       "  </tbody>\n",
       "</table>\n",
       "</div>"
      ],
      "text/plain": [
       "   Unnamed: 0                      Names  \\\n",
       "0           0                    Fremont   \n",
       "1           1         ProCreativeWriters   \n",
       "2           2                   Baylands   \n",
       "3           3                    Fremont   \n",
       "4           4  Mission Sierra Taekwon-Do   \n",
       "\n",
       "                                              Types        Lat        Long  \\\n",
       "0                         ['locality', 'political']  37.548540 -121.988583   \n",
       "1            ['point_of_interest', 'establishment']  37.504377 -121.964423   \n",
       "2                     ['neighborhood', 'political']  37.485034 -121.964375   \n",
       "3                         ['locality', 'political']  37.548540 -121.988583   \n",
       "4  ['health', 'point_of_interest', 'establishment']  37.532586 -121.922044   \n",
       "\n",
       "                      geometry  \n",
       "0  POINT (-121.98858 37.54854)  \n",
       "1  POINT (-121.96442 37.50438)  \n",
       "2  POINT (-121.96437 37.48503)  \n",
       "3  POINT (-121.98858 37.54854)  \n",
       "4  POINT (-121.92204 37.53259)  "
      ]
     },
     "execution_count": 25,
     "metadata": {},
     "output_type": "execute_result"
    }
   ],
   "source": [
    "#scraped Point of Interests in Fremont Area\n",
    "POIs_gdf.head()"
   ]
  },
  {
   "cell_type": "code",
   "execution_count": 26,
   "metadata": {},
   "outputs": [],
   "source": [
    "#only keep the POIs within Aimsun network\n",
    "bounding_box = Aimsun_sections.unary_union.envelope\n",
    "tem_df = gpd.GeoDataFrame(gpd.GeoSeries(bounding_box), columns=['geometry'])\n",
    "intersections = gpd.overlay(POIs_gdf, tem_df, how='intersection')"
   ]
  },
  {
   "cell_type": "code",
   "execution_count": 27,
   "metadata": {},
   "outputs": [],
   "source": [
    "#save the scraped Point of Interests to shapefile\n",
    "intersections.to_file(driver = 'ESRI Shapefile', filename= data_path + \"/Data processing/Raw/Network/Aimsun/POI.shp\")"
   ]
  },
  {
   "cell_type": "code",
   "execution_count": 28,
   "metadata": {},
   "outputs": [
    {
     "name": "stdout",
     "output_type": "stream",
     "text": [
      "User Guide: https://github.com/keplergl/kepler.gl/blob/master/docs/keplergl-jupyter/user-guide.md\n"
     ]
    },
    {
     "data": {
      "application/vnd.jupyter.widget-view+json": {
       "model_id": "c559a50db93543a793230ee509cfc7cf",
       "version_major": 2,
       "version_minor": 0
      },
      "text/plain": [
       "KeplerGl(data={'Point Of Interests': {'index': [0, 1, 2, 3, 4, 5, 6, 7, 8, 9, 10, 11, 12, 13, 14, 15, 16, 17, …"
      ]
     },
     "metadata": {},
     "output_type": "display_data"
    }
   ],
   "source": [
    "#visualize the POIs \n",
    "map_2 = KeplerGl(height=1000)\n",
    "map_2.add_data(data=intersections, name = \"Point Of Interests\")\n",
    "map_2.add_data(data=Aimsun_sections, name = \"sections\")\n",
    "map_2.add_data(data=Aimsun_nodes, name = \"nodes\")\n",
    "map_2\n",
    "\n",
    "\n"
   ]
  },
  {
   "cell_type": "markdown",
   "metadata": {},
   "source": [
    "## Assign each POI to corresponding nearest Aimsun node"
   ]
  },
  {
   "cell_type": "code",
   "execution_count": 29,
   "metadata": {},
   "outputs": [],
   "source": [
    "#get_node_ids uses the KDTree from scipy\n",
    "near_ids = net.get_node_ids(intersections['Long'],\n",
    "                            intersections['Lat'])\n",
    "\n",
    "# Set the response as a new column on the POI reference df\n",
    "intersections['nearest_node_id'] = near_ids"
   ]
  },
  {
   "cell_type": "code",
   "execution_count": 30,
   "metadata": {},
   "outputs": [],
   "source": [
    "nodes_gdf.index = range(len(nodes_gdf))"
   ]
  },
  {
   "cell_type": "code",
   "execution_count": 31,
   "metadata": {},
   "outputs": [],
   "source": [
    "# Create a merged dataframe that holds the node data (esp. x and y values)\n",
    "# that relate to each nearest neighbor of each POI\n",
    "nearest_to_pois = pd.merge(intersections,\n",
    "                           nodes_gdf,\n",
    "                           left_on='nearest_node_id',\n",
    "                           right_on='id_node',\n",
    "                           how='left',\n",
    "                           sort=False,\n",
    "                           suffixes=['_from', '_to'])"
   ]
  },
  {
   "cell_type": "code",
   "execution_count": 32,
   "metadata": {},
   "outputs": [
    {
     "data": {
      "text/html": [
       "<div>\n",
       "<style scoped>\n",
       "    .dataframe tbody tr th:only-of-type {\n",
       "        vertical-align: middle;\n",
       "    }\n",
       "\n",
       "    .dataframe tbody tr th {\n",
       "        vertical-align: top;\n",
       "    }\n",
       "\n",
       "    .dataframe thead th {\n",
       "        text-align: right;\n",
       "    }\n",
       "</style>\n",
       "<table border=\"1\" class=\"dataframe\">\n",
       "  <thead>\n",
       "    <tr style=\"text-align: right;\">\n",
       "      <th></th>\n",
       "      <th>Unnamed: 0</th>\n",
       "      <th>Names</th>\n",
       "      <th>Types</th>\n",
       "      <th>Lat</th>\n",
       "      <th>Long</th>\n",
       "      <th>geometry</th>\n",
       "      <th>nearest_node_id</th>\n",
       "      <th>id_node</th>\n",
       "      <th>x</th>\n",
       "      <th>y</th>\n",
       "    </tr>\n",
       "  </thead>\n",
       "  <tbody>\n",
       "    <tr>\n",
       "      <th>0</th>\n",
       "      <td>4</td>\n",
       "      <td>Mission Sierra Taekwon-Do</td>\n",
       "      <td>['health', 'point_of_interest', 'establishment']</td>\n",
       "      <td>37.532586</td>\n",
       "      <td>-121.922044</td>\n",
       "      <td>POINT (-121.92204 37.53259)</td>\n",
       "      <td>26626</td>\n",
       "      <td>26626</td>\n",
       "      <td>-121.921920</td>\n",
       "      <td>37.532924</td>\n",
       "    </tr>\n",
       "    <tr>\n",
       "      <th>1</th>\n",
       "      <td>5</td>\n",
       "      <td>Hoard Siu PC</td>\n",
       "      <td>['doctor', 'health', 'point_of_interest', 'est...</td>\n",
       "      <td>37.532591</td>\n",
       "      <td>-121.922271</td>\n",
       "      <td>POINT (-121.92227 37.53259)</td>\n",
       "      <td>26645</td>\n",
       "      <td>26645</td>\n",
       "      <td>-121.922656</td>\n",
       "      <td>37.532504</td>\n",
       "    </tr>\n",
       "    <tr>\n",
       "      <th>2</th>\n",
       "      <td>6</td>\n",
       "      <td>Tavares Realty</td>\n",
       "      <td>['real_estate_agency', 'point_of_interest', 'e...</td>\n",
       "      <td>37.533002</td>\n",
       "      <td>-121.922212</td>\n",
       "      <td>POINT (-121.92221 37.53300)</td>\n",
       "      <td>23422</td>\n",
       "      <td>23422</td>\n",
       "      <td>-121.922149</td>\n",
       "      <td>37.533130</td>\n",
       "    </tr>\n",
       "    <tr>\n",
       "      <th>3</th>\n",
       "      <td>7</td>\n",
       "      <td>Unifier Learning Academy</td>\n",
       "      <td>['point_of_interest', 'establishment']</td>\n",
       "      <td>37.532530</td>\n",
       "      <td>-121.922021</td>\n",
       "      <td>POINT (-121.92202 37.53253)</td>\n",
       "      <td>26626</td>\n",
       "      <td>26626</td>\n",
       "      <td>-121.921920</td>\n",
       "      <td>37.532924</td>\n",
       "    </tr>\n",
       "    <tr>\n",
       "      <th>4</th>\n",
       "      <td>8</td>\n",
       "      <td>Oroysom Village</td>\n",
       "      <td>['point_of_interest', 'establishment']</td>\n",
       "      <td>37.533912</td>\n",
       "      <td>-121.923178</td>\n",
       "      <td>POINT (-121.92318 37.53391)</td>\n",
       "      <td>16578</td>\n",
       "      <td>16578</td>\n",
       "      <td>-121.923020</td>\n",
       "      <td>37.534326</td>\n",
       "    </tr>\n",
       "  </tbody>\n",
       "</table>\n",
       "</div>"
      ],
      "text/plain": [
       "   Unnamed: 0                      Names  \\\n",
       "0           4  Mission Sierra Taekwon-Do   \n",
       "1           5               Hoard Siu PC   \n",
       "2           6             Tavares Realty   \n",
       "3           7   Unifier Learning Academy   \n",
       "4           8            Oroysom Village   \n",
       "\n",
       "                                               Types        Lat        Long  \\\n",
       "0   ['health', 'point_of_interest', 'establishment']  37.532586 -121.922044   \n",
       "1  ['doctor', 'health', 'point_of_interest', 'est...  37.532591 -121.922271   \n",
       "2  ['real_estate_agency', 'point_of_interest', 'e...  37.533002 -121.922212   \n",
       "3             ['point_of_interest', 'establishment']  37.532530 -121.922021   \n",
       "4             ['point_of_interest', 'establishment']  37.533912 -121.923178   \n",
       "\n",
       "                      geometry  nearest_node_id  id_node           x  \\\n",
       "0  POINT (-121.92204 37.53259)            26626    26626 -121.921920   \n",
       "1  POINT (-121.92227 37.53259)            26645    26645 -121.922656   \n",
       "2  POINT (-121.92221 37.53300)            23422    23422 -121.922149   \n",
       "3  POINT (-121.92202 37.53253)            26626    26626 -121.921920   \n",
       "4  POINT (-121.92318 37.53391)            16578    16578 -121.923020   \n",
       "\n",
       "           y  \n",
       "0  37.532924  \n",
       "1  37.532504  \n",
       "2  37.533130  \n",
       "3  37.532924  \n",
       "4  37.534326  "
      ]
     },
     "execution_count": 32,
     "metadata": {},
     "output_type": "execute_result"
    }
   ],
   "source": [
    "#showing how each POI is matched to the nearest node id\n",
    "nearest_to_pois.head(5)"
   ]
  },
  {
   "cell_type": "code",
   "execution_count": 33,
   "metadata": {},
   "outputs": [],
   "source": [
    "POI_matching_lines = []\n",
    "for row_id, row in nearest_to_pois.iterrows():\n",
    "    linestr = LineString([(row['geometry'].x, row['geometry'].y),\n",
    "                          (row['x'], row['y'])]).buffer(0.000001)\n",
    "    POI_matching_lines.append(linestr)\n",
    "    "
   ]
  },
  {
   "cell_type": "code",
   "execution_count": 34,
   "metadata": {},
   "outputs": [],
   "source": [
    "POI_matching_lines_gdf = pd.DataFrame({'geometry':POI_matching_lines})\n",
    "POI_matching_lines_gdf = gpd.GeoDataFrame(POI_matching_lines_gdf, crs=crs)"
   ]
  },
  {
   "cell_type": "code",
   "execution_count": 35,
   "metadata": {},
   "outputs": [
    {
     "data": {
      "text/html": [
       "<div>\n",
       "<style scoped>\n",
       "    .dataframe tbody tr th:only-of-type {\n",
       "        vertical-align: middle;\n",
       "    }\n",
       "\n",
       "    .dataframe tbody tr th {\n",
       "        vertical-align: top;\n",
       "    }\n",
       "\n",
       "    .dataframe thead th {\n",
       "        text-align: right;\n",
       "    }\n",
       "</style>\n",
       "<table border=\"1\" class=\"dataframe\">\n",
       "  <thead>\n",
       "    <tr style=\"text-align: right;\">\n",
       "      <th></th>\n",
       "      <th>geometry</th>\n",
       "    </tr>\n",
       "  </thead>\n",
       "  <tbody>\n",
       "    <tr>\n",
       "      <th>0</th>\n",
       "      <td>POLYGON ((-121.92192 37.53292, -121.92192 37.5...</td>\n",
       "    </tr>\n",
       "    <tr>\n",
       "      <th>1</th>\n",
       "      <td>POLYGON ((-121.92266 37.53250, -121.92266 37.5...</td>\n",
       "    </tr>\n",
       "    <tr>\n",
       "      <th>2</th>\n",
       "      <td>POLYGON ((-121.92215 37.53313, -121.92215 37.5...</td>\n",
       "    </tr>\n",
       "    <tr>\n",
       "      <th>3</th>\n",
       "      <td>POLYGON ((-121.92192 37.53292, -121.92192 37.5...</td>\n",
       "    </tr>\n",
       "    <tr>\n",
       "      <th>4</th>\n",
       "      <td>POLYGON ((-121.92302 37.53433, -121.92302 37.5...</td>\n",
       "    </tr>\n",
       "  </tbody>\n",
       "</table>\n",
       "</div>"
      ],
      "text/plain": [
       "                                            geometry\n",
       "0  POLYGON ((-121.92192 37.53292, -121.92192 37.5...\n",
       "1  POLYGON ((-121.92266 37.53250, -121.92266 37.5...\n",
       "2  POLYGON ((-121.92215 37.53313, -121.92215 37.5...\n",
       "3  POLYGON ((-121.92192 37.53292, -121.92192 37.5...\n",
       "4  POLYGON ((-121.92302 37.53433, -121.92302 37.5..."
      ]
     },
     "execution_count": 35,
     "metadata": {},
     "output_type": "execute_result"
    }
   ],
   "source": [
    "POI_matching_lines_gdf.head(5)"
   ]
  },
  {
   "cell_type": "code",
   "execution_count": 36,
   "metadata": {
    "scrolled": false
   },
   "outputs": [
    {
     "name": "stdout",
     "output_type": "stream",
     "text": [
      "User Guide: https://github.com/keplergl/kepler.gl/blob/master/docs/keplergl-jupyter/user-guide.md\n"
     ]
    },
    {
     "data": {
      "application/vnd.jupyter.widget-view+json": {
       "model_id": "04a5913d9a9d4d439e4114d18dda5b16",
       "version_major": 2,
       "version_minor": 0
      },
      "text/plain": [
       "KeplerGl(data={'POI matching nodes': {'index': [0, 1, 2, 3, 4, 5, 6, 7, 8, 9, 10, 11, 12, 13, 14, 15, 16, 17, …"
      ]
     },
     "metadata": {},
     "output_type": "display_data"
    }
   ],
   "source": [
    "map_4 = KeplerGl(height=1000)\n",
    "map_4.add_data(data=POI_matching_lines_gdf, name = \"POI matching nodes\")\n",
    "map_4.add_data(data=intersections, name = \"Point Of Interests\")\n",
    "map_4.add_data(data=Aimsun_sections, name = \"sections\")\n",
    "map_4.add_data(data=Aimsun_nodes, name = \"nodes\")\n",
    "\n",
    "map_4"
   ]
  },
  {
   "cell_type": "markdown",
   "metadata": {},
   "source": []
  },
  {
   "cell_type": "code",
   "execution_count": 37,
   "metadata": {},
   "outputs": [],
   "source": [
    "#Set the location of all the pois of this category. maxdist is the maximum distance that will \n",
    "#later be used in find_all_nearest_pois, and maxitems - the maximum number of items that will \n",
    "#later be requested in find_all_nearest_pois\n",
    "\n",
    "net.set_pois(\"All\", 300, 20, intersections['Long'], intersections['Lat'])\n",
    "\n",
    "#Find the distance to the nearest pois from each source node. \n",
    "#The bigger values in this case mean less accessibility.\n",
    "access = net.nearest_pois(300, \"All\", num_pois=10)"
   ]
  },
  {
   "cell_type": "code",
   "execution_count": 136,
   "metadata": {
    "scrolled": true
   },
   "outputs": [
    {
     "data": {
      "text/html": [
       "<div>\n",
       "<style scoped>\n",
       "    .dataframe tbody tr th:only-of-type {\n",
       "        vertical-align: middle;\n",
       "    }\n",
       "\n",
       "    .dataframe tbody tr th {\n",
       "        vertical-align: top;\n",
       "    }\n",
       "\n",
       "    .dataframe thead th {\n",
       "        text-align: right;\n",
       "    }\n",
       "</style>\n",
       "<table border=\"1\" class=\"dataframe\">\n",
       "  <thead>\n",
       "    <tr style=\"text-align: right;\">\n",
       "      <th></th>\n",
       "      <th>1</th>\n",
       "      <th>2</th>\n",
       "      <th>3</th>\n",
       "      <th>4</th>\n",
       "      <th>5</th>\n",
       "      <th>6</th>\n",
       "      <th>7</th>\n",
       "      <th>8</th>\n",
       "      <th>9</th>\n",
       "      <th>10</th>\n",
       "    </tr>\n",
       "    <tr>\n",
       "      <th>id_node</th>\n",
       "      <th></th>\n",
       "      <th></th>\n",
       "      <th></th>\n",
       "      <th></th>\n",
       "      <th></th>\n",
       "      <th></th>\n",
       "      <th></th>\n",
       "      <th></th>\n",
       "      <th></th>\n",
       "      <th></th>\n",
       "    </tr>\n",
       "  </thead>\n",
       "  <tbody>\n",
       "    <tr>\n",
       "      <th>9845</th>\n",
       "      <td>0.180000</td>\n",
       "      <td>0.237000</td>\n",
       "      <td>0.237000</td>\n",
       "      <td>0.237000</td>\n",
       "      <td>0.237000</td>\n",
       "      <td>0.237000</td>\n",
       "      <td>0.237000</td>\n",
       "      <td>0.297000</td>\n",
       "      <td>0.383</td>\n",
       "      <td>0.383000</td>\n",
       "    </tr>\n",
       "    <tr>\n",
       "      <th>9848</th>\n",
       "      <td>16.162001</td>\n",
       "      <td>16.219000</td>\n",
       "      <td>16.219000</td>\n",
       "      <td>16.219000</td>\n",
       "      <td>16.219000</td>\n",
       "      <td>16.219000</td>\n",
       "      <td>16.219000</td>\n",
       "      <td>16.278999</td>\n",
       "      <td>16.365</td>\n",
       "      <td>16.365000</td>\n",
       "    </tr>\n",
       "    <tr>\n",
       "      <th>9850</th>\n",
       "      <td>17.261999</td>\n",
       "      <td>21.434999</td>\n",
       "      <td>21.434999</td>\n",
       "      <td>21.434999</td>\n",
       "      <td>22.829000</td>\n",
       "      <td>22.886000</td>\n",
       "      <td>22.886000</td>\n",
       "      <td>22.886000</td>\n",
       "      <td>22.886</td>\n",
       "      <td>22.886000</td>\n",
       "    </tr>\n",
       "    <tr>\n",
       "      <th>9852</th>\n",
       "      <td>18.739000</td>\n",
       "      <td>21.351999</td>\n",
       "      <td>21.409000</td>\n",
       "      <td>21.409000</td>\n",
       "      <td>21.409000</td>\n",
       "      <td>21.409000</td>\n",
       "      <td>21.409000</td>\n",
       "      <td>21.409000</td>\n",
       "      <td>21.469</td>\n",
       "      <td>21.555000</td>\n",
       "    </tr>\n",
       "    <tr>\n",
       "      <th>9854</th>\n",
       "      <td>20.480000</td>\n",
       "      <td>20.480000</td>\n",
       "      <td>20.480000</td>\n",
       "      <td>24.653000</td>\n",
       "      <td>34.529999</td>\n",
       "      <td>39.132999</td>\n",
       "      <td>43.317001</td>\n",
       "      <td>44.138000</td>\n",
       "      <td>44.138</td>\n",
       "      <td>45.188999</td>\n",
       "    </tr>\n",
       "  </tbody>\n",
       "</table>\n",
       "</div>"
      ],
      "text/plain": [
       "                1          2          3          4          5          6   \\\n",
       "id_node                                                                     \n",
       "9845      0.180000   0.237000   0.237000   0.237000   0.237000   0.237000   \n",
       "9848     16.162001  16.219000  16.219000  16.219000  16.219000  16.219000   \n",
       "9850     17.261999  21.434999  21.434999  21.434999  22.829000  22.886000   \n",
       "9852     18.739000  21.351999  21.409000  21.409000  21.409000  21.409000   \n",
       "9854     20.480000  20.480000  20.480000  24.653000  34.529999  39.132999   \n",
       "\n",
       "                7          8       9          10  \n",
       "id_node                                           \n",
       "9845      0.237000   0.297000   0.383   0.383000  \n",
       "9848     16.219000  16.278999  16.365  16.365000  \n",
       "9850     22.886000  22.886000  22.886  22.886000  \n",
       "9852     21.409000  21.409000  21.469  21.555000  \n",
       "9854     43.317001  44.138000  44.138  45.188999  "
      ]
     },
     "execution_count": 136,
     "metadata": {},
     "output_type": "execute_result"
    }
   ],
   "source": [
    "access.head()"
   ]
  },
  {
   "cell_type": "markdown",
   "metadata": {},
   "source": [
    "# Accessibility visualization Measures"
   ]
  },
  {
   "cell_type": "code",
   "execution_count": null,
   "metadata": {},
   "outputs": [],
   "source": []
  },
  {
   "cell_type": "code",
   "execution_count": null,
   "metadata": {},
   "outputs": [],
   "source": []
  },
  {
   "cell_type": "code",
   "execution_count": 40,
   "metadata": {},
   "outputs": [],
   "source": [
    "n = 1\n",
    "temp_access = access[[n]]\n",
    "nodes_gdf['cost'] = access[n] \n",
    "nodes_gdf.cost[:] = access[n]"
   ]
  },
  {
   "cell_type": "code",
   "execution_count": 41,
   "metadata": {},
   "outputs": [],
   "source": [
    "nodes_gdf['geometry'] = [Point(xy) for xy in zip(nodes_gdf['x'], nodes_gdf['y'])]\n",
    "nodes_gdf = gpd.GeoDataFrame(nodes_gdf, crs=crs)"
   ]
  },
  {
   "cell_type": "code",
   "execution_count": 42,
   "metadata": {},
   "outputs": [
    {
     "data": {
      "text/html": [
       "<div>\n",
       "<style scoped>\n",
       "    .dataframe tbody tr th:only-of-type {\n",
       "        vertical-align: middle;\n",
       "    }\n",
       "\n",
       "    .dataframe tbody tr th {\n",
       "        vertical-align: top;\n",
       "    }\n",
       "\n",
       "    .dataframe thead th {\n",
       "        text-align: right;\n",
       "    }\n",
       "</style>\n",
       "<table border=\"1\" class=\"dataframe\">\n",
       "  <thead>\n",
       "    <tr style=\"text-align: right;\">\n",
       "      <th></th>\n",
       "      <th>id_node</th>\n",
       "      <th>x</th>\n",
       "      <th>y</th>\n",
       "      <th>cost</th>\n",
       "      <th>geometry</th>\n",
       "    </tr>\n",
       "  </thead>\n",
       "  <tbody>\n",
       "    <tr>\n",
       "      <th>0</th>\n",
       "      <td>9845</td>\n",
       "      <td>-121.922491</td>\n",
       "      <td>37.495935</td>\n",
       "      <td>0.180000</td>\n",
       "      <td>POINT (-121.92249 37.49593)</td>\n",
       "    </tr>\n",
       "    <tr>\n",
       "      <th>1</th>\n",
       "      <td>9848</td>\n",
       "      <td>-121.921727</td>\n",
       "      <td>37.494013</td>\n",
       "      <td>16.162001</td>\n",
       "      <td>POINT (-121.92173 37.49401)</td>\n",
       "    </tr>\n",
       "    <tr>\n",
       "      <th>2</th>\n",
       "      <td>9850</td>\n",
       "      <td>-121.923525</td>\n",
       "      <td>37.495613</td>\n",
       "      <td>17.261999</td>\n",
       "      <td>POINT (-121.92353 37.49561)</td>\n",
       "    </tr>\n",
       "    <tr>\n",
       "      <th>3</th>\n",
       "      <td>9852</td>\n",
       "      <td>-121.923128</td>\n",
       "      <td>37.495265</td>\n",
       "      <td>18.739000</td>\n",
       "      <td>POINT (-121.92313 37.49526)</td>\n",
       "    </tr>\n",
       "    <tr>\n",
       "      <th>4</th>\n",
       "      <td>9854</td>\n",
       "      <td>-121.934705</td>\n",
       "      <td>37.505858</td>\n",
       "      <td>20.480000</td>\n",
       "      <td>POINT (-121.93470 37.50586)</td>\n",
       "    </tr>\n",
       "  </tbody>\n",
       "</table>\n",
       "</div>"
      ],
      "text/plain": [
       "   id_node           x          y       cost                     geometry\n",
       "0     9845 -121.922491  37.495935   0.180000  POINT (-121.92249 37.49593)\n",
       "1     9848 -121.921727  37.494013  16.162001  POINT (-121.92173 37.49401)\n",
       "2     9850 -121.923525  37.495613  17.261999  POINT (-121.92353 37.49561)\n",
       "3     9852 -121.923128  37.495265  18.739000  POINT (-121.92313 37.49526)\n",
       "4     9854 -121.934705  37.505858  20.480000  POINT (-121.93470 37.50586)"
      ]
     },
     "execution_count": 42,
     "metadata": {},
     "output_type": "execute_result"
    }
   ],
   "source": [
    "nodes_gdf.head()"
   ]
  },
  {
   "cell_type": "code",
   "execution_count": 43,
   "metadata": {
    "scrolled": false
   },
   "outputs": [
    {
     "name": "stdout",
     "output_type": "stream",
     "text": [
      "User Guide: https://github.com/keplergl/kepler.gl/blob/master/docs/keplergl-jupyter/user-guide.md\n"
     ]
    },
    {
     "data": {
      "application/vnd.jupyter.widget-view+json": {
       "model_id": "67dc8983e0f2484aad637ad5f70040d8",
       "version_major": 2,
       "version_minor": 0
      },
      "text/plain": [
       "KeplerGl(data={'nodes': {'index': [9845, 9848, 9850, 9852, 9854, 9856, 9859, 9863, 9865, 9868, 9881, 9888, 989…"
      ]
     },
     "metadata": {},
     "output_type": "display_data"
    }
   ],
   "source": [
    "map_5 = KeplerGl(height=600)\n",
    "map_5.add_data(data=Aimsun_nodes, name = \"nodes\")\n",
    "map_5.add_data(data=nodes_gdf, name = \"accessibility heatmap\")\n",
    "map_5"
   ]
  },
  {
   "cell_type": "code",
   "execution_count": 44,
   "metadata": {},
   "outputs": [],
   "source": [
    "net.set_pois(\"POIs\", 300, 20, intersections['Long'], intersections['Lat'])\n",
    "# access = net.nearest_pois(300, \"restaurants\", num_pois=10)\n",
    "\n",
    "# x, y = buildings.x, buildings.y\n",
    "# buildings[\"node_ids\"] = net.get_node_ids(x, y)\n",
    "# net.set(node_ids, variable=buildings.square_footage, name=\"square_footage\")\n",
    "# net.set(node_ids, variable=buildings.residential_units,\n",
    "#         name=\"residential_units\")"
   ]
  },
  {
   "cell_type": "code",
   "execution_count": null,
   "metadata": {},
   "outputs": [],
   "source": []
  },
  {
   "cell_type": "code",
   "execution_count": null,
   "metadata": {},
   "outputs": [],
   "source": []
  },
  {
   "cell_type": "code",
   "execution_count": 45,
   "metadata": {
    "scrolled": true
   },
   "outputs": [
    {
     "data": {
      "text/plain": [
       "id_node\n",
       "9845     1643.0\n",
       "9848     1636.0\n",
       "9850     1632.0\n",
       "9852     1632.0\n",
       "9854     1120.0\n",
       "          ...  \n",
       "62955       0.0\n",
       "62956       1.0\n",
       "62957       0.0\n",
       "62958       2.0\n",
       "62959       0.0\n",
       "Length: 2640, dtype: float64"
      ]
     },
     "execution_count": 45,
     "metadata": {},
     "output_type": "execute_result"
    }
   ],
   "source": [
    "net.set(intersections['nearest_node_id']) #variable=intersections['count']\n",
    "aggregated = net.aggregate(60, type='sum', decay='flat') #, imp_name=None, name='tmp'\n",
    "aggregated"
   ]
  },
  {
   "cell_type": "code",
   "execution_count": 46,
   "metadata": {},
   "outputs": [],
   "source": [
    "aggregated.index = range(len(aggregated))"
   ]
  },
  {
   "cell_type": "code",
   "execution_count": 47,
   "metadata": {},
   "outputs": [
    {
     "data": {
      "text/html": [
       "<div>\n",
       "<style scoped>\n",
       "    .dataframe tbody tr th:only-of-type {\n",
       "        vertical-align: middle;\n",
       "    }\n",
       "\n",
       "    .dataframe tbody tr th {\n",
       "        vertical-align: top;\n",
       "    }\n",
       "\n",
       "    .dataframe thead th {\n",
       "        text-align: right;\n",
       "    }\n",
       "</style>\n",
       "<table border=\"1\" class=\"dataframe\">\n",
       "  <thead>\n",
       "    <tr style=\"text-align: right;\">\n",
       "      <th></th>\n",
       "      <th>id_node</th>\n",
       "      <th>x</th>\n",
       "      <th>y</th>\n",
       "      <th>cost</th>\n",
       "      <th>geometry</th>\n",
       "      <th>0</th>\n",
       "    </tr>\n",
       "  </thead>\n",
       "  <tbody>\n",
       "    <tr>\n",
       "      <th>0</th>\n",
       "      <td>9845</td>\n",
       "      <td>-121.922491</td>\n",
       "      <td>37.495935</td>\n",
       "      <td>0.180000</td>\n",
       "      <td>POINT (-121.92249 37.49593)</td>\n",
       "      <td>1643.0</td>\n",
       "    </tr>\n",
       "    <tr>\n",
       "      <th>1</th>\n",
       "      <td>9848</td>\n",
       "      <td>-121.921727</td>\n",
       "      <td>37.494013</td>\n",
       "      <td>16.162001</td>\n",
       "      <td>POINT (-121.92173 37.49401)</td>\n",
       "      <td>1636.0</td>\n",
       "    </tr>\n",
       "    <tr>\n",
       "      <th>2</th>\n",
       "      <td>9850</td>\n",
       "      <td>-121.923525</td>\n",
       "      <td>37.495613</td>\n",
       "      <td>17.261999</td>\n",
       "      <td>POINT (-121.92353 37.49561)</td>\n",
       "      <td>1632.0</td>\n",
       "    </tr>\n",
       "    <tr>\n",
       "      <th>3</th>\n",
       "      <td>9852</td>\n",
       "      <td>-121.923128</td>\n",
       "      <td>37.495265</td>\n",
       "      <td>18.739000</td>\n",
       "      <td>POINT (-121.92313 37.49526)</td>\n",
       "      <td>1632.0</td>\n",
       "    </tr>\n",
       "    <tr>\n",
       "      <th>4</th>\n",
       "      <td>9854</td>\n",
       "      <td>-121.934705</td>\n",
       "      <td>37.505858</td>\n",
       "      <td>20.480000</td>\n",
       "      <td>POINT (-121.93470 37.50586)</td>\n",
       "      <td>1120.0</td>\n",
       "    </tr>\n",
       "    <tr>\n",
       "      <th>...</th>\n",
       "      <td>...</td>\n",
       "      <td>...</td>\n",
       "      <td>...</td>\n",
       "      <td>...</td>\n",
       "      <td>...</td>\n",
       "      <td>...</td>\n",
       "    </tr>\n",
       "    <tr>\n",
       "      <th>2635</th>\n",
       "      <td>62955</td>\n",
       "      <td>-121.944719</td>\n",
       "      <td>37.547683</td>\n",
       "      <td>300.000000</td>\n",
       "      <td>POINT (-121.94472 37.54768)</td>\n",
       "      <td>0.0</td>\n",
       "    </tr>\n",
       "    <tr>\n",
       "      <th>2636</th>\n",
       "      <td>62956</td>\n",
       "      <td>-121.913275</td>\n",
       "      <td>37.510602</td>\n",
       "      <td>0.000000</td>\n",
       "      <td>POINT (-121.91328 37.51060)</td>\n",
       "      <td>1.0</td>\n",
       "    </tr>\n",
       "    <tr>\n",
       "      <th>2637</th>\n",
       "      <td>62957</td>\n",
       "      <td>-121.913258</td>\n",
       "      <td>37.510625</td>\n",
       "      <td>300.000000</td>\n",
       "      <td>POINT (-121.91326 37.51062)</td>\n",
       "      <td>0.0</td>\n",
       "    </tr>\n",
       "    <tr>\n",
       "      <th>2638</th>\n",
       "      <td>62958</td>\n",
       "      <td>-121.930401</td>\n",
       "      <td>37.537421</td>\n",
       "      <td>0.000000</td>\n",
       "      <td>POINT (-121.93040 37.53742)</td>\n",
       "      <td>2.0</td>\n",
       "    </tr>\n",
       "    <tr>\n",
       "      <th>2639</th>\n",
       "      <td>62959</td>\n",
       "      <td>-121.930397</td>\n",
       "      <td>37.537471</td>\n",
       "      <td>300.000000</td>\n",
       "      <td>POINT (-121.93040 37.53747)</td>\n",
       "      <td>0.0</td>\n",
       "    </tr>\n",
       "  </tbody>\n",
       "</table>\n",
       "<p>2640 rows × 6 columns</p>\n",
       "</div>"
      ],
      "text/plain": [
       "      id_node           x          y        cost                     geometry  \\\n",
       "0        9845 -121.922491  37.495935    0.180000  POINT (-121.92249 37.49593)   \n",
       "1        9848 -121.921727  37.494013   16.162001  POINT (-121.92173 37.49401)   \n",
       "2        9850 -121.923525  37.495613   17.261999  POINT (-121.92353 37.49561)   \n",
       "3        9852 -121.923128  37.495265   18.739000  POINT (-121.92313 37.49526)   \n",
       "4        9854 -121.934705  37.505858   20.480000  POINT (-121.93470 37.50586)   \n",
       "...       ...         ...        ...         ...                          ...   \n",
       "2635    62955 -121.944719  37.547683  300.000000  POINT (-121.94472 37.54768)   \n",
       "2636    62956 -121.913275  37.510602    0.000000  POINT (-121.91328 37.51060)   \n",
       "2637    62957 -121.913258  37.510625  300.000000  POINT (-121.91326 37.51062)   \n",
       "2638    62958 -121.930401  37.537421    0.000000  POINT (-121.93040 37.53742)   \n",
       "2639    62959 -121.930397  37.537471  300.000000  POINT (-121.93040 37.53747)   \n",
       "\n",
       "           0  \n",
       "0     1643.0  \n",
       "1     1636.0  \n",
       "2     1632.0  \n",
       "3     1632.0  \n",
       "4     1120.0  \n",
       "...      ...  \n",
       "2635     0.0  \n",
       "2636     1.0  \n",
       "2637     0.0  \n",
       "2638     2.0  \n",
       "2639     0.0  \n",
       "\n",
       "[2640 rows x 6 columns]"
      ]
     },
     "execution_count": 47,
     "metadata": {},
     "output_type": "execute_result"
    }
   ],
   "source": [
    "nodes_gdf.join(aggregated.to_frame())"
   ]
  },
  {
   "cell_type": "code",
   "execution_count": 48,
   "metadata": {},
   "outputs": [],
   "source": [
    "aggregated.index = range(len(aggregated))\n",
    "joined = nodes_gdf.join(aggregated.to_frame())\n",
    "joined = joined.rename(columns={0:'access_level'})\n",
    "#joined.plot(column='access_level', cmap='OrRd', figsize=(7, 7))"
   ]
  },
  {
   "cell_type": "code",
   "execution_count": 51,
   "metadata": {},
   "outputs": [
    {
     "data": {
      "text/html": [
       "<div>\n",
       "<style scoped>\n",
       "    .dataframe tbody tr th:only-of-type {\n",
       "        vertical-align: middle;\n",
       "    }\n",
       "\n",
       "    .dataframe tbody tr th {\n",
       "        vertical-align: top;\n",
       "    }\n",
       "\n",
       "    .dataframe thead th {\n",
       "        text-align: right;\n",
       "    }\n",
       "</style>\n",
       "<table border=\"1\" class=\"dataframe\">\n",
       "  <thead>\n",
       "    <tr style=\"text-align: right;\">\n",
       "      <th></th>\n",
       "      <th>id_node</th>\n",
       "      <th>x</th>\n",
       "      <th>y</th>\n",
       "      <th>cost</th>\n",
       "      <th>geometry</th>\n",
       "      <th>access_level</th>\n",
       "    </tr>\n",
       "  </thead>\n",
       "  <tbody>\n",
       "    <tr>\n",
       "      <th>0</th>\n",
       "      <td>9845</td>\n",
       "      <td>-121.922491</td>\n",
       "      <td>37.495935</td>\n",
       "      <td>0.180000</td>\n",
       "      <td>POINT (-121.92249 37.49593)</td>\n",
       "      <td>1643.0</td>\n",
       "    </tr>\n",
       "    <tr>\n",
       "      <th>1</th>\n",
       "      <td>9848</td>\n",
       "      <td>-121.921727</td>\n",
       "      <td>37.494013</td>\n",
       "      <td>16.162001</td>\n",
       "      <td>POINT (-121.92173 37.49401)</td>\n",
       "      <td>1636.0</td>\n",
       "    </tr>\n",
       "    <tr>\n",
       "      <th>2</th>\n",
       "      <td>9850</td>\n",
       "      <td>-121.923525</td>\n",
       "      <td>37.495613</td>\n",
       "      <td>17.261999</td>\n",
       "      <td>POINT (-121.92353 37.49561)</td>\n",
       "      <td>1632.0</td>\n",
       "    </tr>\n",
       "    <tr>\n",
       "      <th>3</th>\n",
       "      <td>9852</td>\n",
       "      <td>-121.923128</td>\n",
       "      <td>37.495265</td>\n",
       "      <td>18.739000</td>\n",
       "      <td>POINT (-121.92313 37.49526)</td>\n",
       "      <td>1632.0</td>\n",
       "    </tr>\n",
       "    <tr>\n",
       "      <th>4</th>\n",
       "      <td>9854</td>\n",
       "      <td>-121.934705</td>\n",
       "      <td>37.505858</td>\n",
       "      <td>20.480000</td>\n",
       "      <td>POINT (-121.93470 37.50586)</td>\n",
       "      <td>1120.0</td>\n",
       "    </tr>\n",
       "  </tbody>\n",
       "</table>\n",
       "</div>"
      ],
      "text/plain": [
       "   id_node           x          y       cost                     geometry  \\\n",
       "0     9845 -121.922491  37.495935   0.180000  POINT (-121.92249 37.49593)   \n",
       "1     9848 -121.921727  37.494013  16.162001  POINT (-121.92173 37.49401)   \n",
       "2     9850 -121.923525  37.495613  17.261999  POINT (-121.92353 37.49561)   \n",
       "3     9852 -121.923128  37.495265  18.739000  POINT (-121.92313 37.49526)   \n",
       "4     9854 -121.934705  37.505858  20.480000  POINT (-121.93470 37.50586)   \n",
       "\n",
       "   access_level  \n",
       "0        1643.0  \n",
       "1        1636.0  \n",
       "2        1632.0  \n",
       "3        1632.0  \n",
       "4        1120.0  "
      ]
     },
     "execution_count": 51,
     "metadata": {},
     "output_type": "execute_result"
    }
   ],
   "source": [
    "joined.head()"
   ]
  },
  {
   "cell_type": "code",
   "execution_count": null,
   "metadata": {},
   "outputs": [],
   "source": []
  },
  {
   "cell_type": "code",
   "execution_count": 49,
   "metadata": {
    "scrolled": false
   },
   "outputs": [
    {
     "name": "stdout",
     "output_type": "stream",
     "text": [
      "User Guide: https://github.com/keplergl/kepler.gl/blob/master/docs/keplergl-jupyter/user-guide.md\n"
     ]
    },
    {
     "data": {
      "application/vnd.jupyter.widget-view+json": {
       "model_id": "8106ee2e64384155888914b2f08f3ca7",
       "version_major": 2,
       "version_minor": 0
      },
      "text/plain": [
       "KeplerGl(data={'aggregated accessibility heatmap': {'index': [0, 1, 2, 3, 4, 5, 6, 7, 8, 9, 10, 11, 12, 13, 14…"
      ]
     },
     "metadata": {},
     "output_type": "display_data"
    }
   ],
   "source": [
    "map_6 = KeplerGl(height=600)\n",
    "map_6.add_data(data=joined, name = \"aggregated accessibility heatmap\")\n",
    "map_6"
   ]
  },
  {
   "cell_type": "markdown",
   "metadata": {},
   "source": [
    "## Creating accessibility isochrone with networkx"
   ]
  },
  {
   "cell_type": "code",
   "execution_count": 52,
   "metadata": {},
   "outputs": [],
   "source": [
    "G = nx.Graph()"
   ]
  },
  {
   "cell_type": "code",
   "execution_count": 53,
   "metadata": {},
   "outputs": [
    {
     "data": {
      "text/html": [
       "<div>\n",
       "<style scoped>\n",
       "    .dataframe tbody tr th:only-of-type {\n",
       "        vertical-align: middle;\n",
       "    }\n",
       "\n",
       "    .dataframe tbody tr th {\n",
       "        vertical-align: top;\n",
       "    }\n",
       "\n",
       "    .dataframe thead th {\n",
       "        text-align: right;\n",
       "    }\n",
       "</style>\n",
       "<table border=\"1\" class=\"dataframe\">\n",
       "  <thead>\n",
       "    <tr style=\"text-align: right;\">\n",
       "      <th></th>\n",
       "      <th>id</th>\n",
       "      <th>id_node_source</th>\n",
       "      <th>id_node_target</th>\n",
       "      <th>distance</th>\n",
       "      <th>Unnamed: 0</th>\n",
       "      <th>did</th>\n",
       "      <th>oid</th>\n",
       "      <th>ent</th>\n",
       "      <th>exitTime</th>\n",
       "      <th>travelTime</th>\n",
       "      <th>delayTime</th>\n",
       "    </tr>\n",
       "  </thead>\n",
       "  <tbody>\n",
       "    <tr>\n",
       "      <th>0</th>\n",
       "      <td>242</td>\n",
       "      <td>9845</td>\n",
       "      <td>9923</td>\n",
       "      <td>2100.0</td>\n",
       "      <td>233.0</td>\n",
       "      <td>27989.0</td>\n",
       "      <td>10.0</td>\n",
       "      <td>24.0</td>\n",
       "      <td>50481.9</td>\n",
       "      <td>12.94600</td>\n",
       "      <td>7.130020</td>\n",
       "    </tr>\n",
       "    <tr>\n",
       "      <th>1</th>\n",
       "      <td>243</td>\n",
       "      <td>9852</td>\n",
       "      <td>9848</td>\n",
       "      <td>6300.0</td>\n",
       "      <td>15.0</td>\n",
       "      <td>27989.0</td>\n",
       "      <td>1.0</td>\n",
       "      <td>16.0</td>\n",
       "      <td>50626.1</td>\n",
       "      <td>5.19072</td>\n",
       "      <td>0.000000</td>\n",
       "    </tr>\n",
       "    <tr>\n",
       "      <th>2</th>\n",
       "      <td>244</td>\n",
       "      <td>9850</td>\n",
       "      <td>9852</td>\n",
       "      <td>6300.0</td>\n",
       "      <td>14.0</td>\n",
       "      <td>27989.0</td>\n",
       "      <td>1.0</td>\n",
       "      <td>15.0</td>\n",
       "      <td>50620.9</td>\n",
       "      <td>1.47734</td>\n",
       "      <td>0.037734</td>\n",
       "    </tr>\n",
       "    <tr>\n",
       "      <th>5</th>\n",
       "      <td>248</td>\n",
       "      <td>9881</td>\n",
       "      <td>15043</td>\n",
       "      <td>700.0</td>\n",
       "      <td>9462.0</td>\n",
       "      <td>27989.0</td>\n",
       "      <td>367.0</td>\n",
       "      <td>3.0</td>\n",
       "      <td>50654.4</td>\n",
       "      <td>12.32940</td>\n",
       "      <td>8.871620</td>\n",
       "    </tr>\n",
       "    <tr>\n",
       "      <th>6</th>\n",
       "      <td>249</td>\n",
       "      <td>15043</td>\n",
       "      <td>9881</td>\n",
       "      <td>700.0</td>\n",
       "      <td>896850.0</td>\n",
       "      <td>27989.0</td>\n",
       "      <td>31941.0</td>\n",
       "      <td>68.0</td>\n",
       "      <td>64888.0</td>\n",
       "      <td>4.72323</td>\n",
       "      <td>1.716150</td>\n",
       "    </tr>\n",
       "  </tbody>\n",
       "</table>\n",
       "</div>"
      ],
      "text/plain": [
       "    id  id_node_source  id_node_target  distance  Unnamed: 0      did  \\\n",
       "0  242            9845            9923    2100.0       233.0  27989.0   \n",
       "1  243            9852            9848    6300.0        15.0  27989.0   \n",
       "2  244            9850            9852    6300.0        14.0  27989.0   \n",
       "5  248            9881           15043     700.0      9462.0  27989.0   \n",
       "6  249           15043            9881     700.0    896850.0  27989.0   \n",
       "\n",
       "       oid   ent  exitTime  travelTime  delayTime  \n",
       "0     10.0  24.0   50481.9    12.94600   7.130020  \n",
       "1      1.0  16.0   50626.1     5.19072   0.000000  \n",
       "2      1.0  15.0   50620.9     1.47734   0.037734  \n",
       "5    367.0   3.0   50654.4    12.32940   8.871620  \n",
       "6  31941.0  68.0   64888.0     4.72323   1.716150  "
      ]
     },
     "execution_count": 53,
     "metadata": {},
     "output_type": "execute_result"
    }
   ],
   "source": [
    "edge_weighted.head(5)"
   ]
  },
  {
   "cell_type": "code",
   "execution_count": 54,
   "metadata": {},
   "outputs": [
    {
     "data": {
      "text/html": [
       "<div>\n",
       "<style scoped>\n",
       "    .dataframe tbody tr th:only-of-type {\n",
       "        vertical-align: middle;\n",
       "    }\n",
       "\n",
       "    .dataframe tbody tr th {\n",
       "        vertical-align: top;\n",
       "    }\n",
       "\n",
       "    .dataframe thead th {\n",
       "        text-align: right;\n",
       "    }\n",
       "</style>\n",
       "<table border=\"1\" class=\"dataframe\">\n",
       "  <thead>\n",
       "    <tr style=\"text-align: right;\">\n",
       "      <th></th>\n",
       "      <th>id_node</th>\n",
       "      <th>x</th>\n",
       "      <th>y</th>\n",
       "      <th>cost</th>\n",
       "      <th>geometry</th>\n",
       "    </tr>\n",
       "  </thead>\n",
       "  <tbody>\n",
       "    <tr>\n",
       "      <th>0</th>\n",
       "      <td>9845</td>\n",
       "      <td>-121.922491</td>\n",
       "      <td>37.495935</td>\n",
       "      <td>0.180000</td>\n",
       "      <td>POINT (-121.92249 37.49593)</td>\n",
       "    </tr>\n",
       "    <tr>\n",
       "      <th>1</th>\n",
       "      <td>9848</td>\n",
       "      <td>-121.921727</td>\n",
       "      <td>37.494013</td>\n",
       "      <td>16.162001</td>\n",
       "      <td>POINT (-121.92173 37.49401)</td>\n",
       "    </tr>\n",
       "    <tr>\n",
       "      <th>2</th>\n",
       "      <td>9850</td>\n",
       "      <td>-121.923525</td>\n",
       "      <td>37.495613</td>\n",
       "      <td>17.261999</td>\n",
       "      <td>POINT (-121.92353 37.49561)</td>\n",
       "    </tr>\n",
       "    <tr>\n",
       "      <th>3</th>\n",
       "      <td>9852</td>\n",
       "      <td>-121.923128</td>\n",
       "      <td>37.495265</td>\n",
       "      <td>18.739000</td>\n",
       "      <td>POINT (-121.92313 37.49526)</td>\n",
       "    </tr>\n",
       "    <tr>\n",
       "      <th>4</th>\n",
       "      <td>9854</td>\n",
       "      <td>-121.934705</td>\n",
       "      <td>37.505858</td>\n",
       "      <td>20.480000</td>\n",
       "      <td>POINT (-121.93470 37.50586)</td>\n",
       "    </tr>\n",
       "  </tbody>\n",
       "</table>\n",
       "</div>"
      ],
      "text/plain": [
       "   id_node           x          y       cost                     geometry\n",
       "0     9845 -121.922491  37.495935   0.180000  POINT (-121.92249 37.49593)\n",
       "1     9848 -121.921727  37.494013  16.162001  POINT (-121.92173 37.49401)\n",
       "2     9850 -121.923525  37.495613  17.261999  POINT (-121.92353 37.49561)\n",
       "3     9852 -121.923128  37.495265  18.739000  POINT (-121.92313 37.49526)\n",
       "4     9854 -121.934705  37.505858  20.480000  POINT (-121.93470 37.50586)"
      ]
     },
     "execution_count": 54,
     "metadata": {},
     "output_type": "execute_result"
    }
   ],
   "source": [
    "nodes_gdf.head(5)"
   ]
  },
  {
   "cell_type": "code",
   "execution_count": 55,
   "metadata": {},
   "outputs": [],
   "source": [
    "#load the edges and notes to networkx Graph, including the simulated results as attributes\n",
    "for i in range(len(edge_weighted)):\n",
    "    id_edge = edge_weighted.iloc[i]['id']\n",
    "    source_node = edge_weighted.iloc[i]['id_node_source']\n",
    "    target_node = edge_weighted.iloc[i]['id_node_target']\n",
    "    distance = edge_weighted.iloc[i]['distance']\n",
    "    travelTime = edge_weighted.iloc[i]['travelTime']\n",
    "    G.add_edge(source_node, target_node, id_edge = id_edge, distance=distance, travelTime=travelTime)"
   ]
  },
  {
   "cell_type": "code",
   "execution_count": 56,
   "metadata": {},
   "outputs": [],
   "source": [
    "for i in range(len(nodes_gdf)):\n",
    "    id_node = nodes_gdf.iloc[i]['id_node']\n",
    "    point = nodes_gdf.iloc[i]['geometry']\n",
    "    cost = nodes_gdf.iloc[i]['cost']\n",
    "    G.add_node(id_node, point = point, cost = cost)"
   ]
  },
  {
   "cell_type": "code",
   "execution_count": 57,
   "metadata": {},
   "outputs": [],
   "source": [
    "def node_getter(index): \n",
    "    \"\"\"\n",
    "    retrieve the lat and lon of a node at specific index\n",
    "    \"\"\"\n",
    "    return list(G.nodes(data=True))[index][0]\n",
    "def edge_getter(index):\n",
    "    \"\"\"\n",
    "    retrieve the starting node and endinge node of of an edge at specific index\n",
    "    \"\"\"\n",
    "    u, v, w = list(G.edges(data=True))[index]\n",
    "    return (u, v, w)\n"
   ]
  },
  {
   "cell_type": "code",
   "execution_count": null,
   "metadata": {},
   "outputs": [],
   "source": []
  },
  {
   "cell_type": "markdown",
   "metadata": {},
   "source": [
    "### Applying BFS on generating isochrone"
   ]
  },
  {
   "cell_type": "code",
   "execution_count": 123,
   "metadata": {},
   "outputs": [],
   "source": [
    "BFS_trav = list(nx.bfs_edges(G, source=node_getter(1), depth_limit=2))\n",
    "traversed = []\n",
    "for t in BFS_trav:\n",
    "    traversed.append(int(t[0]))\n",
    "    traversed.append(int(t[1]))\n",
    "traversed_2 = sorted(list(set(traversed)))"
   ]
  },
  {
   "cell_type": "code",
   "execution_count": 124,
   "metadata": {
    "scrolled": false
   },
   "outputs": [],
   "source": [
    "BFS_trav = list(nx.bfs_edges(G, source=node_getter(1), depth_limit=5))\n",
    "traversed = []\n",
    "for t in BFS_trav:\n",
    "    traversed.append(int(t[0]))\n",
    "    traversed.append(int(t[1]))\n",
    "traversed_4 = sorted(list(set(traversed)))"
   ]
  },
  {
   "cell_type": "code",
   "execution_count": 125,
   "metadata": {},
   "outputs": [],
   "source": [
    "node_colors = {}\n",
    "\n",
    "for node in traversed_4:\n",
    "    node_colors[node] = 2\n",
    "    \n",
    "for node in traversed_2:\n",
    "    node_colors[node] = 1\n",
    "\n",
    "nc = [node_colors[node] if node in node_colors else 'none' for node in G.nodes()]\n",
    "#ns = [20 if node in node_colors else 0 for node in G.nodes()]\n",
    "joined['color'] = nc"
   ]
  },
  {
   "cell_type": "code",
   "execution_count": 126,
   "metadata": {},
   "outputs": [],
   "source": [
    "nodes_1 = {k: v for k, v in node_colors.items() if v==1}.keys()\n",
    "nodes_2 = {k: v for k, v in node_colors.items() if v==2}.keys()\n",
    "assert len(nodes_1) + len(nodes_2) == len(node_colors)"
   ]
  },
  {
   "cell_type": "code",
   "execution_count": 113,
   "metadata": {},
   "outputs": [
    {
     "data": {
      "text/plain": [
       "9923.0"
      ]
     },
     "execution_count": 113,
     "metadata": {},
     "output_type": "execute_result"
    }
   ],
   "source": [
    "node_getter(1)"
   ]
  },
  {
   "cell_type": "code",
   "execution_count": 114,
   "metadata": {},
   "outputs": [],
   "source": [
    "# Transfering the nodes at different traversal depth to isochrone layer\n",
    "def traversal_to_layer(node_set):\n",
    "    layer_nodes_gdf = nodes_gdf[nodes_gdf.id_node.isin(node_set)]\n",
    "    #generate a convex hull containing all the subgraph nodes \n",
    "    bounding_poly = gpd.GeoSeries(layer_nodes_gdf['geometry']).unary_union.convex_hull\n",
    "    #creating a layer (geopandas df) for this bounding convex hull to be visualized in Kepler.gl\n",
    "    layer = gpd.GeoDataFrame([bounding_poly], crs=crs)\n",
    "    layer['geometry'] = layer[0]\n",
    "    return layer[['geometry']]"
   ]
  },
  {
   "cell_type": "code",
   "execution_count": 127,
   "metadata": {},
   "outputs": [],
   "source": [
    "layer_1 = traversal_to_layer(nodes_1)\n",
    "layer_2 = traversal_to_layer(nodes_2)"
   ]
  },
  {
   "cell_type": "code",
   "execution_count": 128,
   "metadata": {},
   "outputs": [
    {
     "name": "stdout",
     "output_type": "stream",
     "text": [
      "User Guide: https://github.com/keplergl/kepler.gl/blob/master/docs/keplergl-jupyter/user-guide.md\n"
     ]
    },
    {
     "data": {
      "application/vnd.jupyter.widget-view+json": {
       "model_id": "c8f9b7b3a126491b8b2917864eb8c5d3",
       "version_major": 2,
       "version_minor": 0
      },
      "text/plain": [
       "KeplerGl(data={'center POI': {'index': [18], 'columns': ['id_node', 'x', 'y', 'cost', 'geometry'], 'data': [[9…"
      ]
     },
     "metadata": {},
     "output_type": "display_data"
    }
   ],
   "source": [
    "map_8 = KeplerGl(height=600)\n",
    "map_8.add_data(data=nodes_gdf[nodes_gdf['id_node'] == 9923], name = \"center POI\")\n",
    "map_8.add_data(data=layer_2, name = \"isochrone_2\")\n",
    "map_8.add_data(data=layer_1, name = \"isochrone_1\")#[joined['color'] == 1]\n",
    "map_8"
   ]
  },
  {
   "cell_type": "markdown",
   "metadata": {},
   "source": [
    "### Using networkx ego graph to plot isochrone: https://networkx.github.io/documentation/networkx-1.10/reference/generated/networkx.generators.ego.ego_graph.html"
   ]
  },
  {
   "cell_type": "code",
   "execution_count": 129,
   "metadata": {},
   "outputs": [],
   "source": [
    "subgraph = nx.ego_graph(G, node_getter(1), radius=15, distance='travelTime')"
   ]
  },
  {
   "cell_type": "code",
   "execution_count": 130,
   "metadata": {},
   "outputs": [],
   "source": [
    "subgraph_1 = nx.ego_graph(G, node_getter(1), radius=20, distance='travelTime')"
   ]
  },
  {
   "cell_type": "code",
   "execution_count": 131,
   "metadata": {},
   "outputs": [],
   "source": [
    "def subgraph_layer(nodes_gdf, subgraph):\n",
    "    #extract the Nodes dataframe for subgraph\n",
    "    subgraph_nodes_gdf = nodes_gdf[nodes_gdf.id_node.isin(list(subgraph.nodes))]\n",
    "    #generate a convex hull containing all the subgraph nodes \n",
    "    bounding_poly = gpd.GeoSeries(subgraph_nodes_gdf['geometry']).unary_union.convex_hull\n",
    "    #creating a layer (geopandas df) for this bounding convex hull to be visualized in Kepler.gl\n",
    "    layer = gpd.GeoDataFrame([bounding_poly], crs=crs)\n",
    "    layer['geometry'] = layer[0]\n",
    "    return layer[['geometry']]"
   ]
  },
  {
   "cell_type": "code",
   "execution_count": 132,
   "metadata": {},
   "outputs": [],
   "source": [
    "layer_1 = subgraph_layer(nodes_gdf, subgraph)\n",
    "layer_2 = subgraph_layer(nodes_gdf, subgraph_1)"
   ]
  },
  {
   "cell_type": "code",
   "execution_count": 135,
   "metadata": {
    "scrolled": false
   },
   "outputs": [
    {
     "name": "stdout",
     "output_type": "stream",
     "text": [
      "User Guide: https://github.com/keplergl/kepler.gl/blob/master/docs/keplergl-jupyter/user-guide.md\n"
     ]
    },
    {
     "data": {
      "application/vnd.jupyter.widget-view+json": {
       "model_id": "ac9c9673e89e418a937a0968ce8b436a",
       "version_major": 2,
       "version_minor": 0
      },
      "text/plain": [
       "KeplerGl(data={'all POIs': {'index': [18], 'columns': ['id_node', 'x', 'y', 'cost', 'geometry'], 'data': [[992…"
      ]
     },
     "metadata": {},
     "output_type": "display_data"
    }
   ],
   "source": [
    "map_9 = KeplerGl(height=600)\n",
    "map_9.add_data(data=nodes_gdf[nodes_gdf['id_node'] == node_getter(1)], name = \"all POIs\")\n",
    "# map_8.add_data(data=joined[joined['color'] == 1], name = \"isochrone\")\n",
    "# map_8.add_data(data=joined[joined['color'] == 2], name = \"isochrone_1\")\n",
    "map_9.add_data(data=layer_1, name = 'layer_1')\n",
    "map_9.add_data(data=layer_2, name = 'layer_2')\n",
    "map_9"
   ]
  },
  {
   "cell_type": "code",
   "execution_count": null,
   "metadata": {},
   "outputs": [],
   "source": [
    "nodes_gdf"
   ]
  },
  {
   "cell_type": "code",
   "execution_count": null,
   "metadata": {},
   "outputs": [],
   "source": []
  },
  {
   "cell_type": "code",
   "execution_count": null,
   "metadata": {},
   "outputs": [],
   "source": []
  },
  {
   "cell_type": "code",
   "execution_count": null,
   "metadata": {},
   "outputs": [],
   "source": []
  },
  {
   "cell_type": "code",
   "execution_count": null,
   "metadata": {},
   "outputs": [],
   "source": []
  },
  {
   "cell_type": "markdown",
   "metadata": {},
   "source": [
    "## Previous experiments (might be irrelevant)"
   ]
  },
  {
   "cell_type": "code",
   "execution_count": null,
   "metadata": {},
   "outputs": [],
   "source": [
    "# Bounding box for a small area in East Emeryville, South Berkeley and North Oakland\n",
    "west, south, east, north = (-122.285535, 37.832531, -122.269571, 37.844596)\n",
    "\n",
    "# Create a network from that bounding box\n",
    "G = ox.graph_from_bbox(north, south, east, west, network_type='walk')\n",
    "# Let's create n arbitrary points of interest (POI)\n",
    "poi_count = 100\n",
    "\n",
    "# this function makes those POI into Shapely points\n",
    "def make_n_pois(north, south, east, west, poi_count):\n",
    "    for poi in range(poi_count):\n",
    "        x = (east - west) * random.random() + west\n",
    "        y = (north - south) * random.random() + south\n",
    "        yield Point(x, y)\n",
    "        \n",
    "pois = list(make_n_pois(north, south, east, west, poi_count))\n",
    "\n",
    "\n",
    "# Create the plot fig and ax objects but prevent Matplotlib\n",
    "# from plotting and closing out the plot operation\n",
    "fig, ax = ox.plot_graph(G, fig_height=10, \n",
    "                        show=False, close=False,\n",
    "                        edge_color='#777777')\n",
    "\n",
    "# Instead, let's first update the network with these new random POI\n",
    "for point in pois:\n",
    "    patch = PolygonPatch(point.buffer(0.0001), fc='#ff0000', ec='k', linewidth=0, alpha=0.5, zorder=-1)\n",
    "    ax.add_patch(patch)"
   ]
  },
  {
   "cell_type": "code",
   "execution_count": null,
   "metadata": {},
   "outputs": [],
   "source": [
    "def create_nodes_df(G):\n",
    "    # first make a df from the nodes\n",
    "    # and pivot the results so that the \n",
    "    # individual node ids are listed as\n",
    "    # row indices\n",
    "    nodes_df = pd.DataFrame(G.nodes).T\n",
    "    \n",
    "    # preserve these indices as a column values, too\n",
    "    nodes_df['id'] = nodes_df.index\n",
    "    # and cast it as an integer\n",
    "    nodes_df['id'] = nodes_df['id'].astype(int)\n",
    "    \n",
    "    return nodes_df\n",
    "\n",
    "nodes_df = create_nodes_df(G)\n"
   ]
  },
  {
   "cell_type": "code",
   "execution_count": null,
   "metadata": {},
   "outputs": [],
   "source": []
  },
  {
   "cell_type": "code",
   "execution_count": null,
   "metadata": {},
   "outputs": [],
   "source": [
    "nodes_df = pd.DataFrame(G.nodes)"
   ]
  },
  {
   "cell_type": "code",
   "execution_count": null,
   "metadata": {},
   "outputs": [],
   "source": [
    "nodes_df['id'] = nodes_df.index"
   ]
  },
  {
   "cell_type": "code",
   "execution_count": null,
   "metadata": {},
   "outputs": [],
   "source": [
    "nodes_df"
   ]
  },
  {
   "cell_type": "code",
   "execution_count": null,
   "metadata": {},
   "outputs": [],
   "source": []
  },
  {
   "cell_type": "code",
   "execution_count": null,
   "metadata": {},
   "outputs": [],
   "source": [
    "edges_ref = {}\n",
    "\n",
    "# move through first key (origin node)\n",
    "for e1 in G.edges.keys():\n",
    "    e1_dict = G.edges[e1]\n",
    "\n",
    "    # and then get second key (destination node)\n",
    "    for e2 in e1_dict.keys():\n",
    "        # always use the first key here\n",
    "        e2_dict = e1_dict[e2][0]\n",
    "\n",
    "        # update the sub-dict to include\n",
    "        # the origin and destination nodes\n",
    "        e2_dict['st_node'] = e1\n",
    "        e2_dict['en_node'] = e2\n",
    "\n",
    "        # ugly, and unnecessary but might as\n",
    "        # well name the index something useful\n",
    "        name = '{}_{}'.format(e1, e2)\n",
    "\n",
    "        # udpate the top level reference dict\n",
    "        # with this new, prepared sub-dict\n",
    "        edges_ref[name] = e2_dict"
   ]
  },
  {
   "cell_type": "code",
   "execution_count": null,
   "metadata": {},
   "outputs": [],
   "source": [
    "list(G.edges)[0]"
   ]
  },
  {
   "cell_type": "code",
   "execution_count": null,
   "metadata": {},
   "outputs": [],
   "source": [
    "G.edges[list(G.edges)[0]]"
   ]
  },
  {
   "cell_type": "code",
   "execution_count": null,
   "metadata": {},
   "outputs": [],
   "source": [
    "G.edges[list(G.edges)[0]]"
   ]
  },
  {
   "cell_type": "code",
   "execution_count": null,
   "metadata": {},
   "outputs": [],
   "source": []
  },
  {
   "cell_type": "code",
   "execution_count": null,
   "metadata": {},
   "outputs": [],
   "source": [
    "for e1 in G.edges:\n",
    "    e1_dict = G.edges[e1]\n",
    "    print(e1_dict)"
   ]
  },
  {
   "cell_type": "code",
   "execution_count": null,
   "metadata": {},
   "outputs": [],
   "source": [
    "# Given a graph, generate a dataframe (df)\n",
    "# representing all graph edges\n",
    "def create_edges_df(G):\n",
    "    # First, we must move the nested objects\n",
    "    # to a signle top level dictionary\n",
    "    # that can be consumed by a Pandas df\n",
    "    edges_ref = {}\n",
    "    \n",
    "    # move through first key (origin node)\n",
    "    for e1 in G.edges.keys():\n",
    "        e1_dict = G.edges[e1]\n",
    "\n",
    "        # and then get second key (destination node)\n",
    "        for e2 in e1_dict.keys():\n",
    "            # always use the first key here\n",
    "            e2_dict = e1_dict[e2][0]\n",
    "\n",
    "            # update the sub-dict to include\n",
    "            # the origin and destination nodes\n",
    "            e2_dict['st_node'] = e1\n",
    "            e2_dict['en_node'] = e2\n",
    "\n",
    "            # ugly, and unnecessary but might as\n",
    "            # well name the index something useful\n",
    "            name = '{}_{}'.format(e1, e2)\n",
    "\n",
    "            # udpate the top level reference dict\n",
    "            # with this new, prepared sub-dict\n",
    "            edges_ref[name] = e2_dict\n",
    "\n",
    "    # let's take the resulting dict and convert it\n",
    "    # to a Pandas df, and pivot it as with the nodes\n",
    "    # method to get unique edges as rows\n",
    "    edges_df = pd.DataFrame(edges_ref).T\n",
    "    \n",
    "    # udpate the edge start and stop nodes as integers\n",
    "    # which is necessary for Pandana\n",
    "    edges_df['st_node'] = edges_df['st_node'].astype(int)\n",
    "    edges_df['en_node'] = edges_df['en_node'].astype(int)\n",
    "    \n",
    "    # for the purposes of this example, we are not going\n",
    "    # to both with impedence along edge so they all get\n",
    "    # set to the same value of 1\n",
    "    edges_df['weight'] = 1\n",
    "    \n",
    "    return edges_df\n",
    "\n",
    "edges_df = create_edges_df(G)"
   ]
  },
  {
   "cell_type": "code",
   "execution_count": null,
   "metadata": {},
   "outputs": [],
   "source": [
    "#try some simple plotting of the networkx Graph\n",
    "H = G.subgraph([n[0] for n in list(G.nodes(data=True))[:10]])\n",
    "fig, ax = plt.subplots(1, 1, figsize=(10, 10))\n",
    "nx.draw_networkx(H, ax=ax, node_size=5,\n",
    "                 font_size=6, alpha=.5,\n",
    "                 width=.5)\n",
    "ax.set_axis_off()"
   ]
  },
  {
   "cell_type": "code",
   "execution_count": null,
   "metadata": {},
   "outputs": [],
   "source": []
  },
  {
   "cell_type": "code",
   "execution_count": null,
   "metadata": {},
   "outputs": [],
   "source": []
  },
  {
   "cell_type": "code",
   "execution_count": null,
   "metadata": {},
   "outputs": [],
   "source": [
    "plt.figure(figsize = (10,9))\n",
    "m = Basemap(projection='merc',llcrnrlon=-180,llcrnrlat=10,urcrnrlon=-50,\n",
    "urcrnrlat=70, lat_ts=0, resolution='l',suppress_ticks=True)"
   ]
  },
  {
   "cell_type": "code",
   "execution_count": null,
   "metadata": {},
   "outputs": [],
   "source": [
    "#networkx graph visualization in kepler for Fremont\n",
    "place_name = \"Fremont, California\"\n",
    "graph = ox.graph_from_place(place_name, network_type='drive')\n",
    "fig, ax = ox.plot_graph(graph)\n",
    "\n",
    "nodes, edges = ox.graph_to_gdfs(graph, nodes=True, edges=True)\n",
    "\n"
   ]
  },
  {
   "cell_type": "code",
   "execution_count": null,
   "metadata": {},
   "outputs": [],
   "source": []
  },
  {
   "cell_type": "code",
   "execution_count": null,
   "metadata": {
    "scrolled": true
   },
   "outputs": [],
   "source": [
    "map_3 = KeplerGl(height=600)\n",
    "map_3.add_data(data=POIs_gdf, name = \"Fremont Point of Interests\")\n",
    "map_3.add_data(data=Aimsun_nodes, name = \"Fremont Aimsun nodes\")\n",
    "map_3.add_data(data=Aimsun_sections, name = \"Fremont edges\")\n",
    "map_3"
   ]
  },
  {
   "cell_type": "code",
   "execution_count": null,
   "metadata": {},
   "outputs": [],
   "source": []
  },
  {
   "cell_type": "code",
   "execution_count": null,
   "metadata": {},
   "outputs": [],
   "source": [
    "from geopy.distance import geodesic \n",
    "  \n",
    "# Loading the lat-long data for Kolkata & Delhi \n",
    "\n",
    "# Print the distance calculated in km \n",
    "\n",
    "\n",
    "\n",
    "#for (u, v, d) in G.edges(data=True):\n",
    "    \n",
    "    "
   ]
  },
  {
   "cell_type": "markdown",
   "metadata": {},
   "source": [
    "For each selected starting POI, we first find and link it to the closest Aimsun network node. \n",
    "Then, by running the BFS, we find the range of reachable spots (accessibility area) from this traversal and count the amount of POIs of different categories reachable within the area. \n",
    "And develop an algorithm to calculate the accessibility score\n"
   ]
  },
  {
   "cell_type": "markdown",
   "metadata": {},
   "source": [
    "## Abandoned accessibility isochrone (keep for potential future reference)"
   ]
  },
  {
   "cell_type": "code",
   "execution_count": null,
   "metadata": {},
   "outputs": [],
   "source": [
    "import geopy.distance\n",
    "#geopy.distance.distance(coord, coord1).m\n",
    "# Trip time in seconds\n",
    "trip_times = [10, 20, 30, 40, 50]\n",
    "#iso_colors = ox.get_colors(n=len(trip_times), cmap='Reds', start=0.3, return_hex=True)\n",
    "iso_colors = [1, 2, 3, 4, 5]\n",
    "\n",
    "G.edges[(9845, 9923.0)]\n",
    "\n",
    "# 2 - color the nodes according to isochrone then plot the street network\n",
    "node_colors = {}\n",
    "subgraphs = []\n",
    "for trip_time, color in zip(sorted(trip_times, reverse=True), iso_colors):\n",
    "    subgraph = nx.ego_graph(G, intersections.iloc[684]['nearest_node_id'], radius=trip_time, distance='travelTime')\n",
    "    for node in subgraph.nodes():\n",
    "        node_colors[node] = color\n",
    "    subgraphs.append(subgraph)\n",
    "    \n",
    "\n",
    "#fig, ax = ox.plot_graph(G, fig_height=8, node_color=nc, node_size=ns, node_alpha=0.8, node_zorder=2)\n",
    "\n",
    "\n",
    "nc = [node_colors[node] if node in node_colors else 'none' for node in G.nodes()]\n",
    "ns = [20 if node in node_colors else 0 for node in G.nodes()]\n",
    "joined['color'] = nc\n",
    "\n",
    "map_7 = KeplerGl(height=600)\n",
    "map_7.add_data(data=intersections[intersections['nearest_node_id'] == 48341], name = \"all POIs\")\n",
    "map_7.add_data(data=joined[joined['color'] == 1], name = \"isochrone\")\n",
    "map_7.add_data(data=joined[joined['color'] == 2], name = \"isochrone_1\")\n",
    "map_7.add_data(data=joined[joined['color'] == 3], name = \"isochrone_2\")\n",
    "map_7.add_data(data=joined[joined['color'] == 4], name = \"isochrone_3\")\n",
    "map_7.add_data(data=joined[joined['color'] == 5], name = \"isochrone_4\")\n",
    "map_7.add_data(data=joined[joined['color'] == 'none'], name = \"isochrone_5\")\n",
    "map_7"
   ]
  },
  {
   "cell_type": "code",
   "execution_count": null,
   "metadata": {},
   "outputs": [],
   "source": []
  },
  {
   "cell_type": "code",
   "execution_count": null,
   "metadata": {},
   "outputs": [],
   "source": [
    "# import geopandas as gpd\n",
    "# import numpy as np\n",
    "# import pandas as pd\n",
    "\n",
    "# from scipy.spatial import cKDTree\n",
    "# from shapely.geometry import Point\n",
    "\n",
    "# gpd1 = gpd.GeoDataFrame([['John', 1, Point(1, 1)], ['Smith', 1, Point(2, 2)],\n",
    "#                          ['Soap', 1, Point(0, 2)]],\n",
    "#                         columns=['Name', 'ID', 'geometry'])\n",
    "# gpd2 = gpd.GeoDataFrame([['Work', Point(0, 1.1)], ['Shops', Point(2.5, 2)],\n",
    "#                          ['Home', Point(1, 1.1)]],\n",
    "#                         columns=['Place', 'geometry'])\n",
    "\n",
    "# def ckdnearest(gdA, gdB):\n",
    "#     nA = np.array(list(zip(gdA.geometry.x, gdA.geometry.y)) )\n",
    "#     nB = np.array(list(zip(gdB.geometry.x, gdB.geometry.y)) )\n",
    "#     btree = cKDTree(nB)\n",
    "#     dist, idx = btree.query(nA, k=1)\n",
    "#     gdf = pd.concat(\n",
    "#         [gdA.reset_index(drop=True), gdB.loc[idx, gdB.columns != 'geometry'].reset_index(drop=True),\n",
    "#          pd.Series(dist, name='dist')], axis=1)\n",
    "#     return gdf\n",
    "\n",
    "# ckdnearest(gpd1, gpd2)"
   ]
  }
 ],
 "metadata": {
  "kernelspec": {
   "display_name": "Fremont_KPI",
   "language": "python",
   "name": "kpi_calc"
  },
  "language_info": {
   "codemirror_mode": {
    "name": "ipython",
    "version": 3
   },
   "file_extension": ".py",
   "mimetype": "text/x-python",
   "name": "python",
   "nbconvert_exporter": "python",
   "pygments_lexer": "ipython3",
   "version": "3.8.2"
  }
 },
 "nbformat": 4,
 "nbformat_minor": 2
}
