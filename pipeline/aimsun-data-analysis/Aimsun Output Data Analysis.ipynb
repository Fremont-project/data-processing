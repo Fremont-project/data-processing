{
 "cells": [
  {
   "cell_type": "code",
   "execution_count": 2,
   "metadata": {},
   "outputs": [],
   "source": [
    "import numpy as np\n",
    "import sklearn"
   ]
  },
  {
   "cell_type": "code",
   "execution_count": 115,
   "metadata": {},
   "outputs": [],
   "source": [
    "class Trip:\n",
    "    \n",
    "    def __init__(self, values):\n",
    "        self.type = values[0].split(': ')[1]\n",
    "        self.start_node = values[1].split(': ')[0]\n",
    "        self.start_centroid = values[1].split(': ')[1]\n",
    "        self.end_node = values[2].split(': ')[0]\n",
    "        self.end_centroid = values[2].split(' ')[1]\n",
    "        self.interval = values[3].split('T')[1]\n",
    "        self.generated = int(values[7])\n",
    "        self.cost = float(values[9])\n",
    "        self.distance = float(values[10])\n",
    "        self.travel_time = float(values[11])\n",
    "\n",
    "    def __str__(self):\n",
    "        delimiter = \",\"\n",
    "        \n",
    "        return \"Type: {}{}\".format(self.type, delimiter) +\\\n",
    "            \"Start_node: {}{}\".format(self.start_node, delimiter) +\\\n",
    "            \"Start_cent: {}{}\".format(self.start_centroid, delimiter) +\\\n",
    "            \"End_node: {}{}\".format(self.end_node, delimiter) +\\\n",
    "            \"End_cent: {}{}\".format(self.end_centroid, delimiter) +\\\n",
    "            \"Intrvl: {}{}\".format(self.interval, delimiter) +\\\n",
    "            \"Gen. #: {}{}\".format(self.generated, delimiter) +\\\n",
    "            \"Cost: {}{}\".format(self.cost, delimiter) +\\\n",
    "            \"Dist: {}{}\".format(self.distance, delimiter) +\\\n",
    "            \"Time: {}\".format(self.travel_time, delimiter)\n",
    "    \n",
    "    def __repr__(self):\n",
    "        return str(self)\n",
    "\n",
    "class TripAggregator:\n",
    "    \n",
    "    def __init__(self):\n",
    "        self.trips = []\n",
    "        self.count = 0\n",
    "    \n",
    "    def add_trip(self, trip):\n",
    "        self.trips.append(trip)\n",
    "        self.count += 1\n",
    "    \n",
    "    def return_trips(self, start_centroids = None, end_centroids = None, intervals = None):\n",
    "        trips = []\n",
    "        \n",
    "        passes_centroid = lambda x, centroids: not centroids or x in centroids\n",
    "    \n",
    "        for trip in self.trips:\n",
    "            if passes_centroid(trip.start_centroid, start_centroids) and\\\n",
    "                    passes_centroid(trip.end_centroid, end_centroids):\n",
    "                trips.append(trip)\n",
    "        \n",
    "        return trips\n",
    "    \n",
    "    def print_trips(self, start_centroids = None, end_centroids = None, intervals = None):\n",
    "        trips = self.return_trips(start_centroids, end_centroids)\n",
    "        print(\"\\n\".join([str(x) for x in trips]))\n",
    "    \n",
    "    def convert_to_np(trip_arr):\n",
    "        pass\n",
    "    "
   ]
  },
  {
   "cell_type": "code",
   "execution_count": 116,
   "metadata": {},
   "outputs": [],
   "source": [
    "trip_aggregator = TripAggregator()\n",
    "\n",
    "with open(\"data2.txt\", \"r\") as f:\n",
    "    f.readline()\n",
    "    for line in f:\n",
    "        values = line.split('\\t')\n",
    "        \n",
    "        trip = Trip(values)\n",
    "        \n",
    "        if trip.generated:\n",
    "            trip_aggregator.add_trip(trip)"
   ]
  },
  {
   "cell_type": "markdown",
   "metadata": {},
   "source": [
    "This function prints out the relevant trips (can filter by start_centroids, end_centroids, and intervals)"
   ]
  },
  {
   "cell_type": "code",
   "execution_count": 121,
   "metadata": {},
   "outputs": [
    {
     "name": "stdout",
     "output_type": "stream",
     "text": [
      "Type: Car,Start_node: 61369,Start_cent: I18,End_node: 61576,End_cent: I22,Intrvl: 14:00:00,Gen. #: 21,Cost: 728.672,Dist: 1975.99,Time: 3139.27\n"
     ]
    }
   ],
   "source": [
    "trip_aggregator.print_trips(start_centroids = ['I18'], end_centroids = ['I22'])"
   ]
  },
  {
   "cell_type": "code",
   "execution_count": 122,
   "metadata": {},
   "outputs": [
    {
     "name": "stdout",
     "output_type": "stream",
     "text": [
      "Type: Car,Start_node: 61369,Start_cent: I18,End_node: 61576,End_cent: I22,Intrvl: 14:00:00,Gen. #: 21,Cost: 728.672,Dist: 1975.99,Time: 3139.27\n",
      "Type: Car,Start_node: 61444,Start_cent: I19,End_node: 61576,End_cent: I22,Intrvl: 14:00:00,Gen. #: 14,Cost: 657.906,Dist: 59.3783,Time: 4.11388\n"
     ]
    }
   ],
   "source": [
    "trip_aggregator.print_trips(start_centroids = ['I18', 'I19'], end_centroids = ['I22'])"
   ]
  },
  {
   "cell_type": "code",
   "execution_count": null,
   "metadata": {},
   "outputs": [],
   "source": []
  }
 ],
 "metadata": {
  "kernelspec": {
   "display_name": "Python 3",
   "language": "python",
   "name": "python3"
  },
  "language_info": {
   "codemirror_mode": {
    "name": "ipython",
    "version": 3
   },
   "file_extension": ".py",
   "mimetype": "text/x-python",
   "name": "python",
   "nbconvert_exporter": "python",
   "pygments_lexer": "ipython3",
   "version": "3.7.4"
  }
 },
 "nbformat": 4,
 "nbformat_minor": 2
}
