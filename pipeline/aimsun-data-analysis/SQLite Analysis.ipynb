{
 "cells": [
  {
   "cell_type": "markdown",
   "metadata": {},
   "source": [
    "# Aimsun SQLite Output Database Analyzer\n",
    "\n",
    "This purpose of this Jupyter notebook is to process the database produced by the Aimsun simulations. Run the iPython cell below in order to import necessary imports."
   ]
  },
  {
   "cell_type": "code",
   "execution_count": 63,
   "metadata": {},
   "outputs": [],
   "source": [
    "import numpy as np\n",
    "import scipy\n",
    "import sqlite3"
   ]
  },
  {
   "cell_type": "markdown",
   "metadata": {},
   "source": [
    "### SQLite Helper Functions\n",
    "\n",
    "These functions are wrapper functions for the underlying SQLite commands we use to query data from the SQLite database. The notebook assumes that the Aimsun database file has been placed into the current directory of the notebook."
   ]
  },
  {
   "cell_type": "code",
   "execution_count": 68,
   "metadata": {},
   "outputs": [],
   "source": [
    "def create_connection(db_file):\n",
    "    conn = sqlite3.connect(db_file)\n",
    " \n",
    "    return conn\n",
    "\n",
    "def select_all_from_table(conn, table, should_print = True):\n",
    "    cur = conn.cursor()\n",
    "    \n",
    "    if should_print:\n",
    "        # Prevents us from accidentally clogging up the notebook with huge print statements\n",
    "        cur.execute(\"SELECT * FROM {} LIMIT 10\".format(table))\n",
    "    else:\n",
    "        cur.execute(\"SELECT * FROM {}\".format(table))\n",
    "\n",
    "    rows = cur.fetchall()\n",
    "\n",
    "    if should_print:\n",
    "        for row in rows:\n",
    "            print(row)\n",
    "    \n",
    "    return rows\n",
    "\n",
    "def select_where_from_table(conn, table, clause, should_print = True):\n",
    "    cur = conn.cursor()\n",
    "    cur.execute(\"SELECT * FROM {} WHERE {}\".format(table, clauses))\n",
    " \n",
    "    rows = cur.fetchall()\n",
    " \n",
    "    if should_print:\n",
    "        for row in rows:\n",
    "            print(row)\n",
    "    \n",
    "    return rows\n",
    "\n",
    "def show_all_tables(conn, should_print = True):\n",
    "    cur = conn.cursor()\n",
    "    cur.execute('SELECT name from sqlite_master where type= \"table\"')\n",
    " \n",
    "    rows = cur.fetchall()\n",
    " \n",
    "    if should_print:\n",
    "        for row in rows:\n",
    "            print(row)\n",
    "    \n",
    "    return rows"
   ]
  },
  {
   "cell_type": "markdown",
   "metadata": {},
   "source": [
    "### SimulatorInfo Class (SIM_INFO Table)\n",
    "\n",
    "This class parses information from the ```SIM_INFO``` table in the Aimsun database. This table stores meta information about the simulation in general, including the owner of the file and the version number currently in use."
   ]
  },
  {
   "cell_type": "code",
   "execution_count": 62,
   "metadata": {},
   "outputs": [],
   "source": [
    "class SimulatorInfo:\n",
    "    \n",
    "    def __init__(self, values):\n",
    "        self.data_id = values[0]\n",
    "        self.data_id_name = values[1]\n",
    "        self.effective_data_id = values[2]\n",
    "        \n",
    "        self.uses_external_id = True if values[3] else False\n",
    "        \n",
    "        self.scenario_date = values[4]\n",
    "        self.start_time = values[5]\n",
    "        self.duration = values[6]\n",
    "        \n",
    "        self.rand_seed = values[7]\n",
    "        \n",
    "        self.type = 'Simulated Data' if values[8] == 1 else 'Average'\n",
    "        self.warm_up_time = values[9]\n",
    "        \n",
    "        self.sim_model = values[11]\n",
    "        self.aimsun_version = values[12]\n",
    "        self.num_iters = values[13]\n",
    "        self.exec_date = values[14]\n",
    "        \n",
    "        self.experiment_id = values[14]\n",
    "        self.experiment_name = values[15]\n",
    "        \n",
    "        self.scenario_id = values[17]\n",
    "        self.scenario_name = values[18]\n",
    "        \n",
    "        self.author = values[28]\n",
    "\n",
    "    def __str__(self):\n",
    "        delimiter = \",\"\n",
    "        \n",
    "        return \"Data ID: {}{}\".format(self.data_id, delimiter) +\\\n",
    "            \"Data ID Name: {}{}\".format(self.data_id_name, delimiter) +\\\n",
    "            \"Start Time: {}{}\".format(self.start_time, delimiter) +\\\n",
    "            \"Duration: {}{}\".format(self.duration, delimiter) +\\\n",
    "            \"Type: {}{}\".format(self.type, delimiter) +\\\n",
    "            \"Simulation Model: {}{}\".format(self.sim_model, delimiter) +\\\n",
    "            \"Execution Date: {}{}\".format(self.exec_date, delimiter) +\\\n",
    "            \"Scenarion Name: {}{}\".format(self.scenario_name, delimiter) +\\\n",
    "            \"Owner: {}\".format(self.author)\n",
    "    \n",
    "    def __repr__(self):\n",
    "        return str(self)"
   ]
  },
  {
   "cell_type": "markdown",
   "metadata": {},
   "source": [
    "### Lane Class (MILANE Table)\n",
    "\n",
    "This class parses information from the ```MILANE``` table in the Aimsun database. This table stores microsimulator result statistical information about each lane of the sections for each period."
   ]
  },
  {
   "cell_type": "code",
   "execution_count": 48,
   "metadata": {},
   "outputs": [],
   "source": [
    "class Lane:\n",
    "    \n",
    "    def __init__(self, values):\n",
    "        self.replication_id = values[0]\n",
    "        self.section_id = values[1]\n",
    "        self.external_id = values[2]\n",
    "        self.vehicle_type = values[3]\n",
    "        self.time_interval = values[4]\n",
    "        self.lane_id = values[5]\n",
    "        self.vehicle_cnt = values[6]\n",
    "        self.flow = values[7]\n",
    "        self.input_vehicle_cnt = values[8]\n",
    "        self.input_flow = values[9]\n",
    "        self.density = values[10]\n",
    "        self.queue_length = values[11]\n",
    "        self.queue_max_length = values[12]\n",
    "        self.delay_time = values[13]\n",
    "        self.queue_waiting_time = values[14]\n",
    "        self.speed = values[15]\n",
    "        self.harmonic_speed = values[16]\n",
    "        self.travel_time = values[17]\n",
    "        self.stop_time = values[18]\n",
    "    \n",
    "    def __str__(self):\n",
    "        delimiter = \",\"\n",
    "        \n",
    "        return \"External ID: {}{}\".format(self.external_id, delimeter) +\\\n",
    "            \"Time Interval: {}{}\".format(self.time_interval, delimeter) +\\\n",
    "            \"Vehicle Count: {}{}\".format(self.vehicle_cnt, delimeter) +\\\n",
    "            \"Avg. Flow: {}{}\".format(self.flow, delimeter) +\\\n",
    "            \"Avg. Density: {}{}\".format(self.density, delimeter) +\\\n",
    "            \"Avg. Queue Length: {}{}\".format(self.queue_length, delimeter) +\\\n",
    "            \"Avg. Delay Time: {}{}\".format(self.delay_time, delimeter) +\\\n",
    "            \"Avg. Travel Time: {}\".format(self.travel_time)\n",
    "    \n",
    "    def __repr__(self):\n",
    "        return str(self)"
   ]
  },
  {
   "cell_type": "markdown",
   "metadata": {},
   "source": [
    "### Node Class (MINODE Table)\n",
    "\n",
    "This class parses information from the ```MINODE``` table in the Aimsun database. This table stores microsimulator result statistical information about each node for each period."
   ]
  },
  {
   "cell_type": "code",
   "execution_count": 47,
   "metadata": {},
   "outputs": [],
   "source": [
    "class Node:\n",
    "    \n",
    "    def __init__(self, values):\n",
    "        self.replication_id = values[0]\n",
    "        self.section_id = values[1]\n",
    "        self.external_id = values[2]\n",
    "        self.vehicle_type = values[3]\n",
    "        self.time_interval = values[4]\n",
    "        self.approach_delay = values[5]\n",
    "        self.lost_vehicles = values[6]\n",
    "        self.missed_turnings = values[7]\n",
    "    \n",
    "    def __str__(self):\n",
    "        delimiter = \",\"\n",
    "        \n",
    "        return \"External ID: {}{}\".format(self.external_id, delimiter) +\\\n",
    "            \"Time Interval: {}{}\".format(self.time_interval, delimiter) +\\\n",
    "            \"Avg. Approach Delay: {}{}\".format(self.approach_delay, delimiter) +\\\n",
    "            \"Lost Vehicles: {}{}\".format(self.lost_vehicles, delimiter) +\\\n",
    "            \"Missed Turnings: {}\".format(self.missed_turnings)\n",
    "    \n",
    "    def __repr__(self):\n",
    "        return str(self)"
   ]
  },
  {
   "cell_type": "markdown",
   "metadata": {},
   "source": [
    "### Detector Class (MIDETEC Table)\n",
    "\n",
    "This class parses information from the ```MIDETEC``` table in the Aimsun database. This table stores microsimulator result statistical information collected by a detector in a road section."
   ]
  },
  {
   "cell_type": "code",
   "execution_count": 46,
   "metadata": {},
   "outputs": [],
   "source": [
    "class Detector:\n",
    "    \n",
    "    def __init__(self, values):\n",
    "        self.replication_id = values[0]\n",
    "        self.section_id = values[1]\n",
    "        self.external_id = values[2]\n",
    "        self.vehicle_type = values[3]\n",
    "        self.time_interval = values[4]\n",
    "        self.vehicle_count = values[5]\n",
    "        self.flow = values[6]\n",
    "        self.speed = values[7]\n",
    "        self.occupancy = values[8]\n",
    "        self.density = values[9]\n",
    "        self.headway = values[10]\n",
    "    \n",
    "    def __str__(self):\n",
    "        delimiter = \",\"\n",
    "        \n",
    "        return \"External ID: {}{}\".format(self.external_id, delimiter) +\\\n",
    "            \"Time Interval: {}{}\".format(self.time_interval, delimiter) +\\\n",
    "            \"Vehicle Count: {}{}\".format(self.vehicle_count, delimiter) +\\\n",
    "            \"Flow: {}{}\".format(self.flow, delimeter) +\\\n",
    "            \"Avg. Speed: {}{}\".format(self.speed, delimiter) +\\\n",
    "            \"Avg. Occupancy: {}{}\".format(self.occupancy, delimiter) +\\\n",
    "            \"Avg. Density: {}{}\".format(self.density, delimiter) +\\\n",
    "            \"Avg. Headway: {}\".format(self.headway)\n",
    "    \n",
    "    def __repr__(self):\n",
    "        return str(self)"
   ]
  },
  {
   "cell_type": "markdown",
   "metadata": {},
   "source": [
    "### Main Helper Functions\n",
    "\n",
    "To be implemented. The skeleton code has been given below."
   ]
  },
  {
   "cell_type": "code",
   "execution_count": 42,
   "metadata": {},
   "outputs": [],
   "source": [
    "def get_link_flow():\n",
    "    pass\n",
    "\n",
    "def get_speed():\n",
    "    pass\n",
    "\n",
    "def get_travel_time():\n",
    "    pass\n",
    "\n",
    "def get_path_flow():\n",
    "    pass\n",
    "\n",
    "def compare_flows():\n",
    "    pass\n",
    "\n",
    "def compare_speed():\n",
    "    pass\n",
    "\n",
    "def compare_travel_time():\n",
    "    pass\n",
    "\n",
    "def compare_path_flow():\n",
    "    pass"
   ]
  },
  {
   "cell_type": "markdown",
   "metadata": {},
   "source": [
    "## Main Code\n",
    "\n",
    "This section contains the code that should be run in order to generate results in this notebook. Below is the necessary starter code that connects to the database and outputs the current simulator info:"
   ]
  },
  {
   "cell_type": "code",
   "execution_count": 50,
   "metadata": {},
   "outputs": [
    {
     "name": "stdout",
     "output_type": "stream",
     "text": [
      "(27989, 'Replication 27989', 27989, None, 0, '1970-01-02', 50400, 21600, 2343, 1, 0, 'micro', '8.4.0 (Thu May 16 2019 afba3b3059)', 1, '2020-02-23T10:28:05', 27988, 'Micro SRC Experiment 27988', 27981, 'Dynamic Scenario 27981', 2, 36, 2, 36, '{8cd9443d-dd1e-45b4-86eb-de95499503cf}', 27979, 0, 62192, '2020-02-23T10:32:01', 'Theo', None)\n"
     ]
    }
   ],
   "source": [
    "database = \"aimsun-outputs.sqlite\"\n",
    "conn = create_connection(database)\n",
    "model_info = SimulatorInfo(select_all_from_table(conn, \"SIM_INFO\", should_print = True)[0])"
   ]
  },
  {
   "cell_type": "markdown",
   "metadata": {},
   "source": [
    "The code below generates the lists of nodes, lanes, and detectors."
   ]
  },
  {
   "cell_type": "code",
   "execution_count": 66,
   "metadata": {},
   "outputs": [],
   "source": [
    "nodes = []\n",
    "lanes = []\n",
    "detectors = []\n",
    "\n",
    "for row in select_all_from_table(conn, \"MINODE\", should_print = False):\n",
    "    nodes.append(Node(row))\n",
    "\n",
    "for row in select_all_from_table(conn, \"MILANE\", should_print = False):\n",
    "    lanes.append(Lane(row))\n",
    "\n",
    "for row in select_all_from_table(conn, \"MIDETEC\", should_print = False):\n",
    "    detectors.append(Detector(row))"
   ]
  },
  {
   "cell_type": "code",
   "execution_count": 67,
   "metadata": {},
   "outputs": [
    {
     "data": {
      "text/plain": [
       "(10416, 35044, 8)"
      ]
     },
     "execution_count": 67,
     "metadata": {},
     "output_type": "execute_result"
    }
   ],
   "source": [
    "len(nodes), len(lanes), len(detectors)"
   ]
  },
  {
   "cell_type": "code",
   "execution_count": null,
   "metadata": {},
   "outputs": [],
   "source": []
  }
 ],
 "metadata": {
  "kernelspec": {
   "display_name": "Python 3",
   "language": "python",
   "name": "python3"
  },
  "language_info": {
   "codemirror_mode": {
    "name": "ipython",
    "version": 3
   },
   "file_extension": ".py",
   "mimetype": "text/x-python",
   "name": "python",
   "nbconvert_exporter": "python",
   "pygments_lexer": "ipython3",
   "version": "3.7.4"
  }
 },
 "nbformat": 4,
 "nbformat_minor": 2
}
