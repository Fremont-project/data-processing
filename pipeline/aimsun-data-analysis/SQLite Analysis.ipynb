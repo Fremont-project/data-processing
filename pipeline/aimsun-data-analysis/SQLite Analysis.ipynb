{
 "cells": [
  {
   "cell_type": "code",
   "execution_count": 1,
   "metadata": {},
   "outputs": [],
   "source": [
    "import sqlite3"
   ]
  },
  {
   "cell_type": "code",
   "execution_count": 8,
   "metadata": {},
   "outputs": [],
   "source": [
    "def create_connection(db_file):\n",
    "    conn = sqlite3.connect(db_file)\n",
    " \n",
    "    return conn"
   ]
  },
  {
   "cell_type": "code",
   "execution_count": 29,
   "metadata": {},
   "outputs": [],
   "source": [
    "def select_all_from_table(conn, table, should_print = True):\n",
    "    cur = conn.cursor()\n",
    "    cur.execute(\"SELECT * FROM {} LIMIT 10\".format(table))\n",
    " \n",
    "    rows = cur.fetchall()\n",
    "\n",
    "    if should_print:\n",
    "        for row in rows:\n",
    "            print(row)\n",
    "    \n",
    "    return rows\n",
    "\n",
    "def select_where_from_table(conn, table, clause, should_print = True):\n",
    "    cur = conn.cursor()\n",
    "    cur.execute(\"SELECT * FROM {} WHERE {}\".format(table, clauses))\n",
    " \n",
    "    rows = cur.fetchall()\n",
    " \n",
    "    if should_print:\n",
    "        for row in rows:\n",
    "            print(row)\n",
    "    \n",
    "    return rows\n",
    "\n",
    "def show_all_tables(conn, should_print = True):\n",
    "    cur = conn.cursor()\n",
    "    cur.execute('SELECT name from sqlite_master where type= \"table\"')\n",
    " \n",
    "    rows = cur.fetchall()\n",
    " \n",
    "    if should_print:\n",
    "        for row in rows:\n",
    "            print(row)\n",
    "    \n",
    "    return rows"
   ]
  },
  {
   "cell_type": "code",
   "execution_count": 76,
   "metadata": {},
   "outputs": [],
   "source": [
    "class SimulatorInfo:\n",
    "    \n",
    "    def __init__(self, values):\n",
    "        self.data_id = values[0]\n",
    "        self.data_id_name = values[1]\n",
    "        self.effective_data_id = values[2]\n",
    "        \n",
    "        self.uses_external_id = True if values[3] else False\n",
    "        \n",
    "        self.scenario_date = values[4]\n",
    "        self.start_time = values[5]\n",
    "        self.duration = values[6]\n",
    "        \n",
    "        self.rand_seed = values[7]\n",
    "        \n",
    "        self.type = 'Simulated Data' if values[8] == 1 else 'Average'\n",
    "        self.warm_up_time = values[9]\n",
    "        \n",
    "        self.sim_model = values[11]\n",
    "        self.aimsun_version = values[12]\n",
    "        self.num_iters = values[13]\n",
    "        self.exec_date = values[14]\n",
    "        \n",
    "        self.experiment_id = values[14]\n",
    "        self.experiment_name = values[15]\n",
    "        \n",
    "        self.scenario_id = values[17]\n",
    "        self.scenario_name = values[18]\n",
    "        \n",
    "        self.author = values[28]\n",
    "\n",
    "    def __str__(self):\n",
    "        delimiter = \",\"\n",
    "        \n",
    "        return \"Data ID: {}{}\".format(self.data_id, delimiter) +\\\n",
    "            \"Data ID Name: {}{}\".format(self.data_id_name, delimiter) +\\\n",
    "            \"Start Time: {}{}\".format(self.start_time, delimiter) +\\\n",
    "            \"Duration: {}{}\".format(self.duration, delimiter) +\\\n",
    "            \"Type: {}{}\".format(self.type, delimiter) +\\\n",
    "            \"Simulation Model: {}{}\".format(self.sim_model, delimiter) +\\\n",
    "            \"Execution Date: {}{}\".format(self.exec_date, delimiter) +\\\n",
    "            \"Scenarion Name: {}{}\".format(self.scenario_name, delimiter) +\\\n",
    "            \"Owner: {}\".format(self.author)\n",
    "    \n",
    "    def __repr__(self):\n",
    "        return str(self)"
   ]
  },
  {
   "cell_type": "code",
   "execution_count": null,
   "metadata": {},
   "outputs": [],
   "source": [
    "class SystemData:\n",
    "    pass\n",
    "\n",
    "class Lane:\n",
    "    pass\n",
    "\n",
    "class Turn:\n",
    "    pass"
   ]
  },
  {
   "cell_type": "code",
   "execution_count": 77,
   "metadata": {},
   "outputs": [
    {
     "name": "stdout",
     "output_type": "stream",
     "text": [
      "(27989, 'Replication 27989', 27989, None, 0, '1970-01-02', 50400, 21600, 2343, 1, 0, 'micro', '8.4.0 (Thu May 16 2019 afba3b3059)', 1, '2020-02-23T10:28:05', 27988, 'Micro SRC Experiment 27988', 27981, 'Dynamic Scenario 27981', 2, 36, 2, 36, '{8cd9443d-dd1e-45b4-86eb-de95499503cf}', 27979, 0, 62192, '2020-02-23T10:32:01', 'Theo', None)\n"
     ]
    }
   ],
   "source": [
    "database = \"aimsun-outputs.sqlite\"\n",
    "\n",
    "conn = create_connection(database)\n",
    "\n",
    "model_info = SimulatorInfo(select_all_from_table(conn, \"SIM_INFO\", should_print = True)[0])"
   ]
  },
  {
   "cell_type": "code",
   "execution_count": 78,
   "metadata": {},
   "outputs": [
    {
     "name": "stdout",
     "output_type": "stream",
     "text": [
      "('DETEQUIPVEH',)\n",
      "('SIM_INFO',)\n",
      "('META_INFO',)\n",
      "('META_SUB_INFO',)\n",
      "('META_COLS',)\n",
      "('MISECT',)\n",
      "('MILANE',)\n",
      "('MIDETEC',)\n",
      "('MITURN',)\n",
      "('MINODE',)\n",
      "('MISYS',)\n",
      "('HCMMISECTION',)\n",
      "('HCMMINODE',)\n",
      "('HCMMIAPPROACH',)\n",
      "('HCMMIAREA',)\n"
     ]
    },
    {
     "data": {
      "text/plain": [
       "[('DETEQUIPVEH',),\n",
       " ('SIM_INFO',),\n",
       " ('META_INFO',),\n",
       " ('META_SUB_INFO',),\n",
       " ('META_COLS',),\n",
       " ('MISECT',),\n",
       " ('MILANE',),\n",
       " ('MIDETEC',),\n",
       " ('MITURN',),\n",
       " ('MINODE',),\n",
       " ('MISYS',),\n",
       " ('HCMMISECTION',),\n",
       " ('HCMMINODE',),\n",
       " ('HCMMIAPPROACH',),\n",
       " ('HCMMIAREA',)]"
      ]
     },
     "execution_count": 78,
     "metadata": {},
     "output_type": "execute_result"
    }
   ],
   "source": [
    "show_all_tables(conn)"
   ]
  },
  {
   "cell_type": "code",
   "execution_count": 79,
   "metadata": {},
   "outputs": [
    {
     "data": {
      "text/plain": [
       "Data ID: 27989,Data ID Name: Replication 27989,Start Time: 1970-01-02,Duration: 50400,Type: Average,Simulation Model: micro,Execution Date: 2020-02-23T10:28:05,Scenarion Name: Dynamic Scenario 27981,Owner: Theo"
      ]
     },
     "execution_count": 79,
     "metadata": {},
     "output_type": "execute_result"
    }
   ],
   "source": [
    "model_info"
   ]
  },
  {
   "cell_type": "code",
   "execution_count": null,
   "metadata": {},
   "outputs": [],
   "source": []
  },
  {
   "cell_type": "code",
   "execution_count": null,
   "metadata": {},
   "outputs": [],
   "source": []
  }
 ],
 "metadata": {
  "kernelspec": {
   "display_name": "Python 3",
   "language": "python",
   "name": "python3"
  },
  "language_info": {
   "codemirror_mode": {
    "name": "ipython",
    "version": 3
   },
   "file_extension": ".py",
   "mimetype": "text/x-python",
   "name": "python",
   "nbconvert_exporter": "python",
   "pygments_lexer": "ipython3",
   "version": "3.7.4"
  }
 },
 "nbformat": 4,
 "nbformat_minor": 2
}
