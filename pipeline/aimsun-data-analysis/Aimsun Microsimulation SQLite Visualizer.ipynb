{
 "cells": [
  {
   "cell_type": "markdown",
   "metadata": {},
   "source": [
    "# Aimsun SQLite Output Database Visualize\n",
    "\n",
    "### Goal of the notebook\n",
    "\n",
    "This purpose of this Jupyter notebook is to visualize the database produced by the Aimsun simulations.\n",
    "***\n",
    "**Outputs:** \n",
    "\n",
    "Interactive Kepler GL web apps\n",
    "\n",
    "**Inputs:** \n",
    "\n",
    "Aimsun simulation outputs:\n",
    "- aimsun-outputs.sqlite\n",
    "- aimsun_outputs.csv\n",
    "\n",
    "Ground truth data:\n",
    "- ground.sqlite\n",
    "- ground.csv\n",
    "\n",
    "Aimsun shape files:\n",
    "- nodes\n",
    "- detectors\n",
    "- sections\n",
    "\n",
    "**Dependent scripts:** \n",
    "None"
   ]
  },
  {
   "cell_type": "markdown",
   "metadata": {},
   "source": [
    " **IMPORTANT:** Run the iPython cell below in order to import the necessary packages."
   ]
  },
  {
   "cell_type": "code",
   "execution_count": 119,
   "metadata": {},
   "outputs": [],
   "source": [
    "# Root path of Fremont Dropbox\n",
    "import os\n",
    "import sys\n",
    "# We let this notebook to know where to look for fremontdropbox module\n",
    "module_path = os.path.abspath(os.path.join('../..'))\n",
    "if module_path not in sys.path:\n",
    "    sys.path.append(module_path)\n",
    "\n",
    "from fremontdropbox import get_dropbox_location\n",
    "\n",
    "path_dropbox = get_dropbox_location()\n",
    "data_folder = os.path.join(path_dropbox, 'Private Structured data collection')\n",
    "sql_folder = os.path.join(data_folder, 'Aimsun','Outputs')\n",
    "input_folder = os.path.join(data_folder, 'Aimsun','Inputs')\n",
    "zone_folder = os.path.join(data_folder, 'Data Processing', 'Raw', 'Demand', \"OD Demand\", 'TAZ')\n",
    "neighborhoods_folder = os.path.join(data_folder, 'Data Processing', 'Raw', 'Demand', \"OD Demand\", 'Fremont neighborhoods')"
   ]
  },
  {
   "cell_type": "code",
   "execution_count": 120,
   "metadata": {},
   "outputs": [],
   "source": [
    "import numpy as np\n",
    "import scipy\n",
    "import matplotlib\n",
    "import sqlite3\n",
    "import pandas as pd\n",
    "import geopandas as gpd\n",
    "import matplotlib.pyplot as plt\n",
    "from keplergl import KeplerGl"
   ]
  },
  {
   "cell_type": "markdown",
   "metadata": {},
   "source": [
    "### SQLite Helper Functions\n",
    "\n",
    "These functions are wrapper functions for the underlying SQLite commands we use to query data from the SQLite database. The notebook assumes that the Aimsun database file has been placed into the current directory of the notebook."
   ]
  },
  {
   "cell_type": "code",
   "execution_count": 121,
   "metadata": {},
   "outputs": [],
   "source": [
    "def create_connection(db_file):\n",
    "    conn = sqlite3.connect(db_file)\n",
    " \n",
    "    return conn\n",
    "\n",
    "def select_all_from_table(conn, table, should_print = True):\n",
    "    cur = conn.cursor()\n",
    "    \n",
    "    if should_print:\n",
    "        # Prevents us from accidentally clogging up the notebook with huge print statements\n",
    "        query = \"SELECT * FROM {} LIMIT 10\".format(table)\n",
    "    else:\n",
    "        query = \"SELECT * FROM {}\".format(table)\n",
    "\n",
    "    if should_print:\n",
    "        for row in rows:\n",
    "            print(row)\n",
    "            \n",
    "    cur.execute(query)\n",
    "    \n",
    "    results = pd.DataFrame.from_records(data = cur.fetchall())\n",
    "    results.columns = list(map(lambda x: x[0], cur.description))\n",
    "    return results\n",
    "\n",
    "def select_where_from_table(conn, table, clause, should_print = True):\n",
    "    cur = conn.cursor()\n",
    "    cur.execute(\"SELECT * FROM {} WHERE {}\".format(table, clauses))\n",
    " \n",
    "    rows = cur.fetchall()\n",
    " \n",
    "    results = pd.DataFrame.from_records(data = cur.fetchall())\n",
    "    results.columns = list(map(lambda x: x[0], cur.description))\n",
    "    return results\n",
    "\n",
    "def show_all_tables(conn, should_print = True):\n",
    "    cur = conn.cursor()\n",
    "    cur.execute('SELECT name from sqlite_master where type= \"table\"')\n",
    " \n",
    "    rows = cur.fetchall()\n",
    " \n",
    "    results = pd.DataFrame.from_records(data = cur.fetchall())\n",
    "    results.columns = list(map(lambda x: x[0], cur.description))\n",
    "    return results"
   ]
  },
  {
   "cell_type": "markdown",
   "metadata": {},
   "source": [
    "### Main AimsunAnalyzer Class\n",
    "\n",
    "To be implemented. The skeleton code has been given below."
   ]
  },
  {
   "cell_type": "code",
   "execution_count": 128,
   "metadata": {},
   "outputs": [],
   "source": [
    "class AimsunAnalyzer:\n",
    "    \n",
    "    node_cols = ['oid', 'sid', 'ent', 'approachDelay', 'lostVehicles', 'missedTurnings']\n",
    "    detector_cols = ['oid', 'sid', 'ent', 'countveh', 'flow', 'speed', 'density', 'occupancy', 'headway']\n",
    "    lane_cols = ['oid', 'eid', 'sid', 'ent', 'lane', 'count', 'flow','input_count', 'input_flow',\n",
    "       'density', 'qmean', 'qmax', 'dtime', 'wtimeVQ', 'speed', 'hspeed', 'ttime', 'dtimeTtime', 'stime']\n",
    "    \n",
    "    detector_in_cols = ['id', 'name', 'section_id', 'position', 'length', 'from_lane', 'to_lane', 'geometry']\n",
    "    node_in_cols = ['eid', 'nodetype', 'geometry']\n",
    "    sections_in_cols = ['id', 'eid', 'name', 'nb_lanes', 'speed', 'capacity', 'rd_type', 'func_class', 'fnode', 'tnode', 'geometry']\n",
    "    \n",
    "    def __init__(self, simulation_file, simulation_filetype, ground_truth_file = None, ground_truth_filetype = None):\n",
    "        \"\"\"\n",
    "        Initializes the Aimsun analyzer.\n",
    "        \n",
    "        @param simulation_file:          The file path of the source file of Aimsun macro/microsimulation outputs.\n",
    "        @param simulation_filetype:      The type of the src_simulation file (can be .csv or .sqlite).\n",
    "        @param ground_truth_file:        The file path of the source file of Aimsun macro/microsimulation outputs.\n",
    "        @param ground_truth_filetype:    The type of the src_simulation file (can be .csv or .sqlite).\n",
    "        \"\"\"\n",
    "        self.database = simulation_file\n",
    "        self.conn = create_connection(self.database)\n",
    "        print(\"=====Connection Established.=====\")\n",
    "        \n",
    "        self.nodes = select_all_from_table(self.conn, \"MINODE\", should_print = False)[self.node_cols]\n",
    "        self.detectors = select_all_from_table(self.conn, \"MIDETEC\", should_print = False)[self.detector_cols]\n",
    "        self.lanes = select_all_from_table(self.conn, \"MILANE\", should_print = False)[self.lane_cols]\n",
    "        \n",
    "        self.nodes_inputs = gpd.read_file(input_folder + \"/nodes.shp\")[self.node_in_cols]\n",
    "        self.detector_inputs = gpd.read_file(input_folder + \"/detectors.shp\")[self.detector_in_cols]\n",
    "        self.section_inputs = gpd.read_file(input_folder + \"/sections.shp\")\n",
    "        \n",
    "        self.nodes_inputs = self.nodes_inputs.to_crs(epsg=4326)\n",
    "        self.detector_inputs = self.detector_inputs.to_crs(epsg=4326)\n",
    "        self.section_inputs = self.section_inputs.to_crs(epsg=4326)\n",
    "        \n",
    "        self.nodes_inputs['eid'] = self.nodes_inputs['eid'].fillna(0)\n",
    "        self.nodes_inputs['eid'] = self.nodes_inputs['eid'].astype('int64')\n",
    "        \n",
    "        # print(self.section_inputs)\n",
    "        # print(self.lanes)\n",
    "        self.nodes_joined = self.nodes_inputs.merge(self.nodes, how = 'left', left_on = 'eid', right_on = 'oid')\n",
    "        self.section_joined = self.section_inputs.merge(self.lanes, how = 'left', on = 'eid')\n",
    "        self.detector_joined = self.detector_inputs.merge(self.detectors, how = 'left', left_on = 'id', right_on = 'oid')\n",
    "            \n",
    "        print(\"=====Simulation Data Loaded.=====\")\n",
    "        \n",
    "        self.external_zones = gpd.read_file(zone_folder + \"/External Centroid zones/ExternalCentroidZones.shp\")\n",
    "        self.internal_zones = None\n",
    "        self.neighborhoods = gpd.read_file(neighborhoods_folder + \"/Neighborhoods.shp\")\n",
    "        \n",
    "        self.neighborhoods = self.neighborhoods.to_crs(epsg=4326)\n",
    "        \n",
    "        print(\"=====Zonefile Data Loaded.=====\")\n",
    "        \n",
    "        self.ground_truth_file = ground_truth_file\n",
    "        self.ground_truth_filetype = ground_truth_filetype\n",
    "    \n",
    "    def get_node_data(self, columns, time = 10):\n",
    "        for column in columns:\n",
    "            if column not in self.nodes_joined:\n",
    "                print(\"Error: {} not found in column\".format(column))\n",
    "                return None\n",
    "        \n",
    "        columns = ['geometry'] + columns\n",
    "        selected_data = self.nodes_joined[self.nodes_joined['ent'] == time][columns]\n",
    "        \n",
    "        return selected_data\n",
    "    \n",
    "    def get_section_data(self, columns, time = 10):\n",
    "        for column in columns:\n",
    "            if column not in self.section_joined:\n",
    "                print(\"Error: {} not found in column\".format(column))\n",
    "                return None\n",
    "        \n",
    "        columns = ['geometry'] + columns\n",
    "        selected_data = self.section_joined[self.section_joined['ent'] == time][columns]\n",
    "        \n",
    "        return selected_data\n",
    "\n",
    "    def get_detector_data(self, columns, time = 10):\n",
    "        for column in columns:\n",
    "            if column not in self.detector_joined:\n",
    "                print(\"Error: {} not found in column\".format(column))\n",
    "                return None\n",
    "        \n",
    "        columns = ['geometry'] + columns\n",
    "        selected_data = self.detector_joined[self.detector_joined['ent'] == time][columns]\n",
    "        \n",
    "        return selected_data\n",
    "\n",
    "    def get_neighborhoods(self):\n",
    "        return self.neighborhoods\n",
    "    \n",
    "    def get_external_zones(self):\n",
    "        return self.external_zones\n",
    "    \n",
    "    def get_internal_zones(self):\n",
    "        return self.internal_zones"
   ]
  },
  {
   "cell_type": "markdown",
   "metadata": {},
   "source": [
    "## Main Code\n",
    "\n",
    "This section contains the code that should be run in order to generate results in this notebook. Below is the necessary starter code that connects to the database and outputs the current simulator info:"
   ]
  },
  {
   "cell_type": "code",
   "execution_count": 129,
   "metadata": {},
   "outputs": [
    {
     "name": "stdout",
     "output_type": "stream",
     "text": [
      "=====Connection Established.=====\n",
      "=====Simulation Data Loaded.=====\n",
      "=====Zonefile Data Loaded.=====\n"
     ]
    }
   ],
   "source": [
    "database = os.path.join(sql_folder, \"2017.sqlite\")\n",
    "analyzer = AimsunAnalyzer(database, \"sqlite\")"
   ]
  },
  {
   "cell_type": "markdown",
   "metadata": {},
   "source": [
    "### Visualizer Code"
   ]
  },
  {
   "cell_type": "code",
   "execution_count": 130,
   "metadata": {
    "scrolled": true
   },
   "outputs": [
    {
     "name": "stdout",
     "output_type": "stream",
     "text": [
      "User Guide: https://github.com/keplergl/kepler.gl/blob/master/docs/keplergl-jupyter/user-guide.md\n"
     ]
    },
    {
     "data": {
      "application/vnd.jupyter.widget-view+json": {
       "model_id": "f37c18d9c1464e2584d8a8fa06251cd3",
       "version_major": 2,
       "version_minor": 0
      },
      "text/plain": [
       "KeplerGl(data={'Speed Data': {'index': [18, 19, 92, 93, 166, 167, 240, 241, 314, 315, 388, 389, 462, 463, 536,…"
      ]
     },
     "metadata": {},
     "output_type": "display_data"
    }
   ],
   "source": [
    "map_1 = KeplerGl(height = 500)\n",
    "map_1.add_data(data = analyzer.get_section_data(['speed_x']), name = \"Speed Data\")\n",
    "map_1.add_data(data = analyzer.get_node_data([]), name = \"Node Data\")\n",
    "map_1.add_data(data = analyzer.get_external_zones(), name = \"External Zones\")\n",
    "# map_1.add_data(data = analyzer.get_neighborhoods(), name = \"Neighborhoods\")\n",
    "map_1"
   ]
  },
  {
   "cell_type": "code",
   "execution_count": null,
   "metadata": {},
   "outputs": [],
   "source": []
  }
 ],
 "metadata": {
  "kernelspec": {
   "display_name": "Python 3",
   "language": "python",
   "name": "python3"
  },
  "language_info": {
   "codemirror_mode": {
    "name": "ipython",
    "version": 3
   },
   "file_extension": ".py",
   "mimetype": "text/x-python",
   "name": "python",
   "nbconvert_exporter": "python",
   "pygments_lexer": "ipython3",
   "version": "3.7.4"
  }
 },
 "nbformat": 4,
 "nbformat_minor": 2
}
