{
 "cells": [
  {
   "cell_type": "markdown",
   "metadata": {},
   "source": [
    "# Aimsun Macrosimulation SQLite Output Database Analyzer\n",
    "\n",
    "### Goal of the notebook\n",
    "\n",
    "This purpose of this Jupyter notebook is to process the database produced by the Aimsun static macrosimulations.\n",
    "***\n",
    "**Outputs:** \n",
    "\n",
    "Comparsion biplots:\n",
    "- compare_link_flow.png\n",
    "\n",
    "\n",
    "**Inputs:** \n",
    "\n",
    "Aimsun macrosimulation outputs:\n",
    "- aimsun-outputs.sqlite\n",
    "    - The database should at least contain the following tables: SIM_INFO, MASECT.\n",
    "\n",
    "Ground truth data:\n",
    "- flow_processed_2019.csv\n",
    "\n",
    "**Dependent scripts:** \n",
    "None"
   ]
  },
  {
   "cell_type": "markdown",
   "metadata": {},
   "source": [
    " **IMPORTANT:** Run the iPython cell below in order to import the necessary packages."
   ]
  },
  {
   "cell_type": "code",
   "execution_count": 1,
   "metadata": {},
   "outputs": [],
   "source": [
    "# Root path of Fremont Dropbox\n",
    "import os\n",
    "import sys\n",
    "# We let this notebook to know where to look for fremontdropbox module\n",
    "module_path = os.path.abspath(os.path.join('../..'))\n",
    "if module_path not in sys.path:\n",
    "    sys.path.append(module_path)\n",
    "\n",
    "from fremontdropbox import get_dropbox_location\n",
    "\n",
    "path_dropbox = get_dropbox_location()\n",
    "data_folder = os.path.join(path_dropbox, 'Private Structured data collection')\n",
    "sql_folder = os.path.join(data_folder, 'Aimsun','Outputs')"
   ]
  },
  {
   "cell_type": "code",
   "execution_count": 15,
   "metadata": {},
   "outputs": [],
   "source": [
    "import numpy as np\n",
    "import scipy\n",
    "import matplotlib\n",
    "import sqlite3\n",
    "import pandas as pd\n",
    "import matplotlib.pyplot as plt\n",
    "import datetime\n",
    "import statsmodels.api as sm\n",
    "from statsmodels.sandbox.regression.predstd import wls_prediction_std"
   ]
  },
  {
   "cell_type": "markdown",
   "metadata": {},
   "source": [
    "### SQLite Helper Functions\n",
    "\n",
    "These functions are wrapper functions for the underlying SQLite commands we use to query data from the SQLite database. The notebook assumes that the Aimsun database file has been placed into the current directory of the notebook."
   ]
  },
  {
   "cell_type": "code",
   "execution_count": 3,
   "metadata": {},
   "outputs": [],
   "source": [
    "def create_connection(db_file):\n",
    "    conn = sqlite3.connect(db_file)\n",
    "    return conn\n",
    "\n",
    "def create_df_from_sql_table(conn, table_name):\n",
    "    query = conn.execute(\"SELECT * From {}\".format(table_name))\n",
    "    cols = [column[0] for column in query.description]\n",
    "    results= pd.DataFrame.from_records(data = query.fetchall(), columns = cols)\n",
    "    return results\n",
    "\n",
    "def select_all_from_table(conn, table, should_print = True):\n",
    "    cur = conn.cursor()\n",
    "    if should_print:\n",
    "        # Prevents us from accidentally clogging up the notebook with huge print statements\n",
    "        cur.execute(\"SELECT * FROM {} LIMIT 10\".format(table))\n",
    "    else:\n",
    "        cur.execute(\"SELECT * FROM {}\".format(table))\n",
    "    rows = cur.fetchall()\n",
    "    if should_print:\n",
    "        for row in rows:\n",
    "            print(row)\n",
    "    return rows"
   ]
  },
  {
   "cell_type": "markdown",
   "metadata": {},
   "source": [
    "### SimulatorInfo Class (SIM_INFO Table)\n",
    "\n",
    "This class parses information from the ```SIM_INFO``` table in the Aimsun database. This table stores meta information about the simulation in general, including the owner of the file and the version number currently in use."
   ]
  },
  {
   "cell_type": "code",
   "execution_count": 7,
   "metadata": {},
   "outputs": [],
   "source": [
    "class SimulatorInfo:\n",
    "    \n",
    "    def __init__(self, values):\n",
    "        self.data_id = values[0]\n",
    "        self.data_id_name = values[1]\n",
    "        self.effective_data_id = values[2]\n",
    "        self.uses_external_id = True if values[4] else False\n",
    "        self.scenario_date = values[5]\n",
    "        self.start_time = values[6]\n",
    "        self.duration = values[7]\n",
    "        self.rand_seed = values[8]\n",
    "        self.type = 'Simulated Data' if values[9] == 1 else 'Average'\n",
    "        self.warm_up_time = values[10]\n",
    "        self.sim_model = values[11]\n",
    "        self.aimsun_version = values[12]\n",
    "        self.num_iters = values[13]\n",
    "        self.exec_date = values[14]\n",
    "        self.experiment_id = values[15]\n",
    "        self.experiment_name = values[16]\n",
    "        self.scenario_id = values[17]\n",
    "        self.scenario_name = values[18]\n",
    "        self.author = values[28]\n",
    "        self.num_interval = (self.duration-self.warm_up_time)//900 # one interval per 15 mins\n",
    "\n",
    "    def __str__(self):\n",
    "        delimiter = \",\"\n",
    "        return \"Data ID: {}{}\".format(self.data_id, delimiter) +\\\n",
    "            \"Data ID Name: {}{}\".format(self.data_id_name, delimiter) +\\\n",
    "            \"Start Time: {}{}\".format(self.start_time, delimiter) +\\\n",
    "            \"Duration: {}{}\".format(self.duration, delimiter) +\\\n",
    "            \"Num intervals: {}{}\".format(self.num_interval, delimiter) +\\\n",
    "            \"Type: {}{}\".format(self.type, delimiter) +\\\n",
    "            \"Simulation Model: {}{}\".format(self.sim_model, delimiter) +\\\n",
    "            \"Execution Date: {}{}\".format(self.exec_date, delimiter) +\\\n",
    "            \"Scenarion Name: {}{}\".format(self.scenario_name, delimiter) +\\\n",
    "            \"Owner: {}\".format(self.author)\n",
    "    \n",
    "    def __repr__(self):\n",
    "        return str(self)"
   ]
  },
  {
   "cell_type": "markdown",
   "metadata": {},
   "source": [
    "### Main AimsunAnalyzer Class\n",
    "\n",
    "To be implemented. The skeleton code has been given below.\n",
    "\n",
    "Tables ```MISECT```, ```MIVEHTRAJECTORY``` and ```MISECTVEHTRAJECTORY``` are converted into dataframes and stored before further analysis."
   ]
  },
  {
   "cell_type": "code",
   "execution_count": 16,
   "metadata": {},
   "outputs": [],
   "source": [
    "class AimsunAnalyzer:\n",
    "    \n",
    "    def __init__(self, simulation_file, simulation_filetype, ground_truth_file = None, ground_truth_filetype = None):\n",
    "        \"\"\"\n",
    "        Initializes the Aimsun analyzer.\n",
    "        \n",
    "        @param simulation_file:          The file path of the source file of Aimsun macro/microsimulation outputs.\n",
    "        @param simulation_filetype:      The type of the src_simulation file (can be .csv or .sqlite).\n",
    "        @param ground_truth_file:        The file path of the source file of Aimsun macro/microsimulation outputs.\n",
    "        @param ground_truth_filetype:    The type of the src_simulation file (can be .csv or .sqlite).\n",
    "        \"\"\"\n",
    "        self.database = simulation_file\n",
    "        self.conn = create_connection(self.database)\n",
    "        print(\"=====Connection Established.=====\")\n",
    "        \n",
    "        self.model_info = SimulatorInfo(select_all_from_table(self.conn, \"SIM_INFO\", should_print = False)[0])\n",
    "        print(\"=====Model Information Loaded.=====\")\n",
    "        \n",
    "        self.sections = create_df_from_sql_table(self.conn, \"MASECT\")\n",
    "\n",
    "        print(\"=====Simulation Data Loaded.=====\")\n",
    "        \n",
    "        self.ground_truth_file = ground_truth_file\n",
    "        self.ground_truth_filetype = ground_truth_filetype\n",
    "    \n",
    "    def get_link_flow(self, road_id):\n",
    "        \"\"\"\n",
    "        Returns the link flow (veh/h) for a road_id.\n",
    "        @param road_id:         The external ID of the road in Aimsun in string format, i.e. \"1242\".\n",
    "        @return:                The link flow on the road with road_id.\n",
    "        \"\"\"\n",
    "        flow = self.sections[self.sections[\"eid\"]==road_id][\"flow\"].sum()\n",
    "        return flow\n",
    "    \n",
    "    def compare_flows(self, road_ids='All'):\n",
    "        # may not be useful\n",
    "        \"\"\"\n",
    "        Returns a matplotlib plot with comparison information on the flows for the given road IDs at the\n",
    "        specified time intervals.\n",
    "\n",
    "        @param road_ids:              A list of the road IDs to be compared.\n",
    "        @param time_interval:         A list of the corresponding time intervals for the road IDs.\n",
    "\n",
    "        @return:                      A comparison plot in Matplotlib for the link flows.\n",
    "        @return:                      The list of link flows within the time interval between start_time\n",
    "                                      and end_time on roads with road_ids.\n",
    "        \"\"\"\n",
    "        if self.ground_truth_data is None:\n",
    "            print(\"Error: No ground truth has been passed in.\")\n"
   ]
  },
  {
   "cell_type": "markdown",
   "metadata": {},
   "source": [
    "## Main Code\n",
    "\n",
    "This section contains the code that should be run in order to generate results in this notebook. Below is the necessary starter code that connects to the database and outputs the current simulator info:"
   ]
  },
  {
   "cell_type": "code",
   "execution_count": 14,
   "metadata": {},
   "outputs": [
    {
     "name": "stdout",
     "output_type": "stream",
     "text": [
      "=====Connection Established.=====\n",
      "=====Model Information Loaded.=====\n",
      "=====Simulation Data Loaded.=====\n",
      "=====Connection Established.=====\n",
      "=====Model Information Loaded.=====\n",
      "=====Simulation Data Loaded.=====\n"
     ]
    }
   ],
   "source": [
    "static_db = os.path.join(sql_folder, \"2019_latest_0421_static.sqlite\")\n",
    "static_analyzer = AimsunAnalyzer(static_db, \"sqlite\")\n",
    "\n",
    "od_adjustment_db = os.path.join(sql_folder, \"2019_latest_0421_od_adjustment.sqlite\")\n",
    "od_adjustment_analyzer = AimsunAnalyzer(od_adjustment_db, \"sqlite\")"
   ]
  },
  {
   "cell_type": "code",
   "execution_count": 12,
   "metadata": {},
   "outputs": [
    {
     "data": {
      "text/plain": [
       "1377.1697917864321"
      ]
     },
     "execution_count": 12,
     "metadata": {},
     "output_type": "execute_result"
    }
   ],
   "source": [
    "static_analyzer.get_link_flow(\"35500\")"
   ]
  },
  {
   "cell_type": "code",
   "execution_count": 17,
   "metadata": {},
   "outputs": [
    {
     "data": {
      "text/plain": [
       "1863.2793944433279"
      ]
     },
     "execution_count": 17,
     "metadata": {},
     "output_type": "execute_result"
    }
   ],
   "source": [
    "od_adjustment_analyzer.get_link_flow(\"35500\")"
   ]
  },
  {
   "cell_type": "code",
   "execution_count": null,
   "metadata": {},
   "outputs": [],
   "source": []
  }
 ],
 "metadata": {
  "kernelspec": {
   "display_name": "Python 3",
   "language": "python",
   "name": "python3"
  },
  "language_info": {
   "codemirror_mode": {
    "name": "ipython",
    "version": 3
   },
   "file_extension": ".py",
   "mimetype": "text/x-python",
   "name": "python",
   "nbconvert_exporter": "python",
   "pygments_lexer": "ipython3",
   "version": "3.7.3"
  }
 },
 "nbformat": 4,
 "nbformat_minor": 2
}
