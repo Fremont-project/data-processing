{
 "cells": [
  {
   "cell_type": "markdown",
   "metadata": {},
   "source": [
    "## To do: explain here"
   ]
  },
  {
   "cell_type": "code",
   "execution_count": 1,
   "metadata": {},
   "outputs": [],
   "source": [
    "import os\n",
    "import sys\n",
    "module_path = os.path.abspath(os.path.join('../..'))\n",
    "if module_path not in sys.path:\n",
    "    sys.path.append(module_path)\n",
    "    \n",
    "from fremontdropbox import get_dropbox_location\n",
    "dbx = get_dropbox_location()\n",
    "\n",
    "data_path = dbx + '/Private Structured data collection'"
   ]
  },
  {
   "cell_type": "code",
   "execution_count": 3,
   "metadata": {},
   "outputs": [],
   "source": [
    "import geopandas as gpd\n",
    "from keplergl import KeplerGl\n",
    "import pandas as pd\n",
    "import networkx as nx\n"
   ]
  },
  {
   "cell_type": "markdown",
   "metadata": {},
   "source": [
    "## 1. Load Aimsun network"
   ]
  },
  {
   "cell_type": "code",
   "execution_count": 3,
   "metadata": {},
   "outputs": [],
   "source": [
    "def read_gdf(path):\n",
    "    gdf = gpd.GeoDataFrame.from_file(path)\n",
    "    gdf = gdf.to_crs(epsg=4326)\n",
    "    return gdf\n",
    "\n",
    "Aimsun_nodes = read_gdf(data_path + \"/Data processing/Raw/Network/Aimsun/nodes.shp\")\n",
    "Aimsun_sections = read_gdf(data_path + \"/Data processing/Raw/Network/Aimsun/sections.shp\")"
   ]
  },
  {
   "cell_type": "code",
   "execution_count": 4,
   "metadata": {},
   "outputs": [
    {
     "name": "stdout",
     "output_type": "stream",
     "text": [
      "Number of sections: 5626\n",
      "Number of nodes: 2013\n"
     ]
    }
   ],
   "source": [
    "print(\"Number of sections: \" + str(Aimsun_sections.id.count()))\n",
    "print(\"Number of nodes: \" + str(Aimsun_nodes.id.count()))"
   ]
  },
  {
   "cell_type": "markdown",
   "metadata": {},
   "source": [
    "## To do: change NaN vertices to new vertices"
   ]
  },
  {
   "cell_type": "code",
   "execution_count": 24,
   "metadata": {},
   "outputs": [],
   "source": [
    "# remove NaN vertices (to do)\n",
    "edges_topo = Aimsun_sections # [['id', 'fnode', 'tnode', 'capacity', 'speed']]\n",
    "edges_topo = edges_topo[edges_topo['fnode'].notna()]\n",
    "edges_topo = edges_topo[edges_topo['tnode'].notna()]\n",
    "edges_topo[['id', 'fnode', 'tnode', 'capacity', 'speed']] = edges_topo[['id', 'fnode', 'tnode', 'capacity', 'speed']].astype(int)\n",
    "\n",
    "edges_topo.to_csv(sql_folder + '/test_pandas_to_add_travel_time.csv')\n"
   ]
  },
  {
   "cell_type": "markdown",
   "metadata": {},
   "source": [
    "## 2. Load Aimsun output data on Aimsun road section\n",
    "\n",
    "## To do: \n",
    "1. use AimsunAnalyzer.get_link_travel_time() from `Aimsun Microsimulation SQLite Output Database Analyzer` here\n",
    "2. Set travel time as the default one if there is no vehicle on a link\n"
   ]
  },
  {
   "cell_type": "markdown",
   "metadata": {},
   "source": [
    "## To do Zixuan and Yanda: make sure the following cell works"
   ]
  },
  {
   "cell_type": "code",
   "execution_count": 4,
   "metadata": {},
   "outputs": [],
   "source": [
    "import analyser_utils as au\n",
    "\n",
    "data_folder = os.path.join(dbx, 'Private Structured data collection')\n",
    "sql_folder = os.path.join(data_folder, 'Aimsun','Outputs')\n",
    "database = os.path.join(sql_folder, \"2019_latest_0410.sqlite\")\n",
    "analyzer = au.AimsunAnalyzer(database, \"sqlite\")\n",
    "\n",
    "\n",
    "edge_weighted = pd.read_csv(sql_folder + '/test_pandas_to_add_travel_time.csv')\n",
    "edge_weighted['travel time 2pm'] = edge_weighted['id'].apply(lambda x: analyzer.get_link_travel_time(x, \"14:00\"))\n"
   ]
  },
  {
   "cell_type": "code",
   "execution_count": 6,
   "metadata": {},
   "outputs": [
    {
     "data": {
      "text/html": [
       "<div>\n",
       "<style scoped>\n",
       "    .dataframe tbody tr th:only-of-type {\n",
       "        vertical-align: middle;\n",
       "    }\n",
       "\n",
       "    .dataframe tbody tr th {\n",
       "        vertical-align: top;\n",
       "    }\n",
       "\n",
       "    .dataframe thead th {\n",
       "        text-align: right;\n",
       "    }\n",
       "</style>\n",
       "<table border=\"1\" class=\"dataframe\">\n",
       "  <thead>\n",
       "    <tr style=\"text-align: right;\">\n",
       "      <th></th>\n",
       "      <th>Unnamed: 0</th>\n",
       "      <th>id</th>\n",
       "      <th>eid</th>\n",
       "      <th>name</th>\n",
       "      <th>nb_lanes</th>\n",
       "      <th>speed</th>\n",
       "      <th>capacity</th>\n",
       "      <th>rd_type</th>\n",
       "      <th>func_class</th>\n",
       "      <th>fnode</th>\n",
       "      <th>tnode</th>\n",
       "      <th>geometry</th>\n",
       "      <th>travel time 2pm</th>\n",
       "    </tr>\n",
       "  </thead>\n",
       "  <tbody>\n",
       "    <tr>\n",
       "      <th>0</th>\n",
       "      <td>0</td>\n",
       "      <td>242</td>\n",
       "      <td>242</td>\n",
       "      <td>NaN</td>\n",
       "      <td>1</td>\n",
       "      <td>120</td>\n",
       "      <td>2100</td>\n",
       "      <td>175.0</td>\n",
       "      <td>1</td>\n",
       "      <td>9845</td>\n",
       "      <td>9923</td>\n",
       "      <td>LINESTRING (-121.9224407372546 37.495929921401...</td>\n",
       "      <td>16.965624</td>\n",
       "    </tr>\n",
       "    <tr>\n",
       "      <th>1</th>\n",
       "      <td>1</td>\n",
       "      <td>243</td>\n",
       "      <td>243</td>\n",
       "      <td>NaN</td>\n",
       "      <td>3</td>\n",
       "      <td>104</td>\n",
       "      <td>6300</td>\n",
       "      <td>175.0</td>\n",
       "      <td>1</td>\n",
       "      <td>9852</td>\n",
       "      <td>9848</td>\n",
       "      <td>LINESTRING (-121.9231276999998 37.495264500001...</td>\n",
       "      <td>6.417711</td>\n",
       "    </tr>\n",
       "    <tr>\n",
       "      <th>2</th>\n",
       "      <td>2</td>\n",
       "      <td>244</td>\n",
       "      <td>244</td>\n",
       "      <td>NaN</td>\n",
       "      <td>3</td>\n",
       "      <td>104</td>\n",
       "      <td>6300</td>\n",
       "      <td>175.0</td>\n",
       "      <td>1</td>\n",
       "      <td>9850</td>\n",
       "      <td>9852</td>\n",
       "      <td>LINESTRING (-121.9235192999998 37.495609300001...</td>\n",
       "      <td>1.827915</td>\n",
       "    </tr>\n",
       "  </tbody>\n",
       "</table>\n",
       "</div>"
      ],
      "text/plain": [
       "   Unnamed: 0   id  eid name  nb_lanes  speed  capacity  rd_type  func_class  \\\n",
       "0           0  242  242  NaN         1    120      2100    175.0           1   \n",
       "1           1  243  243  NaN         3    104      6300    175.0           1   \n",
       "2           2  244  244  NaN         3    104      6300    175.0           1   \n",
       "\n",
       "   fnode  tnode                                           geometry  \\\n",
       "0   9845   9923  LINESTRING (-121.9224407372546 37.495929921401...   \n",
       "1   9852   9848  LINESTRING (-121.9231276999998 37.495264500001...   \n",
       "2   9850   9852  LINESTRING (-121.9235192999998 37.495609300001...   \n",
       "\n",
       "   travel time 2pm  \n",
       "0        16.965624  \n",
       "1         6.417711  \n",
       "2         1.827915  "
      ]
     },
     "metadata": {},
     "output_type": "display_data"
    }
   ],
   "source": [
    "# print(edges_topo.head(3))\n",
    "\n",
    "display(edge_weighted.head(3))"
   ]
  },
  {
   "cell_type": "code",
   "execution_count": 22,
   "metadata": {},
   "outputs": [],
   "source": [
    "# ## This should be removed once the function isochrones_with_time works\n",
    "# # load Aimsun output data\n",
    "# vehSectTraj = pd.read_csv(data_path + '/Aimsun/Outputs/vehSectTrajectory.csv')\n",
    "\n",
    "# # to do here: only get data at a specific time step\n",
    "\n",
    "# max_tt = vehSectTraj.travelTime.max()\n",
    "# mean_tt = vehSectTraj.travelTime.mean()\n",
    "\n",
    "# print(max_tt)\n",
    "# print(mean_tt)\n",
    "\n",
    "# # pivot veh sect traj\n",
    "# vehSectTraj_temp = vehSectTraj.groupby(\"sectionId\").mean()\n",
    "\n",
    "# # merge it on Aimsun sections\n",
    "# edge_weighted = pd.merge(edges_topo,\n",
    "#                            vehSectTraj_temp,\n",
    "#                            left_on='id',\n",
    "#                            right_on='sectionId',\n",
    "#                            how='left',\n",
    "#                            sort=True)\n",
    "\n",
    "# edge_weighted.travelTime.fillna(mean_tt, inplace = True)"
   ]
  },
  {
   "cell_type": "code",
   "execution_count": 7,
   "metadata": {},
   "outputs": [
    {
     "name": "stdout",
     "output_type": "stream",
     "text": [
      "Number of Aimsun sections: 5626\n",
      "Number of sections used (after dropna in Aimsun section): 4318\n",
      "Number of sections with travel time after adding simulation values: 2391\n",
      "Number of sections with travel time after adding mean to NaN values: 4318\n"
     ]
    }
   ],
   "source": [
    "print(\"Number of Aimsun sections: \" + str(Aimsun_sections.id.count()))\n",
    "print(\"Number of sections used (after dropna in Aimsun section): \" + str(edge_weighted.id.count()))\n",
    "# print(\"Number of sections with travel time after adding simulation values: \" + str(edge_weighted.delayTime.count()))\n",
    "# print(\"Number of sections with travel time after adding mean to NaN values: \" + str(edge_weighted.travelTime.count()))"
   ]
  },
  {
   "cell_type": "code",
   "execution_count": null,
   "metadata": {},
   "outputs": [],
   "source": [
    "print(\"Number of sections with travel time after adding simulation values: \" + str(edge_weighted['travel time 2pm'].count()))\n",
    "\n"
   ]
  },
  {
   "cell_type": "markdown",
   "metadata": {},
   "source": [
    "## Computing isochrones with Networkx ego_graph"
   ]
  },
  {
   "cell_type": "code",
   "execution_count": 8,
   "metadata": {},
   "outputs": [
    {
     "name": "stdout",
     "output_type": "stream",
     "text": [
      "   Travel time                                           geometry\n",
      "0           60  POLYGON ((-121.92148 37.48841, -121.92157 37.4...\n",
      "1          120  POLYGON ((-121.92697 37.48629, -121.92699 37.4...\n",
      "2          180  POLYGON ((-121.92697 37.48629, -121.92699 37.4...\n",
      "3          240  POLYGON ((-121.92697 37.48629, -121.92699 37.4...\n",
      "4          300  POLYGON ((-121.92697 37.48629, -121.92699 37.4...\n"
     ]
    }
   ],
   "source": [
    "\n",
    "from shapely.geometry import Polygon\n",
    "from shapely.ops import unary_union\n",
    "\n",
    "def isochrone(dataframe, node_id, r):\n",
    "    \"\"\"\n",
    "    To do\n",
    "    \"\"\"\n",
    "    graph = nx.from_pandas_edgelist(dataframe, 'fnode', 'tnode', ['geometry', 'speed', 'capacity', 'travelTime'])\n",
    "    graph_within_r = nx.ego_graph(graph, node_id, radius=r, distance='travelTime')\n",
    "    graph_df = nx.to_pandas_edgelist(graph_within_r)\n",
    "    graph_gdf = gpd.GeoDataFrame(graph_df)\n",
    "    return graph_gdf\n",
    "\n",
    "def isochrones(edge_weighted, within_times, node_ids, buffer_size=0.0005):\n",
    "    \"\"\"\n",
    "    To do\n",
    "    \"\"\"\n",
    "    geometries = []\n",
    "    for t in within_times:\n",
    "        isochrone_result = Polygon()\n",
    "        for nd in node_ids:\n",
    "            graph_gdf = isochrone(edge_weighted, nd, t)\n",
    "            isochrone_tmp = graph_gdf.geometry.buffer(buffer_size).unary_union\n",
    "            isochrone_result = unary_union([isochrone_result, isochrone_tmp])\n",
    "#             gpd.overlay(isochrone_result, isochrone_tmp, how='union') \n",
    "        geometries.append(isochrone_result)\n",
    "    # print(gdf.geometry.buffer(0.0005).unary_union)\n",
    "    isochrone_gdf = gpd.GeoDataFrame({'Travel time': within_times, 'geometry': geometries})\n",
    "    return isochrone_gdf\n",
    "\n",
    "def isochrones_with_time(edges, analyzer, time_interval, within_times, node_ids, buffer_size=0.0005):\n",
    "    \"\"\"\n",
    "    To do\n",
    "    \"\"\"\n",
    "    edges['travel time'] = edges.id.apply(lambda x: analyzer.get_link_travel_time(x, time_interval))\n",
    "    return isochrones(edges_topo, within_times, node_ids, buffer_size)\n",
    "\n",
    "## to do: try this code once it Aimsun Analyzer is a script\n",
    "# time_interval = \"14:00\" # to do\n",
    "# database = os.path.join(sql_folder, \"2019_latest_0410.sqlite\")\n",
    "# analyzer = AimsunAnalyzer(database, \"sqlite\")\n",
    "# test = isochrones_with_time(edges_topo, analyzer, interval_time, within_times, node_ids, buffer_size=0.0005)\n",
    "    \n",
    "node_ids = [15043, 9845]\n",
    "times = [60*(i+1) for i in range(5)]\n",
    "isochrone_gdf = isochrones(edge_weighted, times, node_ids, buffer_size=0.001)\n",
    "print(isochrone_gdf)\n"
   ]
  },
  {
   "cell_type": "code",
   "execution_count": 9,
   "metadata": {
    "scrolled": true
   },
   "outputs": [
    {
     "name": "stdout",
     "output_type": "stream",
     "text": [
      "User Guide: https://github.com/keplergl/kepler.gl/blob/master/docs/keplergl-jupyter/user-guide.md\n"
     ]
    },
    {
     "data": {
      "application/vnd.jupyter.widget-view+json": {
       "model_id": "d2a9cd94bbfb44c784294eb93adb55f9",
       "version_major": 2,
       "version_minor": 0
      },
      "text/plain": [
       "KeplerGl(data={'Isochrones': {'index': [0, 1, 2, 3, 4], 'columns': ['Travel time', 'geometry'], 'data': [[60, …"
      ]
     },
     "metadata": {},
     "output_type": "display_data"
    }
   ],
   "source": [
    "map_1 = KeplerGl(height=1000)\n",
    "map_1.add_data(data=isochrone_gdf, name = \"Isochrones\")\n",
    "map_1.add_data(data=isochrone_gdf[isochrone_gdf['Travel time']==60], name = \"Isochrone within 1 minute\")\n",
    "\n",
    "# map_1.add_data(data=Aimsun_sections_simulation[Aimsun_sections_simulation.travelTime.notna()], name = \"Sections with traffic\")\n",
    "map_1"
   ]
  },
  {
   "cell_type": "markdown",
   "metadata": {},
   "source": [
    "## 3. Accessibility computation\n",
    "\n",
    "## To do:\n",
    "1. Load Google maps POIs\n",
    "2. Merge POIs to nodes (see https://docs.scipy.org/doc/scipy-0.14.0/reference/generated/scipy.spatial.KDTree.html)\n",
    "3. Compute number of POIs accessible from set of points in 5/10/... minutes (using previous code and geopandas sjoin function)\n",
    "4. Use pandana to compute some other accessibility indexes"
   ]
  },
  {
   "cell_type": "code",
   "execution_count": null,
   "metadata": {},
   "outputs": [],
   "source": []
  },
  {
   "cell_type": "code",
   "execution_count": null,
   "metadata": {},
   "outputs": [],
   "source": []
  },
  {
   "cell_type": "code",
   "execution_count": null,
   "metadata": {},
   "outputs": [],
   "source": [
    "    \n",
    "    "
   ]
  },
  {
   "cell_type": "markdown",
   "metadata": {},
   "source": [
    "## Appendix: visual rendering"
   ]
  },
  {
   "cell_type": "code",
   "execution_count": 10,
   "metadata": {},
   "outputs": [
    {
     "name": "stdout",
     "output_type": "stream",
     "text": [
      "User Guide: https://github.com/keplergl/kepler.gl/blob/master/docs/keplergl-jupyter/user-guide.md\n"
     ]
    },
    {
     "data": {
      "application/vnd.jupyter.widget-view+json": {
       "model_id": "e59de7ecb23a4214ab34c2fb2faedb67",
       "version_major": 2,
       "version_minor": 0
      },
      "text/plain": [
       "KeplerGl(data={'Sections without traffic': {'index': [3, 4, 20, 21, 22, 23, 24, 25, 33, 35, 36, 37, 38, 39, 40…"
      ]
     },
     "metadata": {},
     "output_type": "display_data"
    }
   ],
   "source": [
    "## Side work: plot sections that are not used\n",
    "\n",
    "Aimsun_sections_simulation = pd.merge(Aimsun_sections,\n",
    "                           vehSectTraj_temp,\n",
    "                           left_on='id',\n",
    "                           right_on='sectionId',\n",
    "                           how='left',\n",
    "                           sort=True)\n",
    "\n",
    "map_1 = KeplerGl(height=1000)\n",
    "map_1.add_data(data=Aimsun_sections_simulation[Aimsun_sections_simulation.travelTime.isnull()], name = \"Sections without traffic\")\n",
    "map_1.add_data(data=Aimsun_sections_simulation[Aimsun_sections_simulation.travelTime.notna()], name = \"Sections with traffic\")\n",
    "map_1"
   ]
  },
  {
   "cell_type": "code",
   "execution_count": null,
   "metadata": {},
   "outputs": [],
   "source": []
  }
 ],
 "metadata": {
  "kernelspec": {
   "display_name": "Python 3",
   "language": "python",
   "name": "python3"
  },
  "language_info": {
   "codemirror_mode": {
    "name": "ipython",
    "version": 3
   },
   "file_extension": ".py",
   "mimetype": "text/x-python",
   "name": "python",
   "nbconvert_exporter": "python",
   "pygments_lexer": "ipython3",
   "version": "3.7.3"
  }
 },
 "nbformat": 4,
 "nbformat_minor": 4
}
