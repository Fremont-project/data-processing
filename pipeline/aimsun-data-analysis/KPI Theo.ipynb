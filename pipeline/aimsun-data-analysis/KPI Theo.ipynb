{
 "cells": [
  {
   "cell_type": "markdown",
   "metadata": {},
   "source": [
    "## To do: explain here"
   ]
  },
  {
   "cell_type": "code",
   "execution_count": 1,
   "metadata": {},
   "outputs": [],
   "source": [
    "import os\n",
    "import sys\n",
    "module_path = os.path.abspath(os.path.join('../..'))\n",
    "if module_path not in sys.path:\n",
    "    sys.path.append(module_path)\n",
    "    \n",
    "from fremontdropbox import get_dropbox_location\n",
    "dbx = get_dropbox_location()\n",
    "\n",
    "data_path = dbx + '/Private Structured data collection'"
   ]
  },
  {
   "cell_type": "code",
   "execution_count": 2,
   "metadata": {},
   "outputs": [],
   "source": [
    "import geopandas as gpd\n",
    "from keplergl import KeplerGl\n",
    "import pandas as pd\n",
    "import networkx as nx\n"
   ]
  },
  {
   "cell_type": "markdown",
   "metadata": {},
   "source": [
    "## 1. Load Aimsun network"
   ]
  },
  {
   "cell_type": "code",
   "execution_count": 3,
   "metadata": {},
   "outputs": [],
   "source": [
    "def read_gdf(path):\n",
    "    gdf = gpd.GeoDataFrame.from_file(path)\n",
    "    gdf = gdf.to_crs(epsg=4326)\n",
    "    return gdf\n",
    "\n",
    "Aimsun_nodes = read_gdf(data_path + \"/Data processing/Raw/Network/Aimsun/nodes.shp\")\n",
    "Aimsun_sections = read_gdf(data_path + \"/Data processing/Raw/Network/Aimsun/sections.shp\")"
   ]
  },
  {
   "cell_type": "code",
   "execution_count": 4,
   "metadata": {},
   "outputs": [
    {
     "name": "stdout",
     "output_type": "stream",
     "text": [
      "Number of sections: 5626\n",
      "Number of nodes: 2013\n"
     ]
    }
   ],
   "source": [
    "print(\"Number of sections: \" + str(Aimsun_sections.id.count()))\n",
    "print(\"Number of nodes: \" + str(Aimsun_nodes.id.count()))"
   ]
  },
  {
   "cell_type": "markdown",
   "metadata": {},
   "source": [
    "## To do: change NaN vertices to new vertices"
   ]
  },
  {
   "cell_type": "code",
   "execution_count": 5,
   "metadata": {},
   "outputs": [],
   "source": [
    "# remove NaN vertices (to do)\n",
    "edges_topo = Aimsun_sections # [['id', 'fnode', 'tnode', 'capacity', 'speed']]\n",
    "edges_topo = edges_topo[edges_topo['fnode'].notna()]\n",
    "edges_topo = edges_topo[edges_topo['tnode'].notna()]\n",
    "edges_topo[['id', 'fnode', 'tnode', 'capacity', 'speed']] = edges_topo[['id', 'fnode', 'tnode', 'capacity', 'speed']].astype(int)\n",
    "\n"
   ]
  },
  {
   "cell_type": "markdown",
   "metadata": {},
   "source": [
    "## 2. Load Aimsun output data on Aimsun road section\n",
    "\n",
    "## To do: \n",
    "1. use AimsunAnalyzer.get_link_travel_time() from `Aimsun Microsimulation SQLite Output Database Analyzer` here\n",
    "2. Set travel time as the default one if there is no vehicle on a link\n"
   ]
  },
  {
   "cell_type": "markdown",
   "metadata": {},
   "source": [
    "## To do Zixuan and Yanda: make sure the following cell works"
   ]
  },
  {
   "cell_type": "code",
   "execution_count": 6,
   "metadata": {},
   "outputs": [
    {
     "name": "stdout",
     "output_type": "stream",
     "text": [
      "=====Connection Established.=====\n",
      "Simulation starts at 14h0min\n",
      "=====Model Information Loaded.=====\n",
      "=====Simulation Data Loaded.=====\n"
     ]
    }
   ],
   "source": [
    "import analyser_utils as au\n",
    "\n",
    "data_folder = os.path.join(dbx, 'Private Structured data collection')\n",
    "sql_folder = os.path.join(data_folder, 'Aimsun','Outputs')\n",
    "database = os.path.join(sql_folder, \"2019_latest_0410.sqlite\")\n",
    "analyzer = au.AimsunAnalyzer(database, \"sqlite\")\n",
    "\n",
    "# edges_topo.to_csv(sql_folder + '/test_pandas_to_add_travel_time.csv')\n",
    "# edge_weighted = pd.read_csv(sql_folder + '/test_pandas_to_add_travel_time.csv')\n"
   ]
  },
  {
   "cell_type": "code",
   "execution_count": 12,
   "metadata": {},
   "outputs": [
    {
     "data": {
      "text/html": [
       "<div>\n",
       "<style scoped>\n",
       "    .dataframe tbody tr th:only-of-type {\n",
       "        vertical-align: middle;\n",
       "    }\n",
       "\n",
       "    .dataframe tbody tr th {\n",
       "        vertical-align: top;\n",
       "    }\n",
       "\n",
       "    .dataframe thead th {\n",
       "        text-align: right;\n",
       "    }\n",
       "</style>\n",
       "<table border=\"1\" class=\"dataframe\">\n",
       "  <thead>\n",
       "    <tr style=\"text-align: right;\">\n",
       "      <th></th>\n",
       "      <th>id</th>\n",
       "      <th>eid</th>\n",
       "      <th>name</th>\n",
       "      <th>nb_lanes</th>\n",
       "      <th>speed</th>\n",
       "      <th>capacity</th>\n",
       "      <th>rd_type</th>\n",
       "      <th>func_class</th>\n",
       "      <th>fnode</th>\n",
       "      <th>tnode</th>\n",
       "      <th>geometry</th>\n",
       "      <th>travel time 2pm</th>\n",
       "    </tr>\n",
       "  </thead>\n",
       "  <tbody>\n",
       "    <tr>\n",
       "      <th>0</th>\n",
       "      <td>242</td>\n",
       "      <td>242</td>\n",
       "      <td>None</td>\n",
       "      <td>1</td>\n",
       "      <td>120</td>\n",
       "      <td>2100</td>\n",
       "      <td>175.0</td>\n",
       "      <td>1</td>\n",
       "      <td>9845</td>\n",
       "      <td>9923</td>\n",
       "      <td>LINESTRING (-121.92244 37.49593, -121.92242 37...</td>\n",
       "      <td>16.965624</td>\n",
       "    </tr>\n",
       "    <tr>\n",
       "      <th>1</th>\n",
       "      <td>243</td>\n",
       "      <td>243</td>\n",
       "      <td>None</td>\n",
       "      <td>3</td>\n",
       "      <td>104</td>\n",
       "      <td>6300</td>\n",
       "      <td>175.0</td>\n",
       "      <td>1</td>\n",
       "      <td>9852</td>\n",
       "      <td>9848</td>\n",
       "      <td>LINESTRING (-121.92313 37.49526, -121.92173 37...</td>\n",
       "      <td>6.417711</td>\n",
       "    </tr>\n",
       "    <tr>\n",
       "      <th>2</th>\n",
       "      <td>244</td>\n",
       "      <td>244</td>\n",
       "      <td>None</td>\n",
       "      <td>3</td>\n",
       "      <td>104</td>\n",
       "      <td>6300</td>\n",
       "      <td>175.0</td>\n",
       "      <td>1</td>\n",
       "      <td>9850</td>\n",
       "      <td>9852</td>\n",
       "      <td>LINESTRING (-121.92352 37.49561, -121.92313 37...</td>\n",
       "      <td>1.827915</td>\n",
       "    </tr>\n",
       "  </tbody>\n",
       "</table>\n",
       "</div>"
      ],
      "text/plain": [
       "    id  eid  name  nb_lanes  speed  capacity  rd_type  func_class  fnode  \\\n",
       "0  242  242  None         1    120      2100    175.0           1   9845   \n",
       "1  243  243  None         3    104      6300    175.0           1   9852   \n",
       "2  244  244  None         3    104      6300    175.0           1   9850   \n",
       "\n",
       "   tnode                                           geometry  travel time 2pm  \n",
       "0   9923  LINESTRING (-121.92244 37.49593, -121.92242 37...        16.965624  \n",
       "1   9848  LINESTRING (-121.92313 37.49526, -121.92173 37...         6.417711  \n",
       "2   9852  LINESTRING (-121.92352 37.49561, -121.92313 37...         1.827915  "
      ]
     },
     "metadata": {},
     "output_type": "display_data"
    }
   ],
   "source": [
    "edge_weighted = edges_topo.copy()\n",
    "edge_weighted['travel time 2pm'] = edge_weighted['id'].apply(lambda x: analyzer.get_link_travel_time(x, \"14:00\"))\n",
    "display(edge_weighted.head(3))\n"
   ]
  },
  {
   "cell_type": "code",
   "execution_count": 13,
   "metadata": {},
   "outputs": [
    {
     "name": "stdout",
     "output_type": "stream",
     "text": [
      "Number of Aimsun sections: 5626\n",
      "Number of sections used (after dropna in Aimsun section): 4318\n",
      "Number of sections with travel time after adding simulation values: 4318\n"
     ]
    }
   ],
   "source": [
    "print(\"Number of Aimsun sections: \" + str(Aimsun_sections.id.count()))\n",
    "print(\"Number of sections used (after dropna in Aimsun section): \" + str(edge_weighted.id.count()))\n",
    "print(\"Number of sections with travel time after adding simulation values: \" + str(edge_weighted['travel time 2pm'].count()))\n",
    "\n"
   ]
  },
  {
   "cell_type": "markdown",
   "metadata": {},
   "source": [
    "## Computing isochrones with Networkx ego_graph"
   ]
  },
  {
   "cell_type": "code",
   "execution_count": 27,
   "metadata": {},
   "outputs": [
    {
     "name": "stdout",
     "output_type": "stream",
     "text": [
      "half done\n"
     ]
    }
   ],
   "source": [
    "\n",
    "from shapely.geometry import Polygon\n",
    "from shapely.ops import unary_union\n",
    "\n",
    "def isochrone(dataframe, node_id, r):\n",
    "    \"\"\"\n",
    "    To do\n",
    "    \"\"\"\n",
    "    graph = nx.from_pandas_edgelist(dataframe, 'fnode', 'tnode', ['geometry', 'speed', 'capacity', 'travel time'])\n",
    "    graph_within_r = nx.ego_graph(graph, node_id, radius=r, distance='travelTime')\n",
    "    graph_df = nx.to_pandas_edgelist(graph_within_r)\n",
    "    graph_gdf = gpd.GeoDataFrame(graph_df)\n",
    "    return graph_gdf\n",
    "\n",
    "def isochrones(edge_weighted, within_times, node_ids, buffer_size=0.0005):\n",
    "    \"\"\"\n",
    "    To do\n",
    "    \"\"\"\n",
    "    geometries = []\n",
    "    for t in within_times:\n",
    "        isochrone_result = Polygon()\n",
    "        for nd in node_ids:\n",
    "            graph_gdf = isochrone(edge_weighted, nd, t)\n",
    "            isochrone_tmp = graph_gdf.geometry.buffer(buffer_size).unary_union\n",
    "            isochrone_result = unary_union([isochrone_result, isochrone_tmp])\n",
    "#             gpd.overlay(isochrone_result, isochrone_tmp, how='union') \n",
    "        geometries.append(isochrone_result)\n",
    "    # print(gdf.geometry.buffer(0.0005).unary_union)\n",
    "    isochrone_gdf = gpd.GeoDataFrame({'Travel time': within_times, 'geometry': geometries})\n",
    "    return isochrone_gdf\n",
    "\n",
    "def isochrones_with_time(edges_param, analyzer, time_interval, within_times, node_ids, buffer_size=0.0005):\n",
    "    \"\"\"\n",
    "    To do\n",
    "    \"\"\"\n",
    "    edges = edges_param.copy()\n",
    "    edges['travel time'] = edges.id.apply(lambda x: analyzer.get_link_travel_time(x, time_interval))\n",
    "    return isochrones(edges, within_times, node_ids, buffer_size)\n",
    "\n",
    "## to do: try this code once it Aimsun Analyzer is a script\n",
    "# time_interval = \"14:00\" # to do\n",
    "# database = os.path.join(sql_folder, \"2019_latest_0410.sqlite\")\n",
    "# analyzer = AimsunAnalyzer(database, \"sqlite\")\n",
    "# test = isochrones_with_time(edges_topo, analyzer, interval_time, within_times, node_ids, buffer_size=0.0005)\n",
    "    \n",
    "node_ids = [15043, 9845]\n",
    "times = [5*(i+1) for i in range(5)]\n",
    "isochrone_gdf_2pm = isochrones_with_time(edge_weighted, analyzer, \"14:00\", times, node_ids, buffer_size=0.001)\n",
    "print(\"half done\")\n",
    "isochrone_gdf_6pm = isochrones_with_time(edge_weighted, analyzer, \"18:00\", times, node_ids, buffer_size=0.001)\n",
    "\n",
    "\n",
    "# print(isochrone_gdf)\n"
   ]
  },
  {
   "cell_type": "code",
   "execution_count": 31,
   "metadata": {
    "scrolled": false
   },
   "outputs": [
    {
     "name": "stdout",
     "output_type": "stream",
     "text": [
      "User Guide: https://github.com/keplergl/kepler.gl/blob/master/docs/keplergl-jupyter/user-guide.md\n"
     ]
    },
    {
     "data": {
      "application/vnd.jupyter.widget-view+json": {
       "model_id": "11d4ba4dbd45443fb6e13c2a5fa01346",
       "version_major": 2,
       "version_minor": 0
      },
      "text/plain": [
       "KeplerGl(data={'Isochrones 2pm': {'index': [0, 1, 2, 3, 4], 'columns': ['Travel time', 'geometry'], 'data': [[…"
      ]
     },
     "metadata": {},
     "output_type": "display_data"
    }
   ],
   "source": [
    "map_1 = KeplerGl(height=1000)\n",
    "map_1.add_data(data=isochrone_gdf_2pm, name = \"Isochrones 2pm\")\n",
    "map_1.add_data(data=isochrone_gdf_2pm[isochrone_gdf_2pm['Travel time']==10], name = \"Isochrone 2 pm within 1 minute\")\n",
    "\n",
    "map_1.add_data(data=isochrone_gdf_6pm, name = \"Isochrones 6pm\")\n",
    "map_1.add_data(data=isochrone_gdf_6pm[isochrone_gdf_6pm['Travel time']==15], name = \"Isochrone 6pm within 1 minute\")\n",
    "\n",
    "# map_1.add_data(data=Aimsun_sections_simulation[Aimsun_sections_simulation.travelTime.notna()], name = \"Sections with traffic\")\n",
    "map_1"
   ]
  },
  {
   "cell_type": "markdown",
   "metadata": {},
   "source": [
    "## 3. Accessibility computation\n",
    "\n",
    "## To do:\n",
    "1. Load Google maps POIs\n",
    "2. Merge POIs to nodes (see https://docs.scipy.org/doc/scipy-0.14.0/reference/generated/scipy.spatial.KDTree.html)\n",
    "3. Compute number of POIs accessible from set of points in 5/10/... minutes (using previous code and geopandas sjoin function)\n",
    "4. Use pandana to compute some other accessibility indexes"
   ]
  },
  {
   "cell_type": "code",
   "execution_count": null,
   "metadata": {},
   "outputs": [],
   "source": []
  },
  {
   "cell_type": "code",
   "execution_count": null,
   "metadata": {},
   "outputs": [],
   "source": []
  },
  {
   "cell_type": "code",
   "execution_count": null,
   "metadata": {},
   "outputs": [],
   "source": [
    "    \n",
    "    "
   ]
  },
  {
   "cell_type": "markdown",
   "metadata": {},
   "source": [
    "## Appendix: visual rendering"
   ]
  },
  {
   "cell_type": "code",
   "execution_count": null,
   "metadata": {},
   "outputs": [],
   "source": [
    "## Side work: plot sections that are not used\n",
    "\n",
    "Aimsun_sections_simulation = pd.merge(Aimsun_sections,\n",
    "                           vehSectTraj_temp,\n",
    "                           left_on='id',\n",
    "                           right_on='sectionId',\n",
    "                           how='left',\n",
    "                           sort=True)\n",
    "\n",
    "map_1 = KeplerGl(height=1000)\n",
    "map_1.add_data(data=Aimsun_sections_simulation[Aimsun_sections_simulation.travelTime.isnull()], name = \"Sections without traffic\")\n",
    "map_1.add_data(data=Aimsun_sections_simulation[Aimsun_sections_simulation.travelTime.notna()], name = \"Sections with traffic\")\n",
    "map_1"
   ]
  },
  {
   "cell_type": "markdown",
   "metadata": {},
   "source": [
    "## The following is old"
   ]
  },
  {
   "cell_type": "code",
   "execution_count": null,
   "metadata": {},
   "outputs": [],
   "source": [
    "# ## This should be removed once the function isochrones_with_time works\n",
    "# # load Aimsun output data\n",
    "# vehSectTraj = pd.read_csv(data_path + '/Aimsun/Outputs/vehSectTrajectory.csv')\n",
    "\n",
    "# # to do here: only get data at a specific time step\n",
    "\n",
    "# max_tt = vehSectTraj.travelTime.max()\n",
    "# mean_tt = vehSectTraj.travelTime.mean()\n",
    "\n",
    "# print(max_tt)\n",
    "# print(mean_tt)\n",
    "\n",
    "# # pivot veh sect traj\n",
    "# vehSectTraj_temp = vehSectTraj.groupby(\"sectionId\").mean()\n",
    "\n",
    "# # merge it on Aimsun sections\n",
    "# edge_weighted = pd.merge(edges_topo,\n",
    "#                            vehSectTraj_temp,\n",
    "#                            left_on='id',\n",
    "#                            right_on='sectionId',\n",
    "#                            how='left',\n",
    "#                            sort=True)\n",
    "\n",
    "# edge_weighted.travelTime.fillna(mean_tt, inplace = True)"
   ]
  }
 ],
 "metadata": {
  "kernelspec": {
   "display_name": "Python 3",
   "language": "python",
   "name": "python3"
  },
  "language_info": {
   "codemirror_mode": {
    "name": "ipython",
    "version": 3
   },
   "file_extension": ".py",
   "mimetype": "text/x-python",
   "name": "python",
   "nbconvert_exporter": "python",
   "pygments_lexer": "ipython3",
   "version": "3.7.6"
  }
 },
 "nbformat": 4,
 "nbformat_minor": 4
}
