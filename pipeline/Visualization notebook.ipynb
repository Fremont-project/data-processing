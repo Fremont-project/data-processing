{
 "cells": [
  {
   "cell_type": "markdown",
   "metadata": {},
   "source": [
    "# Visualization notebook\n",
    "\n",
    "The goal of this notebook is to provide visualization of data using Kepler.gl\n"
   ]
  },
  {
   "cell_type": "code",
   "execution_count": 18,
   "metadata": {},
   "outputs": [],
   "source": [
    "from keplergl import KeplerGl\n",
    "import geopandas as gpd\n",
    "import pandas as pd"
   ]
  },
  {
   "cell_type": "code",
   "execution_count": 19,
   "metadata": {},
   "outputs": [],
   "source": [
    "# --- Global variables\n",
    "\n",
    "# Setting up the Coordinate Reference Systems up front in the necessary format.\n",
    "crs_degree = {'init': 'epsg:4326'} # CGS_WGS_1984 (what the GPS uses)\n",
    "\n",
    "# --- Paths\n",
    "\n",
    "# Root path of Fremont Dropbox\n",
    "import os\n",
    "import sys\n",
    "# We let this notebook to know where to look for fremontdropbox module\n",
    "module_path = os.path.abspath(os.path.join('..'))\n",
    "if module_path not in sys.path:\n",
    "    sys.path.append(module_path)\n",
    "    \n",
    "from fremontdropbox import get_dropbox_location\n",
    "# Root path of the Dropbox business account\n",
    "dbx = get_dropbox_location()\n",
    "\n",
    "# Temporary! Location of the folder where the restructuring is currently happening\n",
    "data_path = dbx + '/Private Structured data collection'"
   ]
  },
  {
   "cell_type": "code",
   "execution_count": 22,
   "metadata": {},
   "outputs": [],
   "source": [
    "def to_gdf(path):\n",
    "    \"\"\"\n",
    "    Parameters: \n",
    "        path: path of the file to read as a geodataframe\n",
    "        \n",
    "    return:\n",
    "        a GeoDataFrame (with Geopandas) corresponding to the file path\n",
    "    \"\"\"\n",
    "    gdf = gpd.GeoDataFrame.from_file(path)\n",
    "    gdf = gdf.to_crs('epsg:4326')\n",
    "    return gdf"
   ]
  },
  {
   "cell_type": "markdown",
   "metadata": {},
   "source": [
    "## 1. Network data"
   ]
  },
  {
   "cell_type": "markdown",
   "metadata": {},
   "source": [
    "## Aimsun map"
   ]
  },
  {
   "cell_type": "code",
   "execution_count": 6,
   "metadata": {},
   "outputs": [],
   "source": [
    "aimsun_path_regular = dbx + '/Private Structured data collection/Aimsun/Inputs/'\n",
    "aimsun_path_complex = dbx + '/Private Structured data collection/Aimsun/Inputs_complex/'\n",
    "\n",
    "aimsun_path = aimsun_path_complex\n",
    "\n",
    "detectors = to_gdf(aimsun_path +'detectors.shp')\n",
    "meterings = to_gdf(aimsun_path +'meterings.shp')\n",
    "# centroids = to_gdf(aimsun_path +'centroids.shp')\n",
    "# centroid_connections = to_gdf(aimsun_path +'centroid_connections.shp')\n",
    "nodes = to_gdf(aimsun_path +'nodes.shp')\n",
    "# polygons = to_gdf(aimsun_path +'polygons.shp')\n",
    "sections = to_gdf(aimsun_path +'sections.shp')\n",
    "# sectionsGeo = to_gdf(aimsun_path +'sectionsGeo.shp')\n",
    "# turnings = to_gdf(aimsun_path +'turnings.shp')"
   ]
  },
  {
   "cell_type": "code",
   "execution_count": 13,
   "metadata": {
    "scrolled": false
   },
   "outputs": [
    {
     "name": "stdout",
     "output_type": "stream",
     "text": [
      "User Guide: https://github.com/keplergl/kepler.gl/blob/master/docs/keplergl-jupyter/user-guide.md\n"
     ]
    },
    {
     "data": {
      "application/vnd.jupyter.widget-view+json": {
       "model_id": "bd87ec419ab440a2a2503d30468778f5",
       "version_major": 2,
       "version_minor": 0
      },
      "text/plain": [
       "KeplerGl(data={'nodes': {'index': [0, 1, 2, 3, 4, 5, 6, 7, 8, 9, 10, 11, 12, 13, 14, 15, 16, 17, 18, 19, 20, 2…"
      ]
     },
     "metadata": {},
     "output_type": "display_data"
    }
   ],
   "source": [
    "\n",
    "fremont_map = KeplerGl(height=600)\n",
    "# fremont_map.add_data(data = detectors, name=\"Detectors\")\n",
    "# fremont_map.add_data(data = meterings, name=\"meterings\")\n",
    "fremont_map.add_data(data = nodes, name=\"nodes\")\n",
    "# fremont_map.add_data(data = polygons, name=\"polygons\")\n",
    "fremont_map.add_data(data = sections, name=\"sections\")\n",
    "# fremont_map.add_data(data = sectionsGeo, name=\"sectionsGeo\")\n",
    "# fremont_map.add_data(data = turnings, name=\"turnings\")\n",
    "# fremont_map.add_data(data = centroids, name=\"centroids\")\n",
    "# fremont_map.add_data(data = centroid_connections, name=\"centroid_connections\")\n",
    "fremont_map"
   ]
  },
  {
   "cell_type": "code",
   "execution_count": null,
   "metadata": {},
   "outputs": [],
   "source": []
  },
  {
   "cell_type": "code",
   "execution_count": 8,
   "metadata": {},
   "outputs": [
    {
     "name": "stdout",
     "output_type": "stream",
     "text": [
      "7321\n",
      "[175. 179. 182. 185. 180. 184. 177.]\n",
      "175: 150\n",
      "177: 439\n",
      "179: 3369\n",
      "180: 498\n",
      "182: 286\n",
      "184: 62\n",
      "185: 2517\n"
     ]
    }
   ],
   "source": [
    "print(sections['rd_type'].count())\n",
    "print(sections['rd_type'].unique())\n",
    "print(\"175: \" + str(sections[sections['rd_type'] == 175.0]['id'].count()))\n",
    "print(\"177: \" + str(sections[sections['rd_type'] == 177.0]['id'].count()))\n",
    "print(\"179: \" + str(sections[sections['rd_type'] == 179.0]['id'].count()))\n",
    "print(\"180: \" + str(sections[sections['rd_type'] == 180.0]['id'].count()))\n",
    "print(\"182: \" + str(sections[sections['rd_type'] == 182.0]['id'].count()))\n",
    "print(\"184: \" + str(sections[sections['rd_type'] == 184.0]['id'].count()))\n",
    "print(\"185: \" + str(sections[sections['rd_type'] == 185.0]['id'].count()))"
   ]
  },
  {
   "cell_type": "code",
   "execution_count": 11,
   "metadata": {},
   "outputs": [
    {
     "name": "stdout",
     "output_type": "stream",
     "text": [
      "[3. 0. 2. 1.]\n",
      "0: 774\n",
      "1: 1632\n",
      "2: 44\n",
      "3: 190\n"
     ]
    }
   ],
   "source": [
    "print(nodes['nodetype'].unique())\n",
    "\n",
    "print(\"0: \" + str(nodes[nodes['nodetype'] == 0.0]['id'].count()))\n",
    "print(\"1: \" + str(nodes[nodes['nodetype'] == 1.0]['id'].count()))\n",
    "print(\"2: \" + str(nodes[nodes['nodetype'] == 2.0]['id'].count()))\n",
    "print(\"3: \" + str(nodes[nodes['nodetype'] == 3.0]['id'].count()))"
   ]
  },
  {
   "cell_type": "markdown",
   "metadata": {},
   "source": [
    "## Traffic signals and stop signs"
   ]
  },
  {
   "cell_type": "code",
   "execution_count": 29,
   "metadata": {},
   "outputs": [],
   "source": [
    "def to_gdf_csv(path):\n",
    "# https://geopandas.readthedocs.io/en/latest/gallery/create_geopandas_from_pandas.html#from-wkt-format\n",
    "    df = pd.read_csv(path)\n",
    "    gdf = gpd.GeoDataFrame(\n",
    "        df, crs='epsg:4326', geometry=gpd.points_from_xy(df.x, df.y))\n",
    "    return gdf"
   ]
  },
  {
   "cell_type": "code",
   "execution_count": 31,
   "metadata": {},
   "outputs": [],
   "source": [
    "network_infra_path = data_path + \"/Manual-made dataset (do not touch)/Network/Infrastructure/\"\n",
    "\n",
    "stop_signs = to_gdf_csv(network_infra_path + \"Stop signs location/Stop_Signs.csv\")\n",
    "traffic_lights = to_gdf_csv(network_infra_path + \"Traffic lights location/Traffic_Lights.csv\")"
   ]
  },
  {
   "cell_type": "code",
   "execution_count": 32,
   "metadata": {},
   "outputs": [
    {
     "name": "stdout",
     "output_type": "stream",
     "text": [
      "User Guide: https://github.com/keplergl/kepler.gl/blob/master/docs/keplergl-jupyter/user-guide.md\n"
     ]
    },
    {
     "data": {
      "application/vnd.jupyter.widget-view+json": {
       "model_id": "e10a98030a554bd99a093de745f68dc9",
       "version_major": 2,
       "version_minor": 0
      },
      "text/plain": [
       "KeplerGl(data={'Stop signs': {'index': [0, 1, 2, 3, 4, 5, 6, 7, 8, 9, 10, 11, 12, 13, 14, 15, 16, 17, 18, 19, …"
      ]
     },
     "metadata": {},
     "output_type": "display_data"
    }
   ],
   "source": [
    "fremont_map = KeplerGl(height=600)\n",
    "fremont_map.add_data(data = stop_signs, name=\"Stop signs\")\n",
    "fremont_map.add_data(data = traffic_lights, name=\"Traffic lights\")\n",
    "fremont_map"
   ]
  },
  {
   "cell_type": "code",
   "execution_count": 33,
   "metadata": {},
   "outputs": [
    {
     "name": "stdout",
     "output_type": "stream",
     "text": [
      "       __OBJECTID           x           y\n",
      "count   313.00000  313.000000  313.000000\n",
      "mean    222.99361 -121.927146   37.520037\n",
      "std      98.13302    0.010298    0.015053\n",
      "min      33.00000 -121.952584   37.489385\n",
      "25%     150.00000 -121.932672   37.507222\n",
      "50%     228.00000 -121.925565   37.520876\n",
      "75%     306.00000 -121.919649   37.531509\n",
      "max     384.00000 -121.908920   37.551676\n"
     ]
    }
   ],
   "source": [
    "print(stop_signs.describe())"
   ]
  },
  {
   "cell_type": "code",
   "execution_count": 34,
   "metadata": {},
   "outputs": [],
   "source": [
    "path_taz = data_path + \"/Data processing/Auxiliary files/Demand/OD demand/TAZ\"\n",
    "internal_taz = to_gdf(path_taz + \"/Internal_TAZ.shp\")\n",
    "external_taz = to_gdf(path_taz + \"/External_TAZ.shp\")"
   ]
  },
  {
   "cell_type": "code",
   "execution_count": 35,
   "metadata": {},
   "outputs": [
    {
     "name": "stdout",
     "output_type": "stream",
     "text": [
      "User Guide: https://github.com/keplergl/kepler.gl/blob/master/docs/keplergl-jupyter/user-guide.md\n"
     ]
    },
    {
     "data": {
      "application/vnd.jupyter.widget-view+json": {
       "model_id": "94d3f91415c642deb6721fa89e160ecc",
       "version_major": 2,
       "version_minor": 0
      },
      "text/plain": [
       "KeplerGl(data={'Internal TAZs': {'index': [0, 1, 2, 3, 4, 5, 6, 7, 8, 9, 10, 11, 12, 13, 14, 15, 16, 17, 18, 1…"
      ]
     },
     "metadata": {},
     "output_type": "display_data"
    }
   ],
   "source": [
    "fremont_map = KeplerGl(height=600)\n",
    "fremont_map.add_data(data = internal_taz, name=\"Internal TAZs\")\n",
    "fremont_map.add_data(data = external_taz, name=\"External TAZs\")\n",
    "Data\\ processing/Temporary\\ exports\\ to\\ be\\ copied\\ to\\ processed\\ data/Demand/OD\\ demand fremont_map"
   ]
  },
  {
   "cell_type": "code",
   "execution_count": 37,
   "metadata": {},
   "outputs": [],
   "source": [
    "od_demand_path = data_path + \"/Data processing/Temporary exports to be copied to processed data/Demand/OD demand/\" \n",
    "internal_od = pd.read_csv(od_demand_path + \"Internal OD grouped by timestamp.csv\")\n",
    "external_od = pd.read_csv(od_demand_path + \"External OD grouped by timestamp.csv\")"
   ]
  },
  {
   "cell_type": "code",
   "execution_count": 47,
   "metadata": {},
   "outputs": [
    {
     "name": "stdout",
     "output_type": "stream",
     "text": [
      "291\n",
      "1268\n"
     ]
    }
   ],
   "source": [
    "internal_od_4_pm = internal_od[internal_od[\"dt_15\"]==\"16:00\"]\n",
    "external_od_4_pm = external_od[external_od[\"dt_15\"]==\"16:0\"]\n",
    "\n",
    "print(internal_od_4_pm.counts.sum())\n",
    "print(external_od_4_pm.counts.sum())\n"
   ]
  },
  {
   "cell_type": "code",
   "execution_count": 43,
   "metadata": {},
   "outputs": [
    {
     "name": "stdout",
     "output_type": "stream",
     "text": [
      "   Unnamed: 0 CentroidID_O CentroidID_D dt_15  counts\n",
      "0          20       ext_13        ext_4  14:0      27\n",
      "1          21       ext_13       ext_20  14:0     354\n",
      "2          22       ext_13       ext_23  14:0       0\n",
      "3          23       ext_13       ext_21  14:0     188\n",
      "4          24        ext_4       ext_13  14:0      14\n"
     ]
    }
   ],
   "source": [
    "print(external_od.head())"
   ]
  },
  {
   "cell_type": "code",
   "execution_count": null,
   "metadata": {},
   "outputs": [],
   "source": []
  }
 ],
 "metadata": {
  "kernelspec": {
   "display_name": "Python 3",
   "language": "python",
   "name": "python3"
  },
  "language_info": {
   "codemirror_mode": {
    "name": "ipython",
    "version": 3
   },
   "file_extension": ".py",
   "mimetype": "text/x-python",
   "name": "python",
   "nbconvert_exporter": "python",
   "pygments_lexer": "ipython3",
   "version": "3.7.6"
  }
 },
 "nbformat": 4,
 "nbformat_minor": 4
}
