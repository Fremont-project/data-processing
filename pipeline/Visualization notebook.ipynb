{
 "cells": [
  {
   "cell_type": "markdown",
   "metadata": {},
   "source": [
    "# Visualization notebook\n",
    "\n",
    "The goal of this notebook is to provide visualization of data using Kepler.gl\n"
   ]
  },
  {
   "cell_type": "code",
   "execution_count": 1,
   "metadata": {},
   "outputs": [],
   "source": [
    "from keplergl import KeplerGl\n",
    "import geopandas as gpd\n",
    "import pandas as pd\n",
    "import numpy as np"
   ]
  },
  {
   "cell_type": "code",
   "execution_count": 2,
   "metadata": {},
   "outputs": [],
   "source": [
    "# --- Global variables\n",
    "\n",
    "# Setting up the Coordinate Reference Systems up front in the necessary format.\n",
    "crs_degree = {'init': 'epsg:4326'} # CGS_WGS_1984 (what the GPS uses)\n",
    "\n",
    "# --- Paths\n",
    "\n",
    "# Root path of Fremont Dropbox\n",
    "import os\n",
    "import sys\n",
    "# We let this notebook to know where to look for fremontdropbox module\n",
    "module_path = os.path.abspath(os.path.join('..'))\n",
    "if module_path not in sys.path:\n",
    "    sys.path.append(module_path)\n",
    "    \n",
    "from fremontdropbox import get_dropbox_location\n",
    "# Root path of the Dropbox business account\n",
    "dbx = get_dropbox_location()\n",
    "\n",
    "# Temporary! Location of the folder where the restructuring is currently happening\n",
    "data_path = dbx + '/Private Structured data collection'"
   ]
  },
  {
   "cell_type": "code",
   "execution_count": 3,
   "metadata": {},
   "outputs": [],
   "source": [
    "def to_gdf(path):\n",
    "    \"\"\"\n",
    "    Parameters: \n",
    "        path: path of the file to read as a geodataframe\n",
    "        \n",
    "    return:\n",
    "        a GeoDataFrame (with Geopandas) corresponding to the file path\n",
    "    \"\"\"\n",
    "    gdf = gpd.GeoDataFrame.from_file(path)\n",
    "    gdf = gdf.to_crs('epsg:4326')\n",
    "    return gdf"
   ]
  },
  {
   "cell_type": "code",
   "execution_count": 4,
   "metadata": {},
   "outputs": [],
   "source": [
    "import ast\n",
    "config_file = open('visualization_config.txt', 'r')\n",
    "text = config_file.read()\n",
    "dict_config = ast.literal_eval(text)\n",
    "config_file.close()"
   ]
  },
  {
   "cell_type": "markdown",
   "metadata": {},
   "source": [
    "## 1. Network data"
   ]
  },
  {
   "cell_type": "markdown",
   "metadata": {},
   "source": [
    "## Project delimitation\n",
    "#### To do: set correct CRS for the project delimitation"
   ]
  },
  {
   "cell_type": "code",
   "execution_count": 5,
   "metadata": {},
   "outputs": [],
   "source": [
    "project_del_path = dbx + \"/Private Structured data collection/Manual-made dataset (do not touch)/Network/Map/Project Delimitation/Project_delimitation.shp\"\n",
    "project_del = gpd.GeoDataFrame.from_file(project_del_path)\n",
    "\n",
    "# fremont_map = KeplerGl(height=600)\n",
    "# fremont_map.add_data(data = project_del_path, name=\"Project delimitation\")\n",
    "# fremont_map"
   ]
  },
  {
   "cell_type": "markdown",
   "metadata": {},
   "source": [
    "## Aimsun map\n",
    "\n",
    "##### To do: plot with new data when every works (centroids, centroid connections, etc.)"
   ]
  },
  {
   "cell_type": "code",
   "execution_count": 6,
   "metadata": {},
   "outputs": [],
   "source": [
    "aimsun_path_regular = dbx + '/Private Structured data collection/Aimsun/Inputs/'\n",
    "aimsun_path_complex = dbx + '/Private Structured data collection/Aimsun/Inputs_complex/'\n",
    "\n",
    "aimsun_path = aimsun_path_complex\n",
    "\n",
    "#detectors = to_gdf(aimsun_path +'detectors.shp')\n",
    "# meterings = to_gdf(aimsun_path +'meterings.shp')\n",
    "# centroids = to_gdf(aimsun_path +'centroids.shp')\n",
    "# centroid_connections = to_gdf(aimsun_path +'centroid_connections.shp')\n",
    "nodes = to_gdf(aimsun_path +'nodes.shp')\n",
    "# polygons = to_gdf(aimsun_path +'polygons.shp')\n",
    "sections = to_gdf(aimsun_path +'sections.shp')\n",
    "# sectionsGeo = to_gdf(aimsun_path +'sectionsGeo.shp')\n",
    "# turnings = to_gdf(aimsun_path +'turnings.shp')"
   ]
  },
  {
   "cell_type": "markdown",
   "metadata": {},
   "source": [
    "#### The following cell is useful to better understand and render the network"
   ]
  },
  {
   "cell_type": "code",
   "execution_count": 7,
   "metadata": {
    "scrolled": false
   },
   "outputs": [
    {
     "name": "stdout",
     "output_type": "stream",
     "text": [
      "--------Nodes-------\n",
      "\n",
      "Total number of nodes: 2640\n",
      "Nodes type values: [0. 1. 2. 3.]\n",
      "Number of nodes with type 0.0: 774\n",
      "Number of nodes with type 1.0: 1632\n",
      "Number of nodes with type 2.0: 44\n",
      "Number of nodes with type 3.0: 190\n",
      "\n",
      "------Sections------\n",
      "Total number of section: 7321\n",
      "\n",
      "Road type values: [175. 177. 179. 180. 182. 184. 185.]\n",
      "Number of sections with type 175.0: 150\n",
      "Number of sections with type 177.0: 439\n",
      "Number of sections with type 179.0: 3369\n",
      "Number of sections with type 180.0: 498\n",
      "Number of sections with type 182.0: 286\n",
      "Number of sections with type 184.0: 62\n",
      "Number of sections with type 185.0: 2517\n",
      "\n",
      "Speed values: [ 16.  40.  50.  56.  64.  72.  88.  90. 104. 120.]\n",
      "Number of sections with speed 16.0 (km/h): 4\n",
      "Number of sections with speed 40.0 (km/h): 44\n",
      "Number of sections with speed 50.0 (km/h): 6718\n",
      "Number of sections with speed 56.0 (km/h): 176\n",
      "Number of sections with speed 64.0 (km/h): 70\n",
      "Number of sections with speed 72.0 (km/h): 156\n",
      "Number of sections with speed 88.0 (km/h): 4\n",
      "Number of sections with speed 90.0 (km/h): 12\n",
      "Number of sections with speed 104.0 (km/h): 48\n",
      "Number of sections with speed 120.0 (km/h): 89\n",
      "\n",
      "Capacity values: [  500.   700.   800.   900.  1000.  1400.  1600.  1800.  2100.  2400.\n",
      "  2700.  3200.  3500.  3600.  4000.  4200.  4500.  4800.  5400.  5600.\n",
      "  6000.  6300.  7200.  8400. 10500. 12600.]\n",
      "Number of sections with capacity 500.0 (veh/h): 2515\n",
      "Number of sections with capacity 700.0 (veh/h): 3547\n",
      "Number of sections with capacity 800.0 (veh/h): 162\n",
      "Number of sections with capacity 900.0 (veh/h): 143\n",
      "Number of sections with capacity 1000.0 (veh/h): 2\n",
      "Number of sections with capacity 1400.0 (veh/h): 89\n",
      "Number of sections with capacity 1600.0 (veh/h): 268\n",
      "Number of sections with capacity 1800.0 (veh/h): 239\n",
      "Number of sections with capacity 2100.0 (veh/h): 65\n",
      "Number of sections with capacity 2400.0 (veh/h): 84\n",
      "Number of sections with capacity 2700.0 (veh/h): 46\n",
      "Number of sections with capacity 3200.0 (veh/h): 3\n",
      "Number of sections with capacity 3500.0 (veh/h): 1\n",
      "Number of sections with capacity 3600.0 (veh/h): 39\n",
      "Number of sections with capacity 4000.0 (veh/h): 3\n",
      "Number of sections with capacity 4200.0 (veh/h): 37\n",
      "Number of sections with capacity 4500.0 (veh/h): 3\n",
      "Number of sections with capacity 4800.0 (veh/h): 2\n",
      "Number of sections with capacity 5400.0 (veh/h): 1\n",
      "Number of sections with capacity 5600.0 (veh/h): 1\n",
      "Number of sections with capacity 6000.0 (veh/h): 4\n",
      "Number of sections with capacity 6300.0 (veh/h): 29\n",
      "Number of sections with capacity 7200.0 (veh/h): 1\n",
      "Number of sections with capacity 8400.0 (veh/h): 18\n",
      "Number of sections with capacity 10500.0 (veh/h): 17\n",
      "Number of sections with capacity 12600.0 (veh/h): 2\n",
      "\n",
      "Function class values: [1 2 3 5]\n",
      "Number of sections with function class 1: 150\n",
      "Number of sections with function class 2: 62\n",
      "Number of sections with function class 3: 1223\n",
      "Number of sections with function class 5: 5886\n"
     ]
    }
   ],
   "source": [
    "\n",
    "# fremont_map = KeplerGl(height=600)\n",
    "\n",
    "node_type = np.sort(nodes.nodetype.unique())\n",
    "print(\"--------Nodes-------\")\n",
    "print()\n",
    "print(\"Total number of nodes: \" + str(nodes['id'].count()))\n",
    "print(\"Nodes type values: \" + str(node_type))\n",
    "for i in node_type:\n",
    "    print(\"Number of nodes with type \" + str(i) + \": \" + str(nodes[nodes['nodetype'] == i]['id'].count()))\n",
    "    if False:\n",
    "        fremont_map.add_data(data = nodes[nodes['nodetype'] == i], name=\"Nodes type \" + str(i))\n",
    "\n",
    "    \n",
    "print()\n",
    "print(\"------Sections------\")\n",
    "\n",
    "print(\"Total number of section: \" + str(sections['id'].count()))\n",
    "print()\n",
    "section_type = np.sort(sections.rd_type.unique())\n",
    "print(\"Road type values: \" + str(section_type))\n",
    "for i in section_type:\n",
    "    print(\"Number of sections with type \" + str(i) + \": \" + str(sections[sections['rd_type'] == i]['id'].count()))\n",
    "    if False:\n",
    "        fremont_map.add_data(data = sections[sections['rd_type'] == i], name=\"Sections type \" + str(i))\n",
    "    \n",
    "print()\n",
    "section_speed = np.sort(sections.speed.unique())\n",
    "print(\"Speed values: \" + str(section_speed))\n",
    "for i in section_speed:\n",
    "    print(\"Number of sections with speed \" + str(i) + \" (km/h): \" + str(sections[sections['speed'] == i]['id'].count()))\n",
    "    if False:\n",
    "        fremont_map.add_data(data = sections[sections['speed'] == i], name=\"Sections speed \" + str(i))\n",
    "\n",
    "print()\n",
    "section_cap = np.sort(sections.capacity.unique())\n",
    "print(\"Capacity values: \" + str(section_cap))\n",
    "for i in section_cap:\n",
    "    print(\"Number of sections with capacity \" + str(i) + \" (veh/h): \" + str(sections[sections['capacity'] == i]['id'].count()))\n",
    "    if False:\n",
    "        fremont_map.add_data(data = sections[sections['capacity'] == i], name=\"Sections capacity \" + str(i))\n",
    "    \n",
    "print()\n",
    "section_func = np.sort(sections.func_class.unique())\n",
    "print(\"Function class values: \" + str(section_func))\n",
    "for i in section_func:\n",
    "    print(\"Number of sections with function class \" + str(i) + \": \" + str(sections[sections['func_class'] == i]['id'].count()))\n",
    "    if False:\n",
    "        fremont_map.add_data(data = sections[sections['func_class'] == i], name=\"Sections function class \" + str(i))\n",
    "    \n",
    "# fremont_map"
   ]
  },
  {
   "cell_type": "code",
   "execution_count": 8,
   "metadata": {
    "scrolled": false
   },
   "outputs": [
    {
     "name": "stdout",
     "output_type": "stream",
     "text": [
      "User Guide: https://github.com/keplergl/kepler.gl/blob/master/docs/keplergl-jupyter/user-guide.md\n"
     ]
    },
    {
     "data": {
      "application/vnd.jupyter.widget-view+json": {
       "model_id": "5a75352dfe964a2fb1c0ebbcaff25c57",
       "version_major": 2,
       "version_minor": 0
      },
      "text/plain": [
       "KeplerGl(config={'version': 'v1', 'config': {'visState': {'filters': [], 'layers': [{'id': 'cmvn55k', 'type': …"
      ]
     },
     "metadata": {},
     "output_type": "display_data"
    }
   ],
   "source": [
    "\n",
    "fremont_map = KeplerGl(height=600, config=dict_config['road_type_config'])\n",
    "# fremont_map.add_data(data = detectors, name=\"Detectors\")\n",
    "# fremont_map.add_data(data = meterings, name=\"meterings\")\n",
    "fremont_map.add_data(data = nodes, name=\"nodes\")\n",
    "# fremont_map.add_data(data = polygons, name=\"polygons\")\n",
    "fremont_map.add_data(data = sections, name=\"sections\")\n",
    "# fremont_map.add_data(data = sectionsGeo, name=\"sectionsGeo\")\n",
    "# fremont_map.add_data(data = turnings, name=\"turnings\")\n",
    "# fremont_map.add_data(data = centroids, name=\"centroids\")\n",
    "# fremont_map.add_data(data = centroid_connections, name=\"centroid_connections\")\n",
    "fremont_map"
   ]
  },
  {
   "cell_type": "markdown",
   "metadata": {},
   "source": [
    "## Aimsun road section"
   ]
  },
  {
   "cell_type": "code",
   "execution_count": 9,
   "metadata": {},
   "outputs": [
    {
     "name": "stdout",
     "output_type": "stream",
     "text": [
      "User Guide: https://github.com/keplergl/kepler.gl/blob/master/docs/keplergl-jupyter/user-guide.md\n"
     ]
    },
    {
     "data": {
      "application/vnd.jupyter.widget-view+json": {
       "model_id": "b4f1b6cb46954d1490069e414454b67b",
       "version_major": 2,
       "version_minor": 0
      },
      "text/plain": [
       "KeplerGl(config={'version': 'v1', 'config': {'visState': {'filters': [], 'layers': [{'id': 'cmvn55k', 'type': …"
      ]
     },
     "metadata": {},
     "output_type": "display_data"
    }
   ],
   "source": [
    "road_section_map = KeplerGl(height=600, config=dict_config['road_type_config'])\n",
    "\n",
    "road_section_map.add_data(data = sections[sections['rd_type'] == 175.0], name=\"Motorway\")\n",
    "road_section_map.add_data(data = sections[sections['rd_type'] == 177.0], name=\"Primary\")\n",
    "road_section_map.add_data(data = sections[sections['rd_type'] == 179.0], name=\"Residential\")\n",
    "road_section_map.add_data(data = sections[sections['rd_type'] == 180.0], name=\"Secondary\")\n",
    "road_section_map.add_data(data = sections[sections['rd_type'] == 182.0], name=\"Tertiary\")\n",
    "road_section_map.add_data(data = sections[sections['rd_type'] == 184.0], name=\"Trunk\")\n",
    "road_section_map.add_data(data = sections[sections['rd_type'] == 185.0], name=\"Unclassified\")\n",
    "\n",
    "road_section_map"
   ]
  },
  {
   "cell_type": "code",
   "execution_count": 22,
   "metadata": {},
   "outputs": [],
   "source": [
    "# road_type_config = road_section_map.config\n",
    "# file = open(\"visualization_config.txt\", 'w')\n",
    "# file.write(\"{'road_type_config': \" + str(road_type_config))\n",
    "# file.write(\"}\")\n",
    "# file.close()"
   ]
  },
  {
   "cell_type": "markdown",
   "metadata": {},
   "source": [
    "## Traffic signals and stop signs"
   ]
  },
  {
   "cell_type": "code",
   "execution_count": 75,
   "metadata": {},
   "outputs": [],
   "source": [
    "def to_gdf_csv(path):\n",
    "# https://geopandas.readthedocs.io/en/latest/gallery/create_geopandas_from_pandas.html#from-wkt-format\n",
    "    df = pd.read_csv(path)\n",
    "    gdf = gpd.GeoDataFrame(\n",
    "        df, crs='epsg:4326', geometry=gpd.points_from_xy(df.x, df.y))\n",
    "    return gdf"
   ]
  },
  {
   "cell_type": "code",
   "execution_count": 76,
   "metadata": {},
   "outputs": [],
   "source": [
    "network_infra_path = data_path + \"/Manual-made dataset (do not touch)/Network/Infrastructure/\"\n",
    "\n",
    "stop_signs = to_gdf_csv(network_infra_path + \"Stop signs location/Stop_Signs.csv\")\n",
    "traffic_lights = to_gdf_csv(network_infra_path + \"Traffic lights location/Traffic_Lights.csv\")"
   ]
  },
  {
   "cell_type": "code",
   "execution_count": 77,
   "metadata": {},
   "outputs": [
    {
     "name": "stdout",
     "output_type": "stream",
     "text": [
      "User Guide: https://github.com/keplergl/kepler.gl/blob/master/docs/keplergl-jupyter/user-guide.md\n"
     ]
    },
    {
     "data": {
      "application/vnd.jupyter.widget-view+json": {
       "model_id": "83ca5916cd6d4c1fb0fb2ae360f19203",
       "version_major": 2,
       "version_minor": 0
      },
      "text/plain": [
       "KeplerGl(data={'Stop signs': {'index': [0, 1, 2, 3, 4, 5, 6, 7, 8, 9, 10, 11, 12, 13, 14, 15, 16, 17, 18, 19, …"
      ]
     },
     "metadata": {},
     "output_type": "display_data"
    }
   ],
   "source": [
    "fremont_map = KeplerGl(height=600)\n",
    "fremont_map.add_data(data = stop_signs, name=\"Stop signs\")\n",
    "fremont_map.add_data(data = traffic_lights, name=\"Traffic lights\")\n",
    "fremont_map"
   ]
  },
  {
   "cell_type": "code",
   "execution_count": 79,
   "metadata": {},
   "outputs": [
    {
     "name": "stdout",
     "output_type": "stream",
     "text": [
      "Number of stop signs: 313\n",
      "Number of traffic lights: 123\n"
     ]
    }
   ],
   "source": [
    "print(\"Number of stop signs: \" + str(stop_signs.__OBJECTID.count()))\n",
    "print(\"Number of traffic lights: \" + str(traffic_lights.__OBJECTID.count()))\n"
   ]
  },
  {
   "cell_type": "markdown",
   "metadata": {},
   "source": [
    "## 2. Demand data"
   ]
  },
  {
   "cell_type": "markdown",
   "metadata": {},
   "source": [
    "## Transportation Analysis Zones"
   ]
  },
  {
   "cell_type": "code",
   "execution_count": 83,
   "metadata": {},
   "outputs": [
    {
     "name": "stdout",
     "output_type": "stream",
     "text": [
      "Number of Vehicles Analyzed at 6 PM (Internal): 3288\n",
      "Number of Vehicles Analyzed at 6 PM (External): 1263\n",
      "Number of Vehicles Analyzed at 6 PM (Total): 4551\n",
      "User Guide: https://github.com/keplergl/kepler.gl/blob/master/docs/keplergl-jupyter/user-guide.md\n",
      "Map saved to /Users/theophile/Dropbox/Private Structured data collection/Data processing/Kepler maps/Demand/6pm_demand_map.html!\n"
     ]
    }
   ],
   "source": [
    "from shapely.geometry import Point, LineString\n",
    "\n",
    "path_taz = data_path + \"/Data processing/Auxiliary files/Demand/OD demand/TAZ\"\n",
    "internal_taz = to_gdf(path_taz + \"/Internal_TAZ.shp\")\n",
    "external_taz = to_gdf(path_taz + \"/External_TAZ.shp\")\n",
    "\n",
    "# Get gravity centers for all TAZs (internal and external)\n",
    "centroid_gravity = {}\n",
    "for i in range(len(internal_taz['geometry'])):\n",
    "    centroid_gravity[internal_taz['CentroidID'][i]] = internal_taz['geometry'][i].centroid\n",
    "for i in range(len(external_taz['geometry'])):\n",
    "    centroid_gravity[external_taz['CentroidID'][i]] = external_taz['geometry'][i].centroid\n",
    "\n",
    "od_demand_path = data_path + \"/Data processing/Temporary exports to be copied to processed data/Demand/OD demand/\" \n",
    "internal_od = pd.read_csv(od_demand_path + \"Internal OD grouped by timestamp.csv\")\n",
    "external_od = pd.read_csv(od_demand_path + \"External OD grouped by timestamp.csv\")\n",
    "\n",
    "# Remove centroids with no demand\n",
    "external_od = external_od[external_od[\"counts\"] != 0]\n",
    "internal_od = internal_od[internal_od[\"counts\"] != 0]\n",
    "internal_od = internal_od[internal_od[\"CentroidID_O\"] != \"int_16\"]\n",
    "internal_od = internal_od[internal_od[\"CentroidID_D\"] != \"int_16\"]\n",
    "internal_od = internal_od[internal_od[\"CentroidID_O\"] != \"int_62\"]\n",
    "internal_od = internal_od[internal_od[\"CentroidID_D\"] != \"int_62\"]\n",
    "# Fix analysis timestep at 6 PM\n",
    "internal_od_6_pm = internal_od[internal_od[\"dt_15\"]==\"18:00\"]\n",
    "external_od_6_pm = external_od[external_od[\"dt_15\"]==\"18:0\"]\n",
    "\n",
    "internal_od_6_pm = internal_od_6_pm.reset_index()\n",
    "external_od_6_pm = external_od_6_pm.reset_index()\n",
    "\n",
    "external_demand = gpd.GeoDataFrame(columns=['CentroidID_O', 'CentroidID_D', \"counts\", 'geometry'])\n",
    "for i in range(len(external_od_6_pm['CentroidID_O'])):\n",
    "    origin_id = external_od_6_pm['CentroidID_O'][i]\n",
    "    dest_id = external_od_6_pm['CentroidID_D'][i]\n",
    "    demand = external_od_6_pm['counts'][i]\n",
    "    external_demand.loc[i] = [origin_id, dest_id, demand, LineString([centroid_gravity[origin_id], centroid_gravity[dest_id]])]\n",
    "\n",
    "internal_demand = gpd.GeoDataFrame(columns=['CentroidID_O', 'CentroidID_D', \"counts\", 'geometry'])\n",
    "internal_external_demand = gpd.GeoDataFrame(columns=['CentroidID_O', 'CentroidID_D', \"counts\", 'geometry'])\n",
    "for i in range(len(internal_od_6_pm['CentroidID_O'])):\n",
    "    origin_id = internal_od_6_pm['CentroidID_O'][i]\n",
    "    dest_id = internal_od_6_pm['CentroidID_D'][i]\n",
    "    demand = internal_od_6_pm['counts'][i]\n",
    "    if \"ext\" not in origin_id and \"ext\" not in dest_id:\n",
    "        internal_demand.loc[i] = [origin_id, dest_id, demand, LineString([centroid_gravity[origin_id], centroid_gravity[dest_id]])]\n",
    "    else:\n",
    "        internal_external_demand.loc[i] = [origin_id, dest_id, demand, LineString([centroid_gravity[origin_id], centroid_gravity[dest_id]])]\n",
    "\n",
    "print(\"Number of Vehicles Analyzed at 6 PM (Internal):\", internal_od_6_pm.counts.sum())\n",
    "print(\"Number of Vehicles Analyzed at 6 PM (External):\", external_od_6_pm.counts.sum())\n",
    "print(\"Number of Vehicles Analyzed at 6 PM (Total):\", internal_od_6_pm.counts.sum() + external_od_6_pm.counts.sum())\n",
    "\n",
    "fremont_map = KeplerGl(height=600)\n",
    "fremont_map.add_data(data = external_demand, name=\"External/External Demand\")\n",
    "fremont_map.add_data(data = internal_demand, name=\"Internal/Internal Demand\")\n",
    "fremont_map.add_data(data = internal_external_demand, name=\"Internal/External Demand\")\n",
    "fremont_map.add_data(data = internal_taz, name=\"Internal TAZs\")\n",
    "fremont_map.add_data(data = external_taz, name=\"External TAZs\")\n",
    "fremont_map\n",
    "\n",
    "'''\n",
    "fremont_map.save_to_html(file_name=data_path+\"/Data processing/Kepler maps/Demand/6pm_demand_map.html\")\n",
    "frm_config = fremont_map.config\n",
    "frm_map = KeplerGl(height=600, config=frm_config)\n",
    "frm_map.add_data(data = external_demand, name=\"External/External Demand\")\n",
    "frm_map.add_data(data = internal_demand, name=\"Internal/Internal Demand\")\n",
    "frm_map.add_data(data = internal_external_demand, name=\"Internal/External Demand\")\n",
    "frm_map.add_data(data = internal_taz, name=\"Internal TAZs\")\n",
    "frm_map.add_data(data = external_taz, name=\"External TAZs\")\n",
    "frm_map\n",
    "frm_map.save_to_html(file_name=data_path+\"/Data processing/Kepler maps/Demand/6pm_demand_count_widths_map.html\")\n",
    "'''"
   ]
  },
  {
   "cell_type": "code",
   "execution_count": 81,
   "metadata": {},
   "outputs": [
    {
     "data": {
      "application/vnd.jupyter.widget-view+json": {
       "model_id": "d917074de3414fe89cf3dc6e75d0e6a4",
       "version_major": 2,
       "version_minor": 0
      },
      "text/plain": [
       "KeplerGl(data={'External/External Demand': {'index': [0, 1, 2, 3, 4, 5, 6, 7], 'columns': ['CentroidID_O', 'Ce…"
      ]
     },
     "metadata": {},
     "output_type": "display_data"
    }
   ],
   "source": [
    "fremont_map"
   ]
  },
  {
   "cell_type": "code",
   "execution_count": null,
   "metadata": {},
   "outputs": [],
   "source": []
  }
 ],
 "metadata": {
  "kernelspec": {
   "display_name": "Python 3",
   "language": "python",
   "name": "python3"
  },
  "language_info": {
   "codemirror_mode": {
    "name": "ipython",
    "version": 3
   },
   "file_extension": ".py",
   "mimetype": "text/x-python",
   "name": "python",
   "nbconvert_exporter": "python",
   "pygments_lexer": "ipython3",
   "version": "3.7.6"
  }
 },
 "nbformat": 4,
 "nbformat_minor": 4
}
