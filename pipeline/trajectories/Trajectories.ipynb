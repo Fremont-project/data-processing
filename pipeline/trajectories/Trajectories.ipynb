{
 "cells": [
  {
   "cell_type": "markdown",
   "metadata": {},
   "source": [
    "# Trajectories Clustering and Analysis"
   ]
  },
  {
   "cell_type": "markdown",
   "metadata": {},
   "source": [
    "### Goal of this Notebook\n",
    "Parsing and clustering the avaiable trajectory data and analyzing aggregate measurements.\n",
    "***\n",
    "**Outputs:**\n",
    "- TRAJECTORIES.HTML [Manually Made] KeplerGl Interactive Interface File, pre-configured to load with Trajectories layers and spatial clustering.\n",
    "\n",
    "**Inputs:**\n",
    "- _trajectories.csv_ from raw trajectories data. Available on Dropbox in `/Private Structured data collection/Data processing/Auxiliary files/Demand/Flow_speed/Trajectories`.\n",
    "- _trajectories_clusterd.csv_ from raw trajectories data. Available on Dropbox in `/Private Structured data collection/Data processing/Auxiliary files/Demand/Flow_speed/Trajectories`.\n",
    "- _InternalCentroidZones.shp_ Shapefile available on Dropbox in `/Private Structured data collection/Data processing/Raw/Demand/OD demand/TAZ`\n",
    "- _ExternalCentroidZones.shp_ Shapefile available on Dropbox in `/Private Structured data collection/Data processing/Raw/Demand/OD demand/TAZ`\n",
    "\n",
    "**Temporary Files Within the Pipeline:** \n",
    "- No temporary files.\n",
    "\n",
    "**Dependent Scripts:**\n",
    "- No script dependencies.\n",
    "\n",
    "**Dependent Libraries:**\n",
    "- numpy\n",
    "- pandas\n",
    "- os\n",
    "- csv\n",
    "- json\n",
    "- matplotlib\n",
    "- shapely\n",
    "- keplergl\n",
    "- geopandas\n",
    "- rtree\n",
    "***\n",
    "**Sections:**\n",
    "- A. [Parse Raw Trajectory Data](#section_ID_a)\n",
    "- B. [Plotting, Mapping & Analysis](#section_ID_c)"
   ]
  },
  {
   "cell_type": "markdown",
   "metadata": {},
   "source": [
    "# To dos\n",
    "- Make sure everything is working with the dropbox **DONE**\n",
    "- Put the functions in a util script **DONE**\n",
    "- Put the old clustering into another notebook **DONE**\n",
    "\n",
    "0. Discuss with Michal about the way you did the clustering, as it might be helpful for him to reuse some of your code. **DONE**\n",
    "1. Use the module fremont dropbox to get the folders from the dropbox (see next cell)  **DONE**\n",
    "2. Create both files trajectories and trajectories condensed in the current iPython notebook.  **DONE**\n",
    "    - Put them in `/Private Structured data collection/Data processing/Auxiliary files/Demand/Flow_speed/Trajectories`\n",
    "3. Use the external and internal TAZs instead of the sklearn clustering to cluster the trajectories depending on their origin and destination  **DONE**\n",
    "    - TAZ are shapefiles in `Private Structured data collection/Data processing/Raw/Demand/OD demand/TAZ`\n",
    "4. Write a function that takes as input the ids of the origin and destination TAZ and output the corresponding trajectories using Kepler.gl  **DONE**\n",
    "5. Remove `trajectories.csv` and `trajectories_condensed.csv` from GitHub (they are under NDA) **DONE**\n",
    "6. Generate all Kepler.gl maps in `/Private Structured data collection/Data processing/Temporary exports to be copied to processed data/Trajectories` **DONE**\n",
    "\n",
    "### To do later\n",
    "7. Match paths to road sections (see Jane McFarlan for that)\n",
    "8. For every O-D pairs (where O and D are TAZ id), and 15 minutes time step output the corresponding paths used by drivers\n",
    "9. Compare the paths used by drivers using Here data, with the ones used by drivers in Aimsun simulations.\n",
    "10. For the path going from South of I-680N to North of I-680N, deduces the percentage of drivers using local roads instead of staying on the Highway for different time of the day"
   ]
  },
  {
   "cell_type": "code",
   "execution_count": 9,
   "metadata": {},
   "outputs": [],
   "source": [
    "import os\n",
    "import csv\n",
    "import sys\n",
    "import json\n",
    "import rtree\n",
    "import numpy as np\n",
    "import pandas as pd\n",
    "import geopandas as gpd\n",
    "import matplotlib.pyplot as plt\n",
    "\n",
    "from sklearn import metrics\n",
    "from keplergl import KeplerGl\n",
    "from sklearn.cluster import DBSCAN\n",
    "from shapely.geometry import Point, LineString, MultiPoint\n",
    "from trajectories_utils import parseTrajectories, clusterByZone, trajectoriesFromZones, showTrajectoriesFromZones\n"
   ]
  },
  {
   "cell_type": "code",
   "execution_count": 10,
   "metadata": {},
   "outputs": [
    {
     "name": "stdout",
     "output_type": "stream",
     "text": [
      "C:\\Users\\jainc\\Fremont Dropbox\\Theophile Cabannes/Private Structured data collection/Data processing/Raw/Demand/Flow_speed/Here data\n"
     ]
    }
   ],
   "source": [
    "module_path = os.path.abspath(os.path.join('../..'))\n",
    "if module_path not in sys.path:\n",
    "    sys.path.append(module_path)\n",
    "\n",
    "from fremontdropbox import get_dropbox_location\n",
    "\n",
    "dropbox_dir = get_dropbox_location()\n",
    "\n",
    "rootdir = dropbox_dir + \"/Private Structured data collection/Data processing/Raw/Demand/Flow_speed/Here data\"\n",
    "print(rootdir)"
   ]
  },
  {
   "cell_type": "markdown",
   "metadata": {},
   "source": [
    "<a id=\"section_ID_a\"></a>\n",
    "## A. Parse Raw Trajectory Data into Singular CSV"
   ]
  },
  {
   "cell_type": "code",
   "execution_count": 11,
   "metadata": {},
   "outputs": [
    {
     "name": "stdout",
     "output_type": "stream",
     "text": [
      "All trajectory data has been parsed to trajectories.csv. 3140 files total.\n",
      "All trajectory data has been parsed to trajectories_condensed.csv. 3140 files total.\n"
     ]
    }
   ],
   "source": [
    "# rootdir = './step_019_organize_by_provider'\n",
    "parseTrajectories('trajectories.csv', rootdir, False)\n",
    "parseTrajectories('trajectories_condensed.csv', rootdir, True)"
   ]
  },
  {
   "cell_type": "markdown",
   "metadata": {},
   "source": [
    "<a id=\"section_ID_c\"></a>\n",
    "## B. Plotting, Mapping, and Analysis"
   ]
  },
  {
   "cell_type": "code",
   "execution_count": 13,
   "metadata": {},
   "outputs": [
    {
     "name": "stderr",
     "output_type": "stream",
     "text": [
      "C:\\Users\\jainc\\Anaconda3\\lib\\site-packages\\geopandas\\tools\\sjoin.py:61: UserWarning: CRS of frames being joined does not match!(None != epsg:4326)\n",
      "  \"(%s != %s)\" % (left_df.crs, right_df.crs)\n",
      "C:\\Users\\jainc\\Anaconda3\\lib\\site-packages\\geopandas\\tools\\sjoin.py:61: UserWarning: CRS of frames being joined does not match!(None != epsg:4326)\n",
      "  \"(%s != %s)\" % (left_df.crs, right_df.crs)\n",
      "C:\\Users\\jainc\\Anaconda3\\lib\\site-packages\\geopandas\\tools\\sjoin.py:61: UserWarning: CRS of frames being joined does not match!(None != epsg:4326)\n",
      "  \"(%s != %s)\" % (left_df.crs, right_df.crs)\n",
      "C:\\Users\\jainc\\Anaconda3\\lib\\site-packages\\geopandas\\tools\\sjoin.py:61: UserWarning: CRS of frames being joined does not match!(None != epsg:4326)\n",
      "  \"(%s != %s)\" % (left_df.crs, right_df.crs)\n"
     ]
    }
   ],
   "source": [
    "direct = dropbox_dir + \"/Private Structured data collection/Data processing/Raw/Demand/OD demand/\"\n",
    "# direct = \"./\"\n",
    "\n",
    "int_shapefile = gpd.read_file(direct + \"TAZ/InternalCentroidZones.shp\")\n",
    "ext_shapefile = gpd.read_file(direct + \"TAZ/ExternalCentroidZones.shp\")\n",
    "\n",
    "df = pd.read_csv(\"trajectories_condensed.csv\")\n",
    "gdf_origins = gpd.GeoDataFrame(df, geometry=gpd.points_from_xy(df['Origin X'], df['Origin Y']))\n",
    "\n",
    "df = pd.read_csv(\"trajectories_condensed.csv\")\n",
    "gdf_dests = gpd.GeoDataFrame(df, geometry=gpd.points_from_xy(df['Dest X'], df['Dest Y']))\n",
    "\n",
    "int_trajectories_origins = clusterByZone(gdf_origins, int_shapefile, merge=True)\n",
    "int_trajectories_dests = clusterByZone(gdf_dests, int_shapefile, merge=True)\n",
    "\n",
    "ext_trajectories_origins = clusterByZone(gdf_origins, ext_shapefile, merge=True)\n",
    "ext_trajectories_dests = clusterByZone(gdf_dests, ext_shapefile, merge=True)"
   ]
  },
  {
   "cell_type": "code",
   "execution_count": 14,
   "metadata": {},
   "outputs": [
    {
     "name": "stdout",
     "output_type": "stream",
     "text": [
      "User Guide: https://github.com/keplergl/kepler.gl/blob/master/docs/keplergl-jupyter/user-guide.md\n",
      "Map saved to origin_zones_map.html!\n"
     ]
    },
    {
     "data": {
      "application/vnd.jupyter.widget-view+json": {
       "model_id": "4cb13506032541d4a0df7868ccdff31b",
       "version_major": 2,
       "version_minor": 0
      },
      "text/plain": [
       "KeplerGl(data={'Trajectories': {'index': [0, 1, 2, 3, 4, 5, 6, 7, 8, 9, 10, 11, 12, 13, 14, 15, 16, 17, 18, 19…"
      ]
     },
     "metadata": {},
     "output_type": "display_data"
    }
   ],
   "source": [
    "df = pd.read_csv(\"trajectories_condensed.csv\")\n",
    "\n",
    "origin_zones_map = KeplerGl(height=500) #, config=czm_config)\n",
    "\n",
    "origin_zones_map.add_data(data=df, name='Trajectories')\n",
    "origin_zones_map.add_data(data=int_trajectories_origins, name='Origins - Internal Zones')\n",
    "origin_zones_map.add_data(data=ext_trajectories_origins, name='Origins - External Zones')\n",
    "\n",
    "origin_zones_map.save_to_html(file_name=\"origin_zones_map.html\")\n",
    "origin_zones_map"
   ]
  },
  {
   "cell_type": "code",
   "execution_count": 15,
   "metadata": {},
   "outputs": [
    {
     "name": "stdout",
     "output_type": "stream",
     "text": [
      "User Guide: https://github.com/keplergl/kepler.gl/blob/master/docs/keplergl-jupyter/user-guide.md\n",
      "Map saved to dests_zones_map.html!\n"
     ]
    },
    {
     "data": {
      "application/vnd.jupyter.widget-view+json": {
       "model_id": "aa89f80011e94969bdc964d555efcf93",
       "version_major": 2,
       "version_minor": 0
      },
      "text/plain": [
       "KeplerGl(data={'Trajectories': {'index': [0, 1, 2, 3, 4, 5, 6, 7, 8, 9, 10, 11, 12, 13, 14, 15, 16, 17, 18, 19…"
      ]
     },
     "metadata": {},
     "output_type": "display_data"
    }
   ],
   "source": [
    "dests_zones_map = KeplerGl(height=500) #, config=czm_config)\n",
    "\n",
    "dests_zones_map.add_data(data=df, name='Trajectories')\n",
    "dests_zones_map.add_data(data=int_trajectories_dests, name='Destinations - Internal Zones')\n",
    "dests_zones_map.add_data(data=ext_trajectories_dests, name='Destinations - External Zones')\n",
    "\n",
    "dests_zones_map.save_to_html(file_name=\"dests_zones_map.html\")\n",
    "dests_zones_map"
   ]
  },
  {
   "cell_type": "code",
   "execution_count": 16,
   "metadata": {},
   "outputs": [
    {
     "name": "stderr",
     "output_type": "stream",
     "text": [
      "C:\\Users\\jainc\\Anaconda3\\lib\\site-packages\\geopandas\\tools\\sjoin.py:61: UserWarning: CRS of frames being joined does not match!(None != epsg:4326)\n",
      "  \"(%s != %s)\" % (left_df.crs, right_df.crs)\n",
      "C:\\Users\\jainc\\Anaconda3\\lib\\site-packages\\geopandas\\tools\\sjoin.py:61: UserWarning: CRS of frames being joined does not match!(None != epsg:4326)\n",
      "  \"(%s != %s)\" % (left_df.crs, right_df.crs)\n"
     ]
    },
    {
     "name": "stdout",
     "output_type": "stream",
     "text": [
      "User Guide: https://github.com/keplergl/kepler.gl/blob/master/docs/keplergl-jupyter/user-guide.md\n"
     ]
    },
    {
     "name": "stderr",
     "output_type": "stream",
     "text": [
      "C:\\Users\\jainc\\Anaconda3\\lib\\site-packages\\geopandas\\tools\\sjoin.py:61: UserWarning: CRS of frames being joined does not match!(None != epsg:4326)\n",
      "  \"(%s != %s)\" % (left_df.crs, right_df.crs)\n"
     ]
    },
    {
     "name": "stdout",
     "output_type": "stream",
     "text": [
      "Map saved to chosen_zones_map.html!\n"
     ]
    },
    {
     "data": {
      "application/vnd.jupyter.widget-view+json": {
       "model_id": "dcd178b2f0fb4ec2b52265429b08b518",
       "version_major": 2,
       "version_minor": 0
      },
      "text/plain": [
       "KeplerGl(data={'Trajectories': {'index': [0, 1, 2, 3, 4, 5, 6, 7, 8, 9, 10, 11, 12, 13, 14, 15, 16, 17, 18, 19…"
      ]
     },
     "metadata": {},
     "output_type": "display_data"
    }
   ],
   "source": [
    "showTrajectoriesFromZones(origin_id=24, dest_id=10, direct=direct)"
   ]
  },
  {
   "cell_type": "code",
   "execution_count": null,
   "metadata": {},
   "outputs": [],
   "source": []
  }
 ],
 "metadata": {
  "kernelspec": {
   "display_name": "Python 3",
   "language": "python",
   "name": "python3"
  },
  "language_info": {
   "codemirror_mode": {
    "name": "ipython",
    "version": 3
   },
   "file_extension": ".py",
   "mimetype": "text/x-python",
   "name": "python",
   "nbconvert_exporter": "python",
   "pygments_lexer": "ipython3",
   "version": "3.7.4"
  }
 },
 "nbformat": 4,
 "nbformat_minor": 2
}
