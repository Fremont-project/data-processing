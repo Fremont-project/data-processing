{
 "cells": [
  {
   "cell_type": "markdown",
   "metadata": {},
   "source": [
    "# Density Based Spatial Clustering of Applications with Noise (DB-SCAN)"
   ]
  },
  {
   "cell_type": "markdown",
   "metadata": {},
   "source": [
    "### Goal of this Notebook\n",
    "Clustering algorithm based on Scikit-learn for nonlinear data. Deprecated for Trajectories, here for reference or later use.\n",
    "***\n",
    "**Outputs:**\n",
    "- None (for now).\n",
    "\n",
    "**Inputs:**\n",
    "- _trajectories.csv_ from raw trajectories data. Available on Dropbox in `/Private Structured data collection/Data processing/Auxiliary files/Demand/Flow_speed/Trajectories`.\n",
    "- _trajectories_clusterd.csv_ from raw trajectories data. Available on Dropbox in `/Private Structured data collection/Data processing/Auxiliary files/Demand/Flow_speed/Trajectories`.\n",
    "- _InternalCentroidZones.shp_ Shapefile available on Dropbox in `/Private Structured data collection/Data processing/Raw/Demand/OD demand/TAZ`\n",
    "- _ExternalCentroidZones.shp_ Shapefile available on Dropbox in `/Private Structured data collection/Data processing/Raw/Demand/OD demand/TAZ`\n",
    "\n",
    "**Temporary Files Within the Pipeline:** \n",
    "- No temporary files.\n",
    "\n",
    "**Dependent Scripts:**\n",
    "- No script dependencies.\n",
    "\n",
    "**Dependent Libraries:**\n",
    "- numpy\n",
    "- pandas\n",
    "- os\n",
    "- csv\n",
    "- json\n",
    "- matplotlib\n",
    "- shapely\n",
    "- keplergl\n",
    "- geopandas\n",
    "- rtree\n",
    "***\n",
    "**Sections:**\n",
    "- A. [Clustering](#section_ID_b)"
   ]
  },
  {
   "cell_type": "code",
   "execution_count": 5,
   "metadata": {},
   "outputs": [],
   "source": [
    "import os\n",
    "import sys\n",
    "import csv\n",
    "import json\n",
    "import rtree\n",
    "import numpy as np\n",
    "import pandas as pd\n",
    "import geopandas as gpd\n",
    "import matplotlib.pyplot as plt\n",
    "\n",
    "from sklearn import metrics\n",
    "from keplergl import KeplerGl\n",
    "from sklearn.cluster import DBSCAN\n",
    "from shapely.geometry import Point, LineString, MultiPoint\n",
    "from trajectories_utils import parseTrajectories, clusterByZone, trajectoriesFromZones, showTrajectoriesFromZones\n"
   ]
  },
  {
   "cell_type": "code",
   "execution_count": 2,
   "metadata": {},
   "outputs": [
    {
     "name": "stdout",
     "output_type": "stream",
     "text": [
      "C:\\Users\\jainc\\Fremont Dropbox\\Theophile Cabannes/Private Structured data collection/Data processing/Raw/Demand/Flow_speed/Here data\n"
     ]
    }
   ],
   "source": [
    "# We let this notebook to know where to look for fremontdropbox module\n",
    "module_path = os.path.abspath(os.path.join('../..'))\n",
    "if module_path not in sys.path:\n",
    "    sys.path.append(module_path)\n",
    "\n",
    "from fremontdropbox import get_dropbox_location\n",
    "\n",
    "dropbox_dir = get_dropbox_location()\n",
    "\n",
    "rootdir = dropbox_dir + \"/Private Structured data collection/Data processing/Raw/Demand/Flow_speed/Here data\"\n",
    "print(rootdir)"
   ]
  },
  {
   "cell_type": "markdown",
   "metadata": {},
   "source": [
    "<a id=\"section_ID_b\"></a>\n",
    "## A. DB-SCAN Clustering"
   ]
  },
  {
   "cell_type": "code",
   "execution_count": 3,
   "metadata": {},
   "outputs": [],
   "source": [
    "class DensityCluster:  \n",
    "    \n",
    "    def __init__(self, data_input):\n",
    "        self.df = pd.read_csv(data_input)\n",
    "        self.maxes = []\n",
    "        self.rep_points = []\n",
    "        self.clusters = []\n",
    "        self.numClusters = 0\n",
    "        \n",
    "    def createClusters(self, tuning_parameter=0.1):\n",
    "        # represent GPS points as (lat, lon)\n",
    "        coords = self.df.as_matrix(columns=['Origin Y', 'Origin X'])\n",
    "        # earth's radius in km\n",
    "        kms_per_radian = 6371.0088\n",
    "        # define epsilon as 0.1 kilometers, converted to radians for use by haversine\n",
    "        epsilon = tuning_parameter / kms_per_radian\n",
    "\n",
    "        # eps is the max distance that points can be from each other to be considered in a cluster\n",
    "        # min_samples is the minimum cluster size (everything else is classified as noise)\n",
    "        db = DBSCAN(eps=epsilon, min_samples=100, algorithm='ball_tree', metric='haversine').fit(np.radians(coords))\n",
    "        cluster_labels = db.labels_\n",
    "        # get the number of clusters (ignore noisy samples which are given the label -1)\n",
    "        self.numClusters = len(set(cluster_labels) - set([-1]))\n",
    "\n",
    "        print ('Clustered ' + str(len(self.df)) + ' points to ' + str(self.numClusters) + ' clusters')\n",
    "\n",
    "        # turn the clusters in to a pandas series\n",
    "        self.clusters = pd.Series([coords[cluster_labels == n] for n in range(self.numClusters)])\n",
    "\n",
    "    def getCentermostPoint(self, cluster):\n",
    "        centroid = (MultiPoint(cluster).centroid.x, MultiPoint(cluster).centroid.y)\n",
    "        centermost_point = min(cluster, key=lambda point: great_circle(point, centroid).m)\n",
    "        return tuple(centermost_point)\n",
    "    \n",
    "    def showCentroidClusters(self):\n",
    "        # get the centroid point for each cluster\n",
    "        centermost_points = self.clusters.map(self.getCentermostPoint)\n",
    "        lats, lons = zip(*centermost_points)\n",
    "\n",
    "        self.rep_points = pd.DataFrame({'lon':lons, 'lat':lats})\n",
    "        fig, ax = plt.subplots(figsize=[15, 10])\n",
    "\n",
    "        rs_scatter = ax.scatter(self.rep_points['lon'][0], self.rep_points['lat'][0], c='#99cc99', edgecolor='None', alpha=0.7, s=self.maxes[0]/10)\n",
    "\n",
    "        for i in range(1, self.numClusters):\n",
    "            ax.scatter(self.rep_points['lon'][i], self.rep_points['lat'][i], c='#99cc99', edgecolor='None', alpha=0.7, s=self.maxes[i]*2)\n",
    "\n",
    "        df_scatter = ax.scatter(self.df['Origin X'], self.df['Origin Y'], c='k', alpha=0.9, s=3)\n",
    "\n",
    "        ax.set_title('Full GPS trace vs. DBSCAN clusters')\n",
    "        ax.set_xlabel('Longitude')\n",
    "        ax.set_ylabel('Latitude')\n",
    "        ax.legend([df_scatter, rs_scatter], ['GPS Points', 'Cluster Centers'], loc='upper right')\n",
    "\n",
    "        labels = ['Cluster {0}'.format(i) for i in range(1, self.numClusters + 1)]\n",
    "        for label, x, y in zip(labels, self.rep_points['lon'], self.rep_points['lat']):\n",
    "            plt.annotate(\n",
    "                label, \n",
    "                xy = (x, y), xytext = (-25, -30),\n",
    "                textcoords = 'offset points', ha = 'right', va = 'bottom',\n",
    "                bbox = dict(boxstyle = 'round,pad=0.5', fc = 'white', alpha = 0.5),\n",
    "                arrowprops = dict(arrowstyle = '->', connectionstyle = 'arc3,rad=0'))\n",
    "\n",
    "        plt.show()\n",
    "        \n",
    "    def groupByTime(self, row):\n",
    "        t = self.df[(self.df['Origin Y']==row[0]) & (self.df['Origin X']==row[1])]['Time'].iloc[0]\n",
    "        return t[ (t[:t.index(':')].index(\" \")):][0:3]\n",
    "    \n",
    "    def showTimeClusters(self):\n",
    "        M = []\n",
    "        for i in range(self.numClusters):\n",
    "            hours = np.apply_along_axis(self.groupByTime, 1, self.clusters[i]).tolist()\n",
    "            M.append(list(map(int, hours)))\n",
    " \n",
    "        f, axarr = plt.subplots(len(M), figsize=(12.5,50))\n",
    "        for i in range(len(M)):\n",
    "            y, x, _ = axarr[i].hist(list(M[i]))\n",
    "            self.maxes.append(y.max())\n",
    "            axarr[i].set_title(\"Cluster {0}\".format(i + 1))\n",
    "            axarr[i].set_xlabel(\"Hour\")\n",
    "            axarr[i].set_ylabel(\"Trajectories\")\n",
    "        f.tight_layout(pad=1.0)\n",
    "        \n",
    "    def gmapPlot(self):\n",
    "        gmap = gmplot.GoogleMapPlotter(self.df[\"Origin Y\"][0], self.df[\"Origin X\"][0], 11)\n",
    "        gmap.plot(self.df[\"Origin Y\"], self.df[\"Origin X\"], \"cornflowerblue\", edge_width=1)\n",
    "        gmap.draw(\"trajectories_map.html\")\n",
    "        print(\"Plotted trajectories.\")\n",
    "\n",
    "        gmap = gmplot.GoogleMapPlotter(self.df[\"Origin Y\"][0], self.df[\"Origin X\"][0], 11)\n",
    "        gmap.plot(self.df[\"Origin Y\"], self.df[\"Origin X\"], \"cornflowerblue\", edge_width=1)\n",
    "        gmap.heatmap(self.rep_points['lat'], self.rep_points['lon'], radius=20)\n",
    "        gmap.draw(\"trajectories_map_with_clusters.html\")\n",
    "        print(\"Plotted trajectories with clusters.\")\n",
    "\n",
    "        gmap = gmplot.GoogleMapPlotter(self.df[\"Origin Y\"][0], self.df[\"Origin X\"][0], 11)\n",
    "        gmap.heatmap(self.rep_points['lat'], self.rep_points['lon'], radius=20)\n",
    "        gmap.draw(\"map_with_clusters.html\")\n",
    "        print(\"Plotted clusters.\")\n",
    "        \n",
    "    def runAll(self):\n",
    "        self.createClusters()\n",
    "        self.showTimeClusters()\n",
    "        self.showCentroidClusters()\n"
   ]
  },
  {
   "cell_type": "code",
   "execution_count": null,
   "metadata": {},
   "outputs": [
    {
     "name": "stderr",
     "output_type": "stream",
     "text": [
      "C:\\Users\\jainc\\Anaconda3\\lib\\site-packages\\ipykernel_launcher.py:12: FutureWarning: Method .as_matrix will be removed in a future version. Use .values instead.\n",
      "  if sys.path[0] == '':\n"
     ]
    },
    {
     "name": "stdout",
     "output_type": "stream",
     "text": [
      "Clustered 50201 points to 22 clusters\n"
     ]
    }
   ],
   "source": [
    "dc = DensityCluster(\"trajectories.csv\")\n",
    "dc.runAll()"
   ]
  },
  {
   "cell_type": "code",
   "execution_count": null,
   "metadata": {},
   "outputs": [],
   "source": []
  }
 ],
 "metadata": {
  "kernelspec": {
   "display_name": "Python 3",
   "language": "python",
   "name": "python3"
  },
  "language_info": {
   "codemirror_mode": {
    "name": "ipython",
    "version": 3
   },
   "file_extension": ".py",
   "mimetype": "text/x-python",
   "name": "python",
   "nbconvert_exporter": "python",
   "pygments_lexer": "ipython3",
   "version": "3.7.4"
  }
 },
 "nbformat": 4,
 "nbformat_minor": 2
}
