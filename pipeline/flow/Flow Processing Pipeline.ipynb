{
 "cells": [
  {
   "cell_type": "markdown",
   "metadata": {},
   "source": [
    "# Flow Processing Pipeline\n"
   ]
  },
  {
   "cell_type": "markdown",
   "metadata": {},
   "source": [
    "## Goal of the pipeline\n",
    "\n",
    "<font color=red> The goal of this notebook is to associate the raw ADT ground-data for 2013, 2015, 2017 and 2019, and the raw speed ground-data in 2015 to the Aimsun network for the calibration of Aimsun simulations. First the raw data is processed in a common format, then, every detector is associated with a network link inside Aimsun. Later, every detector is associated with a road section to create heatmap and understand the evolution of flows over years. </font>\n"
   ]
  },
  {
   "cell_type": "markdown",
   "metadata": {},
   "source": [
    "# TO DO: write this in a better way\n",
    "### Outputs of the pipeline: \n",
    "- One file matching detectors location to Aimsun road section\n",
    "- One file with the processed flow data for 2013, 2015, 2017, 2019\n",
    "- One file with the processed speed data for 2015\n",
    "- One file with the flow data corresponding to road sections for 2013, 2015, 2017 and 2019\n",
    "- PCA on flow data\n",
    "\n",
    "### Inputs of the pipeline: \n",
    "**Raw data**\n",
    "- PeMS account [_publicly available_]. Can be created in http://pems.dot.ca.gov\n",
    "- PeMS detectors location [_publicly available_]. In the dropbox under `Demand/Flow_speed/Traffic\\ flow\\ studies/PeMS`\n",
    "- City average annual daily traffic (AADT) data for 2013, 2017 and 2019 [_given by the city of Fremont_]. Located in the dropbox under `Demand/Flow_speed/Traffic\\ flow\\ studies/City`\n",
    "- Kimley-Horn flow and speed data for 2015 [_given by the city of Fremont_]. Located in the dropbox under `Demand/Flow_speed/Traffic\\ flow\\ studies/Kimley\\ Horn\\ Data`\n",
    "\n",
    "**Manually made dataset**\n",
    "- Aimsun network\n",
    "- Detectors location\n",
    "- Road section layer\n",
    "- Doc files or city ADT data corresponding to the PDF files\n",
    "- Detectors ID to corresponding flow file name\n",
    "\n",
    "\n",
    "### Temporary files of the pipeline\n",
    "- CSV flow data\n",
    "    - City and Kimley Horn\n",
    "    - PeMS data\n",
    "- ..."
   ]
  },
  {
   "cell_type": "markdown",
   "metadata": {},
   "source": [
    "### Dependent scripts: \n",
    "- [pems_download.py](https://github.com/Fremont-project/data-processing/blob/master/pipeline/flow/pems_download.py): the script automatically download PeMs data for chosen date.\n",
    "- [pre_process_flow.py](https://github.com/Fremont-project/data-processing/blob/master/pipeline/flow/pre_process_flow.py): the script (A). parse the ADT data from xlsx, doc and csv files to csv files (B). Find the coordinates of the city detectors (C). Check and adjust the locations of the (City + PeMS) detectors to match them to our network using ArcGIS \n",
    "- [process_flow.py](https://github.com/Fremont-project/data-processing/blob/master/pipeline/flow/): this script processes all the flow traffic data into one big CSV file from both city and PeMS data files\n",
    "- [process_years_together.py](https://github.com/Fremont-project/data-processing/blob/master/pipeline/flow/): this script combines the previous scripts and processes the data for 2013, 2015, 2017, 2019\n",
    "- fremontdropbox_flow\n",
    "\n",
    "### Dependent libraries:\n",
    "- os\n",
    "- sys\n",
    "- webbrowser\n",
    "- time\n",
    "- requests\n",
    "- pathlib\n",
    "- textract\n",
    "- [numpy](https://numpy.org)\n",
    "- To do"
   ]
  },
  {
   "cell_type": "markdown",
   "metadata": {},
   "source": [
    "### Work done by the script\n",
    "1. Obtaining Data\n",
    "    - Turn city pdf to doc\n",
    "    - PeMS data download\n",
    "2. Preprocessing city and Kimley-Horn data\n",
    "    - Parsing the flow data [We are here]\n",
    "    - Parsing the speed data\n",
    "    - Geocoding location of the detectors\n",
    "    - Manually update the location of the detectors\n",
    "3. Processing the data\n",
    "    - Creating one file with the flow for all detectors\n",
    "    - Creating a layer of road section\n",
    "    - Matching the detectors to road section\n",
    "    - Creating one file with the flow over time for every road section\n",
    "    - Matching the detectors with the corresponding road section in Aimsun\n",
    "4. Exporting the data\n",
    "    - Exporting a csv file where Aimsun road sections are matched with detectors\n",
    "    - Exporting a csv file with flow for the different road sections\n",
    "    - Exporting traffic flow heatmap\n",
    "    - Exporting speed heatmap\n",
    "    - PCA on the traffic flow heatmap over years"
   ]
  },
  {
   "cell_type": "markdown",
   "metadata": {},
   "source": [
    "# <font color=red> TO DO: </font>\n",
    "- <font color=green> Jiayi, put the to dos in green when done </font>, <font color=blue> in blue if you need some help </font>, <font color=red>put them red if you have not done them yet</font>\n",
    "- should have exception handler in the process (and python function) if the files are not located where you are looking for.\n",
    "- run PCA and create heatmap with ArcGIS (heatmap will be done by Theo)\n",
    "- put the correct github link for the scripts in the Dependent scripts paragraph\n",
    "- Work done by the script\n",
    "- Dependent libraries\n",
    "- Put the scripts together in one main script\n",
    "- add link from work done by the script to section of the iPython notebook"
   ]
  },
  {
   "cell_type": "code",
   "execution_count": 2,
   "metadata": {},
   "outputs": [],
   "source": [
    "import sys\n",
    "import os\n",
    "# We let this notebook to know where to look for fremontdropbox module\n",
    "module_path = os.path.abspath(os.path.join('../..'))\n",
    "if module_path not in sys.path:\n",
    "    sys.path.append(module_path)\n",
    "\n",
    "from fremontdropbox import get_dropbox_location\n",
    "\n",
    "dropbox_dir = get_dropbox_location()"
   ]
  },
  {
   "cell_type": "markdown",
   "metadata": {},
   "source": [
    "## 1. Obtaining Data\n",
    "\n",
    "### A) PeMS Data Download \n",
    "    \n",
    "Script: pems_download.py <br>\n",
    "Download traffic data from the PEMS website (pews.dot.ca.gov) for years 2013, 2015, 2017 and 2019 <br>\n",
    "\n",
    "We download the data calling the method download(detector_ids, year, PeMS_dir) from the pems_download.py file. The process takes about 20 minutes to run. \n",
    "Run `print(help(pems.download))` to get some help.\n",
    "\n",
    "### B) Turn city pdf to doc\n",
    "\n",
    "Some of the flow data that we got from the city were in pdf files. To be able to parse them, we convert them to doc files using online website. This should be done before running the code. The doc files are inputs of the pipeline.\n",
    "\n",
    "### C) Location and structure of the files\n",
    "\n",
    "# <font color=red> TO DO: </font>\n",
    "- Rewrite the paragraph for 2015 excel file -> in 2015 the only important hidden sheets is data!!\n",
    "- Once done, say it to Theo\n",
    "\n",
    "#### City files\n",
    "\n",
    "\n",
    "- ***2015 Excel files*** The files come from Kimley Horn. Every excel file has 6 relevant sheets including the hidden sheets. They are ['ns Day 1', 'ns Day 2', 'ns Day 3', 'ew Day 1', 'ew Day 2', 'ew Day 3']. Depending on the direction of the road, the corresponding set of sheets are filled and the other half would be emtpy. Therefore, in the parsing algorithm, we first determine the flow direction, which then decide the set of sheets to parse. Each sheet is structured to have two tables side-by-side: Northbound(Eastbound) and Southbound(Westbound): in each table, the AM and PM flow are also side-by-side sharing the same column. Therefore, the algorithm would extract AM and PM flow first and stack them together to get traffic flow for the whole day. \n",
    "\n",
    "\n",
    "- run `print(help(pre_process.parse_excel_2013))` to get some help for 2013 excel files\n",
    "- run `print(help(pre_process.parse_excel_2017))` to get some help for 2017 excel files\n",
    "- run `print(help(pre_process.parse_excel_2019))` to get some help for 2019 excel files\n",
    "- run `print(help(pre_process.parse_adt_as_file))` to get some help for the 2017 and 2019 doc files"
   ]
  },
  {
   "cell_type": "code",
   "execution_count": 8,
   "metadata": {
    "scrolled": true
   },
   "outputs": [
    {
     "name": "stdout",
     "output_type": "stream",
     "text": [
      "Help on function parse_excel_2013 in module pre_process_flow:\n",
      "\n",
      "parse_excel_2013(dfs)\n",
      "    ***2013 Excel files*** are structured in data sheets. The first data sheet \"Summary\" contains the main road, cross streets, city information and the start date of the recording. It also summarizes the data contained in all other sheets into a bar plot of traffic flow vs time of day bins (i.e Tuesday AM, Wednesday PM) for different flow directions and into a line plot of traffic flow vs. hour of day for different days of the week. The sheets that follow are named \"D1\", \"D2\",...\"DN\" where N denotes the N'th day since the start date. These sheets are structured into two tables, AM counts and PM counts. Each table row gives the traffic flow per timestep of 15 minutes. The first column is the time of day in hh:mm format follow by direction columns of traffic flow (NB, SB, EB, WB).\n",
      "\n",
      "None\n"
     ]
    }
   ],
   "source": [
    "import pems_download as pems\n",
    "# help(pems.download)\n",
    "print(help(pre_process.parse_excel_2013))"
   ]
  },
  {
   "cell_type": "code",
   "execution_count": null,
   "metadata": {},
   "outputs": [],
   "source": [
    "# ************* IMPORTANT *************\n",
    "# --> For this cell to work, you need to log in to PeMS in the same browser that runs this Jupyter notebook\n",
    "\n",
    "## The IDs of the PeMS detectors where obtained using ArcGIS software and an input file, pems_detectors.csv, containing the locations of all the PeMS dectectors in California\n",
    "## this should be done in Python!\n",
    "detector_ids = [403250, 403256, 403255, 403257, 418387, 418388, 400376,\n",
    "               413981, 413980, 413982, 402794, 413983, 413984, 413985,\n",
    "               413987, 413986, 402796, 413988, 402799, 403251, 403710,\n",
    "               403254, 403719, 400566, 418420, 418419, 418422, 418423,\n",
    "               402793, 403226, 414015, 414016, 402795, 402797, 414011,\n",
    "               402798]\n",
    "PeMS_dir = dropbox_dir + '/Private Structured data collection/Data processing/Auxiliary files/Demand/Flow_speed/PeMS'\n",
    "\n",
    "# pems.download(2013, detector_ids, PeMS_dir)\n",
    "# pems.download(2015, detector_ids, PeMS_dir)\n",
    "# pems.download(2017, detector_ids, PeMS_dir)\n",
    "# pems.download(2019, detector_ids, PeMS_dir)"
   ]
  },
  {
   "cell_type": "markdown",
   "metadata": {},
   "source": [
    "# <font color=red> TO DO: </font>\n",
    "- Find the list of detectors ID using the project delimitation shapefile. (to be done later)\n",
    "- Write a test to check that all the files are correct: check start and end date in the PeMS Report Description of every file"
   ]
  },
  {
   "cell_type": "code",
   "execution_count": null,
   "metadata": {},
   "outputs": [],
   "source": [
    "# ************* TO DO *************\n",
    "## Write a test function to make sure that all the downloads are correct"
   ]
  },
  {
   "cell_type": "markdown",
   "metadata": {},
   "source": [
    "## 2. Parsing city data\n",
    "\n",
    "\n",
    "### A) Parse city and Kimley Horn flow data from xlsx, doc and csv files to csv files"
   ]
  },
  {
   "cell_type": "code",
   "execution_count": 4,
   "metadata": {
    "scrolled": true
   },
   "outputs": [
    {
     "name": "stdout",
     "output_type": "stream",
     "text": [
      "Help on function process_adt_data in module pre_process_flow:\n",
      "\n",
      "process_adt_data(year, Processed_dir, Input_dir)\n",
      "    This function processes the Excel and PDF ADT data files (city data) into CSV files. Note that one file corresponds to one main road and the traffic flow data recordings in it.\n",
      "    \n",
      "    This function has input:\n",
      "        - year which takes values 2013, 2015, 2017 or 2019\n",
      "        - Processed_dir: path to the output\n",
      "        - Input_dir: path to the inputs\n",
      "    \n",
      "    The function has output:\n",
      "        - CSV files located in the Processed_dir/Year_processed/ folder where Year=2017 or 2019\n",
      "    \n",
      "    For function to work:\n",
      "        - Files should be located in \n",
      "            1. Input_dir/Year\\ EXT/ folder if Year=2013, 2017 or 2019 where:\n",
      "                a. Year=2013, 2017 or 2019 if Ext=ADT Data \n",
      "                b. Year=2017 or 2019 if Ext=doc for 2017 and 2019\n",
      "            2. Input_dir/Raw\\ data/ folder if Year=2015\n",
      "\n",
      "None\n"
     ]
    }
   ],
   "source": [
    "import pre_process_flow as pre_process\n",
    "print(help(pre_process.process_adt_data))"
   ]
  },
  {
   "cell_type": "markdown",
   "metadata": {},
   "source": [
    "# <font color=red> TO DO: </font>\n",
    "- Re do the parsing such that all the files look the same. The time format should be the same everywhere.\n",
    "- Remove the unnecessary functions in pre_process\n",
    "- Write test to check if the parsing of doc file is correct"
   ]
  },
  {
   "cell_type": "code",
   "execution_count": 5,
   "metadata": {},
   "outputs": [],
   "source": [
    "ADT_dir = dropbox_dir + '/Private Structured data collection/Data processing/Raw/Demand/Flow_speed'\n",
    "Processed_dir = dropbox_dir + '/Private Structured data collection/Data processing/Auxiliary files/Demand/Flow_speed/Flow_processed'\n",
    "City_dir = ADT_dir + \"/City\"\n",
    "Kimley_Horn_flow_dir = ADT_dir + \"/Kimley Horn Data\"\n",
    "\n",
    "# pre_process.process_adt_data(2013, Processed_dir, City_dir)\n",
    "# pre_process.process_adt_data(2015, Processed_dir, Kimley_Horn_flow_dir)\n",
    "# pre_process.process_adt_data(2017, Processed_dir, City_dir)\n",
    "pre_process.process_adt_data(2019, Processed_dir, City_dir)\n"
   ]
  },
  {
   "cell_type": "markdown",
   "metadata": {},
   "source": [
    "\n",
    "### B) Find the coordinates of the city detectors\n",
    "We obtained the coordinates of the detectors by calling the method get_geo_data(year) from the pre_process.py python file. \n",
    "\n",
    "- run `print(help(pre_process.get_geo_data))` to get some help.\n",
    "\n",
    "# <font color=red> TO DO: </font>\n",
    "- Put the different files year_info.csv together, and compare it to the [google doc](https://docs.google.com/spreadsheets/d/1tcps-8aorPZLY8nswnNCmjWSJi-7ey8Ps4twWFz2ls0/edit#gid=0)\n",
    "- Make sure to process doc files\n",
    "- Make sure to process PeMS files too (for this ask Theo)\n",
    "- Then we want to match the detectors to the ID associated to them here."
   ]
  },
  {
   "cell_type": "code",
   "execution_count": null,
   "metadata": {},
   "outputs": [],
   "source": [
    "pre_process.get_geo_data(2013, City_dir, Processed_dir)\n",
    "pre_process.get_geo_data(2015, Kimley_Horn_flow_dir, Processed_dir)\n",
    "pre_process.get_geo_data(2017, City_dir, Processed_dir)\n",
    "pre_process.get_geo_data(2019, City_dir, Processed_dir)"
   ]
  },
  {
   "cell_type": "markdown",
   "metadata": {
    "scrolled": true
   },
   "source": [
    "# Theo: I am here"
   ]
  },
  {
   "cell_type": "markdown",
   "metadata": {},
   "source": [
    "### C) Check and adjust the locations of the (City + PeMS) detectors to match them to our network using ArcGIS <br>\n",
    "Done in the software manually in ArcGIS.\n",
    "1. Export Aimsun network as GIS file\n",
    "2. Import Aimsun network in ArcGIS\n",
    "3. Import detectors in ArcGIS as XY_points\n",
    "4. Move detectors to put them on corresponding road in Aimsun\n",
    "5. Associate to every detectors the External ID of the Aimsun road (to be done again)\n",
    "\n",
    "**TO DO THEO**: Add the process to create the detectors inside Aimsun.\n",
    "Add the process to match the detectors to road section (and create the file lines_to_detectors.xlsx\n",
    "\n",
    "\n",
    "### Later to do: do the spatial join in python"
   ]
  },
  {
   "cell_type": "markdown",
   "metadata": {},
   "source": [
    "### 3. Process Data"
   ]
  },
  {
   "cell_type": "code",
   "execution_count": null,
   "metadata": {},
   "outputs": [],
   "source": [
    "import process_flow as pf"
   ]
  },
  {
   "cell_type": "markdown",
   "metadata": {},
   "source": [
    "# <font color=red> TO DO: </font>\n",
    "- Create the file Flow_processed_tmp.csv from year_info.csv to check if everything is fine\n",
    "- Rename the file Flow_processed_tmp.csv -> detectors_id.csv and put it in the manually made dataset\n",
    "- Merge flow_processed_city.csv and flow_processed_PeMS.csv together in the function\n",
    "- Go over Zixuan code to make the code in process_flow better"
   ]
  },
  {
   "cell_type": "markdown",
   "metadata": {},
   "source": [
    "### A) Process the csv files (city + caltrans) to one big file. <br>\n",
    "source code: processing flow to one CSV.ipynb <br>\n",
    "\n",
    "We combine all the flow traffic data into one big CSV file from both city and PeMS data files. This is done by calling the function process_data() from the process_flow.py python file. \n",
    "\n",
    "Description of function process_data()\n",
    "<br>\n",
    "The function has input:\n",
    "- \"Flow_processed_tmp.csv\" file that lists all the processed files from city and PeMS data\n",
    "- The processed files created from the Parsing Data section\n",
    "\n",
    "The function has output:\n",
    "- \"Flow_processed_city.csv\" containing combined city flow data for all year\n",
    "- \"Flow_processed_PeMS.csv\" containing combined PeMS flow data for all years\n",
    "\n",
    "For the function to work:\n",
    "- The processed files (input) must be located in City and PeMs folders\n",
    "- 2013 city processed files are located in \"City/2013 reformat/\"\n",
    "- 2017 and 2019 city processed files that originated from DOC (which originated from PDF) files are located in \"City/Year reformat/Format from pdf\" folder where Year=2017 or 2019\n",
    "- 2017 and 2019 city processed files that originated from Excel files are located in \"City/Year reformat/Format from xlsx\" folder where Year=2017 or 2019\n",
    "- 2013, 2017 and 2019 PeMS data files are located in \"PeMS_Year\" folder where Year=2013, 2017 or 2019\n",
    "\n",
    "For the pipeline to work:\n",
    "- The ouput files must remain in the working directory, no moving necessary.\n",
    "\n",
    "Structure of ouput files: \n",
    "- Flow_processed_city.csv\n",
    "    - contains city traffic data where the rows represent traffic flow. The first 5 columns give info about the traffic flow and are Year, Name, Id, Direction, Day 1 where Name refers to the file name from which the data originated, Id is the Id from the \"Flow_processed_tmp.csv\" file, Direction is the direction of flow and Day 1 is the start date of recording. The columns that follow are day-timesteps for flow data. There are 3 days total over which traffic flow is recorded and time progresses in 15 minute steps. Hence the data columns progress as \"Day 1 - 0:0\", \"Day 1 - 0:15\", \"Day 1 - 0:30\",...,\"Day 3 - 23:30\", \"Day 3 - 23:45\".\n",
    "- Flow_processed_PeMS.csv\n",
    "    - contains PeMS flow traffic data where the rows represent traffic flow. The first columns are Name, Id and Name PeMS where Name contains the PeMS detector Id, Id is the Id assigned from \"Flow_processed_tmp.csv\", Name PeMs is the road address. The next 6 columns give Observed Year and Day Year for the 3 years, 2013, 2017 and 2019. Observed Year is the percentage of the observed data and Day Year is the start date of recording. The columns that follow are Year-Day-timestep, there are 3 years, 3 days and time progresses in 15 minute steps. Hence the columns progress as \"2013-Day 1 - 0:0\", \"2013-Day 1 - 0:15\", \"2013-Day 1 - 0:30\",...,\"2019-Day 3 - 23:30\", \"2019-Day 3 - 23:45\".\n",
    "\n",
    "**(DONE) TO DO 8**: Explain the structure of the output files. Also, feel free to document the doc in the python file (or iPython file). Explain also the input (Flow_processed_tmp.csv) and how it was created (I think it was created from the google doc https://docs.google.com/spreadsheets/d/1tcps-8aorPZLY8nswnNCmjWSJi-7ey8Ps4twWFz2ls0/edit#gid=0).\n",
    "\n",
    "***Edson Question***: the Flow_processed_tmp.csv file and the google doc seem the same to me (except for the lat, lng info on the right side of the google doc). Beyond this, I don't know how the file was created. Who to ask for more info?\n",
    "\n",
    "***Theo Answer***: I guess I have created the file from the google doc. But I have also created the google doc during the parsing. Probably in 2) we can create Flow_processed_tmp.csv from year_info.csv\n",
    "\n",
    "# added 2015 year"
   ]
  },
  {
   "cell_type": "code",
   "execution_count": null,
   "metadata": {},
   "outputs": [],
   "source": []
  },
  {
   "cell_type": "code",
   "execution_count": null,
   "metadata": {},
   "outputs": [],
   "source": []
  },
  {
   "cell_type": "code",
   "execution_count": null,
   "metadata": {},
   "outputs": [],
   "source": [
    "import process_flow as pf\n",
    "pf.process_data()"
   ]
  },
  {
   "cell_type": "markdown",
   "metadata": {},
   "source": [
    "### B) Create file that gives traffic flows for specific road sections for every year. <br>\n",
    "source note: put years together.ipynb\n",
    "\n",
    "- Use detectors (lines_to_detectors.csv) and flow processed city (flow_processed_city.csv) data to create all years flow data in \"flow_processed_section.csv\"\n",
    "- Note that the erroneous files are still being skipped, they are: ['DurhamRd I680 MissionBlv EB', 'Mission blvd Pine Washington SB']\n",
    "\n",
    "# To do 9: the function pytogether should be written again. + add 2015\n",
    "- add the PeMS data\n",
    "- be more clever about missing data or road section associated with several detectors (take the average)\n",
    "\n",
    "### To do later, do the spatial join in python"
   ]
  },
  {
   "cell_type": "code",
   "execution_count": null,
   "metadata": {},
   "outputs": [],
   "source": [
    "import process_years_together as pytogether\n",
    "\n",
    "line_to_detectors = 'lines_to_detectors.csv'\n",
    "flow_processed_city = 'Flow_processed_city.csv'\n",
    "pytogether.run(line_to_detectors, flow_processed_city)"
   ]
  },
  {
   "cell_type": "markdown",
   "metadata": {},
   "source": [
    "### 4. Data Analysis\n",
    "\n",
    "# TO DO: To be done after the other to dos has been done."
   ]
  },
  {
   "cell_type": "markdown",
   "metadata": {},
   "source": [
    "A) PCA"
   ]
  },
  {
   "cell_type": "markdown",
   "metadata": {},
   "source": [
    "B) Analyse PCA results using heatmap inside ArcGIS"
   ]
  },
  {
   "cell_type": "code",
   "execution_count": null,
   "metadata": {},
   "outputs": [],
   "source": []
  },
  {
   "cell_type": "code",
   "execution_count": null,
   "metadata": {},
   "outputs": [],
   "source": []
  },
  {
   "cell_type": "code",
   "execution_count": null,
   "metadata": {},
   "outputs": [],
   "source": []
  }
 ],
 "metadata": {
  "kernelspec": {
   "display_name": "Python 3",
   "language": "python",
   "name": "python3"
  },
  "language_info": {
   "codemirror_mode": {
    "name": "ipython",
    "version": 3
   },
   "file_extension": ".py",
   "mimetype": "text/x-python",
   "name": "python",
   "nbconvert_exporter": "python",
   "pygments_lexer": "ipython3",
   "version": "3.7.3"
  }
 },
 "nbformat": 4,
 "nbformat_minor": 2
}
