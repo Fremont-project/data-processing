{
 "cells": [
  {
   "cell_type": "markdown",
   "metadata": {},
   "source": [
    "# Flow Processing Pipeline\n"
   ]
  },
  {
   "cell_type": "markdown",
   "metadata": {},
   "source": [
    "## Goal of the pipeline\n",
    "\n",
    "<font color=red> The goal of this notebook is to associate the raw ADT ground-data for 2013, 2015, 2017 and 2019, and the raw speed ground-data in 2015 to the Aimsun network for the calibration of Aimsun simulations. First the raw data is processed in a common format, then, every detector is associated with a network link inside Aimsun. Later, every detector is associated with a road section to create heatmap and understand the evolution of flows over years. </font>\n"
   ]
  },
  {
   "cell_type": "markdown",
   "metadata": {},
   "source": [
    "# TO DO: write this in a better way\n",
    "### Outputs of the pipeline: \n",
    "- One file matching detectors location to Aimsun road section\n",
    "- One file with the processed flow data for 2013, 2015, 2017, 2019\n",
    "- One file with the processed speed data for 2015\n",
    "- One file with the flow data corresponding to road sections for 2013, 2015, 2017 and 2019\n",
    "- PCA on flow data\n",
    "\n",
    "### Inputs of the pipeline: \n",
    "**Raw data**\n",
    "- PeMS account [_publicly available_]. Can be created in http://pems.dot.ca.gov\n",
    "- PeMS detectors location [_publicly available_]. In the dropbox under `Demand/Flow_speed/Traffic\\ flow\\ studies/PeMS`\n",
    "- City average annual daily traffic (AADT) data for 2013, 2017 and 2019 [_given by the city of Fremont_]. Located in the dropbox under `Demand/Flow_speed/Traffic\\ flow\\ studies/City`\n",
    "- Kimley-Horn flow and speed data for 2015 [_given by the city of Fremont_]. Located in the dropbox under `Demand/Flow_speed/Traffic\\ flow\\ studies/Kimley\\ Horn\\ Data`\n",
    "\n",
    "**Manually made dataset**\n",
    "- Aimsun network\n",
    "- Detectors location\n",
    "- Road section layer\n",
    "- Doc files or city ADT data corresponding to the PDF files\n",
    "- Detectors ID to corresponding flow file name\n",
    "\n",
    "\n",
    "### Temporary files of the pipeline\n",
    "- CSV flow data\n",
    "    - City and Kimley Horn\n",
    "    - PeMS data\n",
    "- ..."
   ]
  },
  {
   "cell_type": "markdown",
   "metadata": {},
   "source": [
    "### Dependent scripts: \n",
    "- [pems_download.py](https://github.com/Fremont-project/data-processing/blob/master/pipeline/flow/pems_download.py): the script automatically download PeMs data for chosen date.\n",
    "- [pre_process_flow.py](https://github.com/Fremont-project/data-processing/blob/master/pipeline/flow/pre_process_flow.py): the script (A). parse the ADT data from xlsx, doc and csv files to csv files (B). Find the coordinates of the city detectors (C). Check and adjust the locations of the (City + PeMS) detectors to match them to our network using ArcGIS \n",
    "- [process_flow.py](https://github.com/Fremont-project/data-processing/blob/master/pipeline/flow/): this script processes all the flow traffic data into one big CSV file from both city and PeMS data files\n",
    "- [process_years_together.py](https://github.com/Fremont-project/data-processing/blob/master/pipeline/flow/): this script combines the previous scripts and processes the data for 2013, 2015, 2017, 2019\n",
    "- fremontdropbox_flow\n",
    "\n",
    "### Dependent libraries:\n",
    "- os\n",
    "- sys\n",
    "- webbrowser\n",
    "- time\n",
    "- requests\n",
    "- pathlib\n",
    "- textract\n",
    "- [numpy](https://numpy.org)\n",
    "- datetime\n",
    "- pandas\n",
    "- To do"
   ]
  },
  {
   "cell_type": "markdown",
   "metadata": {},
   "source": [
    "### Work done by the script\n",
    "1. Obtaining Data\n",
    "    - Turn city pdf to doc\n",
    "    - PeMS data download\n",
    "2. Preprocessing city and Kimley-Horn data\n",
    "    - Parsing the flow data [We are here]\n",
    "    - Parsing the speed data\n",
    "    - Geocoding location of the detectors\n",
    "    - Manually update the location of the detectors\n",
    "3. Processing the data\n",
    "    - Creating one file with the flow for all detectors\n",
    "    - Creating a layer of road section\n",
    "    - Matching the detectors to road section\n",
    "    - Creating one file with the flow over time for every road section\n",
    "    - Matching the detectors with the corresponding road section in Aimsun\n",
    "4. Exporting the data\n",
    "    - Exporting a csv file where Aimsun road sections are matched with detectors\n",
    "    - Exporting a csv file with flow for the different road sections\n",
    "    - Exporting traffic flow heatmap\n",
    "    - Exporting speed heatmap\n",
    "    - PCA on the traffic flow heatmap over years"
   ]
  },
  {
   "cell_type": "markdown",
   "metadata": {},
   "source": [
    "# <font color=red> TO DO: </font>\n",
    "- <font color=green> Jiayi, put the to dos in green when done </font>, <font color=blue> in blue if you need some help </font>, <font color=red>put them red if you have not done them yet</font>\n",
    "- should have exception handler in the process (and python function) if the files are not located where you are looking for.\n",
    "- run PCA and create heatmap with ArcGIS (heatmap will be done by Theo)\n",
    "- put the correct github link for the scripts in the Dependent scripts paragraph\n",
    "- Work done by the script\n",
    "- Dependent libraries\n",
    "- Put the scripts together in one main script\n",
    "- add link from work done by the script to section of the iPython notebook"
   ]
  },
  {
   "cell_type": "code",
   "execution_count": 2,
   "metadata": {},
   "outputs": [],
   "source": [
    "import sys\n",
    "import os\n",
    "# We let this notebook to know where to look for fremontdropbox module\n",
    "module_path = os.path.abspath(os.path.join('../..'))\n",
    "if module_path not in sys.path:\n",
    "    sys.path.append(module_path)\n",
    "\n",
    "from fremontdropbox import get_dropbox_location\n",
    "\n",
    "dropbox_dir = get_dropbox_location()"
   ]
  },
  {
   "cell_type": "markdown",
   "metadata": {},
   "source": [
    "## 1. Obtaining Data\n",
    "\n",
    "### A) PeMS Data Download \n",
    "    \n",
    "Script: pems_download.py <br>\n",
    "Download traffic data from the PEMS website (pews.dot.ca.gov) for years 2013, 2015, 2017 and 2019 <br>\n",
    "\n",
    "We download the data calling the method download(detector_ids, year, PeMS_dir) from the pems_download.py file. The process takes about 20 minutes to run. \n",
    "Run `print(help(pems.download))` to get some help.\n",
    "\n",
    "### B) Turn city pdf to doc\n",
    "\n",
    "Some of the flow data that we got from the city were in pdf files. To be able to parse them, we convert them to doc files using online website. This should be done before running the code. The doc files are inputs of the pipeline."
   ]
  },
  {
   "cell_type": "code",
   "execution_count": 3,
   "metadata": {
    "scrolled": true
   },
   "outputs": [
    {
     "name": "stdout",
     "output_type": "stream",
     "text": [
      "Help on function download in module pems_download:\n",
      "\n",
      "download(year, detector_ids, PeMS_dir)\n",
      "    This function downloads traffic data from the PeMS website (pems.dot.ca.gov).\n",
      "    This function has for input:\n",
      "        - PeMS detectors ID: detector_ids (an array of detectors)\n",
      "        - Year for the desired data: year (one year as a integer, should be 2013, 2015, 2017 or 2019)\n",
      "    \n",
      "    This function has for output:\n",
      "        - All corresponding PeMS detectors data file for the given year (and the given days encoded in the url).\n",
      "        - Stored in the download folder as PeMS_dir/PeMS_year/PeMS-ID_YEAR.xlsx (where PeMS-ID is the detector ID given by PeMS).\n",
      "        One xlsx file has two sheets:\n",
      "            - PeMS Report Description\n",
      "            - Report Data\n",
      "                - Contains the traffic flow data\n",
      "                - Each row gives the number of vehicles observed in one time step (5 minutes) per lane number over the columns.\n",
      "                - The first column gives the date and time stamp, and the columns that follow are lanes (i.e. Lane 1 Flow, Lane 2 Flow). We care about the column 'Flow (Veh/5 Minutes)' which is the total flow for every lane every 5 minutes.\n",
      "                - The column \"% Observed\" correspond to how much of the flow is due to real vehicles sensed or due to estimation from other days due to a technical issue that make the sensor not sensing every cars.\n",
      "        - Flow data are download for three days\n",
      "            - From the first Tuesday of March at 00:00am until the first thursday of March at 23:59pm\n",
      "    For the function to work, you need to:\n",
      "        - Log in to PeMS in the same browser that runs this Jupyter notebook\n",
      "\n",
      "None\n"
     ]
    }
   ],
   "source": [
    "import pems_download as pems\n",
    "print(help(pems.download))"
   ]
  },
  {
   "cell_type": "code",
   "execution_count": 4,
   "metadata": {},
   "outputs": [],
   "source": [
    "# ************* IMPORTANT *************\n",
    "# --> For this cell to work, you need to log in to PeMS in the same browser that runs this Jupyter notebook\n",
    "\n",
    "## The IDs of the PeMS detectors where obtained using ArcGIS software and an input file, pems_detectors.csv, containing the locations of all the PeMS dectectors in California\n",
    "## this should be done in Python!\n",
    "detector_ids = [403250, 403256, 403255, 403257, 418387, 418388, 400376,\n",
    "               413981, 413980, 413982, 402794, 413983, 413984, 413985,\n",
    "               413987, 413986, 402796, 413988, 402799, 403251, 403710,\n",
    "               403254, 403719, 400566, 418420, 418419, 418422, 418423,\n",
    "               402793, 403226, 414015, 414016, 402795, 402797, 414011,\n",
    "               402798]\n",
    "PeMS_dir = dropbox_dir + '/Private Structured data collection/Data processing/Auxiliary files/Demand/Flow_speed/PeMS'\n",
    "\n",
    "# pems.download(2013, detector_ids, PeMS_dir)\n",
    "# pems.download(2015, detector_ids, PeMS_dir)\n",
    "# pems.download(2017, detector_ids, PeMS_dir)\n",
    "# pems.download(2019, detector_ids, PeMS_dir)"
   ]
  },
  {
   "cell_type": "markdown",
   "metadata": {},
   "source": [
    "# TO DO Later:\n",
    "- Find the list of detectors ID using the project delimitation shapefile. (to be done later)"
   ]
  },
  {
   "cell_type": "code",
   "execution_count": 5,
   "metadata": {},
   "outputs": [
    {
     "name": "stdout",
     "output_type": "stream",
     "text": [
      "PeMS during 03/05/2013 00:00:00-03/07/2013 23:59:59\n",
      "PeMS during 03/03/2015 00:00:00-03/05/2015 23:59:59\n",
      "PeMS during 03/07/2017 00:00:00-03/09/2017 23:59:59\n",
      "PeMS during 03/05/2019 00:00:00-03/07/2019 23:59:59\n"
     ]
    }
   ],
   "source": [
    "# ************* TO DO *************\n",
    "pems.PeMS_tester(2013, PeMS_dir, True)\n",
    "pems.PeMS_tester(2015, PeMS_dir, True)\n",
    "pems.PeMS_tester(2017, PeMS_dir, True)\n",
    "pems.PeMS_tester(2019, PeMS_dir, True)"
   ]
  },
  {
   "cell_type": "markdown",
   "metadata": {},
   "source": [
    "## 2. Parsing city data\n",
    "\n",
    "\n",
    "### A) Parse city and Kimley Horn flow data from xlsx, doc and csv files to csv files\n",
    "\n",
    "Here, we process the Excel and PDF ADT data files (city data) into CSV files.\n",
    "\n",
    "- run `print(help(pre_process.parse_excel_2013)` to get some help for 2013 excel files\n",
    "- run `print(help(pre_process.parse_excel_2015)` to get some help for 2015 excel files\n",
    "- run `print(help(pre_process.parse_excel_2017)` to get some help for 2017 excel files\n",
    "- run `print(help(pre_process.parse_excel_2019)` to get some help for 2019 excel files\n",
    "- run `print(help(pre_process.parse_adt_as_file)` to get some help for the 2017 and 2019 doc files"
   ]
  },
  {
   "cell_type": "code",
   "execution_count": 5,
   "metadata": {
    "scrolled": true
   },
   "outputs": [
    {
     "name": "stdout",
     "output_type": "stream",
     "text": [
      "Help on function process_adt_data in module pre_process_flow:\n",
      "\n",
      "process_adt_data(year, Processed_dir, Input_dir)\n",
      "    This function processes the Excel and PDF ADT data files (city data) into CSV files. Note that one file corresponds to one main road and the traffic flow data recordings in it.\n",
      "    \n",
      "    This function has input:\n",
      "        - year which takes values 2013, 2015, 2017 or 2019\n",
      "        - Processed_dir: path to the output\n",
      "        - Input_dir: path to the inputs\n",
      "    \n",
      "    The function has output:\n",
      "        - CSV files located in the Processed_dir/Year_processed/ folder where Year=2017 or 2019\n",
      "    \n",
      "    For the function to work:\n",
      "        - Files should be located in \n",
      "            1. Input_dir/Year\\ EXT/ folder if Year=2013, 2017 or 2019 where:\n",
      "                a. Year=2013, 2017 or 2019 if Ext=ADT Data \n",
      "                b. Year=2017 or 2019 if Ext=doc for 2017 and 2019\n",
      "            2. Input_dir/Raw\\ data/ folder if Year=2015\n",
      "\n",
      "None\n"
     ]
    }
   ],
   "source": [
    "import pre_process_flow as pre_process\n",
    "print(help(pre_process.process_adt_data))"
   ]
  },
  {
   "cell_type": "markdown",
   "metadata": {},
   "source": [
    "# <font color=red> TO DO: </font>\n",
    "- <font color=green> Re do the parsing such that all the files look the same. The time format should be the same everywhere.\n",
    "- Remove the unnecessary functions in pre_process\n",
    "- <font color=green> Write test to check if the parsing of doc file is correct"
   ]
  },
  {
   "cell_type": "code",
   "execution_count": 6,
   "metadata": {},
   "outputs": [],
   "source": [
    "ADT_dir = dropbox_dir + '/Private Structured data collection/Data processing/Raw/Demand/Flow_speed'\n",
    "Processed_dir = dropbox_dir + '/Private Structured data collection/Data processing/Auxiliary files/Demand/Flow_speed/Flow_processed'\n",
    "City_dir = ADT_dir + \"/City\"\n",
    "Kimley_Horn_flow_dir = ADT_dir + \"/Kimley Horn Data\"\n",
    "\n",
    "# pre_process.process_adt_data(2013, Processed_dir, City_dir)\n",
    "# pre_process.process_adt_data(2015, Processed_dir, Kimley_Horn_flow_dir)\n",
    "# pre_process.process_adt_data(2017, Processed_dir, City_dir)\n",
    "# pre_process.process_adt_data(2019, Processed_dir, City_dir)\n"
   ]
  },
  {
   "cell_type": "markdown",
   "metadata": {},
   "source": [
    "\n",
    "### B) Find the coordinates of the city detectors\n",
    "We obtained the coordinates of the detectors by calling the method get_geo_data(year) from the pre_process.py python file. \n",
    "\n",
    "- run `print(help(pre_process.get_geo_data))` to get some help.\n",
    "\n",
    "# <font color=red> TO DO: </font>\n",
    "- Put the different files year_info.csv together, and compare it to the [google doc](https://docs.google.com/spreadsheets/d/1tcps-8aorPZLY8nswnNCmjWSJi-7ey8Ps4twWFz2ls0/edit#gid=0)\n",
    "- Make sure to process doc files\n",
    "- Make sure to process PeMS files too (for this ask Theo)\n",
    "- Then we want to match the detectors to the ID associated to them here."
   ]
  },
  {
   "cell_type": "code",
   "execution_count": null,
   "metadata": {},
   "outputs": [],
   "source": [
    "#pre_process.get_geo_data(2013, City_dir, Processed_dir)\n",
    "#pre_process.get_geo_data(2015, Kimley_Horn_flow_dir, Processed_dir)\n",
    "# pre_process.get_geo_data(2017, City_dir, Processed_dir)\n",
    "# pre_process.get_geo_data(2019, City_dir, Processed_dir)"
   ]
  },
  {
   "cell_type": "code",
   "execution_count": 10,
   "metadata": {},
   "outputs": [
    {
     "name": "stdout",
     "output_type": "stream",
     "text": [
      "2013_info_coor.csv\n",
      "2017_info_coor.csv\n",
      "2019_info_coor.csv\n",
      "2015_info_coor.csv\n"
     ]
    }
   ],
   "source": [
    "import pandas as pd\n",
    "all_filenames = []\n",
    "for filename in os.listdir(Processed_dir):\n",
    "    _, file_ext = os.path.splitext(filename)\n",
    "    if file_ext == '.csv':\n",
    "        print(filename)\n",
    "        all_filenames.append(filename)\n",
    "combined_csv = pd.concat([pd.read_csv(Processed_dir + \"/\" + str(f)) for f in all_filenames])\n",
    "combined_csv.to_csv(Processed_dir + \"/\" + \"combined_csv.csv\", index=False, encoding='utf-8-sig')"
   ]
  },
  {
   "cell_type": "code",
   "execution_count": 22,
   "metadata": {},
   "outputs": [
    {
     "name": "stdout",
     "output_type": "stream",
     "text": [
      "Id,./2013 ADT Data,City,Main road,Cross road,Start lat,Start lng,End lat,End lng\n",
      "done with 2013_info_coor.csv\n",
      "Id,./2017 ADT Data,City,Main road,Cross road,Start lat,Start lng,End lat,End lng\n",
      "done with 2017_info_coor.csv\n",
      "Id,./2019 ADT Data,City,Main road,Cross road,Start lat,Start lng,End lat,End lng\n",
      "done with 2019_info_coor.csv\n",
      "Id,./2015 ADT Data,City,Main road,Cross road,Start lat,Start lng,End lat,End lng\n",
      "done with 2015_info_coor.csv\n"
     ]
    }
   ],
   "source": [
    "import csv\n",
    "debug = False\n",
    "fout=open(Processed_dir + \"/\" + \"out.csv\",\"a\")\n",
    "id_counter = 1\n",
    "for filename in os.listdir(Processed_dir):\n",
    "    file_name, file_ext = os.path.splitext(filename)\n",
    "    if file_ext == '.csv' and file_name != 'out':\n",
    "        if debug == True:\n",
    "            print(filename)\n",
    "        curr_year = filename.split(\"_\")[0]\n",
    "        curr_opening = \"./\" + curr_year + \" ADT Data\"\n",
    "        f = open(Processed_dir + \"/\" + filename)\n",
    "        fout.write('\\n')\n",
    "        reader = csv.reader(f)\n",
    "        header= next(reader)\n",
    "        header = header[1:]\n",
    "        opening_line = ','.join([\"Id\", curr_opening] + header)\n",
    "        if debug == True:\n",
    "            print(opening_line)\n",
    "        fout.write(opening_line)\n",
    "        for line in f:\n",
    "            first_ele = line.split(\",\")[0]\n",
    "            if first_ele == 'Name': #This is header\n",
    "#                 header = line[len(first_ele)+1:]\n",
    "#                 header = \"Id,\" + curr_opening + \",\" + header\n",
    "#                 print(header)\n",
    "#                 fout.write(header)\n",
    "                continue\n",
    "            line = str(id_counter) + \",\" + line\n",
    "            id_counter += 1\n",
    "            if debug == True:\n",
    "                print(line)\n",
    "            fout.write(line)\n",
    "        print(\"done with \" + str(filename))\n",
    "fout.close()\n"
   ]
  },
  {
   "cell_type": "code",
   "execution_count": 57,
   "metadata": {},
   "outputs": [],
   "source": [
    "fout=open(Processed_dir + \"/\" + '2017_info_coor.csv')"
   ]
  },
  {
   "cell_type": "code",
   "execution_count": 60,
   "metadata": {},
   "outputs": [
    {
     "name": "stdout",
     "output_type": "stream",
     "text": [
      "Name,City,Main road,Cross road,Start lat,Start lng,End lat,End lng\n",
      "\n",
      "MISSION BLVD BT DURHAM RD AND CURTNER RD.xlsx,Fremont,Mission Blvd,Durham Rd And Curtner Rd,37.5136269,-121.9194106,37.4972833,-121.9206722\n",
      "\n",
      "PASEO PADRE PKWY BT CAMINO DEL CAMPO AND PINE ST.xlsx,Fremont,Paseo Padre Pkwy,Camino Del Campo And Pine St,37.5205218,-121.9251071,37.5235673,-121.9284821\n",
      "\n",
      "GRIMMER BLVD BT OSGOOD RD AND FREMONT BLVD.xlsx,Fremont,Grimmer Blvd,Osgood Rd And Fremont Blvd,37.50526139999999,-121.9377826,37.5364522,-121.9655703\n",
      "\n",
      "DRISCOLL RD BT COMAC TERRACE AND DENISE ST.xlsx,Fremont,Driscoll Rd,Comac Terrace And Denise St,37.5417999,-121.9475293,37.5379431,-121.9512488\n",
      "\n",
      "PAGE AVE BT KATO RD AND MILMONT DR.xlsx,Fremont,Page Ave,Kato Rd And Milmont Dr,37.467891,-121.9278693,37.4688514,-121.9251185\n",
      "\n",
      "WARREN AVE BT CURTNER RD AND WARM SPRINGS BLVD.xlsx,Fremont,Warren Ave,Curtner Rd And Warm Springs Blvd,37.4956742,-121.9141113,37.4871224,-121.9280083\n",
      "\n",
      "PASEO PADRE PKWY BT MISSION BLVD AND CURTNER RD.xlsx,Fremont,Paseo Padre Pkwy,Mission Blvd And Curtner Rd,37.5003147,-121.9194104,37.4956742,-121.9141113\n",
      "\n",
      "PINE ST E OF PASEO PADRE PKWY STOP SIGN.xlsx,Fremont,Pine St,Paseo Padre Pkwy,37.5235673,-121.9284821\n",
      "\n",
      "GRIMMER BLVD BT PASEO PADRE PKWY AND OSGOOD RD.xlsx,Fremont,Grimmer Blvd,Paseo Padre Pkwy And Osgood Rd,37.5415855,-121.9607775,37.50526139999999,-121.9377826\n",
      "\n",
      "MISSION BLVD S OF MISSION RD SIGNAL.xlsx,Fremont,Mission Blvd,Mission Rd,37.53956,-121.9238021\n",
      "\n",
      "FARWELL DR BT BROPHY DR AND FLAMINGO LN.xlsx,Fremont,Farwell Dr,Brophy Dr And Flamingo Ln,37.5339933,-122.0038463,37.5313442,-121.9967116\n",
      "\n",
      "WARM SPRINGS BLVD BT GRIMMER BLVD AND BROWN RD.xlsx,Fremont,Warm Springs Blvd,Grimmer Blvd And Brown Rd,37.5051352,-121.9378996,37.4941027,-121.9318278\n",
      "\n",
      "WASHINGTON BLVD BT GALLEGOS AVE AND ADELINA CM.xlsx,Fremont,Washington Blvd,Gallegos Ave And Adelina Cm,37.5322204,-121.929816,37.532523,-121.9274214\n",
      "\n",
      "OSGOOD RD BT WASHINGTON BLVD AND AUTO MALL PKWY.xlsx,Fremont,Osgood Rd,Washington Blvd And Auto Mall Pkwy,37.5333091,-121.9534987,37.5139048,-121.9426157\n",
      "\n",
      "PASEO PADRE PKWY BT ONONDAGA WAY AND MISSION BLVD.xlsx,Fremont,Paseo Padre Pkwy,Onondaga Way And Mission Blvd,37.5053937,-121.9273542,37.5003147,-121.9194104\n",
      "\n",
      "WASHINGTON BLVD W OF PASEO PADRE PKWY SIGNAL.xlsx,Fremont,Washington Blvd,Paseo Padre Pkwy,37.5316567,-121.9342\n",
      "\n",
      "OSGOOD RD BT AUTO MALL PKWY AND GRIMMER BLVD.xlsx,Fremont,Osgood Rd,Auto Mall Pkwy And Grimmer Blvd,37.5139048,-121.9426157,37.50526139999999,-121.9377826\n",
      "\n",
      "PASEO PADRE PKWY BT PARKMEADOW DR AND BLACKFOOT DR.xlsx,Fremont,Paseo Padre Pkwy,Parkmeadow Dr And Blackfoot Dr,37.510503,-121.9306933,37.512573,-121.9315001\n",
      "\n",
      "DRISCOLL RD BT HARRINGTON ST AND DURILLO DR.xlsx,Fremont,Driscoll Rd,Harrington St And Durillo Dr,37.5424122,-121.9469691,37.5434945,-121.9459868\n",
      "\n",
      "WARM SPRINGS BLVD BT BROWN RD AND WARREN AVE.xlsx,Fremont,Warm Springs Blvd,Brown Rd And Warren Ave,37.4941027,-121.9318278,37.4871224,-121.9280083\n",
      "\n",
      "AUTO MALL PKWY BT FREMONT BLVD AND I680.xlsx,Fremont,Auto Mall Pkwy,Fremont Blvd And I680,37.51209619999999,-121.9511975,37.5076894,-121.9665398\n",
      "\n",
      "PASEO PADRE PKWY BT CHADBOURNE DR AND COVINGTON DR.xlsx,Fremont,Paseo Padre Pkwy,Chadbourne Dr And Covington Dr,37.5396961,-121.9440984,37.5387463,-121.9393312\n",
      "\n",
      "PINE ST BT SOUTHERLAND WAY AND DUBAL CT.xlsx,Fremont,Pine St,Southerland Way And Dubal Ct,37.5212556,-121.9323234,37.5202499,-121.9311311\n",
      "\n",
      "DURHAM RD BT I680 AND LAUREL CANYON WAY.xlsx,Fremont,Durham Rd,I680 And Laurel Canyon Way,37.51472589999999,-121.9288997,37.5143251,-121.9316307\n",
      "\n",
      "MISSION BLVD S OF WASHINGTON BLVD SIGNAL.xlsx,Fremont,Mission Blvd,Washington Blvd,37.5334051,-121.9200877\n",
      "\n",
      "MISSION BLVD BT DRISCOLL RD AND I 680 NB.doc,Fremont,Mission Blvd,Driscoll Rd And I 680 Nb,37.5497624,-121.9399602,37.53915,-121.92364\n",
      "\n",
      "MISSION BLVD BT MOHAVE DR AND WARM SPRINGS BLVD EB.doc,Fremont,Mission Blvd,Mohave Dr And Warm Springs Blvd Eb,37.49210300000001,-121.9268566,37.4900145,-121.9296492\n",
      "\n",
      "S GRIMMER BLVD BT PASEO PADRE PRKY AND MISSION BLVD EB.doc,Fremont,S Grimmer Blvd,Paseo Padre Prky And Mission Blvd Eb,37.5073396,-121.9282451,37.506647,-121.9198326\n",
      "\n",
      "S GRIMMER BLVD BT PASEO PADRE PRKY AND MISSION BLVD WB.doc,Fremont,S Grimmer Blvd,Paseo Padre Prky And Mission Blvd Wb,37.5073396,-121.9282451,37.506647,-121.9198326\n",
      "\n",
      "MISSION BLVD BT MOHAVE DR AND WARM SPRINGS BLVD WB.doc,Fremont,Mission Blvd,Mohave Dr And Warm Springs Blvd Wb,37.49210300000001,-121.9268566,37.4900145,-121.9296492\n",
      "\n",
      "MISSION BLVD BT DRISCOLL RD AND I 680 SB.doc,Fremont,Mission Blvd,Driscoll Rd And I 680 Sb,37.5497624,-121.9399602,37.53915,-121.92364\n",
      "\n"
     ]
    }
   ],
   "source": [
    "for line in fout:\n",
    "    print(line)"
   ]
  },
  {
   "cell_type": "markdown",
   "metadata": {
    "scrolled": true
   },
   "source": [
    "# Theo: I am here"
   ]
  },
  {
   "cell_type": "markdown",
   "metadata": {},
   "source": [
    "### C) Check and adjust the locations of the (City + PeMS) detectors to match them to our network using ArcGIS <br>\n",
    "Done in the software manually in ArcGIS.\n",
    "1. Export Aimsun network as GIS file\n",
    "2. Import Aimsun network in ArcGIS\n",
    "3. Import detectors in ArcGIS as XY_points\n",
    "4. Move detectors to put them on corresponding road in Aimsun\n",
    "5. Associate to every detectors the External ID of the Aimsun road (to be done again)\n",
    "\n",
    "**TO DO THEO**: Add the process to create the detectors inside Aimsun.\n",
    "Add the process to match the detectors to road section (and create the file lines_to_detectors.xlsx\n",
    "\n",
    "\n",
    "### Later to do: do the spatial join in python"
   ]
  },
  {
   "cell_type": "markdown",
   "metadata": {},
   "source": [
    "### 3. Process Data"
   ]
  },
  {
   "cell_type": "code",
   "execution_count": null,
   "metadata": {},
   "outputs": [],
   "source": [
    "import process_flow as pf"
   ]
  },
  {
   "cell_type": "markdown",
   "metadata": {},
   "source": [
    "# <font color=red> TO DO: </font>\n",
    "- Create the file Flow_processed_tmp.csv from year_info.csv to check if everything is fine\n",
    "- Rename the file Flow_processed_tmp.csv -> detectors_id.csv and put it in the manually made dataset\n",
    "- Merge flow_processed_city.csv and flow_processed_PeMS.csv together in the function\n",
    "- Go over Zixuan code to make the code in process_flow better"
   ]
  },
  {
   "cell_type": "markdown",
   "metadata": {},
   "source": [
    "### A) Process the csv files (city + caltrans) to one big file. <br>\n",
    "source code: processing flow to one CSV.ipynb <br>\n",
    "\n",
    "We combine all the flow traffic data into one big CSV file from both city and PeMS data files. This is done by calling the function process_data() from the process_flow.py python file. \n",
    "\n",
    "Description of function process_data()\n",
    "<br>\n",
    "The function has input:\n",
    "- \"Flow_processed_tmp.csv\" file that lists all the processed files from city and PeMS data\n",
    "- The processed files created from the Parsing Data section\n",
    "\n",
    "The function has output:\n",
    "- \"Flow_processed_city.csv\" containing combined city flow data for all year\n",
    "- \"Flow_processed_PeMS.csv\" containing combined PeMS flow data for all years\n",
    "\n",
    "For the function to work:\n",
    "- The processed files (input) must be located in City and PeMs folders\n",
    "- 2013 city processed files are located in \"City/2013 reformat/\"\n",
    "- 2017 and 2019 city processed files that originated from DOC (which originated from PDF) files are located in \"City/Year reformat/Format from pdf\" folder where Year=2017 or 2019\n",
    "- 2017 and 2019 city processed files that originated from Excel files are located in \"City/Year reformat/Format from xlsx\" folder where Year=2017 or 2019\n",
    "- 2013, 2017 and 2019 PeMS data files are located in \"PeMS_Year\" folder where Year=2013, 2017 or 2019\n",
    "\n",
    "For the pipeline to work:\n",
    "- The ouput files must remain in the working directory, no moving necessary.\n",
    "\n",
    "Structure of ouput files: \n",
    "- Flow_processed_city.csv\n",
    "    - contains city traffic data where the rows represent traffic flow. The first 5 columns give info about the traffic flow and are Year, Name, Id, Direction, Day 1 where Name refers to the file name from which the data originated, Id is the Id from the \"Flow_processed_tmp.csv\" file, Direction is the direction of flow and Day 1 is the start date of recording. The columns that follow are day-timesteps for flow data. There are 3 days total over which traffic flow is recorded and time progresses in 15 minute steps. Hence the data columns progress as \"Day 1 - 0:0\", \"Day 1 - 0:15\", \"Day 1 - 0:30\",...,\"Day 3 - 23:30\", \"Day 3 - 23:45\".\n",
    "- Flow_processed_PeMS.csv\n",
    "    - contains PeMS flow traffic data where the rows represent traffic flow. The first columns are Name, Id and Name PeMS where Name contains the PeMS detector Id, Id is the Id assigned from \"Flow_processed_tmp.csv\", Name PeMs is the road address. The next 6 columns give Observed Year and Day Year for the 3 years, 2013, 2017 and 2019. Observed Year is the percentage of the observed data and Day Year is the start date of recording. The columns that follow are Year-Day-timestep, there are 3 years, 3 days and time progresses in 15 minute steps. Hence the columns progress as \"2013-Day 1 - 0:0\", \"2013-Day 1 - 0:15\", \"2013-Day 1 - 0:30\",...,\"2019-Day 3 - 23:30\", \"2019-Day 3 - 23:45\".\n",
    "\n",
    "**(DONE) TO DO 8**: Explain the structure of the output files. Also, feel free to document the doc in the python file (or iPython file). Explain also the input (Flow_processed_tmp.csv) and how it was created (I think it was created from the google doc https://docs.google.com/spreadsheets/d/1tcps-8aorPZLY8nswnNCmjWSJi-7ey8Ps4twWFz2ls0/edit#gid=0).\n",
    "\n",
    "***Edson Question***: the Flow_processed_tmp.csv file and the google doc seem the same to me (except for the lat, lng info on the right side of the google doc). Beyond this, I don't know how the file was created. Who to ask for more info?\n",
    "\n",
    "***Theo Answer***: I guess I have created the file from the google doc. But I have also created the google doc during the parsing. Probably in 2) we can create Flow_processed_tmp.csv from year_info.csv\n",
    "\n",
    "# added 2015 year"
   ]
  },
  {
   "cell_type": "code",
   "execution_count": null,
   "metadata": {},
   "outputs": [],
   "source": []
  },
  {
   "cell_type": "code",
   "execution_count": null,
   "metadata": {},
   "outputs": [],
   "source": []
  },
  {
   "cell_type": "code",
   "execution_count": null,
   "metadata": {},
   "outputs": [],
   "source": [
    "import process_flow as pf\n",
    "pf.process_data()"
   ]
  },
  {
   "cell_type": "markdown",
   "metadata": {},
   "source": [
    "### B) Create file that gives traffic flows for specific road sections for every year. <br>\n",
    "source note: put years together.ipynb\n",
    "\n",
    "- Use detectors (lines_to_detectors.csv) and flow processed city (flow_processed_city.csv) data to create all years flow data in \"flow_processed_section.csv\"\n",
    "- Note that the erroneous files are still being skipped, they are: ['DurhamRd I680 MissionBlv EB', 'Mission blvd Pine Washington SB']\n",
    "\n",
    "# To do 9: the function pytogether should be written again. + add 2015\n",
    "- add the PeMS data\n",
    "- be more clever about missing data or road section associated with several detectors (take the average)\n",
    "\n",
    "### To do later, do the spatial join in python"
   ]
  },
  {
   "cell_type": "code",
   "execution_count": null,
   "metadata": {},
   "outputs": [],
   "source": [
    "import process_years_together as pytogether\n",
    "\n",
    "line_to_detectors = 'lines_to_detectors.csv'\n",
    "flow_processed_city = 'Flow_processed_city.csv'\n",
    "pytogether.run(line_to_detectors, flow_processed_city)"
   ]
  },
  {
   "cell_type": "markdown",
   "metadata": {},
   "source": [
    "### 4. Data Analysis\n",
    "\n",
    "# TO DO: To be done after the other to dos has been done."
   ]
  },
  {
   "cell_type": "markdown",
   "metadata": {},
   "source": [
    "A) PCA"
   ]
  },
  {
   "cell_type": "markdown",
   "metadata": {},
   "source": [
    "B) Analyse PCA results using heatmap inside ArcGIS"
   ]
  },
  {
   "cell_type": "code",
   "execution_count": null,
   "metadata": {},
   "outputs": [],
   "source": []
  },
  {
   "cell_type": "code",
   "execution_count": null,
   "metadata": {},
   "outputs": [],
   "source": []
  },
  {
   "cell_type": "code",
   "execution_count": null,
   "metadata": {},
   "outputs": [],
   "source": []
  }
 ],
 "metadata": {
  "kernelspec": {
   "display_name": "Fremont_proj",
   "language": "python",
   "name": "fremont_proj"
  },
  "language_info": {
   "codemirror_mode": {
    "name": "ipython",
    "version": 3
   },
   "file_extension": ".py",
   "mimetype": "text/x-python",
   "name": "python",
   "nbconvert_exporter": "python",
   "pygments_lexer": "ipython3",
   "version": "3.6.9"
  }
 },
 "nbformat": 4,
 "nbformat_minor": 2
}
