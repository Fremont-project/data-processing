{
 "cells": [
  {
   "cell_type": "markdown",
   "metadata": {},
   "source": [
    "# Flow-Speed"
   ]
  },
  {
   "cell_type": "markdown",
   "metadata": {},
   "source": [
    "Code for processing the flow-speed data for 2013, 2015, 2017, 2019 in Fremont project."
   ]
  },
  {
   "cell_type": "markdown",
   "metadata": {},
   "source": [
    "Flow-Speed Preprocessing Pipeline "
   ]
  },
  {
   "cell_type": "markdown",
   "metadata": {},
   "source": [
    "## Outputs of the pipeline:\n",
    "- One file matching detectors location to Aimsun road section\n",
    "- One file with the processed flow data for 2013, 2015, 2017, 2019\n",
    "- One file with the processed speed data for 2015\n",
    "- One file with the flow data corresponding to road sections for 2013, 2015, 2017 and 2019\n",
    "- PCA on flow data\n"
   ]
  },
  {
   "cell_type": "markdown",
   "metadata": {},
   "source": [
    "## Inputs of the pipeline\n",
    "\n",
    "### Raw Data\n",
    "- PeMS data downloaded from http://pems.dot.ca.gov\n",
    "- City average annual daily traffic (AADT) data for 2013, 2017 and 2019 from city of Fremont\n",
    "- Kimley-Horn flow and speed data for 2015 from city of Fremont\n",
    "\n",
    "### Manually made dataset\n",
    "- Aimsun Network\n",
    "- Detection location \n",
    "- Road section layer\n",
    "- Doc files or city ADT data corresponding to the PDF files\n",
    "- Detectors ID to corresponding flow file name"
   ]
  },
  {
   "cell_type": "markdown",
   "metadata": {},
   "source": [
    "## Temporarily-produced files along the pipeline\n",
    "- CSV flow data\n",
    "    - City and Kimley Horn\n",
    "    - PeMS data\n",
    "- geographic information of road detectors for 2013, 2015, 2017, 2019\n",
    "- Processed speed data for Kimley Horn\n",
    "- Flow_processed_tmp"
   ]
  },
  {
   "cell_type": "code",
   "execution_count": null,
   "metadata": {},
   "outputs": [],
   "source": []
  }
 ],
 "metadata": {
  "kernelspec": {
   "display_name": "Python 3",
   "language": "python",
   "name": "python3"
  },
  "language_info": {
   "codemirror_mode": {
    "name": "ipython",
    "version": 3
   },
   "file_extension": ".py",
   "mimetype": "text/x-python",
   "name": "python",
   "nbconvert_exporter": "python",
   "pygments_lexer": "ipython3",
   "version": "3.6.5"
  }
 },
 "nbformat": 4,
 "nbformat_minor": 2
}
