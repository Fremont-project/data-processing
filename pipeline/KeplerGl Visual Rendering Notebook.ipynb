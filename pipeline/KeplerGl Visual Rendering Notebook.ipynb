{
 "cells": [
  {
   "cell_type": "markdown",
   "metadata": {},
   "source": [
    "# KeplerGl Visual Rendering\n",
    "\n",
    "The goal of this notebook is to visually render various generated/acquired datasets using Uber's open-source KeplerGL."
   ]
  },
  {
   "cell_type": "markdown",
   "metadata": {},
   "source": [
    "## To do:\n",
    "- explain how the data has been created"
   ]
  },
  {
   "cell_type": "markdown",
   "metadata": {},
   "source": [
    "## 0. Modules and Auxilary Functions"
   ]
  },
  {
   "cell_type": "markdown",
   "metadata": {},
   "source": [
    "#### The following cell contains the required imports:"
   ]
  },
  {
   "cell_type": "code",
   "execution_count": 10,
   "metadata": {},
   "outputs": [],
   "source": [
    "from keplergl import KeplerGl\n",
    "import geopandas as gpd\n",
    "import pandas as pd\n",
    "import numpy as np\n",
    "import matplotlib.pyplot as plt\n",
    "import os\n",
    "import sys\n",
    "import ast\n",
    "\n",
    "%load_ext autoreload\n",
    "%autoreload 2"
   ]
  },
  {
   "cell_type": "markdown",
   "metadata": {},
   "source": [
    "#### Generates the important paths used in this notebook:"
   ]
  },
  {
   "cell_type": "code",
   "execution_count": 11,
   "metadata": {},
   "outputs": [
    {
     "name": "stdout",
     "output_type": "stream",
     "text": [
      "/Users/edson/Dropbox\n"
     ]
    }
   ],
   "source": [
    "module_path = os.path.abspath(os.path.join('..'))\n",
    "if module_path not in sys.path:\n",
    "    sys.path.append(module_path)\n",
    "from fremontdropbox import get_dropbox_location\n",
    "dbx = get_dropbox_location()\n",
    "print(dbx)\n",
    "data_path = dbx + '/Private Structured data collection'\n",
    "project_del_path = data_path + \"/Manual-made dataset (do not touch)/Network/Map/Project Delimitation/Project_delimitation.shp\"\n",
    "map_path = data_path + \"/Data processing/Kepler maps/Network/Map/\"\n",
    "inputs_path = data_path + '/Aimsun/Inputs/'\n",
    "outputs_path = data_path + '/Aimsun/Outputs/'"
   ]
  },
  {
   "cell_type": "markdown",
   "metadata": {},
   "source": [
    "#### Converts files into GeoDataframe objects:"
   ]
  },
  {
   "cell_type": "code",
   "execution_count": 12,
   "metadata": {},
   "outputs": [],
   "source": [
    "def to_gdf(path):\n",
    "    gdf = gpd.GeoDataFrame.from_file(path)\n",
    "    gdf = gdf.to_crs(epsg=4326)\n",
    "    return gdf\n",
    "\n",
    "def to_gdf_from_shp(filename):\n",
    "    return to_gdf(inputs_path + filename)\n",
    "\n",
    "def to_gdf_from_csv(path):\n",
    "# https://geopandas.readthedocs.io/en/latest/gallery/create_geopandas_from_pandas.html#from-wkt-format\n",
    "    df = pd.read_csv(path)\n",
    "    gdf = gpd.GeoDataFrame(\n",
    "        df, crs='epsg:4326', geometry=gpd.points_from_xy(df.x, df.y))\n",
    "    return gdf"
   ]
  },
  {
   "cell_type": "markdown",
   "metadata": {},
   "source": [
    "#### Prints diagnostic information for each table field:"
   ]
  },
  {
   "cell_type": "code",
   "execution_count": 13,
   "metadata": {},
   "outputs": [],
   "source": [
    "def diagnostic_write(csv_file, tablename, table, table_map, field, fieldname, first=False, unit='', key=None):\n",
    "    field_type = np.sort(field.unique())\n",
    "\n",
    "    if first:\n",
    "        csv_file.write(\"--------{}s-------\\n\".format(tablename))\n",
    "        csv_file.write(\"Total number of {}s: {}\\n\".format(tablename, str(table['id'].count())))\n",
    "        \n",
    "    csv_file.write(\"{} {}, number of sections\\n\".format(fieldname, unit))\n",
    "\n",
    "    if key:\n",
    "        csv_file.write(key + '\\n')\n",
    "\n",
    "    for i in field_type:\n",
    "        csv_file.write(\"{}, {}\\n\".format(str(i), str(table[table[fieldname] == i]['id'].count())))\n",
    "        if True:\n",
    "            table_map.add_data(data=table[table[fieldname] == i], name=\"{} {}\".format(fieldname, str(i)))\n",
    "\n",
    "    csv_file.write(\"\\n\")"
   ]
  },
  {
   "cell_type": "markdown",
   "metadata": {},
   "source": [
    "#### Imports configuration files:"
   ]
  },
  {
   "cell_type": "code",
   "execution_count": 14,
   "metadata": {},
   "outputs": [],
   "source": [
    "def get_configs(config_file='visualization_config.txt'):\n",
    "    configs = open(config_file, 'r')\n",
    "    config_dict = ast.literal_eval(configs.read())\n",
    "    configs.close()\n",
    "    return config_dict\n",
    "    \n",
    "def write_configs(config_dict, key, config, config_file='visualization_config.txt'):\n",
    "    config_dict[key] = config\n",
    "    print(config_dict, file=open(config_file, 'w'))\n",
    "\n",
    "dict_config = get_configs()"
   ]
  },
  {
   "cell_type": "code",
   "execution_count": 15,
   "metadata": {},
   "outputs": [],
   "source": [
    "def get_null_rows(df, col):\n",
    "    return df[col.isnull()]\n",
    "\n",
    "def get_not_null_rows(df, col):\n",
    "    return df[col.notna()]"
   ]
  },
  {
   "cell_type": "markdown",
   "metadata": {},
   "source": [
    "The following cell toggles printing debugging information:"
   ]
  },
  {
   "cell_type": "code",
   "execution_count": 16,
   "metadata": {},
   "outputs": [],
   "source": [
    "print_kepler = True"
   ]
  },
  {
   "cell_type": "markdown",
   "metadata": {},
   "source": [
    "## 1. Project delimitation\n",
    "\n",
    "Project delimitation has been created in ..."
   ]
  },
  {
   "cell_type": "code",
   "execution_count": 17,
   "metadata": {},
   "outputs": [
    {
     "name": "stdout",
     "output_type": "stream",
     "text": [
      "User Guide: https://github.com/keplergl/kepler.gl/blob/master/docs/keplergl-jupyter/user-guide.md\n",
      "Map saved to /Users/theophile/Dropbox/Private Structured data collection/Data processing/Kepler maps/delimitation.html!\n"
     ]
    }
   ],
   "source": [
    "project_del = to_gdf(project_del_path)\n",
    "\n",
    "if print_kepler:\n",
    "    del_map = KeplerGl(height=600)\n",
    "    del_map.add_data(data = project_del[project_del.Type == \"Delimitation\"], name=\"Project delimitation\")\n",
    "    del_map.add_data(data = project_del[project_del.Type == \"Box\"], name=\"Project box delimitation\")\n",
    "    del_map.save_to_html(file_name=data_path+\"/Data processing/Kepler maps/delimitation.html\")\n",
    "    del_map"
   ]
  },
  {
   "cell_type": "markdown",
   "metadata": {},
   "source": [
    "## 2. Network data\n",
    "\n",
    "## To do: \n",
    "1. Get the different screenshot of the section characteristics (Theo)\n",
    "2. Put the data in a CSV file (Theo)\n",
    "3. Understand what is the meaning of node types and section function class\n",
    "4. If possible render data about (Daniel M.):\n",
    "    - traffic signal plans\n",
    "    - master control plans\n",
    "    - changes in network between 2013, 2017 and 2019\n",
    "5. produce similar results with OSM directly (Ayush)"
   ]
  },
  {
   "cell_type": "markdown",
   "metadata": {},
   "source": [
    "### 2.1 Map\n",
    "#### Aimsun map\n",
    "\n",
    "Aimsun map has been created in ..."
   ]
  },
  {
   "cell_type": "code",
   "execution_count": 18,
   "metadata": {},
   "outputs": [],
   "source": [
    "# Get new demand\n",
    "aimsun_complete = False\n",
    "\n",
    "detectors = to_gdf_from_shp('detectors.shp')\n",
    "meterings = to_gdf_from_shp('meterings.shp')\n",
    "nodes = to_gdf_from_shp('nodes.shp')\n",
    "sections = to_gdf_from_shp('sections.shp')\n",
    "sectionsGeo = to_gdf_from_shp('sectionsGeo.shp')\n",
    "turnings = to_gdf_from_shp('turnings.shp')\n",
    "if aimsun_complete:\n",
    "    centroids = to_gdf_from_shp('centroids.shp')\n",
    "    centroid_connections = to_gdf_from_shp('centroid_connections.shp')\n",
    "#     polygons = to_gdf_from_shp('polygons.shp')"
   ]
  },
  {
   "cell_type": "markdown",
   "metadata": {},
   "source": [
    "#### The following cell is useful to better understand and render the network"
   ]
  },
  {
   "cell_type": "markdown",
   "metadata": {},
   "source": [
    "## (Done) To do Edson: change print_diagnostic_information to get the information inside a csv file"
   ]
  },
  {
   "cell_type": "code",
   "execution_count": 19,
   "metadata": {
    "scrolled": false
   },
   "outputs": [
    {
     "name": "stdout",
     "output_type": "stream",
     "text": [
      "User Guide: https://github.com/keplergl/kepler.gl/blob/master/docs/keplergl-jupyter/user-guide.md\n",
      "User Guide: https://github.com/keplergl/kepler.gl/blob/master/docs/keplergl-jupyter/user-guide.md\n",
      "User Guide: https://github.com/keplergl/kepler.gl/blob/master/docs/keplergl-jupyter/user-guide.md\n",
      "User Guide: https://github.com/keplergl/kepler.gl/blob/master/docs/keplergl-jupyter/user-guide.md\n",
      "User Guide: https://github.com/keplergl/kepler.gl/blob/master/docs/keplergl-jupyter/user-guide.md\n",
      "--------Nodes-------\n",
      "Total number of Nodes: 2013\n",
      "nodetype values: [0. 1. 2. 3.]\n",
      "Number of Nodes with nodetype 0.0: 585\n",
      "Number of Nodes with nodetype 1.0: 1259\n",
      "Number of Nodes with nodetype 2.0: 35\n",
      "Number of Nodes with nodetype 3.0: 134\n",
      "\n",
      "--------Sections-------\n",
      "Total number of Sections: 5626\n",
      "rd_type values: [175. 177. 179. 180. 182. 184. 185.]\n",
      "175 = Motorway, 177 = Primary, 179 = Residential, 180 = Secondary, 182.0 = Tertiary, 184.0 = Trunk, 185.0 = Unclassified\n",
      "Number of Sections with rd_type 175.0: 111\n",
      "Number of Sections with rd_type 177.0: 373\n",
      "Number of Sections with rd_type 179.0: 2916\n",
      "Number of Sections with rd_type 180.0: 393\n",
      "Number of Sections with rd_type 182.0: 189\n",
      "Number of Sections with rd_type 184.0: 51\n",
      "Number of Sections with rd_type 185.0: 1593\n",
      "\n",
      "speed values: [ 16.  40.  50.  56.  64.  72.  88.  90. 104. 120.]\n",
      "(Values are in km/h.)\n",
      "Number of Sections with speed 16.0: 4\n",
      "Number of Sections with speed 40.0: 44\n",
      "Number of Sections with speed 50.0: 5116\n",
      "Number of Sections with speed 56.0: 176\n",
      "Number of Sections with speed 64.0: 70\n",
      "Number of Sections with speed 72.0: 102\n",
      "Number of Sections with speed 88.0: 2\n",
      "Number of Sections with speed 90.0: 12\n",
      "Number of Sections with speed 104.0: 36\n",
      "Number of Sections with speed 120.0: 64\n",
      "\n",
      "capacity values: [  500.   700.   800.   900.  1000.  1400.  1600.  1800.  2100.  2400.\n",
      "  2700.  3200.  3500.  3600.  4000.  4200.  4500.  4800.  5400.  6000.\n",
      "  6300.  7200.  8400. 10500. 12600.]\n",
      "(Capacity is in veh/h.)\n",
      "Number of Sections with capacity 500.0: 1591\n",
      "Number of Sections with capacity 700.0: 2995\n",
      "Number of Sections with capacity 800.0: 146\n",
      "Number of Sections with capacity 900.0: 138\n",
      "Number of Sections with capacity 1000.0: 2\n",
      "Number of Sections with capacity 1400.0: 91\n",
      "Number of Sections with capacity 1600.0: 216\n",
      "Number of Sections with capacity 1800.0: 183\n",
      "Number of Sections with capacity 2100.0: 58\n",
      "Number of Sections with capacity 2400.0: 44\n",
      "Number of Sections with capacity 2700.0: 44\n",
      "Number of Sections with capacity 3200.0: 3\n",
      "Number of Sections with capacity 3500.0: 1\n",
      "Number of Sections with capacity 3600.0: 31\n",
      "Number of Sections with capacity 4000.0: 2\n",
      "Number of Sections with capacity 4200.0: 22\n",
      "Number of Sections with capacity 4500.0: 3\n",
      "Number of Sections with capacity 4800.0: 2\n",
      "Number of Sections with capacity 5400.0: 1\n",
      "Number of Sections with capacity 6000.0: 3\n",
      "Number of Sections with capacity 6300.0: 24\n",
      "Number of Sections with capacity 7200.0: 1\n",
      "Number of Sections with capacity 8400.0: 14\n",
      "Number of Sections with capacity 10500.0: 9\n",
      "Number of Sections with capacity 12600.0: 2\n",
      "\n",
      "func_class values: [1 2 3 5]\n",
      "Number of Sections with func_class 1: 111\n",
      "Number of Sections with func_class 2: 51\n",
      "Number of Sections with func_class 3: 955\n",
      "Number of Sections with func_class 5: 4509\n",
      "\n"
     ]
    },
    {
     "ename": "FileNotFoundError",
     "evalue": "[Errno 2] No such file or directory: '/Users/daniel/Dropbox/Private Structured data collection/Data processing/Kepler maps/Network/Map/nodes_to_check.html'",
     "output_type": "error",
     "traceback": [
      "\u001b[0;31m---------------------------------------------------------------------------\u001b[0m",
      "\u001b[0;31mFileNotFoundError\u001b[0m                         Traceback (most recent call last)",
      "\u001b[0;32m<ipython-input-19-203446d028f8>\u001b[0m in \u001b[0;36m<module>\u001b[0;34m\u001b[0m\n\u001b[1;32m     20\u001b[0m \u001b[0;31m# fremont_map\u001b[0m\u001b[0;34m\u001b[0m\u001b[0;34m\u001b[0m\u001b[0;34m\u001b[0m\u001b[0m\n\u001b[1;32m     21\u001b[0m \u001b[0;32mif\u001b[0m \u001b[0mprint_kepler\u001b[0m\u001b[0;34m:\u001b[0m\u001b[0;34m\u001b[0m\u001b[0;34m\u001b[0m\u001b[0m\n\u001b[0;32m---> 22\u001b[0;31m     \u001b[0mnode_map\u001b[0m\u001b[0;34m.\u001b[0m\u001b[0msave_to_html\u001b[0m\u001b[0;34m(\u001b[0m\u001b[0mfile_name\u001b[0m \u001b[0;34m=\u001b[0m \u001b[0mmap_path\u001b[0m \u001b[0;34m+\u001b[0m \u001b[0;34m\"nodes_to_check.html\"\u001b[0m\u001b[0;34m)\u001b[0m\u001b[0;34m\u001b[0m\u001b[0;34m\u001b[0m\u001b[0m\n\u001b[0m\u001b[1;32m     23\u001b[0m     \u001b[0msection_map\u001b[0m\u001b[0;34m.\u001b[0m\u001b[0msave_to_html\u001b[0m\u001b[0;34m(\u001b[0m\u001b[0mfile_name\u001b[0m \u001b[0;34m=\u001b[0m \u001b[0mmap_path\u001b[0m \u001b[0;34m+\u001b[0m \u001b[0;34m\"Sections/types.html\"\u001b[0m\u001b[0;34m)\u001b[0m\u001b[0;34m\u001b[0m\u001b[0;34m\u001b[0m\u001b[0m\n\u001b[1;32m     24\u001b[0m     \u001b[0mspeed_map\u001b[0m\u001b[0;34m.\u001b[0m\u001b[0msave_to_html\u001b[0m\u001b[0;34m(\u001b[0m\u001b[0mfile_name\u001b[0m \u001b[0;34m=\u001b[0m \u001b[0mmap_path\u001b[0m \u001b[0;34m+\u001b[0m \u001b[0;34m\"Sections/speed.html\"\u001b[0m\u001b[0;34m)\u001b[0m\u001b[0;34m\u001b[0m\u001b[0;34m\u001b[0m\u001b[0m\n",
      "\u001b[0;32m~/opt/anaconda3/lib/python3.7/site-packages/keplergl/keplergl.py\u001b[0m in \u001b[0;36msave_to_html\u001b[0;34m(self, data, config, file_name, read_only)\u001b[0m\n\u001b[1;32m    169\u001b[0m         \u001b[0mframe_txt\u001b[0m \u001b[0;34m=\u001b[0m \u001b[0mkeplergl_html\u001b[0m\u001b[0;34m[\u001b[0m\u001b[0;34m:\u001b[0m\u001b[0mk\u001b[0m\u001b[0;34m]\u001b[0m \u001b[0;34m+\u001b[0m \u001b[0;34m\"<body><script>\"\u001b[0m \u001b[0;34m+\u001b[0m \u001b[0mcmd\u001b[0m \u001b[0;34m+\u001b[0m \u001b[0;34m\"</script>\"\u001b[0m \u001b[0;34m+\u001b[0m \u001b[0mkeplergl_html\u001b[0m\u001b[0;34m[\u001b[0m\u001b[0mk\u001b[0m\u001b[0;34m+\u001b[0m\u001b[0;36m6\u001b[0m\u001b[0;34m:\u001b[0m\u001b[0;34m]\u001b[0m\u001b[0;34m\u001b[0m\u001b[0;34m\u001b[0m\u001b[0m\n\u001b[1;32m    170\u001b[0m \u001b[0;34m\u001b[0m\u001b[0m\n\u001b[0;32m--> 171\u001b[0;31m         \u001b[0;32mwith\u001b[0m \u001b[0mopen\u001b[0m\u001b[0;34m(\u001b[0m\u001b[0mfile_name\u001b[0m\u001b[0;34m,\u001b[0m\u001b[0;34m'wb'\u001b[0m\u001b[0;34m)\u001b[0m \u001b[0;32mas\u001b[0m \u001b[0mf\u001b[0m\u001b[0;34m:\u001b[0m\u001b[0;34m\u001b[0m\u001b[0;34m\u001b[0m\u001b[0m\n\u001b[0m\u001b[1;32m    172\u001b[0m             \u001b[0mf\u001b[0m\u001b[0;34m.\u001b[0m\u001b[0mwrite\u001b[0m\u001b[0;34m(\u001b[0m\u001b[0mframe_txt\u001b[0m\u001b[0;34m.\u001b[0m\u001b[0mencode\u001b[0m\u001b[0;34m(\u001b[0m\u001b[0;34m'utf-8'\u001b[0m\u001b[0;34m)\u001b[0m\u001b[0;34m)\u001b[0m\u001b[0;34m\u001b[0m\u001b[0;34m\u001b[0m\u001b[0m\n\u001b[1;32m    173\u001b[0m \u001b[0;34m\u001b[0m\u001b[0m\n",
      "\u001b[0;31mFileNotFoundError\u001b[0m: [Errno 2] No such file or directory: '/Users/daniel/Dropbox/Private Structured data collection/Data processing/Kepler maps/Network/Map/nodes_to_check.html'"
     ]
    }
   ],
   "source": [
    "# fremont_map = KeplerGl(height=600)\n",
    "if print_kepler:\n",
    "    node_map = KeplerGl(height=600)\n",
    "    section_map = KeplerGl(height=600)\n",
    "    speed_map = KeplerGl(height=600)\n",
    "    capacity_map = KeplerGl(height=600)    \n",
    "    func_type_map = KeplerGl(height=600)\n",
    "    \n",
    "section_key = \"175 = Motorway, 177 = Primary, 179 = Residential, 180 = Secondary, 182.0 = Tertiary, 184.0 = Trunk, 185.0 = Unclassified\"\n",
    "speed_unit = \"(km/h)\"\n",
    "capacity_unit = \"(veh/h)\"\n",
    "\n",
    "# write diagnostic information to csv\n",
    "diagnostic_csv = open(\"diagnostic_info.csv\", 'w')\n",
    "diagnostic_write(diagnostic_csv, \"Node\", nodes, node_map, nodes.nodetype, \"nodetype\", first = True)    \n",
    "\n",
    "diagnostic_write(diagnostic_csv, \"Section\", sections, section_map, sections.rd_type, \"rd_type\", first = True, key = section_key)\n",
    "diagnostic_write(diagnostic_csv, \"Section\", sections, speed_map, sections.speed, \"speed\", unit = speed_unit)\n",
    "diagnostic_write(diagnostic_csv, \"Section\", sections, capacity_map, sections.capacity, \"capacity\", unit = capacity_unit)\n",
    "diagnostic_write(diagnostic_csv, \"Section\", sections, func_type_map, sections.func_class, \"func_class\")\n",
    "diagnostic_csv.close()\n",
    "\n",
    "# fremont_map\n",
    "if print_kepler:\n",
    "    node_map.save_to_html(file_name = map_path + \"nodes_to_check.html\")\n",
    "    section_map.save_to_html(file_name = map_path + \"Sections/types.html\")\n",
    "    speed_map.save_to_html(file_name = map_path + \"Sections/speed.html\")\n",
    "    capacity_map.save_to_html(file_name = map_path + \"Sections/capacity.html\")\n",
    "    func_type_map.save_to_html(file_name = map_path + \"Sections/funct_type.html\")\n",
    "    "
   ]
  },
  {
   "cell_type": "code",
   "execution_count": 20,
   "metadata": {
    "scrolled": true
   },
   "outputs": [
    {
     "name": "stdout",
     "output_type": "stream",
     "text": [
      "User Guide: https://github.com/keplergl/kepler.gl/blob/master/docs/keplergl-jupyter/user-guide.md\n"
     ]
    },
    {
     "data": {
      "application/vnd.jupyter.widget-view+json": {
       "model_id": "06d7a47451d840688541551539c36c4a",
       "version_major": 2,
       "version_minor": 0
      },
      "text/plain": [
       "KeplerGl(data={'Detectors': {'index': [0, 1, 2, 3, 4, 5, 6, 7, 8, 9, 10, 11, 12, 13, 14, 15, 16, 17, 18, 19, 2…"
      ]
     },
     "metadata": {},
     "output_type": "display_data",
    }
   ],
   "source": [
    "if print_kepler:\n",
    "    aimsun_map = KeplerGl(height=600)\n",
    "    aimsun_map.add_data(data = detectors, name=\"Detectors\")\n",
    "    aimsun_map.add_data(data = meterings, name=\"meterings\")\n",
    "    aimsun_map.add_data(data = nodes, name=\"nodes\")\n",
    "    aimsun_map.add_data(data = sections, name=\"sections\")\n",
    "    aimsun_map.add_data(data = sectionsGeo, name=\"sectionsGeo\")\n",
    "    aimsun_map.add_data(data = turnings, name=\"turnings\")\n",
    "    if aimsun_complete:\n",
    "        aimsun_map.add_data(data = centroids, name=\"centroids\")\n",
    "        aimsun_map.add_data(data = centroid_connections, name=\"centroid_connections\")\n",
    "    # fremont_map.add_data(data = polygons, name=\"polygons\")\n",
    "    # aimsun_map.save_to_html(file_name=data_path+\"/Data processing/Kepler maps/Network/aimsun_data.html\")\n",
    "\n",
    "aimsun_map"
   ]
  },
  {
   "cell_type": "markdown",
   "metadata": {},
   "source": [
    "#### Aimsun centroids and centroids connections"
   ]
  },
  {
   "cell_type": "code",
   "execution_count": 37,
   "metadata": {},
   "outputs": [],
   "source": [
    "if print_kepler and aimsun_complete:\n",
    "    centroid_map = KeplerGl(height=600, config=dict_config['centroid_config'])\n",
    "    centroid_map.add_data(data = centroids[centroids['name'].str.contains('ext')], name=\"External centroids\")\n",
    "    centroid_map.add_data(data = centroids[centroids['name'].str.contains('int')], name=\"Internal centroids\")\n",
    "    centroid_map.add_data(data = centroid_connections, name=\"Centroid connections\")\n",
    "    centroid_map.add_data(data = centroid_connections[centroid_connections['direction'] == 'from'], name=\"Outgoing centroid connections\")\n",
    "    centroid_map.add_data(data = centroid_connections[centroid_connections['direction'] == 'to'], name=\"Incoming centroid connections\")\n",
    "    centroid_map.add_data(data = sections, name=\"sections\")\n",
    "    # centroid_map.save_to_html(file_name=data_path+\"/Data processing/Kepler maps/Network/Map/centroids.html\")"
   ]
  },
  {
   "cell_type": "markdown",
   "metadata": {},
   "source": [
    "#### Aimsun road section"
   ]
  },
  {
   "cell_type": "code",
   "execution_count": 38,
   "metadata": {},
   "outputs": [
    {
     "name": "stdout",
     "output_type": "stream",
     "text": [
      "User Guide: https://github.com/keplergl/kepler.gl/blob/master/docs/keplergl-jupyter/user-guide.md\n"
     ]
    }
   ],
   "source": [
    "if print_kepler:\n",
    "    road_section_map = KeplerGl(height=600, config=dict_config['road_type_config'])\n",
    "\n",
    "    road_section_map.add_data(data = sections[sections['rd_type'] == 175.0], name=\"Motorway\")\n",
    "    road_section_map.add_data(data = sections[sections['rd_type'] == 177.0], name=\"Primary\")\n",
    "    road_section_map.add_data(data = sections[sections['rd_type'] == 179.0], name=\"Residential\")\n",
    "    road_section_map.add_data(data = sections[sections['rd_type'] == 180.0], name=\"Secondary\")\n",
    "    road_section_map.add_data(data = sections[sections['rd_type'] == 182.0], name=\"Tertiary\")\n",
    "    road_section_map.add_data(data = sections[sections['rd_type'] == 184.0], name=\"Trunk\")\n",
    "    road_section_map.add_data(data = sections[sections['rd_type'] == 185.0], name=\"Unclassified\")\n",
    "    # road_section_map.save_to_html(file_name=data_path+\"/Data processing/Kepler maps/Network/Map/sections.html\")\n"
   ]
  },
  {
   "cell_type": "code",
   "execution_count": 15,
   "metadata": {},
   "outputs": [],
   "source": [
    "# road_type_config = road_section_map.config\n",
    "# file = open(\"visualization_config.txt\", 'w')\n",
    "# file.write(\"{'road_type_config': \" + str(road_type_config))\n",
    "# file.write(\"}\")\n",
    "# file.close()"
   ]
  },
  {
   "cell_type": "markdown",
   "metadata": {},
   "source": [
    "### 2.2 Infrastructure\n",
    "#### Traffic signals and stop signs\n",
    "\n",
    "Traffic signals and stop signs have been created in ...\n",
    "\n",
    "## To do: get infrastructure data from OSM"
   ]
  },
  {
   "cell_type": "code",
   "execution_count": 24,
   "metadata": {},
   "outputs": [],
   "source": [
    "network_infra_path = data_path + \"/Manual-made dataset (do not touch)/Network/Infrastructure/\"\n",
    "\n",
    "stop_signs = to_gdf_from_csv(network_infra_path + \"Stop signs location/Stop_Signs.csv\")\n",
    "traffic_lights = to_gdf_from_csv(network_infra_path + \"Traffic lights location/Traffic_Lights.csv\")"
   ]
  },
  {
   "cell_type": "code",
   "execution_count": 18,
   "metadata": {},
   "outputs": [
    {
     "name": "stdout",
     "output_type": "stream",
     "text": [
      "User Guide: https://github.com/keplergl/kepler.gl/blob/master/docs/keplergl-jupyter/user-guide.md\n",
      "Map saved to /Users/theophile/Dropbox/Private Structured data collection/Data processing/Kepler maps/Network/Infrastructure/signs_and_lights.html!\n"
     ]
    }
   ],
   "source": [
    "if print_kepler:\n",
    "    intersections = KeplerGl(height=600)\n",
    "    intersections.add_data(data = stop_signs, name=\"Stop signs\")\n",
    "    intersections.add_data(data = traffic_lights, name=\"Traffic lights\")\n",
    "    intersections.save_to_html(file_name=data_path+\"/Data processing/Kepler maps/Network/Infrastructure/signs_and_lights.html\")\n"
   ]
  },
  {
   "cell_type": "markdown",
   "metadata": {},
   "source": [
    "## (Done) To do Edson: add the data in the following cell to the csv file for the Aimsun specs"
   ]
  },
  {
   "cell_type": "code",
   "execution_count": 25,
   "metadata": {},
   "outputs": [],
   "source": [
    "diagnostic_csv = open(\"diagnostic_info.csv\", 'a') # append info to end of file\n",
    "diagnostic_csv.write(\"Number of stop signs: \" + str(stop_signs.__OBJECTID.count()) + \"\\n\")\n",
    "diagnostic_csv.write(\"Number of traffic lights: \" + str(traffic_lights.__OBJECTID.count()) + \"\\n\")\n",
    "diagnostic_csv.close()"
   ]
  },
  {
   "cell_type": "markdown",
   "metadata": {},
   "source": [
    "## (Done) |To do Edson: simplify if possible"
   ]
  },
  {
   "cell_type": "code",
   "execution_count": 34,
   "metadata": {},
   "outputs": [
    {
     "name": "stdout",
     "output_type": "stream",
     "text": [
      "\n",
      "Creating Kepler Map\n",
      "User Guide: https://github.com/keplergl/kepler.gl/blob/master/docs/keplergl-jupyter/user-guide.md\n",
      "Map saved to /Users/edson/Dropbox/Private Structured data collection/Data processing/Kepler maps/Network/Infrastructure/detectors.html!\n"
     ]
    }
   ],
   "source": [
    "def create_kepler_map(dir_sections, dir_detectors, years):\n",
    "    \"\"\"\n",
    "    Creates kepler map to be visualized in a notebook\n",
    "    \n",
    "    Parameters\n",
    "    :param dir_sections: directory of sections.shp file \n",
    "    :param dir_detectors: directory of location_year_detector.shp files for all years\n",
    "    \"\"\"\n",
    "    print(\"\\nCreating Kepler Map\")\n",
    "    sections_df = gpd.GeoDataFrame.from_file(dir_sections + \"sections.shp\")\n",
    "    sections_df = sections_df.to_crs(epsg=4326)\n",
    "    sections_df = sections_df[['eid', 'geometry']] # remove unnecessary data\n",
    "    sections_df = sections_df.rename(columns={'eid': 'Road_Id'})\n",
    "\n",
    "    kepler_map = KeplerGl(height=600)\n",
    "    kepler_map.add_data(data=sections_df, name='Road Sections')\n",
    "    for year in years:\n",
    "        shp_filename = \"pems_detectors.shp\" if year == 'PeMS' else (\"location_%s_detector.shp\" % year)\n",
    "\n",
    "        detector_df = gpd.GeoDataFrame.from_file(dir_detectors + shp_filename)\n",
    "        detector_df = detector_df.to_crs(epsg=4326)\n",
    "        id_name = 'Id' if 'Id' in detector_df.columns else 'ID'\n",
    "        detector_df = detector_df[[id_name, 'geometry']]\n",
    "        detector_df = detector_df.rename(columns={id_name: 'Detector_Id'})\n",
    "\n",
    "        kepler_map.add_data(data=detector_df, name='Detectors ' + year)\n",
    "\n",
    "    return kepler_map\n",
    "\n",
    "# import spatial_join as sj\n",
    "data_process_folder = dbx + \"/Private Structured data collection/Data processing/\"\n",
    "detectors_folder = data_process_folder + \"Raw/Demand/Flow_speed/detectors/\"\n",
    "sections_folder = data_process_folder + \"Raw/Network/Aimsun/\"\n",
    "\n",
    "# Visualize Fremont network with detectors\n",
    "detector_years = ['2013', '2015', '2017', '2019', 'PeMS']\n",
    "kepler_map = create_kepler_map(sections_folder, detectors_folder, detector_years)\n",
    "kepler_map.save_to_html(file_name=data_process_folder + \"Kepler maps/Network/Infrastructure/detectors.html\")\n"
   ]
  },
  {
   "cell_type": "markdown",
   "metadata": {},
   "source": [
    "## 3. Demand data"
   ]
  },
  {
   "cell_type": "markdown",
   "metadata": {},
   "source": [
    "#### Raw demand:\n",
    "- SFCTA demand data\n",
    "- Fremont neighborhood"
   ]
  },
  {
   "cell_type": "markdown",
   "metadata": {},
   "source": [
    "### 3.1 SFCTA demand data"
   ]
  },
  {
   "cell_type": "code",
   "execution_count": 20,
   "metadata": {},
   "outputs": [
    {
     "name": "stdout",
     "output_type": "stream",
     "text": [
      "Loading SFCTA trips...\n",
      "Shifting time...\n",
      "Get afternoon demand\n",
      "Clustering...\n",
      "Done\n"
     ]
    }
   ],
   "source": [
    "import datetime\n",
    "\n",
    "def get_sfcta_dataframe(int_int_path, int_ext_path, ext_int_path):\n",
    "    int_int_trips = pd.read_csv(int_int_path)\n",
    "    int_ext_trips = pd.read_csv(int_ext_path)\n",
    "    ext_int_trips = pd.read_csv(ext_int_path)\n",
    "\n",
    "    internal_trips = pd.DataFrame.merge(int_int_trips, int_ext_trips, 'outer')\n",
    "    internal_trips = pd.DataFrame.merge(internal_trips, ext_int_trips, 'outer')\n",
    "    internal_trips['start_time'] = internal_trips['start_time'].apply(lambda x: pd.Timestamp(x))\n",
    "    return internal_trips\n",
    "\n",
    "def shift_time(demand_df, column):\n",
    "    demand_df[column] += pd.to_timedelta(-8, unit='h')\n",
    "    demand_df[column] = demand_df[column].apply(lambda x: x.time())\n",
    "    \n",
    "def get_demand_between_time(demand_df, begin_time, end_time):\n",
    "    return demand_df[(demand_df.start_time >= begin_time) & (demand_df.start_time <= end_time)]\n",
    "    \n",
    "def cluster_demand_15min(df):\n",
    "    demand_df = df.copy()\n",
    "    demand_df['start_time'] = demand_df['start_time'].apply(lambda x: str(x.replace(minute=int(x.minute/15)*15,second = 0)))\n",
    "    return demand_df.groupby(['start_time']).size().reset_index(name='counts')\n",
    "\n",
    "SFCTA_path = data_path+ '/Data processing/Raw/Demand/OD demand/SFCTA demand data/'\n",
    "int_int_path = SFCTA_path + \"internal_fremont_legs.csv\"\n",
    "int_ext_path = SFCTA_path + \"starting_fremont_legs.csv\"\n",
    "ext_int_path = SFCTA_path + \"ending_fremont_legs.csv\"\n",
    "\n",
    "print(\"Loading SFCTA trips...\")\n",
    "internal_trips = get_sfcta_dataframe(int_int_path, int_ext_path, ext_int_path)\n",
    "print(\"Shifting time...\")\n",
    "shift_time(internal_trips, 'start_time')\n",
    "print(\"Get afternoon demand\")\n",
    "begin_time = datetime.time(14, 0, 0)\n",
    "end_time = datetime.time(20, 0, 0)\n",
    "afternoon_demand = get_demand_between_time(internal_trips, begin_time, end_time)\n",
    "print(\"Clustering...\")\n",
    "clustered_internal_trips = cluster_demand_15min(internal_trips)\n",
    "clustered_afternoon_trips = cluster_demand_15min(afternoon_demand)\n",
    "print('Done')"
   ]
  },
  {
   "cell_type": "code",
   "execution_count": 21,
   "metadata": {},
   "outputs": [
    {
     "data": {
      "image/png": "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\n",
      "text/plain": [
       "<Figure size 432x288 with 1 Axes>"
      ]
     },
     "metadata": {
      "needs_background": "light"
     },
     "output_type": "display_data"
    },
    {
     "data": {
      "image/png": "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\n",
      "text/plain": [
       "<Figure size 432x288 with 1 Axes>"
      ]
     },
     "metadata": {
      "needs_background": "light"
     },
     "output_type": "display_data"
    }
   ],
   "source": [
    "def print_demand_profile(df, every_nth, rot, title):\n",
    "    fig = plt.figure()\n",
    "    ax = fig.add_subplot(111)\n",
    "    ax.plot(df.start_time, df.counts)\n",
    "    for n, label in enumerate(ax.xaxis.get_ticklabels()):\n",
    "        if n % every_nth != 0:\n",
    "            label.set_visible(False)\n",
    "    plt.xticks(rotation=rot)\n",
    "    plt.title(title)\n",
    "    plt.xlabel(\"time frame\")\n",
    "    plt.ylabel(\"trip count\")\n",
    "    plt.show()\n",
    "    \n",
    "print_demand_profile(clustered_internal_trips, 8, 60, \"SFCTA demand profile full day\")\n",
    "print_demand_profile(clustered_afternoon_trips, 4, 45, \"SFCTA demand profile afternoon\")\n"
   ]
  },
  {
   "cell_type": "markdown",
   "metadata": {},
   "source": [
    "## To do:\n",
    "- do some check about the data using the processed data (especially demand profile and demand not assigned)"
   ]
  },
  {
   "cell_type": "code",
   "execution_count": 22,
   "metadata": {
    "scrolled": false
   },
   "outputs": [
    {
     "name": "stdout",
     "output_type": "stream",
     "text": [
      "User Guide: https://github.com/keplergl/kepler.gl/blob/master/docs/keplergl-jupyter/user-guide.md\n",
      "Map saved to /Users/theophile/Dropbox/Private Structured data collection/Data processing/Kepler maps/Demand/SFCTA_1600_1602.html!\n"
     ]
    },
    {
     "name": "stderr",
     "output_type": "stream",
     "text": [
      "/Users/theophile/miniconda3/envs/dev/lib/python3.7/site-packages/ipykernel_launcher.py:10: SettingWithCopyWarning: \n",
      "A value is trying to be set on a copy of a slice from a DataFrame.\n",
      "Try using .loc[row_indexer,col_indexer] = value instead\n",
      "\n",
      "See the caveats in the documentation: http://pandas.pydata.org/pandas-docs/stable/indexing.html#indexing-view-versus-copy\n",
      "  # Remove the CWD from sys.path while we load stuff.\n"
     ]
    }
   ],
   "source": [
    "from shapely.geometry import Point, LineString\n",
    "\n",
    "def fxy(start_lat, start_lng, end_lat, end_lng):\n",
    "    return LineString([(start_lng, start_lat), (end_lng, end_lat)])\n",
    "\n",
    "begin_time = datetime.time(16, 0, 0)\n",
    "end_time = datetime.time(16, 2, 0)\n",
    "\n",
    "if print_kepler:\n",
    "    afternoon_demand['geometry'] = afternoon_demand.apply(lambda x: fxy(x['start_node_lat'], x['start_node_lng'], x['end_node_lat'], x['end_node_lng']), axis=1)\n",
    "    afternoon_demand_gpd = gpd.GeoDataFrame(afternoon_demand, crs='epsg:4326', geometry = afternoon_demand.geometry)\n",
    "    demand_in_time = afternoon_demand_gpd[(afternoon_demand_gpd.start_time >= begin_time) & (afternoon_demand_gpd.start_time <= end_time)]\n",
    "\n",
    "    demand_map = KeplerGl(height=600)\n",
    "    demand_map.add_data(data = demand_in_time[['leg_id','geometry']], name=\"Demand\")\n",
    "    demand_map.save_to_html(file_name=data_path+\"/Data processing/Kepler maps/Demand/SFCTA_1600_1602.html\")\n",
    "    "
   ]
  },
  {
   "cell_type": "markdown",
   "metadata": {},
   "source": [
    "### 3.2 Transportation Analysis Zones"
   ]
  },
  {
   "cell_type": "markdown",
   "metadata": {},
   "source": [
    "#### External TAZs\n",
    "#### Neighborhoods\n",
    "#### Internal TAZs\n",
    "## To do"
   ]
  },
  {
   "cell_type": "code",
   "execution_count": 23,
   "metadata": {
    "scrolled": false
   },
   "outputs": [
    {
     "name": "stdout",
     "output_type": "stream",
     "text": [
      "User Guide: https://github.com/keplergl/kepler.gl/blob/master/docs/keplergl-jupyter/user-guide.md\n",
      "Map saved to /Users/theophile/Dropbox/Private Structured data collection/Data processing/Kepler maps/Demand/External_TAZs.html!\n"
     ]
    }
   ],
   "source": [
    "from shapely.geometry import Point, LineString\n",
    "\n",
    "if print_kepler:\n",
    "    path_taz = data_path + \"/Manual-made dataset (do not touch)/Demand/OD demand/External TAZ/External Centroid zones/\"\n",
    "    external_taz = to_gdf(path_taz + \"/ExternalCentroidZones.shp\")\n",
    "    external_taz_map = KeplerGl(height=600)\n",
    "    external_taz_map.add_data(data = external_taz, name=\"External TAZs\")\n",
    "    external_taz_map.save_to_html(file_name=data_path+\"/Data processing/Kepler maps/Demand/External_TAZs.html\")\n",
    "    \n",
    "## to do: neighborhood - internal TAZs (all togethers)\n",
    "    "
   ]
  },
  {
   "cell_type": "markdown",
   "metadata": {},
   "source": [
    "#### Centroid connections"
   ]
  },
  {
   "cell_type": "code",
   "execution_count": 24,
   "metadata": {},
   "outputs": [],
   "source": [
    "## to do from Ayush code"
   ]
  },
  {
   "cell_type": "markdown",
   "metadata": {},
   "source": [
    "### 3.3 OD demand\n",
    "\n",
    "\n",
    "## (Done, Question below) To do Edson: \n",
    "- put this in a function and debug (the issue might be an issue of ESPG)\n",
    "- Does putting in a function mean a python file or just a function here in the notebook"
   ]
  },
  {
   "cell_type": "code",
   "execution_count": 99,
   "metadata": {
    "scrolled": false
   },
   "outputs": [
    {
     "name": "stdout",
     "output_type": "stream",
     "text": [
      "Number of Vehicles Analyzed at 6 PM (Internal): 0\n",
      "Number of Vehicles Analyzed at 6 PM (External): 1263\n",
      "Number of Vehicles Analyzed at 6 PM (Total): 1263\n",
      "User Guide: https://github.com/keplergl/kepler.gl/blob/master/docs/keplergl-jupyter/user-guide.md\n"
     ]
    },
    {
     "data": {
      "application/vnd.jupyter.widget-view+json": {
       "model_id": "4bdc508d584b43698acac4799b9fbf4d",
       "version_major": 2,
       "version_minor": 0
      },
      "text/plain": [
       "KeplerGl(config={'version': 'v1', 'config': {'visState': {'filters': [], 'layers': [{'id': 'hrxjhuh', 'type': …"
      ]
     },
     "metadata": {},
     "output_type": "display_data"
    }
   ],
   "source": [
    "from shapely.geometry import Point, LineString\n",
    "\n",
    "def get_gdf(path):\n",
    "    gdf = gpd.GeoDataFrame.from_file(path)\n",
    "    gdf = gdf.set_geometry('geometry')\n",
    "    gdf = gdf.to_crs(epsg=4326)\n",
    "    return gdf\n",
    "\n",
    "pd.set_option('display.max_rows', None)\n",
    "pd.set_option('display.max_columns', None)\n",
    "pd.set_option('display.width', None)\n",
    "# pd.set_option('display.max_colwidth', -1)\n",
    "\n",
    "path_taz = data_path + \"/Data processing/Auxiliary files/Demand/OD demand/TAZ\"\n",
    "internal_taz = get_gdf(path_taz + \"/Internal_TAZ.shp\")\n",
    "# external_taz = get_gdf(path_taz + \"/External_TAZ.shp\")\n",
    "external_centroids = get_gdf(path_taz + \"/External_centroids.shp\")\n",
    "\n",
    "# Get gravity centers for all TAZs (internal and external)\n",
    "centroid_gravity = {}\n",
    "for i in range(len(internal_taz['geometry'])):\n",
    "    centroid_gravity[internal_taz['CentroidID'][i]] = internal_taz['geometry'][i].centroid\n",
    "for i in range(len(external_centroids['geometry'])):\n",
    "    centroid_gravity[external_centroids['CentroidID'][i]] = external_centroids['geometry'][i]\n",
    "\n",
    "od_demand_path = data_path + \"/Data processing/Temporary exports to be copied to processed data/Demand/OD demand/\" \n",
    "internal_od = pd.read_csv(od_demand_path + \"Internal OD grouped by timestamp.csv\")\n",
    "external_od = pd.read_csv(od_demand_path + \"External OD grouped by timestamp.csv\")\n",
    "\n",
    "# Remove centroids with no demand\n",
    "external_od = external_od[external_od[\"counts\"] != 0]\n",
    "internal_od = internal_od[internal_od[\"counts\"] != 0]\n",
    "\n",
    "# Fix analysis timestep at 6 PM\n",
    "internal_od_6_pm = internal_od[internal_od[\"dt_15\"]==\"18:00:00\"]\n",
    "external_od_6_pm = external_od[external_od[\"dt_15\"]==\"18:0\"]\n",
    "\n",
    "internal_od_6_pm = internal_od_6_pm.reset_index()\n",
    "external_od_6_pm = external_od_6_pm.reset_index()\n",
    "\n",
    "external_demand = gpd.GeoDataFrame(columns=['CentroidID_O', 'CentroidID_D', \"counts\", 'geometry'])\n",
    "for i in range(len(external_od_6_pm['CentroidID_O'])):\n",
    "    origin_id = external_od_6_pm['CentroidID_O'][i]\n",
    "    dest_id = external_od_6_pm['CentroidID_D'][i]\n",
    "    demand = external_od_6_pm['counts'][i]\n",
    "    external_demand.loc[i] = [origin_id, dest_id, demand, LineString([centroid_gravity[origin_id], centroid_gravity[dest_id]])]\n",
    "\n",
    "internal_demand = gpd.GeoDataFrame(columns=['CentroidID_O', 'CentroidID_D', \"counts\", 'geometry'])\n",
    "int_ext_demand = gpd.GeoDataFrame(columns=['CentroidID_O', 'CentroidID_D', \"counts\", 'geometry'])\n",
    "for i in range(len(internal_od_6_pm['CentroidID_O'])):\n",
    "    origin_id = internal_od_6_pm['CentroidID_O'][i]\n",
    "    dest_id = internal_od_6_pm['CentroidID_D'][i]\n",
    "    demand = internal_od_6_pm['counts'][i]\n",
    "    if origin_id in centroid_gravity and dest_id in centroid_gravity:\n",
    "        if \"ext\" not in origin_id and \"ext\" not in dest_id:\n",
    "            internal_demand.loc[i] = [origin_id, dest_id, demand, LineString([centroid_gravity[origin_id], centroid_gravity[dest_id]])]\n",
    "        else:\n",
    "                int_ext_demand.loc[i] = [origin_id, dest_id, demand, LineString([centroid_gravity[origin_id], centroid_gravity[dest_id]])]\n",
    "\n",
    "print(\"Number of Vehicles Analyzed at 6 PM (Internal):\", internal_od_6_pm.counts.sum())\n",
    "print(\"Number of Vehicles Analyzed at 6 PM (External):\", external_od_6_pm.counts.sum())\n",
    "print(\"Number of Vehicles Analyzed at 6 PM (Total):\", internal_od_6_pm.counts.sum() + external_od_6_pm.counts.sum())\n",
    "\n",
    "if print_kepler:\n",
    "    demand_6_pm_map = KeplerGl(height=600, config=dict_config[\"OD Demand\"])\n",
    "    demand_6_pm_map.add_data(data = external_centroids, name=\"External Centroids\")\n",
    "\n",
    "    int_batches = {\"Internal Demand\":[(0, 2), (2, 3), (3, 4), (4, 5), (5, float('inf'))]}\n",
    "    int_ext_batches = {\"Internal/External Demand\":[(0, 2), (5, 10), (10, 15), (15, float('inf'))]}\n",
    "    ext_batches = {\"External Demand\":[(0, 10), (10, 50), (50, 250), (250, float('inf'))]}\n",
    "    dem_map = {\"Internal Demand\":internal_demand, \"Internal/External Demand\":int_ext_demand, \"External Demand\":external_demand}\n",
    "\n",
    "    for batch_list in [int_batches, int_ext_batches, ext_batches]:\n",
    "        for b_name, batches in batch_list.items():\n",
    "            for batch in batches:\n",
    "                demand_6_pm_map.add_data(data = dem_map[b_name][(dem_map[b_name]['counts'] >= batch[0])\\\n",
    "                                            & (dem_map[b_name]['counts'] < batch[1])],\\\n",
    "                                     name=\"{} in [{},{}) veh/15 min\".format(b_name, batch[0], batch[1]))\n",
    "\n",
    "    demand_6_pm_map.add_data(data = internal_taz, name=\"Internal TAZs\")\n",
    "\n",
    "    # demand_6_pm_map.save_to_html(file_name=data_path+\"/Data processing/Kepler maps/Demand/6pm_demand_batches_map.html\")\n",
    "\n",
    "demand_6_pm_map"
   ]
  },
  {
   "cell_type": "code",
   "execution_count": null,
   "metadata": {},
   "outputs": [],
   "source": [
    "# Serializing KeplerGl config for 7_6pm_demand_batches_map.html\n",
    "'''\n",
    "write_configs(dict_config, \"OD Demand\", fremont_map.config)\n",
    "dict_config = get_configs()\n",
    "'''"
   ]
  },
  {
   "cell_type": "code",
   "execution_count": null,
   "metadata": {},
   "outputs": [],
   "source": []
  },
  {
   "cell_type": "markdown",
   "metadata": {},
   "source": [
    "## 4. Traffic data"
   ]
  },
  {
   "cell_type": "markdown",
   "metadata": {},
   "source": [
    "### 4.1 Flow data\n",
    "\n",
    "## To do"
   ]
  },
  {
   "cell_type": "markdown",
   "metadata": {},
   "source": [
    "## To do Edson:\n",
    "- for all detectors in 2019 save the flow profile for the entire day and for the afternoon (1pm-8pm). "
   ]
  },
  {
   "cell_type": "code",
   "execution_count": 53,
   "metadata": {},
   "outputs": [
    {
     "data": {
      "image/png": "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\n",
      "text/plain": [
       "<Figure size 432x288 with 1 Axes>"
      ]
     },
     "metadata": {
      "needs_background": "light"
     },
     "output_type": "display_data"
    }
   ],
   "source": [
    "#2019 city detector info\n",
    "\n",
    "# city_detector_geo = pd.read_csv(data_path + '/Data processing/Auxiliary files/Network/Infrastructure/Detectors/Detectors_old/detectors_2019.csv')\n",
    "\n",
    "# city detector flow info\n",
    "city_detector_flow = pd.read_csv(data_path + '/Data processing/Auxiliary files/Demand/Flow_speed/flow_processed_2019.csv')\n",
    "\n",
    "\n",
    "def city_detector_plot(city_detector_id):\n",
    "    \"\"\"\n",
    "    Plot the demand profile specified city detector ID (integer with format 2019XX)\n",
    "    \"\"\"\n",
    "    curr_detector_flow = city_detector_flow[city_detector_flow['Detector_Id'] == city_detector_id]\n",
    "    curr_detector_flow = curr_detector_flow.transpose()[5:]\n",
    "    curr_detector_flow['dt_15'] = curr_detector_flow.index\n",
    "    curr_detector_flow.index = range(len(curr_detector_flow))\n",
    "    curr_detector_flow.columns = ['count', 'dt_15']\n",
    "    cols = curr_detector_flow.columns.tolist()\n",
    "    cols = cols[-1:] + cols[:-1]\n",
    "    curr_detector_flow = curr_detector_flow[cols]\n",
    "    curr_detector_flow = curr_detector_flow.rename(columns={'count': 'Flow (Veh/15min)'})\n",
    "    fig = plt.figure()\n",
    "    ax = fig.add_subplot(121)\n",
    "    ax.plot(curr_detector_flow.dt_15, curr_detector_flow['Flow (Veh/15min)'])\n",
    "\n",
    "#     ax1 = fig.add_subplot(122)\n",
    "#     one_pm = 13*4\n",
    "#     eight_pm = 20*4\n",
    "#     print(curr_detector_flow.dt_15[one_pm: eight_pm])\n",
    "#     print(curr_detector_flow['Flow (Veh/15min)'][one_pm: eight_pm])\n",
    "#     ax1.plot(curr_detector_flow.dt_15[one_pm: eight_pm], curr_detector_flow['Flow (Veh/15min)'][one_pm: eight_pm])\n",
    "    \n",
    "    every_nth = 8\n",
    "    for n, label in enumerate(ax.xaxis.get_ticklabels()):\n",
    "        if n % every_nth != 0:\n",
    "            label.set_visible(False)\n",
    "    plt.xticks(rotation=60)\n",
    "    plt.title(\"detector \" + str(city_detector_id) +\" trip profile\")\n",
    "    plt.xlabel(\"time frame\")\n",
    "    plt.ylabel(\"trip count\")\n",
    "    plt.show()\n",
    "    \n",
    "city_detector_plot(201914)"
   ]
  },
  {
   "cell_type": "markdown",
   "metadata": {},
   "source": [
    "### 4.2 Speed data\n",
    "\n",
    "## To do\n",
    "\n",
    "### 4.3 Trajectory data"
   ]
  },
  {
   "cell_type": "code",
   "execution_count": 21,
   "metadata": {},
   "outputs": [],
   "source": [
    "vehSectTraj = pd.read_csv(data_path + '/Aimsun/Outputs/vehSectTrajectory.csv')\n",
    "\n",
    "vehSectTraj_temp = vehSectTraj.groupby(\"sectionId\").mean()\n",
    "section_sim_data = pd.merge(sections, vehSectTraj_temp,\n",
    "                        left_on='id', right_on='sectionId', how='left', sort=True)"
   ]
  },
  {
   "cell_type": "code",
   "execution_count": 22,
   "metadata": {},
   "outputs": [
    {
     "name": "stdout",
     "output_type": "stream",
     "text": [
      "User Guide: https://github.com/keplergl/kepler.gl/blob/master/docs/keplergl-jupyter/user-guide.md\n"
     ]
    },
    {
     "data": {
      "application/vnd.jupyter.widget-view+json": {
       "model_id": "ff6ece6dbcf9469cad4cfa403aac304f",
       "version_major": 2,
       "version_minor": 0
      },
      "text/plain": [
       "KeplerGl(data={'Sections without traffic': {'index': [3, 4, 20, 21, 22, 23, 24, 25, 33, 35, 36, 37, 38, 39, 40…"
      ]
     },
     "metadata": {},
     "output_type": "display_data"
    }
   ],
   "source": [
    "trajectory_map = KeplerGl(height=800)\n",
    "trajectory_map.add_data(data=get_null_rows(section_sim_data, section_sim_data.travelTime), name = \"Sections without traffic\")\n",
    "trajectory_map.add_data(data=get_not_null_rows(section_sim_data, section_sim_data.travelTime), name = \"Sections with traffic\")\n",
    "section_sim_data.crs = 'epsg:4326'\n",
    "trajectory_map"
   ]
  },
  {
   "cell_type": "markdown",
   "metadata": {},
   "source": [
    "### 4.4 Travel time data\n",
    "\n",
    "## To do\n",
    "from Travel time pipeline"
   ]
  },
  {
   "cell_type": "markdown",
   "metadata": {},
   "source": [
    "## 5. Validation data\n",
    "\n",
    "## To do: add the biplots here\n",
    "from Aimsun analyser pipeline"
   ]
  },
  {
   "cell_type": "markdown",
   "metadata": {},
   "source": [
    "## Key performance indicators\n",
    "\n",
    "## To do:\n",
    "- travel time distribution\n",
    "- isochrone\n",
    "\n",
    "from KPI pipeline"
   ]
  },
  {
   "cell_type": "markdown",
   "metadata": {},
   "source": [
    "## The following is to do later"
   ]
  },
  {
   "cell_type": "markdown",
   "metadata": {},
   "source": [
    "## Open Street Map"
   ]
  },
  {
   "cell_type": "code",
   "execution_count": null,
   "metadata": {},
   "outputs": [],
   "source": [
    "import ogr\n",
    "\n",
    "driver=ogr.GetDriverByName('OSM')\n",
    "path_osm = data_path + \"/Raw data (do not touch)/Network/Map/OSM/\"\n",
    "\n",
    "\n",
    "data = driver.Open(path_osm + 'map1111.osm')\n",
    "\n",
    "for i in range(data.GetLayerCount()):\n",
    "    print(data.GetLayerByIndex(i).GetName())\n",
    "    \n",
    "layer = data.GetLayer('points')\n",
    "\n",
    "features=[x for x in layer]\n",
    "print(len(features))\n",
    "\n",
    "data_list=[]\n",
    "i = 0\n",
    "for feature in features:\n",
    "    i = i + 1\n",
    "    data=feature.ExportToJson(as_object=True)\n",
    "    coords=data['geometry']['coordinates']\n",
    "    shapely_geo=Point(coords[0],coords[1])\n",
    "    name=data['properties']['name']\n",
    "    highway=data['properties']['highway']\n",
    "    print(highway)\n",
    "    other_tags=data['properties']['other_tags']\n",
    "    if other_tags and 'amenity' in other_tags:\n",
    "        feat=[x for x in other_tags.split(',') if 'amenity' in x][0]\n",
    "        amenity=feat[feat.rfind('>')+2:feat.rfind('\"')]\n",
    "    else:\n",
    "        amenity=None\n",
    "    data_list.append([name,highway,amenity,shapely_geo])\n",
    "    if i > 20:\n",
    "        break\n",
    "# gdf=gpd.GeoDataFrame(data_list,columns=['Name','Highway','Amenity','geometry'],crs={'init': 'epsg:4326'}).to_crs(epsg=3310)"
   ]
  }
 ],
 "metadata": {
  "kernelspec": {
   "display_name": "Python 3",
   "language": "python",
   "name": "python3"
  },
  "language_info": {
   "codemirror_mode": {
    "name": "ipython",
    "version": 3
   },
   "file_extension": ".py",
   "mimetype": "text/x-python",
   "name": "python",
   "nbconvert_exporter": "python",
   "pygments_lexer": "ipython3",
   "version": "3.7.6"
  }
 },
 "nbformat": 4,
 "nbformat_minor": 4
}
