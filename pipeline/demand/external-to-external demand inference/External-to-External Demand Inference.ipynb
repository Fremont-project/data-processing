{
 "cells": [
  {
   "cell_type": "markdown",
   "metadata": {},
   "source": [
    "# External-to-External Demand Inference"
   ]
  },
  {
   "cell_type": "markdown",
   "metadata": {},
   "source": [
    "### Goal of the notebook\n",
    "This notebook infers the external-to-external demand from the Streetlight Data SR262 link analysis. Please read the README.md for the manual preprocessing before running this notebook. After the preprocessing, we can get the demand between some pairs of external centroids in the entire afternoon. Our goal is to estimate the demand for every 15 minutes based on the distribution of the flow measured by the flow detectors. \n",
    "\n",
    "***\n",
    "**Outputs:** \n",
    "\n",
    "OD matrix:\n",
    "- ext_ext_OD.csv\n",
    "\n",
    "**Inputs:** \n",
    "\n",
    "Streetlight Raw Data:\n",
    "- SR_262_Streetlight.pdf, available [here](https://www.dropbox.com/s/zg5mzys0nb2w7k1/SR_262_Streetlight.pdf?dl=0): \n",
    "\n",
    "Preprocessed external-to-external demand in the afternoon:\n",
    "- ext_ext_OD_AM_PM.csv\n",
    "\n",
    "Processed flow (both City and PeMS):\n",
    "- Flow_processed_all.csv\n",
    "\n",
    "**Dependent scripts:** \n",
    "None\n",
    "\n",
    "**Useful Information**\n",
    "- Email from the City of Fremont explaining the input file, available [here](https://www.dropbox.com/s/m6bwbxpu3czrrh4/email.txt?dl=0) \n",
    "\n",
    "***\n",
    "**Work done by the code:** \n",
    "- Estimating the distribution of demand based on flow measurement [Example](#section_ID)"
   ]
  },
  {
   "cell_type": "code",
   "execution_count": 1,
   "metadata": {},
   "outputs": [],
   "source": [
    "# Root path of Fremont Dropbox\n",
    "import os\n",
    "import sys\n",
    "# We let this notebook to know where to look for fremontdropbox module\n",
    "module_path = os.path.abspath(os.path.join('../..'))\n",
    "if module_path not in sys.path:\n",
    "    sys.path.append(module_path)\n",
    "\n",
    "from fremontdropbox import get_dropbox_location\n",
    "\n",
    "path_dropbox = get_dropbox_location()"
   ]
  },
  {
   "cell_type": "code",
   "execution_count": null,
   "metadata": {},
   "outputs": [],
   "source": []
  }
 ],
 "metadata": {
  "kernelspec": {
   "display_name": "Python 3",
   "language": "python",
   "name": "python3"
  },
  "language_info": {
   "codemirror_mode": {
    "name": "ipython",
    "version": 3
   },
   "file_extension": ".py",
   "mimetype": "text/x-python",
   "name": "python",
   "nbconvert_exporter": "python",
   "pygments_lexer": "ipython3",
   "version": "3.7.3"
  }
 },
 "nbformat": 4,
 "nbformat_minor": 2
}
