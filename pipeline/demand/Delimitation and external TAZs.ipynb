{
 "cells": [
  {
   "cell_type": "code",
   "execution_count": 1,
   "metadata": {},
   "outputs": [],
   "source": [
    "## To do: Write to dos here"
   ]
  },
  {
   "cell_type": "code",
   "execution_count": 2,
   "metadata": {},
   "outputs": [],
   "source": [
    "# --- Global variables\n",
    "\n",
    "# Setting up the Coordinate Reference Systems up front in the necessary format.\n",
    "crs_degree = {'init': 'epsg:4326'} # CGS_WGS_1984 (what the GPS uses)\n",
    "\n",
    "# --- Paths\n",
    "\n",
    "# Root path of Fremont Dropbox\n",
    "import os\n",
    "import sys\n",
    "# We let this notebook to know where to look for fremontdropbox module\n",
    "module_path = os.path.abspath(os.path.join('../..'))\n",
    "if module_path not in sys.path:\n",
    "    sys.path.append(module_path)\n",
    "    \n",
    "from fremontdropbox import get_dropbox_location\n",
    "# Root path of the Dropbox business account\n",
    "dbx = get_dropbox_location()\n",
    "\n",
    "# Temporary! Location of the folder where the restructuring is currently happening\n",
    "data_path = dbx + '/Private Structured data collection'"
   ]
  },
  {
   "cell_type": "code",
   "execution_count": 3,
   "metadata": {},
   "outputs": [],
   "source": [
    "import geopandas as gpd\n",
    "from shapely import geometry"
   ]
  },
  {
   "cell_type": "markdown",
   "metadata": {},
   "source": [
    "## 1. Creation of the project delimitation"
   ]
  },
  {
   "cell_type": "code",
   "execution_count": 4,
   "metadata": {},
   "outputs": [
    {
     "name": "stdout",
     "output_type": "stream",
     "text": [
      "Box delimitation: (-121.95676186899999, -121.89348666299998, 37.48509600500006, 37.55466923100005)\n"
     ]
    }
   ],
   "source": [
    "## create the project delimitation\n",
    "\n",
    "# this code creates the project delimitation from a set of points\n",
    "p = []\n",
    "p.append((-121.94277062699996, 37.55273259000006))\n",
    "p.append((-121.94099807399999, 37.554268507000074))\n",
    "p.append((-121.91790942699998, 37.549823434000075))\n",
    "p.append((-121.89348666299998, 37.52770136500004))\n",
    "p.append((-121.90056572499998, 37.52292299800007))\n",
    "p.append((-121.90817571699995, 37.52416183400004))\n",
    "p.append((-121.91252749099999, 37.51845069500007))\n",
    "p.append((-121.91349347899995, 37.513972023000065))\n",
    "p.append((-121.90855417099999, 37.503837324000074))\n",
    "p.append((-121.91358547299996, 37.50097863000008))\n",
    "p.append((-121.90798018999999, 37.49080413200005))\n",
    "p.append((-121.91894942199997, 37.48791568200005))\n",
    "p.append((-121.92029048799998, 37.488706567000065))\n",
    "p.append((-121.93070953799997, 37.48509600500006))\n",
    "p.append((-121.93254686299997, 37.48864173700008))\n",
    "p.append((-121.94079404499996, 37.50416395900004))\n",
    "p.append((-121.94569804899999, 37.51332606200003))\n",
    "p.append((-121.94918207899997, 37.520371545000046))\n",
    "p.append((-121.95305006999996, 37.52804520800004))\n",
    "p.append((-121.953966735, 37.53272020000003))\n",
    "p.append((-121.95428756799998, 37.53817435800005))\n",
    "p.append((-121.95506236799997, 37.54107322100003))\n",
    "p.append((-121.95676186899999, 37.54656695700004))\n",
    "p.append((-121.95529950799994, 37.54980786700003))\n",
    "p.append((-121.95261192399994, 37.550479763000055))\n",
    "p.append((-121.94988481799999, 37.55277211300006))\n",
    "p.append((-121.94613010599994, 37.55466923100005))\n",
    "p.append((-121.94277062699996, 37.55273259000006))\n",
    "\n",
    "delimitation_poly = geometry.Polygon([[po[0], po[1]] for po in p])\n",
    "\n",
    "project_del = gpd.GeoDataFrame({'Type': ['Delimitation','Box'], 'geometry': [delimitation_poly, delimitation_poly.envelope]})\n",
    "\n",
    "lat = [i[0] for i in delimitation_poly.envelope.exterior.coords]\n",
    "lng = [i[1] for i in delimitation_poly.envelope.exterior.coords]\n",
    "lat_min = min(lat)\n",
    "lat_max = max(lat)\n",
    "lng_min = min(lng)\n",
    "lng_max = max(lng)\n",
    "print(\"Box delimitation: \" + str((lat_min, lat_max, lng_min, lng_max)))\n",
    "\n",
    "project_del.crs = 'epsg:4326'\n",
    "project_del_path = dbx + \"/Private Structured data collection/Manual-made dataset (do not touch)/Network/Map/Project Delimitation/Project_delimitation.shp\"\n",
    "project_del.to_file(project_del_path)"
   ]
  },
  {
   "cell_type": "markdown",
   "metadata": {},
   "source": [
    "## download the OSM network\n",
    "\n",
    "See https://github.com/jwass/geopandas_osm\n",
    "See http://overpass-turbo.eu\n",
    "See https://automating-gis-processes.github.io/CSC18/course-info/Installing_Anacondas_GIS.html\n",
    "See https://github.com/gboeing/osmnx-examples/blob/master/notebooks/03-example-osm-place-network.ipynb\n",
    "See https://automating-gis-processes.github.io/CSC18/lessons/L3/retrieve-osm-data.html\n",
    "\n",
    "\n",
    "### Add download of public traces + historical network data\n",
    "\n",
    "### Parse OSM network to check:\n",
    "- if roads have speed limits, capacity, and cost functions\n",
    "- if they are traffic lights and stop signs information\n",
    "- if they are points of interest\n",
    "- turn restrictions\n",
    "- historical data (when the road sections has been created)\n",
    "\n",
    "### Then convert OSM to shapefile and render it with Kepler.gl"
   ]
  },
  {
   "cell_type": "code",
   "execution_count": null,
   "metadata": {},
   "outputs": [],
   "source": []
  },
  {
   "cell_type": "code",
   "execution_count": null,
   "metadata": {},
   "outputs": [],
   "source": [
    "## external centroids with OSM network and closer delimitation"
   ]
  },
  {
   "cell_type": "code",
   "execution_count": null,
   "metadata": {},
   "outputs": [],
   "source": [
    "## Create the external TAZs using Google Maps API"
   ]
  },
  {
   "cell_type": "code",
   "execution_count": null,
   "metadata": {},
   "outputs": [],
   "source": [
    "## Get google maps POIs"
   ]
  },
  {
   "cell_type": "code",
   "execution_count": null,
   "metadata": {},
   "outputs": [],
   "source": [
    "## Get neighborhood information + other shapefile data"
   ]
  },
  {
   "cell_type": "code",
   "execution_count": null,
   "metadata": {},
   "outputs": [],
   "source": [
    "## Do k-mean clustering to create internal centroids"
   ]
  },
  {
   "cell_type": "code",
   "execution_count": null,
   "metadata": {},
   "outputs": [],
   "source": [
    "## Get boundaries of internal TAZs"
   ]
  },
  {
   "cell_type": "code",
   "execution_count": null,
   "metadata": {},
   "outputs": [],
   "source": [
    "## Create TAZs"
   ]
  },
  {
   "cell_type": "code",
   "execution_count": null,
   "metadata": {},
   "outputs": [],
   "source": [
    "## Create centroid connections"
   ]
  },
  {
   "cell_type": "code",
   "execution_count": null,
   "metadata": {},
   "outputs": [],
   "source": [
    "## Create files for Aimsun with centroid connections and centroid and OSM network"
   ]
  },
  {
   "cell_type": "markdown",
   "metadata": {},
   "source": [
    "See [Aimsun documentation to create the layers](https://www.aimsun.com/tech_notes/gis-import-1/)"
   ]
  },
  {
   "cell_type": "code",
   "execution_count": null,
   "metadata": {},
   "outputs": [],
   "source": [
    "## Download Google Maps tiles corresponding to the project"
   ]
  },
  {
   "cell_type": "code",
   "execution_count": null,
   "metadata": {},
   "outputs": [],
   "source": []
  }
 ],
 "metadata": {
  "kernelspec": {
   "display_name": "Python 3",
   "language": "python",
   "name": "python3"
  },
  "language_info": {
   "codemirror_mode": {
    "name": "ipython",
    "version": 3
   },
   "file_extension": ".py",
   "mimetype": "text/x-python",
   "name": "python",
   "nbconvert_exporter": "python",
   "pygments_lexer": "ipython3",
   "version": "3.7.4"
  }
 },
 "nbformat": 4,
 "nbformat_minor": 4
}
