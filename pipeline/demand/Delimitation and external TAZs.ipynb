{
 "cells": [
  {
   "cell_type": "code",
   "execution_count": 1,
   "metadata": {},
   "outputs": [],
   "source": [
    "## To do: Write to dos here"
   ]
  },
  {
   "cell_type": "code",
   "execution_count": 2,
   "metadata": {},
   "outputs": [],
   "source": [
    "# box around the project\n",
    "\n",
    "lat_min = -121.9544\n",
    "lat_max = -121.9089\n",
    "lng_min = 37.4907\n",
    "lng_max = 37.5524"
   ]
  },
  {
   "cell_type": "code",
   "execution_count": 4,
   "metadata": {},
   "outputs": [
    {
     "name": "stdout",
     "output_type": "stream",
     "text": [
      "POLYGON ((-121.9544 37.4907, -121.9544 37.5524, -121.9089 37.5524, -121.9089 37.4907, -121.9544 37.4907))\n"
     ]
    }
   ],
   "source": [
    "from shapely import geometry\n",
    "\n",
    "p1 = geometry.Point(lat_min,lng_min)\n",
    "p2 = geometry.Point(lat_min,lng_max)\n",
    "p3 = geometry.Point(lat_max,lng_min)\n",
    "p4 = geometry.Point(lat_max,lng_max)\n",
    "\n",
    "pointList = [p1, p2, p4, p3, p1]\n",
    "bounding_box = geometry.Polygon([[p.x, p.y] for p in pointList])\n",
    "\n",
    "print(bounding_box.wkt) "
   ]
  },
  {
   "cell_type": "markdown",
   "metadata": {},
   "source": [
    "## download the OSM network\n",
    "\n",
    "See https://github.com/jwass/geopandas_osm\n",
    "See http://overpass-turbo.eu\n",
    "See https://automating-gis-processes.github.io/CSC18/course-info/Installing_Anacondas_GIS.html\n",
    "See https://github.com/gboeing/osmnx-examples/blob/master/notebooks/03-example-osm-place-network.ipynb\n",
    "See https://automating-gis-processes.github.io/CSC18/lessons/L3/retrieve-osm-data.html\n",
    "\n",
    "\n",
    "### Add download of public traces + historical network data"
   ]
  },
  {
   "cell_type": "code",
   "execution_count": null,
   "metadata": {},
   "outputs": [],
   "source": [
    "## create the closer delimitation"
   ]
  },
  {
   "cell_type": "code",
   "execution_count": null,
   "metadata": {},
   "outputs": [],
   "source": [
    "## external centroids with OSM network and closer delimitation"
   ]
  },
  {
   "cell_type": "code",
   "execution_count": null,
   "metadata": {},
   "outputs": [],
   "source": [
    "## Create the external TAZs using Google Maps API"
   ]
  },
  {
   "cell_type": "code",
   "execution_count": null,
   "metadata": {},
   "outputs": [],
   "source": [
    "## Get google maps POIs"
   ]
  },
  {
   "cell_type": "code",
   "execution_count": null,
   "metadata": {},
   "outputs": [],
   "source": [
    "## Get neighborhood information + other shapefile data"
   ]
  },
  {
   "cell_type": "code",
   "execution_count": null,
   "metadata": {},
   "outputs": [],
   "source": [
    "## Do k-mean clustering to create internal centroids"
   ]
  },
  {
   "cell_type": "code",
   "execution_count": null,
   "metadata": {},
   "outputs": [],
   "source": [
    "## Get boundaries"
   ]
  },
  {
   "cell_type": "code",
   "execution_count": null,
   "metadata": {},
   "outputs": [],
   "source": [
    "## Create TAZs"
   ]
  },
  {
   "cell_type": "code",
   "execution_count": null,
   "metadata": {},
   "outputs": [],
   "source": [
    "## Create centroid connections"
   ]
  },
  {
   "cell_type": "code",
   "execution_count": null,
   "metadata": {},
   "outputs": [],
   "source": [
    "## Create files for Aimsun with centroid connections and centroid and OSM network"
   ]
  },
  {
   "cell_type": "markdown",
   "metadata": {},
   "source": [
    "See [Aimsun documentation to create the layers](https://www.aimsun.com/tech_notes/gis-import-1/)"
   ]
  },
  {
   "cell_type": "code",
   "execution_count": null,
   "metadata": {},
   "outputs": [],
   "source": [
    "## Download Google Maps tiles corresponding to the project"
   ]
  },
  {
   "cell_type": "code",
   "execution_count": null,
   "metadata": {},
   "outputs": [],
   "source": []
  }
 ],
 "metadata": {
  "kernelspec": {
   "display_name": "Python 3",
   "language": "python",
   "name": "python3"
  },
  "language_info": {
   "codemirror_mode": {
    "name": "ipython",
    "version": 3
   },
   "file_extension": ".py",
   "mimetype": "text/x-python",
   "name": "python",
   "nbconvert_exporter": "python",
   "pygments_lexer": "ipython3",
   "version": "3.7.6"
  }
 },
 "nbformat": 4,
 "nbformat_minor": 4
}
