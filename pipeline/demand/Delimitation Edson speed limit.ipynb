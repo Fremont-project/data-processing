{
 "cells": [
  {
   "cell_type": "markdown",
   "metadata": {},
   "source": [
    "## To do Edson speed limit: \n",
    "- Import Aimsun shapefile\n",
    "- Change the speed of off-ramp\n",
    "- From [Google Maps API](https://developers.google.com/maps/documentation/roads/speed-limits), get speed limit on major roads:\n",
    "    - Major road in Fremont (How to select them in Aimsun: use their name in Aimsun)\n",
    "    - Highway and on/off-ramp (How to select them in Aimsun: road with speed limit >= 100 km/h)\n",
    "- save the new roads somewhere as a shapefile\n",
    "- (later) import the shapefile inside Aimsun ([see link](https://www.aimsun.com/tech_notes/gis-import-1/))"
   ]
  },
  {
   "cell_type": "code",
   "execution_count": null,
   "metadata": {},
   "outputs": [],
   "source": []
  },
  {
   "cell_type": "markdown",
   "metadata": {},
   "source": [
    "## To do Edson external TAZs:\n",
    "- create a external demand delimitation:\n",
    "    - load SFCTA data as Geopandas point (one point = one origin or one destination)\n",
    "    - Get convex hull of the point\n",
    "    - Use the convex hull (+ buffer) as the external demand delimation\n",
    "- create external centroids:\n",
    "    - select road with no fnode and capacity above 800\n",
    "    - create a point at the end of all selected road\n",
    "    - plot the points, get a list of points to remove visualy\n",
    "- create external TAZs:\n",
    "    - create a mesh a points inside the external demand delimitation and outside the internal demand delimitation\n",
    "    - use a Direction API (maybe Here direction):\n",
    "        - for every mesh point:\n",
    "            - Query path from mesh point to center of the project area\n",
    "            - Find the closest external centroid to the path. Test that all path are not to far from existing external centroid --> if not, we might be missing one external centroid.\n",
    "            - Associate the external centroid to the mesh point.\n",
    "        - create external TAZ from mesh of points (if you reach point, Theo has already done it for internal TAZs)"
   ]
  },
  {
   "cell_type": "code",
   "execution_count": null,
   "metadata": {},
   "outputs": [],
   "source": []
  },
  {
   "cell_type": "code",
   "execution_count": null,
   "metadata": {},
   "outputs": [],
   "source": []
  },
  {
   "cell_type": "code",
   "execution_count": null,
   "metadata": {},
   "outputs": [],
   "source": [
    "## Ignore the following"
   ]
  },
  {
   "cell_type": "code",
   "execution_count": 1,
   "metadata": {},
   "outputs": [],
   "source": [
    "# --- Global variables\n",
    "\n",
    "# Setting up the Coordinate Reference Systems up front in the necessary format.\n",
    "crs_degree = {'init': 'epsg:4326'} # CGS_WGS_1984 (what the GPS uses)\n",
    "\n",
    "# --- Paths\n",
    "\n",
    "# Root path of Fremont Dropbox\n",
    "import os\n",
    "import sys\n",
    "# We let this notebook to know where to look for fremontdropbox module\n",
    "module_path = os.path.abspath(os.path.join('../..'))\n",
    "if module_path not in sys.path:\n",
    "    sys.path.append(module_path)\n",
    "    \n",
    "from fremontdropbox import get_dropbox_location\n",
    "# Root path of the Dropbox business account\n",
    "dbx = get_dropbox_location()\n",
    "\n",
    "# Temporary! Location of the folder where the restructuring is currently happening\n",
    "data_path = dbx + '/Private Structured data collection'"
   ]
  },
  {
   "cell_type": "code",
   "execution_count": 2,
   "metadata": {},
   "outputs": [],
   "source": [
    "import geopandas as gpd\n",
    "from shapely import geometry"
   ]
  },
  {
   "cell_type": "markdown",
   "metadata": {},
   "source": [
    "## 1. Creation of the project delimitation"
   ]
  },
  {
   "cell_type": "code",
   "execution_count": 3,
   "metadata": {},
   "outputs": [
    {
     "name": "stdout",
     "output_type": "stream",
     "text": [
      "Box delimitation: (-121.95676186899999, -121.89348666299998, 37.48509600500006, 37.55466923100005)\n"
     ]
    }
   ],
   "source": [
    "## create the project delimitation\n",
    "\n",
    "# this code creates the project delimitation from a set of points\n",
    "p = []\n",
    "p.append((-121.94277062699996, 37.55273259000006))\n",
    "p.append((-121.94099807399999, 37.554268507000074))\n",
    "p.append((-121.91790942699998, 37.549823434000075))\n",
    "p.append((-121.89348666299998, 37.52770136500004))\n",
    "p.append((-121.90056572499998, 37.52292299800007))\n",
    "p.append((-121.90817571699995, 37.52416183400004))\n",
    "p.append((-121.91252749099999, 37.51845069500007))\n",
    "p.append((-121.91349347899995, 37.513972023000065))\n",
    "p.append((-121.90855417099999, 37.503837324000074))\n",
    "p.append((-121.91358547299996, 37.50097863000008))\n",
    "p.append((-121.90798018999999, 37.49080413200005))\n",
    "p.append((-121.91894942199997, 37.48791568200005))\n",
    "p.append((-121.92029048799998, 37.488706567000065))\n",
    "p.append((-121.93070953799997, 37.48509600500006))\n",
    "p.append((-121.93254686299997, 37.48864173700008))\n",
    "p.append((-121.94079404499996, 37.50416395900004))\n",
    "p.append((-121.94569804899999, 37.51332606200003))\n",
    "p.append((-121.94918207899997, 37.520371545000046))\n",
    "p.append((-121.95305006999996, 37.52804520800004))\n",
    "p.append((-121.953966735, 37.53272020000003))\n",
    "p.append((-121.95428756799998, 37.53817435800005))\n",
    "p.append((-121.95506236799997, 37.54107322100003))\n",
    "p.append((-121.95676186899999, 37.54656695700004))\n",
    "p.append((-121.95529950799994, 37.54980786700003))\n",
    "p.append((-121.95261192399994, 37.550479763000055))\n",
    "p.append((-121.94988481799999, 37.55277211300006))\n",
    "p.append((-121.94613010599994, 37.55466923100005))\n",
    "p.append((-121.94277062699996, 37.55273259000006))\n",
    "\n",
    "delimitation_poly = geometry.Polygon([[po[0], po[1]] for po in p])\n",
    "\n",
    "project_del = gpd.GeoDataFrame({'Type': ['Delimitation','Box'], 'geometry': [delimitation_poly, delimitation_poly.envelope]})\n",
    "\n",
    "lat = [i[0] for i in delimitation_poly.envelope.exterior.coords]\n",
    "lng = [i[1] for i in delimitation_poly.envelope.exterior.coords]\n",
    "lat_min = min(lat)\n",
    "lat_max = max(lat)\n",
    "lng_min = min(lng)\n",
    "lng_max = max(lng)\n",
    "print(\"Box delimitation: \" + str((lat_min, lat_max, lng_min, lng_max)))\n",
    "\n",
    "project_del.crs = 'epsg:4326'\n",
    "project_del_path = dbx + \"/Private Structured data collection/Manual-made dataset (do not touch)/Network/Map/Project Delimitation/Project_delimitation.shp\"\n",
    "project_del.to_file(project_del_path)\n"
   ]
  },
  {
   "cell_type": "markdown",
   "metadata": {},
   "source": [
    "## download the OSM network\n",
    "\n",
    "- See https://github.com/jwass/geopandas_osm\n",
    "- See http://overpass-turbo.eu\n",
    "- See https://automating-gis-processes.github.io/CSC18/course-info/Installing_Anacondas_GIS.html\n",
    "- See https://github.com/gboeing/osmnx-examples/blob/master/notebooks/03-example-osm-place-network.ipynb\n",
    "- See https://automating-gis-processes.github.io/CSC18/lessons/L3/retrieve-osm-data.html\n",
    "- Maybe this doc is relevant https://doc.arcgis.com/en/cityengine/2019.0/help/help-import-osm.htm\n",
    "\n",
    "\n",
    "### Add download of public traces + historical network data\n",
    "\n",
    "### Parse OSM network to check:\n",
    "- if roads have speed limits, capacity, and cost functions\n",
    "- if they are traffic lights and stop signs information\n",
    "- if they are points of interest\n",
    "- turn restrictions\n",
    "- historical data (when the road sections has been created)\n",
    "\n",
    "### Then convert OSM to shapefile and render it with Kepler.gl"
   ]
  },
  {
   "cell_type": "markdown",
   "metadata": {},
   "source": [
    "## To do: From OSM data create plots like the following ones (by parsing the data and converting it to shapefile):"
   ]
  },
  {
   "cell_type": "code",
   "execution_count": 10,
   "metadata": {},
   "outputs": [
    {
     "name": "stdout",
     "output_type": "stream",
     "text": [
      "points\n",
      "lines\n",
      "multilinestrings\n",
      "multipolygons\n",
      "other_relations\n",
      "1885\n",
      "motorway_junction\n",
      "motorway_junction\n",
      "crossing\n",
      "None\n",
      "None\n",
      "None\n",
      "None\n",
      "None\n",
      "None\n",
      "None\n",
      "None\n",
      "None\n",
      "None\n",
      "motorway_junction\n",
      "traffic_signals\n",
      "turning_circle\n",
      "traffic_signals\n",
      "motorway_junction\n",
      "turning_circle\n",
      "turning_circle\n",
      "turning_circle\n"
     ]
    }
   ],
   "source": [
    "import ogr\n",
    "from shapely.geometry import Point\n",
    "\n",
    "driver=ogr.GetDriverByName('OSM')\n",
    "path_osm = data_path + \"/Raw data (do not touch)/Network/Map/OSM/\"\n",
    "\n",
    "\n",
    "data = driver.Open(path_osm + 'map1111.osm')\n",
    "\n",
    "for i in range(data.GetLayerCount()):\n",
    "    print(data.GetLayerByIndex(i).GetName())\n",
    "    \n",
    "layer = data.GetLayer('points')\n",
    "\n",
    "features=[x for x in layer]\n",
    "print(len(features))\n",
    "\n",
    "data_list=[]\n",
    "i = 0\n",
    "for feature in features:\n",
    "    i = i + 1\n",
    "    data=feature.ExportToJson(as_object=True)\n",
    "    coords=data['geometry']['coordinates']\n",
    "    shapely_geo=Point(coords[0],coords[1])\n",
    "    name=data['properties']['name']\n",
    "    highway=data['properties']['highway']\n",
    "    print(highway)\n",
    "    other_tags=data['properties']['other_tags']\n",
    "    if other_tags and 'amenity' in other_tags:\n",
    "        feat=[x for x in other_tags.split(',') if 'amenity' in x][0]\n",
    "        amenity=feat[feat.rfind('>')+2:feat.rfind('\"')]\n",
    "    else:\n",
    "        amenity=None\n",
    "    data_list.append([name,highway,amenity,shapely_geo])\n",
    "    if i > 20:\n",
    "        break\n",
    "# gdf=gpd.GeoDataFrame(data_list,columns=['Name','Highway','Amenity','geometry'],crs={'init': 'epsg:4326'}).to_crs(epsg=3310)\n"
   ]
  },
  {
   "cell_type": "code",
   "execution_count": 4,
   "metadata": {},
   "outputs": [
    {
     "name": "stdout",
     "output_type": "stream",
     "text": [
      "User Guide: https://github.com/keplergl/kepler.gl/blob/master/docs/keplergl-jupyter/user-guide.md\n"
     ]
    },
    {
     "data": {
      "application/vnd.jupyter.widget-view+json": {
       "model_id": "723a657dc00d41a89847421112ba0788",
       "version_major": 2,
       "version_minor": 0
      },
      "text/plain": [
       "KeplerGl(data={'nodes': {'index': [0, 1, 2, 3, 4, 5, 6, 7, 8, 9, 10, 11, 12, 13, 14, 15, 16, 17, 18, 19, 20, 2…"
      ]
     },
     "metadata": {},
     "output_type": "display_data"
    }
   ],
   "source": [
    "from keplergl import KeplerGl\n",
    "import geopandas as gpd\n",
    "import pandas as pd\n",
    "import numpy as np\n",
    "# --- Global variables\n",
    "\n",
    "# Setting up the Coordinate Reference Systems up front in the necessary format.\n",
    "crs_degree = {'init': 'epsg:4326'} # CGS_WGS_1984 (what the GPS uses)\n",
    "\n",
    "# --- Paths\n",
    "\n",
    "# Root path of Fremont Dropbox\n",
    "import os\n",
    "import sys\n",
    "# We let this notebook to know where to look for fremontdropbox module\n",
    "module_path = os.path.abspath(os.path.join('../..'))\n",
    "if module_path not in sys.path:\n",
    "    sys.path.append(module_path)\n",
    "    \n",
    "from fremontdropbox import get_dropbox_location\n",
    "# Root path of the Dropbox business account\n",
    "dbx = get_dropbox_location()\n",
    "\n",
    "# Temporary! Location of the folder where the restructuring is currently happening\n",
    "data_path = dbx + '/Private Structured data collection'\n",
    "\n",
    "def to_gdf(path):\n",
    "    gdf = gpd.GeoDataFrame.from_file(path)\n",
    "    gdf = gdf.to_crs('epsg:4326')\n",
    "    return gdf\n",
    "\n",
    "aimsun_path = dbx + '/Private Structured data collection/Aimsun/Inputs/'\n",
    "\n",
    "nodes = to_gdf(aimsun_path +'nodes.shp')\n",
    "sections = to_gdf(aimsun_path +'sections.shp')\n",
    "\n",
    "fremont_map = KeplerGl(height=600)\n",
    "fremont_map.add_data(data = nodes, name=\"nodes\")\n",
    "fremont_map.add_data(data = sections, name=\"sections\")\n",
    "fremont_map"
   ]
  },
  {
   "cell_type": "code",
   "execution_count": 5,
   "metadata": {},
   "outputs": [
    {
     "name": "stdout",
     "output_type": "stream",
     "text": [
      "User Guide: https://github.com/keplergl/kepler.gl/blob/master/docs/keplergl-jupyter/user-guide.md\n"
     ]
    },
    {
     "data": {
      "application/vnd.jupyter.widget-view+json": {
       "model_id": "e0e8c47908754a258ff111af5b47d07f",
       "version_major": 2,
       "version_minor": 0
      },
      "text/plain": [
       "KeplerGl(data={'Stop signs': {'index': [0, 1, 2, 3, 4, 5, 6, 7, 8, 9, 10, 11, 12, 13, 14, 15, 16, 17, 18, 19, …"
      ]
     },
     "metadata": {},
     "output_type": "display_data"
    }
   ],
   "source": [
    "def to_gdf_csv(path):\n",
    "# https://geopandas.readthedocs.io/en/latest/gallery/create_geopandas_from_pandas.html#from-wkt-format\n",
    "    df = pd.read_csv(path)\n",
    "    gdf = gpd.GeoDataFrame(\n",
    "        df, crs='epsg:4326', geometry=gpd.points_from_xy(df.x, df.y))\n",
    "    return gdf\n",
    "\n",
    "network_infra_path = data_path + \"/Manual-made dataset (do not touch)/Network/Infrastructure/\"\n",
    "\n",
    "stop_signs = to_gdf_csv(network_infra_path + \"Stop signs location/Stop_Signs.csv\")\n",
    "traffic_lights = to_gdf_csv(network_infra_path + \"Traffic lights location/Traffic_Lights.csv\")\n",
    "\n",
    "fremont_map = KeplerGl(height=600)\n",
    "fremont_map.add_data(data = stop_signs, name=\"Stop signs\")\n",
    "fremont_map.add_data(data = traffic_lights, name=\"Traffic lights\")\n",
    "fremont_map"
   ]
  },
  {
   "cell_type": "code",
   "execution_count": 6,
   "metadata": {},
   "outputs": [
    {
     "name": "stderr",
     "output_type": "stream",
     "text": [
      "/Users/theophile/miniconda3/envs/dev/lib/python3.7/site-packages/geopandas/base.py:48: UserWarning: GeoSeries crs mismatch: +init=epsg:4326 +type=crs and epsg:4326\n",
      "  warn(\"GeoSeries crs mismatch: {0} and {1}\".format(this.crs, other.crs))\n"
     ]
    },
    {
     "name": "stdout",
     "output_type": "stream",
     "text": [
      "User Guide: https://github.com/keplergl/kepler.gl/blob/master/docs/keplergl-jupyter/user-guide.md\n"
     ]
    },
    {
     "data": {
      "application/vnd.jupyter.widget-view+json": {
       "model_id": "607f5d2c04424dadac45fb191fdccc34",
       "version_major": 2,
       "version_minor": 0
      },
      "text/plain": [
       "KeplerGl(data={'Point Of Interests': {'index': [0, 1, 2, 3, 4, 5, 6, 7, 8, 9, 10, 11, 12, 13, 14, 15, 16, 17, …"
      ]
     },
     "metadata": {},
     "output_type": "display_data"
    }
   ],
   "source": [
    "POIs = pd.read_csv(data_path + \"/Data processing/Raw/Network/KPIs/locations_crawl.csv\")\n",
    "# Creating a Geographic data frame for Point of Interests\n",
    "POIs_gdf = gpd.GeoDataFrame(POIs, crs=crs_degree, geometry=gpd.points_from_xy(POIs.Long, POIs.Lat))\n",
    "\n",
    "\n",
    "intersections = gpd.overlay(POIs_gdf, project_del[project_del.Type == \"Delimitation\"], how='intersection')\n",
    "\n",
    "map_2 = KeplerGl(height=1000)\n",
    "map_2.add_data(data=intersections, name = \"Point Of Interests\")\n",
    "map_2"
   ]
  },
  {
   "cell_type": "code",
   "execution_count": null,
   "metadata": {},
   "outputs": [],
   "source": [
    "## external centroids with OSM network and closer delimitation"
   ]
  },
  {
   "cell_type": "code",
   "execution_count": null,
   "metadata": {},
   "outputs": [],
   "source": [
    "## Create the external TAZs using Google Maps API"
   ]
  },
  {
   "cell_type": "code",
   "execution_count": null,
   "metadata": {},
   "outputs": [],
   "source": [
    "## Get google maps POIs"
   ]
  },
  {
   "cell_type": "code",
   "execution_count": null,
   "metadata": {},
   "outputs": [],
   "source": [
    "## Get neighborhood information + other shapefile data"
   ]
  },
  {
   "cell_type": "code",
   "execution_count": null,
   "metadata": {},
   "outputs": [],
   "source": [
    "## Do k-mean clustering to create internal centroids"
   ]
  },
  {
   "cell_type": "code",
   "execution_count": null,
   "metadata": {},
   "outputs": [],
   "source": [
    "## Get boundaries of internal TAZs"
   ]
  },
  {
   "cell_type": "code",
   "execution_count": null,
   "metadata": {},
   "outputs": [],
   "source": [
    "## Create TAZs"
   ]
  },
  {
   "cell_type": "code",
   "execution_count": null,
   "metadata": {},
   "outputs": [],
   "source": [
    "## Create centroid connections"
   ]
  },
  {
   "cell_type": "code",
   "execution_count": null,
   "metadata": {},
   "outputs": [],
   "source": [
    "## Create files for Aimsun with centroid connections and centroid and OSM network"
   ]
  },
  {
   "cell_type": "markdown",
   "metadata": {},
   "source": [
    "See [Aimsun documentation to create the layers](https://www.aimsun.com/tech_notes/gis-import-1/)"
   ]
  },
  {
   "cell_type": "code",
   "execution_count": null,
   "metadata": {},
   "outputs": [],
   "source": [
    "## Download Google Maps tiles corresponding to the project"
   ]
  },
  {
   "cell_type": "code",
   "execution_count": null,
   "metadata": {},
   "outputs": [],
   "source": []
  }
 ],
 "metadata": {
  "kernelspec": {
   "display_name": "Python 3",
   "language": "python",
   "name": "python3"
  },
  "language_info": {
   "codemirror_mode": {
    "name": "ipython",
    "version": 3
   },
   "file_extension": ".py",
   "mimetype": "text/x-python",
   "name": "python",
   "nbconvert_exporter": "python",
   "pygments_lexer": "ipython3",
   "version": "3.7.6"
  }
 },
 "nbformat": 4,
 "nbformat_minor": 4
}
