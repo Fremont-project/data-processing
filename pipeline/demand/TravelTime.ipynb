{
 "cells": [
  {
   "cell_type": "markdown",
   "metadata": {},
   "source": [
    "# Travel Time \n",
    "\n",
    "### Goal of the notebook\n",
    "\n",
    "The purpose of this Jupyter notebook is to request the travel time in second from the origin to destination using google API.\n",
    "***\n",
    "**Outputs:** \n",
    "\n",
    "All the output data can be found in the directory `Dropbox/Data Collection/Data processing/Data in process/Demand`\n",
    "\n",
    "The CSV of the output file should should contains the following columns:\n",
    "\n",
    "- ori_external_id: ID of the origin centroid\n",
    "- des_external_id: ID of the destination centroid\n",
    "- time: the specific time in a day where travel time is requested from google service\n",
    "- travel_time: travel time from the origin centroid to destination centroid\n",
    "\n",
    "The file of the csv look like:\n",
    "\tori_external_id\tdes_external_id\ttime\ttravel_time\n",
    "\n",
    "| ori_external_id | des_external_id | time | travel_time |\n",
    "|------|------|------|------|\n",
    "| 4 | 5 |0| ... |\n",
    "| 4 | 5 |2| ... |\n",
    "| 4 | 5 |4| ... |\n",
    "\n",
    " \n",
    "\n",
    "\n",
    "**Inputs:** \n",
    "\n",
    "- External_Centroids_GoogleMap.csv\n",
    "\n",
    "All the input data can be found in the directory `Dropbox/Data Collection/Data processing/Data in process/Demand`\n",
    "\n",
    "\n",
    "\n",
    "GetTravelTime is a function implemented to request specific travel time\n",
    "\n",
    "**Inputs:** \n",
    "\n",
    "- ori_centroid_id\n",
    "- des_centroid_id\n",
    "- select_time: \n",
    "\n",
    "**Outputs:** \n",
    "\n",
    "- travel time from origin centroid to destination centroid in seconds\n",
    "\n",
    "\n",
    "External centroid data:\n",
    "\n",
    "- External_centroid_googlemap.xlsx\n",
    "\n",
    "\n",
    "**Dependent scripts:** \n",
    "None"
   ]
  },
  {
   "cell_type": "markdown",
   "metadata": {},
   "source": [
    " **IMPORTANT:** Run the iPython cell below in order to import the necessary packages."
   ]
  },
  {
   "cell_type": "code",
   "execution_count": 2,
   "metadata": {},
   "outputs": [],
   "source": [
    "import numpy as np\n",
    "import scipy\n",
    "import matplotlib\n",
    "import pandas as pd\n",
    "import numpy as np\n",
    "import json as simplejson\n",
    "import urllib\n",
    "from urllib import request\n",
    "import requests, json \n",
    "from bs4 import BeautifulSoup\n",
    "from datetime import datetime\n",
    "import time"
   ]
  },
  {
   "cell_type": "markdown",
   "metadata": {},
   "source": [
    "### Load external centroid data\n",
    "\n",
    "This function loads the external centroid data with longtitue and latitute from dropbox into python notebook"
   ]
  },
  {
   "cell_type": "code",
   "execution_count": 3,
   "metadata": {},
   "outputs": [
    {
     "data": {
      "text/html": [
       "<div>\n",
       "<style scoped>\n",
       "    .dataframe tbody tr th:only-of-type {\n",
       "        vertical-align: middle;\n",
       "    }\n",
       "\n",
       "    .dataframe tbody tr th {\n",
       "        vertical-align: top;\n",
       "    }\n",
       "\n",
       "    .dataframe thead th {\n",
       "        text-align: right;\n",
       "    }\n",
       "</style>\n",
       "<table border=\"1\" class=\"dataframe\">\n",
       "  <thead>\n",
       "    <tr style=\"text-align: right;\">\n",
       "      <th></th>\n",
       "      <th>lon/lau</th>\n",
       "      <th>NB/EB</th>\n",
       "      <th>SB/WB</th>\n",
       "    </tr>\n",
       "    <tr>\n",
       "      <th>Centroid_I</th>\n",
       "      <th></th>\n",
       "      <th></th>\n",
       "      <th></th>\n",
       "    </tr>\n",
       "  </thead>\n",
       "  <tbody>\n",
       "    <tr>\n",
       "      <td>4</td>\n",
       "      <td>37.5111060469967,-121.954604452945</td>\n",
       "      <td>37.510970,-121.954368</td>\n",
       "      <td>37.511344,-121.954390</td>\n",
       "    </tr>\n",
       "    <tr>\n",
       "      <td>5</td>\n",
       "      <td>37.5330845192806,-121.9545231</td>\n",
       "      <td>37.533058,-121.954249</td>\n",
       "      <td>37.533219,-121.954270</td>\n",
       "    </tr>\n",
       "    <tr>\n",
       "      <td>6</td>\n",
       "      <td>37.5413236280827,-121.9559944</td>\n",
       "      <td>37.541187,-121.956359</td>\n",
       "      <td>37.541341,-121.956370</td>\n",
       "    </tr>\n",
       "    <tr>\n",
       "      <td>13</td>\n",
       "      <td>37.5495438286178,-121.91921</td>\n",
       "      <td>37.549688,-121.919436</td>\n",
       "      <td>37.549534,-121.919107</td>\n",
       "    </tr>\n",
       "    <tr>\n",
       "      <td>15</td>\n",
       "      <td>37.5275111832535,-121.8961378</td>\n",
       "      <td>37.527723,-121.896026</td>\n",
       "      <td>37.527530,-121.895941</td>\n",
       "    </tr>\n",
       "    <tr>\n",
       "      <td>16</td>\n",
       "      <td>37.5208527574847,-121.9111971</td>\n",
       "      <td>37.520865,-121.911228</td>\n",
       "      <td>37.520855,-121.911188</td>\n",
       "    </tr>\n",
       "    <tr>\n",
       "      <td>19</td>\n",
       "      <td>37.4908772090958,-121.9088049</td>\n",
       "      <td>37.490923,-121.908900</td>\n",
       "      <td>37.490856,-121.908919</td>\n",
       "    </tr>\n",
       "    <tr>\n",
       "      <td>20</td>\n",
       "      <td>37.4898018766374,-121.9179774</td>\n",
       "      <td>37.489853,-121.917752</td>\n",
       "      <td>37.489776,-121.918149</td>\n",
       "    </tr>\n",
       "    <tr>\n",
       "      <td>12</td>\n",
       "      <td>37.5534590835457,-121.9455607</td>\n",
       "      <td>37.553485,-121.945378</td>\n",
       "      <td>37.553442,-121.945625</td>\n",
       "    </tr>\n",
       "    <tr>\n",
       "      <td>22</td>\n",
       "      <td>37.4860071390064,-121.9272838</td>\n",
       "      <td>37.486050,-121.927230</td>\n",
       "      <td>37.486016,-121.927370</td>\n",
       "    </tr>\n",
       "    <tr>\n",
       "      <td>21</td>\n",
       "      <td>37.4882190010004,-121.9314295</td>\n",
       "      <td>37.488262,-121.931548</td>\n",
       "      <td>37.488219,-121.931311</td>\n",
       "    </tr>\n",
       "  </tbody>\n",
       "</table>\n",
       "</div>"
      ],
      "text/plain": [
       "                                       lon/lau                  NB/EB  \\\n",
       "Centroid_I                                                              \n",
       "4           37.5111060469967,-121.954604452945  37.510970,-121.954368   \n",
       "5                37.5330845192806,-121.9545231  37.533058,-121.954249   \n",
       "6                37.5413236280827,-121.9559944  37.541187,-121.956359   \n",
       "13                 37.5495438286178,-121.91921  37.549688,-121.919436   \n",
       "15               37.5275111832535,-121.8961378  37.527723,-121.896026   \n",
       "16               37.5208527574847,-121.9111971  37.520865,-121.911228   \n",
       "19               37.4908772090958,-121.9088049  37.490923,-121.908900   \n",
       "20               37.4898018766374,-121.9179774  37.489853,-121.917752   \n",
       "12               37.5534590835457,-121.9455607  37.553485,-121.945378   \n",
       "22               37.4860071390064,-121.9272838  37.486050,-121.927230   \n",
       "21               37.4882190010004,-121.9314295  37.488262,-121.931548   \n",
       "\n",
       "                            SB/WB  \n",
       "Centroid_I                         \n",
       "4           37.511344,-121.954390  \n",
       "5           37.533219,-121.954270  \n",
       "6           37.541341,-121.956370  \n",
       "13          37.549534,-121.919107  \n",
       "15          37.527530,-121.895941  \n",
       "16          37.520855,-121.911188  \n",
       "19          37.490856,-121.908919  \n",
       "20          37.489776,-121.918149  \n",
       "12          37.553442,-121.945625  \n",
       "22          37.486016,-121.927370  \n",
       "21          37.488219,-121.931311  "
      ]
     },
     "execution_count": 3,
     "metadata": {},
     "output_type": "execute_result"
    }
   ],
   "source": [
    "# Root path of Fremont Dropbox\n",
    "import os\n",
    "import sys\n",
    "# We let this notebook to know where to look for fremontdropbox module\n",
    "module_path = os.path.abspath(os.path.join('../..'))\n",
    "if module_path not in sys.path:\n",
    "    sys.path.append(module_path)\n",
    "from fremontdropbox import get_dropbox_location\n",
    "\n",
    "path_dropbox = get_dropbox_location()\n",
    "\n",
    "path_data=os.path.join(path_dropbox, \"Data Collection/Data processing/Data in process/Demand/External_Centroids_GoogleMap.csv\")\n",
    "external_data=pd.read_csv(path_data)\n",
    "external_data=external_data.set_index('Centroid_I')\n",
    "external_data"
   ]
  },
  {
   "cell_type": "markdown",
   "metadata": {},
   "source": [
    "### Google API key\n",
    "\n",
    "This cell is to define the Google API key that we will be using"
   ]
  },
  {
   "cell_type": "code",
   "execution_count": 223,
   "metadata": {},
   "outputs": [],
   "source": [
    "#This is my own google API key which does not work for now\n",
    "Google_API_KEY="
   ]
  },
  {
   "cell_type": "markdown",
   "metadata": {},
   "source": [
    "### Function to request Travel Time\n",
    "\n",
    "This function is defined to request the travel time using Google API"
   ]
  },
  {
   "cell_type": "code",
   "execution_count": 236,
   "metadata": {},
   "outputs": [],
   "source": [
    "def GetTravelTime(ori_external_id, des_external_id, time):\n",
    "    orig_coord_NB_EB = external_data.loc[ori_external_id,'NB/EB']\n",
    "    orig_coord_SB_WB = external_data.loc[ori_external_id,'SB/WB']\n",
    "    dest_coord_NB_EB = external_data.loc[des_external_id,'NB/EB']\n",
    "    dest_coord_SB_WB = external_data.loc[des_external_id,'SB/WB']\n",
    "    l=[]\n",
    "    url ='https://maps.googleapis.com/maps/api/distancematrix/json?'\n",
    "    \n",
    "    r = url + \"origins=\" + orig_coord_NB_EB + \"&destinations=\" + dest_coord_NB_EB + \\\n",
    "         \"&mode=driving&traffic_model=best_guess&departure_time=\"+time+\"&language=en-EN&sensor=false&key=\" \\\n",
    "         + Google_API_KEY\n",
    "\n",
    "    result= simplejson.load(urllib.request.urlopen(r))\n",
    "    driving_time1 = result['rows'][0]['elements'][0]['duration_in_traffic']['value']\n",
    "    l.append(driving_time1)\n",
    "    \n",
    "    r = url + \"origins=\" + orig_coord_NB_EB + \"&destinations=\" + dest_coord_SB_WB + \\\n",
    "         \"&mode=driving&traffic_model=best_guess&departure_time=\"+time+\"&language=en-EN&sensor=false&key=\" \\\n",
    "         + Google_API_KEY\n",
    "    result= simplejson.load(urllib.request.urlopen(r))\n",
    "    driving_time2 = result['rows'][0]['elements'][0]['duration_in_traffic']['value']\n",
    "    l.append(driving_time2)\n",
    "    \n",
    "    r = url + \"origins=\" + orig_coord_SB_WB + \"&destinations=\" + dest_coord_NB_EB + \\\n",
    "         \"&mode=driving&traffic_model=best_guess&departure_time=\"+time+\"&language=en-EN&sensor=false&key=\" \\\n",
    "         + Google_API_KEY\n",
    "    result= simplejson.load(urllib.request.urlopen(r))\n",
    "    driving_time3 = result['rows'][0]['elements'][0]['duration_in_traffic']['value']\n",
    "    l.append(driving_time3)\n",
    "    \n",
    "    r = url + \"origins=\" + orig_coord_SB_WB + \"&destinations=\" + dest_coord_SB_WB + \\\n",
    "        \"&mode=driving&traffic_model=best_guess&departure_time=\"+time+\"&language=en-EN&sensor=false&key=\" \\\n",
    "         + Google_API_KEY \n",
    "    result= simplejson.load(urllib.request.urlopen(r))\n",
    "    driving_time4 = result['rows'][0]['elements'][0]['duration_in_traffic']['value']\n",
    "    l.append(driving_time4)\n",
    "    return min(l)\n"
   ]
  },
  {
   "cell_type": "markdown",
   "metadata": {},
   "source": [
    "### Steps to download the travel time\n",
    "\n",
    "The following steps are to download the travel time between different external"
   ]
  },
  {
   "cell_type": "code",
   "execution_count": 225,
   "metadata": {},
   "outputs": [],
   "source": [
    "#get all of the centroid ids\n",
    "l=list(external_data.index)"
   ]
  },
  {
   "cell_type": "markdown",
   "metadata": {},
   "source": [
    "**Using timeStamp which is on March 15th from 00:00 to 22:00 UTC time requesting Google service**\n",
    "\n",
    "**Note: the travel time downloaded is requested on March 15th**\n",
    "\n",
    "- start_time: 00:00 is 0 AM on March 15th\n",
    "- end_time: 22:00 is 10PM on March 15th"
   ]
  },
  {
   "cell_type": "code",
   "execution_count": 227,
   "metadata": {},
   "outputs": [
    {
     "data": {
      "text/plain": [
       "{'0:00': 1584255600,\n",
       " '2:00': 1584262800,\n",
       " '4:00': 1584270000,\n",
       " '6:00': 1584277200,\n",
       " '8:00': 1584284400,\n",
       " '10:00': 1584291600,\n",
       " '12:00': 1584298800,\n",
       " '14:00': 1584306000,\n",
       " '16:00': 1584313200,\n",
       " '18:00': 1584320400,\n",
       " '20:00': 1584327600,\n",
       " '22:00': 1584334800}"
      ]
     },
     "execution_count": 227,
     "metadata": {},
     "output_type": "execute_result"
    }
   ],
   "source": [
    "#The timeStamp is used on March 15th from 00：00 to 22:00 UTC time\n",
    "ts={}\n",
    "for i in range(12):\n",
    "    ts[str(i*2)+\":00\"]=1584255600+7200*i\n",
    "ts"
   ]
  },
  {
   "cell_type": "code",
   "execution_count": 228,
   "metadata": {},
   "outputs": [],
   "source": [
    "df=pd.DataFrame([], columns = ['ori_external_id', 'des_external_id',\"time\",\"travel_time\"])"
   ]
  },
  {
   "cell_type": "markdown",
   "metadata": {},
   "source": [
    "**The following function is implemented to download the travel time and save the dataframe as a csv file**"
   ]
  },
  {
   "cell_type": "code",
   "execution_count": 229,
   "metadata": {},
   "outputs": [],
   "source": [
    "def download_travel(df):\n",
    "    ids=list(external_data.index)\n",
    "    for i in ids:\n",
    "        for j in ids:\n",
    "            if i != j:\n",
    "                for k in ts:\n",
    "                    data = [[i,j,datetime.fromtimestamp(ts[k]).hour,GetTravelTime(i,j,str(ts[k]))]]\n",
    "                    df1=pd.DataFrame(data, columns=['ori_external_id', 'des_external_id',\"time\",\"travel_time\"])\n",
    "                    df=df.append(df1)\n",
    "    return df"
   ]
  },
  {
   "cell_type": "code",
   "execution_count": null,
   "metadata": {
    "scrolled": true
   },
   "outputs": [],
   "source": [
    "df = download_travel(df)\n",
    "path_output=os.path.join(path_dropbox, \"Data Collection/Data processing/Data in process/Demand/traveltime.csv\")\n",
    "df.tocsv(path_output)"
   ]
  },
  {
   "cell_type": "code",
   "execution_count": null,
   "metadata": {},
   "outputs": [],
   "source": []
  }
 ],
 "metadata": {
  "kernelspec": {
   "display_name": "Python 3",
   "language": "python",
   "name": "python3"
  },
  "language_info": {
   "codemirror_mode": {
    "name": "ipython",
    "version": 3
   },
   "file_extension": ".py",
   "mimetype": "text/x-python",
   "name": "python",
   "nbconvert_exporter": "python",
   "pygments_lexer": "ipython3",
   "version": "3.7.4"
  }
 },
 "nbformat": 4,
 "nbformat_minor": 2
}
