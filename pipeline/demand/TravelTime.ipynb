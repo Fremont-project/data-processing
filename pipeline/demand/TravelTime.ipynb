{
 "cells": [
  {
   "cell_type": "markdown",
   "metadata": {},
   "source": [
    "# Travel Time \n",
    "\n",
    "### Goal of the notebook\n",
    "\n",
    "The purpose of this Jupyter notebook is to request the travel time in second from the origin to destination using google API.\n",
    "***\n",
    "**Outputs:** \n",
    "\n",
    "- travel_time\n",
    "\n",
    "\n",
    "**Inputs:** \n",
    "\n",
    "- ori_centroid_id\n",
    "- des_centroid_id\n",
    "- select_time\n",
    "\n",
    "External centroid data:\n",
    "\n",
    "- External_centroid_googlemap.xlsx\n",
    "\n",
    "\n",
    "\n",
    "\n",
    "**Dependent scripts:** \n",
    "None"
   ]
  },
  {
   "cell_type": "markdown",
   "metadata": {},
   "source": [
    " **IMPORTANT:** Run the iPython cell below in order to import the necessary packages."
   ]
  },
  {
   "cell_type": "code",
   "execution_count": 119,
   "metadata": {},
   "outputs": [],
   "source": [
    "import numpy as np\n",
    "import scipy\n",
    "import matplotlib\n",
    "import pandas as pd\n",
    "import numpy as np\n",
    "import json as simplejson\n",
    "import urllib\n",
    "from urllib import request\n",
    "import requests, json \n",
    "from bs4 import BeautifulSoup\n",
    "from datetime import datetime"
   ]
  },
  {
   "cell_type": "markdown",
   "metadata": {},
   "source": [
    "### Load external centroid data\n",
    "\n",
    "This function loads the external centroid data with longtitue and latitute from dropbox into python notebook"
   ]
  },
  {
   "cell_type": "code",
   "execution_count": 120,
   "metadata": {},
   "outputs": [
    {
     "data": {
      "text/html": [
       "<div>\n",
       "<style scoped>\n",
       "    .dataframe tbody tr th:only-of-type {\n",
       "        vertical-align: middle;\n",
       "    }\n",
       "\n",
       "    .dataframe tbody tr th {\n",
       "        vertical-align: top;\n",
       "    }\n",
       "\n",
       "    .dataframe thead th {\n",
       "        text-align: right;\n",
       "    }\n",
       "</style>\n",
       "<table border=\"1\" class=\"dataframe\">\n",
       "  <thead>\n",
       "    <tr style=\"text-align: right;\">\n",
       "      <th></th>\n",
       "      <th>NB/EB</th>\n",
       "      <th>SB/WB</th>\n",
       "    </tr>\n",
       "    <tr>\n",
       "      <th>External_Centroid_ID</th>\n",
       "      <th></th>\n",
       "      <th></th>\n",
       "    </tr>\n",
       "  </thead>\n",
       "  <tbody>\n",
       "    <tr>\n",
       "      <td>4</td>\n",
       "      <td>37.512253,-121.948685</td>\n",
       "      <td>37.512406,-121.948839</td>\n",
       "    </tr>\n",
       "    <tr>\n",
       "      <td>5</td>\n",
       "      <td>37.533005,-121.954678</td>\n",
       "      <td>37.533122,-121.954726</td>\n",
       "    </tr>\n",
       "    <tr>\n",
       "      <td>6</td>\n",
       "      <td>37.542265,-121.949716</td>\n",
       "      <td>37.542124,-121.949697</td>\n",
       "    </tr>\n",
       "    <tr>\n",
       "      <td>7</td>\n",
       "      <td>37.546844,-121.946638</td>\n",
       "      <td>37.546813,-121.946663</td>\n",
       "    </tr>\n",
       "    <tr>\n",
       "      <td>9</td>\n",
       "      <td>37.544235,-121.947014</td>\n",
       "      <td>37.544211,-121.947038</td>\n",
       "    </tr>\n",
       "    <tr>\n",
       "      <td>11</td>\n",
       "      <td>37.546699,-121.944992</td>\n",
       "      <td>37.546688,-121.945014</td>\n",
       "    </tr>\n",
       "    <tr>\n",
       "      <td>12</td>\n",
       "      <td>37.551385,-121.942218</td>\n",
       "      <td>37.551346,-121.942392</td>\n",
       "    </tr>\n",
       "    <tr>\n",
       "      <td>13</td>\n",
       "      <td>37.547740,-121.919675</td>\n",
       "      <td>37.547653,-121.919938</td>\n",
       "    </tr>\n",
       "    <tr>\n",
       "      <td>14</td>\n",
       "      <td>37.539300,-121.914089</td>\n",
       "      <td>37.539358,-121.914051</td>\n",
       "    </tr>\n",
       "    <tr>\n",
       "      <td>15</td>\n",
       "      <td>37.527808,-121.913445</td>\n",
       "      <td>37.527806,-121.913650</td>\n",
       "    </tr>\n",
       "    <tr>\n",
       "      <td>16</td>\n",
       "      <td>37.517991,-121.911472</td>\n",
       "      <td>37.518007,-121.911510</td>\n",
       "    </tr>\n",
       "    <tr>\n",
       "      <td>17</td>\n",
       "      <td>37.492666,-121.906306</td>\n",
       "      <td>37.492722,-121.906380</td>\n",
       "    </tr>\n",
       "    <tr>\n",
       "      <td>19</td>\n",
       "      <td>37.490843,-121.908775</td>\n",
       "      <td>37.490873,-121.908783</td>\n",
       "    </tr>\n",
       "    <tr>\n",
       "      <td>20</td>\n",
       "      <td>37.490471,-121.918162</td>\n",
       "      <td>37.490411,-121.918596</td>\n",
       "    </tr>\n",
       "    <tr>\n",
       "      <td>23</td>\n",
       "      <td>37.504203,-121.942623</td>\n",
       "      <td>37.504355,-121.942557</td>\n",
       "    </tr>\n",
       "    <tr>\n",
       "      <td>24</td>\n",
       "      <td>37.551905,-121.938567</td>\n",
       "      <td>37.551884,-121.938577</td>\n",
       "    </tr>\n",
       "    <tr>\n",
       "      <td>22</td>\n",
       "      <td>37.489738,-121.929266</td>\n",
       "      <td>37.489685,-121.929459</td>\n",
       "    </tr>\n",
       "    <tr>\n",
       "      <td>21</td>\n",
       "      <td>37.489706,-121.929743</td>\n",
       "      <td>37.489855,-121.929861</td>\n",
       "    </tr>\n",
       "  </tbody>\n",
       "</table>\n",
       "</div>"
      ],
      "text/plain": [
       "                                      NB/EB                  SB/WB\n",
       "External_Centroid_ID                                              \n",
       "4                     37.512253,-121.948685  37.512406,-121.948839\n",
       "5                     37.533005,-121.954678  37.533122,-121.954726\n",
       "6                     37.542265,-121.949716  37.542124,-121.949697\n",
       "7                     37.546844,-121.946638  37.546813,-121.946663\n",
       "9                     37.544235,-121.947014  37.544211,-121.947038\n",
       "11                    37.546699,-121.944992  37.546688,-121.945014\n",
       "12                    37.551385,-121.942218  37.551346,-121.942392\n",
       "13                    37.547740,-121.919675  37.547653,-121.919938\n",
       "14                    37.539300,-121.914089  37.539358,-121.914051\n",
       "15                    37.527808,-121.913445  37.527806,-121.913650\n",
       "16                    37.517991,-121.911472  37.518007,-121.911510\n",
       "17                    37.492666,-121.906306  37.492722,-121.906380\n",
       "19                    37.490843,-121.908775  37.490873,-121.908783\n",
       "20                    37.490471,-121.918162  37.490411,-121.918596\n",
       "23                    37.504203,-121.942623  37.504355,-121.942557\n",
       "24                    37.551905,-121.938567  37.551884,-121.938577\n",
       "22                    37.489738,-121.929266  37.489685,-121.929459\n",
       "21                    37.489706,-121.929743  37.489855,-121.929861"
      ]
     },
     "execution_count": 120,
     "metadata": {},
     "output_type": "execute_result"
    }
   ],
   "source": [
    "# Root path of Fremont Dropbox\n",
    "import os\n",
    "import sys\n",
    "# We let this notebook to know where to look for fremontdropbox module\n",
    "module_path = os.path.abspath(os.path.join('../..'))\n",
    "if module_path not in sys.path:\n",
    "    sys.path.append(module_path)\n",
    "from fremontdropbox import get_dropbox_location\n",
    "\n",
    "path_dropbox = get_dropbox_location()\n",
    "\n",
    "path_data=os.path.join(path_dropbox, \"Data Collection/Data processing/Data in process/Demand/External_centroid_googlemap.xlsx\")\n",
    "\n",
    "external_data=pd.read_excel(path_data)\n",
    "external_data=external_data.set_index('External_Centroid_ID')\n",
    "external_data"
   ]
  },
  {
   "cell_type": "markdown",
   "metadata": {},
   "source": [
    "### Google API key\n",
    "\n",
    "This cell is to define the Google API key that we will be using"
   ]
  },
  {
   "cell_type": "code",
   "execution_count": 121,
   "metadata": {},
   "outputs": [],
   "source": [
    "#This is my own google API key which does not work for now\n",
    "Google_API_KEY="
   ]
  },
  {
   "cell_type": "markdown",
   "metadata": {},
   "source": [
    "### Function to request Travel Time\n",
    "\n",
    "This function is defined to request the travel time using Google API"
   ]
  },
  {
   "cell_type": "code",
   "execution_count": 122,
   "metadata": {},
   "outputs": [],
   "source": [
    "def GetTravelTime(ori_external_id, des_external_id, time):\n",
    "    orig_coord_NB_EB = external_data.loc[ori_external_id,'NB/EB']\n",
    "    orig_coord_SB_WB = external_data.loc[ori_external_id,'SB/WB']\n",
    "    dest_coord_NB_EB = external_data.loc[des_external_id,'NB/EB']\n",
    "    dest_coord_SB_WB = external_data.loc[des_external_id,'SB/WB']\n",
    "    l=[]\n",
    "    url ='https://maps.googleapis.com/maps/api/distancematrix/json?'\n",
    "    \n",
    "    r = url + \"origins=\" + orig_coord_NB_EB + \"&destinations=\" + dest_coord_NB_EB + \\\n",
    "         \"&mode=driving&traffic_model=best_guess&departure_time=\"+time+\"&language=en-EN&sensor=false&key=\" \\\n",
    "         + Google_API_KEY\n",
    "    result= simplejson.load(urllib.request.urlopen(r))\n",
    "    driving_time1 = result['rows'][0]['elements'][0]['duration_in_traffic']['value']\n",
    "    l.append(driving_time1)\n",
    "    \n",
    "    r = url + \"origins=\" + orig_coord_NB_EB + \"&destinations=\" + dest_coord_SB_WB + \\\n",
    "         \"&mode=driving&traffic_model=best_guess&departure_time=\"+time+\"&language=en-EN&sensor=false&key=\" \\\n",
    "         + Google_API_KEY\n",
    "    result= simplejson.load(urllib.request.urlopen(r))\n",
    "    print(result)\n",
    "    driving_time2 = result['rows'][0]['elements'][0]['duration_in_traffic']['value']\n",
    "    l.append(driving_time2)\n",
    "    \n",
    "    r = url + \"origins=\" + orig_coord_SB_WB + \"&destinations=\" + dest_coord_NB_EB + \\\n",
    "         \"&mode=driving&traffic_model=best_guess&departure_time=\"+time+\"&language=en-EN&sensor=false&key=\" \\\n",
    "         + Google_API_KEY\n",
    "    result= simplejson.load(urllib.request.urlopen(r))\n",
    "    driving_time3 = result['rows'][0]['elements'][0]['duration_in_traffic']['value']\n",
    "    l.append(driving_time3)\n",
    "    \n",
    "    r = url + \"origins=\" + orig_coord_SB_WB + \"&destinations=\" + dest_coord_SB_WB + \\\n",
    "        \"&mode=driving&traffic_model=best_guess&departure_time=\"+time+\"&language=en-EN&sensor=false&key=\" \\\n",
    "         + Google_API_KEY \n",
    "    result= simplejson.load(urllib.request.urlopen(r))\n",
    "    driving_time4 = result['rows'][0]['elements'][0]['duration_in_traffic']['value']\n",
    "    l.append(driving_time4)\n",
    "    \n",
    "    return min(l)\n"
   ]
  },
  {
   "cell_type": "markdown",
   "metadata": {},
   "source": [
    "### Function to show the travel time\n",
    "\n",
    "This function is call the above function with parameter and show the corresponding travel time"
   ]
  },
  {
   "cell_type": "code",
   "execution_count": 123,
   "metadata": {},
   "outputs": [
    {
     "name": "stdout",
     "output_type": "stream",
     "text": [
      "{'destination_addresses': ['1900 Gomes Rd, Fremont, CA 94539, USA'], 'origin_addresses': ['3623 Washington Blvd, Fremont, CA 94538, USA'], 'rows': [{'elements': [{'distance': {'text': '1.4 km', 'value': 1423}, 'duration': {'text': '3 mins', 'value': 186}, 'duration_in_traffic': {'text': '4 mins', 'value': 210}, 'status': 'OK'}]}], 'status': 'OK'}\n"
     ]
    },
    {
     "data": {
      "text/plain": [
       "182"
      ]
     },
     "execution_count": 123,
     "metadata": {},
     "output_type": "execute_result"
    }
   ],
   "source": [
    "GetTravelTime(5,6,'now')"
   ]
  },
  {
   "cell_type": "code",
   "execution_count": null,
   "metadata": {},
   "outputs": [],
   "source": []
  }
 ],
 "metadata": {
  "kernelspec": {
   "display_name": "Python 3",
   "language": "python",
   "name": "python3"
  },
  "language_info": {
   "codemirror_mode": {
    "name": "ipython",
    "version": 3
   },
   "file_extension": ".py",
   "mimetype": "text/x-python",
   "name": "python",
   "nbconvert_exporter": "python",
   "pygments_lexer": "ipython3",
   "version": "3.7.4"
  }
 },
 "nbformat": 4,
 "nbformat_minor": 2
}
