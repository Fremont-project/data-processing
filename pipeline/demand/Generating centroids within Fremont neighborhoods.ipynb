{
 "cells": [
  {
   "cell_type": "markdown",
   "metadata": {},
   "source": [
    "# Generating centroids within Fremont neighborhoods"
   ]
  },
  {
   "cell_type": "markdown",
   "metadata": {},
   "source": [
    "### Goal of the notebook\n",
    "\n",
    "We'll slice neighborhood polygons into smaller parts by using `geovoronoi` module - this creates Voronoi diagrams within boundaries of each of the neighborhood boundaries.\n",
    "\n",
    "***\n",
    "\n",
    "**Outputs:**\n",
    "\n",
    "Internal Centroid Zones:\n",
    "- neighborhoods_centroid_zones.csv\n",
    "\n",
    "**Inputs:**\n",
    "\n",
    "Fremont neighborhoods:\n",
    "- Neighborhoods.shp"
   ]
  },
  {
   "cell_type": "markdown",
   "metadata": {},
   "source": [
    "***"
   ]
  },
  {
   "cell_type": "code",
   "execution_count": 1,
   "metadata": {},
   "outputs": [],
   "source": [
    "# --- Global variables\n",
    "\n",
    "# Setting up the Coordinate Reference Systems up front in the necessary format.\n",
    "epsg = 4326\n",
    "crs_degree = {'init': 'epsg:4326'} # CGS_WGS_1984 (what the GPS uses)\n",
    "\n",
    "# --- Paths\n",
    "\n",
    "# Root path of Fremont Dropbox\n",
    "import os\n",
    "import sys\n",
    "# We let this notebook to know where to look for fremontdropbox module\n",
    "module_path = os.path.abspath(os.path.join('../..'))\n",
    "if module_path not in sys.path:\n",
    "    sys.path.append(module_path)\n",
    "    \n",
    "from fremontdropbox import get_dropbox_location\n",
    "# Root path of the Dropbox business account\n",
    "dbx = get_dropbox_location()\n",
    "\n",
    "# Temporary! Location of the folder where the restructuring is currently happening\n",
    "data_path = dbx + '/Private Structured data collection'\n",
    "aux_files = data_path+'/Data processing/Auxiliary files'\n",
    "\n",
    "# Processing output path\n",
    "output_path = aux_files + '/OD demand'"
   ]
  },
  {
   "cell_type": "markdown",
   "metadata": {},
   "source": [
    "## 1. Loading files and checking if the projection is correct (EPSG 4326)"
   ]
  },
  {
   "cell_type": "code",
   "execution_count": 2,
   "metadata": {},
   "outputs": [
    {
     "name": "stdout",
     "output_type": "stream",
     "text": [
      "Collecting package metadata (repodata.json): done\n",
      "Solving environment: done\n",
      "\n",
      "# All requested packages already installed.\n",
      "\n"
     ]
    }
   ],
   "source": [
    "# https://jakevdp.github.io/blog/2017/12/05/installing-python-packages-from-jupyter/\n",
    "import sys\n",
    "!conda install --yes --prefix {sys.prefix} pandas geopandas numpy"
   ]
  },
  {
   "cell_type": "code",
   "execution_count": 3,
   "metadata": {},
   "outputs": [
    {
     "name": "stdout",
     "output_type": "stream",
     "text": [
      "Requirement already satisfied: keplergl in /Users/michaltakac/anaconda3/envs/geo_env/lib/python3.8/site-packages (0.1.2)\n",
      "Requirement already satisfied: geovoronoi in /Users/michaltakac/anaconda3/envs/geo_env/lib/python3.8/site-packages (0.1.2)\n",
      "Requirement already satisfied: geopandas>=0.5.0 in /Users/michaltakac/anaconda3/envs/geo_env/lib/python3.8/site-packages (from keplergl) (0.7.0)\n",
      "Requirement already satisfied: ipywidgets<8,>=7.0.0 in /Users/michaltakac/anaconda3/envs/geo_env/lib/python3.8/site-packages (from keplergl) (7.5.1)\n",
      "Requirement already satisfied: Shapely>=1.6.4.post2 in /Users/michaltakac/anaconda3/envs/geo_env/lib/python3.8/site-packages (from keplergl) (1.7.0)\n",
      "Requirement already satisfied: traittypes>=0.2.1 in /Users/michaltakac/anaconda3/envs/geo_env/lib/python3.8/site-packages (from keplergl) (0.2.1)\n",
      "Requirement already satisfied: pandas>=0.23.0 in /Users/michaltakac/anaconda3/envs/geo_env/lib/python3.8/site-packages (from keplergl) (1.0.1)\n",
      "Requirement already satisfied: scipy>=0.12.0 in /Users/michaltakac/anaconda3/envs/geo_env/lib/python3.8/site-packages (from geovoronoi) (1.4.1)\n",
      "Requirement already satisfied: numpy>=1.11.0 in /Users/michaltakac/anaconda3/envs/geo_env/lib/python3.8/site-packages (from geovoronoi) (1.18.1)\n",
      "Requirement already satisfied: pyproj>=2.2.0 in /Users/michaltakac/anaconda3/envs/geo_env/lib/python3.8/site-packages (from geopandas>=0.5.0->keplergl) (2.4.2.post1)\n",
      "Requirement already satisfied: fiona in /Users/michaltakac/anaconda3/envs/geo_env/lib/python3.8/site-packages (from geopandas>=0.5.0->keplergl) (1.8.13)\n",
      "Requirement already satisfied: nbformat>=4.2.0 in /Users/michaltakac/anaconda3/envs/geo_env/lib/python3.8/site-packages (from ipywidgets<8,>=7.0.0->keplergl) (5.0.4)\n",
      "Requirement already satisfied: widgetsnbextension~=3.5.0 in /Users/michaltakac/anaconda3/envs/geo_env/lib/python3.8/site-packages (from ipywidgets<8,>=7.0.0->keplergl) (3.5.1)\n",
      "Requirement already satisfied: ipykernel>=4.5.1 in /Users/michaltakac/anaconda3/envs/geo_env/lib/python3.8/site-packages (from ipywidgets<8,>=7.0.0->keplergl) (5.1.4)\n",
      "Requirement already satisfied: ipython>=4.0.0; python_version >= \"3.3\" in /Users/michaltakac/anaconda3/envs/geo_env/lib/python3.8/site-packages (from ipywidgets<8,>=7.0.0->keplergl) (7.11.1)\n",
      "Requirement already satisfied: traitlets>=4.3.1 in /Users/michaltakac/anaconda3/envs/geo_env/lib/python3.8/site-packages (from ipywidgets<8,>=7.0.0->keplergl) (4.3.3)\n",
      "Requirement already satisfied: python-dateutil>=2.6.1 in /Users/michaltakac/anaconda3/envs/geo_env/lib/python3.8/site-packages (from pandas>=0.23.0->keplergl) (2.8.1)\n",
      "Requirement already satisfied: pytz>=2017.2 in /Users/michaltakac/anaconda3/envs/geo_env/lib/python3.8/site-packages (from pandas>=0.23.0->keplergl) (2019.3)\n",
      "Requirement already satisfied: attrs>=17 in /Users/michaltakac/anaconda3/envs/geo_env/lib/python3.8/site-packages (from fiona->geopandas>=0.5.0->keplergl) (19.3.0)\n",
      "Requirement already satisfied: click<8,>=4.0 in /Users/michaltakac/anaconda3/envs/geo_env/lib/python3.8/site-packages (from fiona->geopandas>=0.5.0->keplergl) (7.0)\n",
      "Requirement already satisfied: cligj>=0.5 in /Users/michaltakac/anaconda3/envs/geo_env/lib/python3.8/site-packages (from fiona->geopandas>=0.5.0->keplergl) (0.5.0)\n",
      "Requirement already satisfied: click-plugins>=1.0 in /Users/michaltakac/anaconda3/envs/geo_env/lib/python3.8/site-packages (from fiona->geopandas>=0.5.0->keplergl) (1.1.1)\n",
      "Requirement already satisfied: six>=1.7 in /Users/michaltakac/anaconda3/envs/geo_env/lib/python3.8/site-packages (from fiona->geopandas>=0.5.0->keplergl) (1.14.0)\n",
      "Requirement already satisfied: munch in /Users/michaltakac/anaconda3/envs/geo_env/lib/python3.8/site-packages (from fiona->geopandas>=0.5.0->keplergl) (2.5.0)\n",
      "Requirement already satisfied: jupyter-core in /Users/michaltakac/anaconda3/envs/geo_env/lib/python3.8/site-packages (from nbformat>=4.2.0->ipywidgets<8,>=7.0.0->keplergl) (4.6.1)\n",
      "Requirement already satisfied: ipython-genutils in /Users/michaltakac/anaconda3/envs/geo_env/lib/python3.8/site-packages (from nbformat>=4.2.0->ipywidgets<8,>=7.0.0->keplergl) (0.2.0)\n",
      "Requirement already satisfied: jsonschema!=2.5.0,>=2.4 in /Users/michaltakac/anaconda3/envs/geo_env/lib/python3.8/site-packages (from nbformat>=4.2.0->ipywidgets<8,>=7.0.0->keplergl) (3.2.0)\n",
      "Requirement already satisfied: notebook>=4.4.1 in /Users/michaltakac/anaconda3/envs/geo_env/lib/python3.8/site-packages (from widgetsnbextension~=3.5.0->ipywidgets<8,>=7.0.0->keplergl) (6.0.3)\n",
      "Requirement already satisfied: jupyter-client in /Users/michaltakac/anaconda3/envs/geo_env/lib/python3.8/site-packages (from ipykernel>=4.5.1->ipywidgets<8,>=7.0.0->keplergl) (5.3.4)\n",
      "Requirement already satisfied: appnope; platform_system == \"Darwin\" in /Users/michaltakac/anaconda3/envs/geo_env/lib/python3.8/site-packages (from ipykernel>=4.5.1->ipywidgets<8,>=7.0.0->keplergl) (0.1.0)\n",
      "Requirement already satisfied: tornado>=4.2 in /Users/michaltakac/anaconda3/envs/geo_env/lib/python3.8/site-packages (from ipykernel>=4.5.1->ipywidgets<8,>=7.0.0->keplergl) (6.0.3)\n",
      "Requirement already satisfied: setuptools>=18.5 in /Users/michaltakac/anaconda3/envs/geo_env/lib/python3.8/site-packages (from ipython>=4.0.0; python_version >= \"3.3\"->ipywidgets<8,>=7.0.0->keplergl) (45.1.0.post20200119)\n",
      "Requirement already satisfied: pexpect; sys_platform != \"win32\" in /Users/michaltakac/anaconda3/envs/geo_env/lib/python3.8/site-packages (from ipython>=4.0.0; python_version >= \"3.3\"->ipywidgets<8,>=7.0.0->keplergl) (4.8.0)\n",
      "Requirement already satisfied: pickleshare in /Users/michaltakac/anaconda3/envs/geo_env/lib/python3.8/site-packages (from ipython>=4.0.0; python_version >= \"3.3\"->ipywidgets<8,>=7.0.0->keplergl) (0.7.5)\n",
      "Requirement already satisfied: decorator in /Users/michaltakac/anaconda3/envs/geo_env/lib/python3.8/site-packages (from ipython>=4.0.0; python_version >= \"3.3\"->ipywidgets<8,>=7.0.0->keplergl) (4.4.1)\n",
      "Requirement already satisfied: prompt-toolkit!=3.0.0,!=3.0.1,<3.1.0,>=2.0.0 in /Users/michaltakac/anaconda3/envs/geo_env/lib/python3.8/site-packages (from ipython>=4.0.0; python_version >= \"3.3\"->ipywidgets<8,>=7.0.0->keplergl) (3.0.3)\n",
      "Requirement already satisfied: pygments in /Users/michaltakac/anaconda3/envs/geo_env/lib/python3.8/site-packages (from ipython>=4.0.0; python_version >= \"3.3\"->ipywidgets<8,>=7.0.0->keplergl) (2.5.2)\n",
      "Requirement already satisfied: jedi>=0.10 in /Users/michaltakac/anaconda3/envs/geo_env/lib/python3.8/site-packages (from ipython>=4.0.0; python_version >= \"3.3\"->ipywidgets<8,>=7.0.0->keplergl) (0.16.0)\n",
      "Requirement already satisfied: backcall in /Users/michaltakac/anaconda3/envs/geo_env/lib/python3.8/site-packages (from ipython>=4.0.0; python_version >= \"3.3\"->ipywidgets<8,>=7.0.0->keplergl) (0.1.0)\n",
      "Requirement already satisfied: pyrsistent>=0.14.0 in /Users/michaltakac/anaconda3/envs/geo_env/lib/python3.8/site-packages (from jsonschema!=2.5.0,>=2.4->nbformat>=4.2.0->ipywidgets<8,>=7.0.0->keplergl) (0.15.7)\n",
      "Requirement already satisfied: Send2Trash in /Users/michaltakac/anaconda3/envs/geo_env/lib/python3.8/site-packages (from notebook>=4.4.1->widgetsnbextension~=3.5.0->ipywidgets<8,>=7.0.0->keplergl) (1.5.0)\n",
      "Requirement already satisfied: terminado>=0.8.1 in /Users/michaltakac/anaconda3/envs/geo_env/lib/python3.8/site-packages (from notebook>=4.4.1->widgetsnbextension~=3.5.0->ipywidgets<8,>=7.0.0->keplergl) (0.8.3)\n",
      "Requirement already satisfied: jinja2 in /Users/michaltakac/anaconda3/envs/geo_env/lib/python3.8/site-packages (from notebook>=4.4.1->widgetsnbextension~=3.5.0->ipywidgets<8,>=7.0.0->keplergl) (2.11.1)\n",
      "Requirement already satisfied: nbconvert in /Users/michaltakac/anaconda3/envs/geo_env/lib/python3.8/site-packages (from notebook>=4.4.1->widgetsnbextension~=3.5.0->ipywidgets<8,>=7.0.0->keplergl) (5.6.1)\n",
      "Requirement already satisfied: prometheus-client in /Users/michaltakac/anaconda3/envs/geo_env/lib/python3.8/site-packages (from notebook>=4.4.1->widgetsnbextension~=3.5.0->ipywidgets<8,>=7.0.0->keplergl) (0.7.1)\n",
      "Requirement already satisfied: pyzmq>=17 in /Users/michaltakac/anaconda3/envs/geo_env/lib/python3.8/site-packages (from notebook>=4.4.1->widgetsnbextension~=3.5.0->ipywidgets<8,>=7.0.0->keplergl) (18.1.1)\n",
      "Requirement already satisfied: ptyprocess>=0.5 in /Users/michaltakac/anaconda3/envs/geo_env/lib/python3.8/site-packages (from pexpect; sys_platform != \"win32\"->ipython>=4.0.0; python_version >= \"3.3\"->ipywidgets<8,>=7.0.0->keplergl) (0.6.0)\n",
      "Requirement already satisfied: wcwidth in /Users/michaltakac/anaconda3/envs/geo_env/lib/python3.8/site-packages (from prompt-toolkit!=3.0.0,!=3.0.1,<3.1.0,>=2.0.0->ipython>=4.0.0; python_version >= \"3.3\"->ipywidgets<8,>=7.0.0->keplergl) (0.1.8)\n",
      "Requirement already satisfied: parso>=0.5.2 in /Users/michaltakac/anaconda3/envs/geo_env/lib/python3.8/site-packages (from jedi>=0.10->ipython>=4.0.0; python_version >= \"3.3\"->ipywidgets<8,>=7.0.0->keplergl) (0.6.0)\n",
      "Requirement already satisfied: MarkupSafe>=0.23 in /Users/michaltakac/anaconda3/envs/geo_env/lib/python3.8/site-packages (from jinja2->notebook>=4.4.1->widgetsnbextension~=3.5.0->ipywidgets<8,>=7.0.0->keplergl) (1.1.1)\n",
      "Requirement already satisfied: bleach in /Users/michaltakac/anaconda3/envs/geo_env/lib/python3.8/site-packages (from nbconvert->notebook>=4.4.1->widgetsnbextension~=3.5.0->ipywidgets<8,>=7.0.0->keplergl) (3.1.0)\n",
      "Requirement already satisfied: entrypoints>=0.2.2 in /Users/michaltakac/anaconda3/envs/geo_env/lib/python3.8/site-packages (from nbconvert->notebook>=4.4.1->widgetsnbextension~=3.5.0->ipywidgets<8,>=7.0.0->keplergl) (0.3)\n"
     ]
    },
    {
     "name": "stdout",
     "output_type": "stream",
     "text": [
      "Requirement already satisfied: mistune<2,>=0.8.1 in /Users/michaltakac/anaconda3/envs/geo_env/lib/python3.8/site-packages (from nbconvert->notebook>=4.4.1->widgetsnbextension~=3.5.0->ipywidgets<8,>=7.0.0->keplergl) (0.8.4)\r\n",
      "Requirement already satisfied: pandocfilters>=1.4.1 in /Users/michaltakac/anaconda3/envs/geo_env/lib/python3.8/site-packages (from nbconvert->notebook>=4.4.1->widgetsnbextension~=3.5.0->ipywidgets<8,>=7.0.0->keplergl) (1.4.2)\r\n",
      "Requirement already satisfied: testpath in /Users/michaltakac/anaconda3/envs/geo_env/lib/python3.8/site-packages (from nbconvert->notebook>=4.4.1->widgetsnbextension~=3.5.0->ipywidgets<8,>=7.0.0->keplergl) (0.4.4)\r\n",
      "Requirement already satisfied: defusedxml in /Users/michaltakac/anaconda3/envs/geo_env/lib/python3.8/site-packages (from nbconvert->notebook>=4.4.1->widgetsnbextension~=3.5.0->ipywidgets<8,>=7.0.0->keplergl) (0.6.0)\r\n",
      "Requirement already satisfied: webencodings in /Users/michaltakac/anaconda3/envs/geo_env/lib/python3.8/site-packages (from bleach->nbconvert->notebook>=4.4.1->widgetsnbextension~=3.5.0->ipywidgets<8,>=7.0.0->keplergl) (0.5.1)\r\n"
     ]
    }
   ],
   "source": [
    "import sys\n",
    "!{sys.executable} -m pip install keplergl geovoronoi"
   ]
  },
  {
   "cell_type": "code",
   "execution_count": 4,
   "metadata": {},
   "outputs": [
    {
     "name": "stdout",
     "output_type": "stream",
     "text": [
      "Neighborhoods shapefile Coordinate Reference System is epsg:4326, which is good!\n"
     ]
    },
    {
     "data": {
      "text/html": [
       "<div>\n",
       "<style scoped>\n",
       "    .dataframe tbody tr th:only-of-type {\n",
       "        vertical-align: middle;\n",
       "    }\n",
       "\n",
       "    .dataframe tbody tr th {\n",
       "        vertical-align: top;\n",
       "    }\n",
       "\n",
       "    .dataframe thead th {\n",
       "        text-align: right;\n",
       "    }\n",
       "</style>\n",
       "<table border=\"1\" class=\"dataframe\">\n",
       "  <thead>\n",
       "    <tr style=\"text-align: right;\">\n",
       "      <th></th>\n",
       "      <th>OBJECTID</th>\n",
       "      <th>REGION</th>\n",
       "      <th>NAME</th>\n",
       "      <th>HISTORIC</th>\n",
       "      <th>UPD_DIV</th>\n",
       "      <th>UPD_PERSON</th>\n",
       "      <th>UPD_DATE</th>\n",
       "      <th>NSA_KEY</th>\n",
       "      <th>ACRES</th>\n",
       "      <th>geometry</th>\n",
       "    </tr>\n",
       "  </thead>\n",
       "  <tbody>\n",
       "    <tr>\n",
       "      <th>0</th>\n",
       "      <td>1</td>\n",
       "      <td>01</td>\n",
       "      <td>Lakes and Birds</td>\n",
       "      <td>None</td>\n",
       "      <td>FREMONT GIS</td>\n",
       "      <td>RCHAN</td>\n",
       "      <td>20040617</td>\n",
       "      <td>1</td>\n",
       "      <td>317.471</td>\n",
       "      <td>POLYGON ((-122.05039 37.58380, -122.05312 37.5...</td>\n",
       "    </tr>\n",
       "    <tr>\n",
       "      <th>1</th>\n",
       "      <td>2</td>\n",
       "      <td>02</td>\n",
       "      <td>Ardenwood</td>\n",
       "      <td>None</td>\n",
       "      <td>FREMONT GIS</td>\n",
       "      <td>RCHAN</td>\n",
       "      <td>20040617</td>\n",
       "      <td>2</td>\n",
       "      <td>1570.961</td>\n",
       "      <td>POLYGON ((-122.06751 37.54066, -122.06782 37.5...</td>\n",
       "    </tr>\n",
       "    <tr>\n",
       "      <th>2</th>\n",
       "      <td>3</td>\n",
       "      <td>03</td>\n",
       "      <td>Northgate</td>\n",
       "      <td>None</td>\n",
       "      <td>FREMONT GIS</td>\n",
       "      <td>RCHAN</td>\n",
       "      <td>20040617</td>\n",
       "      <td>3</td>\n",
       "      <td>860.293</td>\n",
       "      <td>POLYGON ((-122.05048 37.58394, -122.05026 37.5...</td>\n",
       "    </tr>\n",
       "    <tr>\n",
       "      <th>3</th>\n",
       "      <td>4</td>\n",
       "      <td>04</td>\n",
       "      <td>Cabrillo</td>\n",
       "      <td>None</td>\n",
       "      <td>FREMONT GIS</td>\n",
       "      <td>RCHAN</td>\n",
       "      <td>20040617</td>\n",
       "      <td>4</td>\n",
       "      <td>746.339</td>\n",
       "      <td>POLYGON ((-122.02642 37.55096, -122.02762 37.5...</td>\n",
       "    </tr>\n",
       "    <tr>\n",
       "      <th>4</th>\n",
       "      <td>5</td>\n",
       "      <td>05</td>\n",
       "      <td>Brookvale</td>\n",
       "      <td>None</td>\n",
       "      <td>FREMONT GIS</td>\n",
       "      <td>RCHAN</td>\n",
       "      <td>20040617</td>\n",
       "      <td>5</td>\n",
       "      <td>1173.773</td>\n",
       "      <td>POLYGON ((-122.00703 37.58295, -122.00699 37.5...</td>\n",
       "    </tr>\n",
       "  </tbody>\n",
       "</table>\n",
       "</div>"
      ],
      "text/plain": [
       "   OBJECTID REGION             NAME HISTORIC      UPD_DIV UPD_PERSON  \\\n",
       "0         1     01  Lakes and Birds     None  FREMONT GIS      RCHAN   \n",
       "1         2     02        Ardenwood     None  FREMONT GIS      RCHAN   \n",
       "2         3     03        Northgate     None  FREMONT GIS      RCHAN   \n",
       "3         4     04         Cabrillo     None  FREMONT GIS      RCHAN   \n",
       "4         5     05        Brookvale     None  FREMONT GIS      RCHAN   \n",
       "\n",
       "   UPD_DATE  NSA_KEY     ACRES  \\\n",
       "0  20040617        1   317.471   \n",
       "1  20040617        2  1570.961   \n",
       "2  20040617        3   860.293   \n",
       "3  20040617        4   746.339   \n",
       "4  20040617        5  1173.773   \n",
       "\n",
       "                                            geometry  \n",
       "0  POLYGON ((-122.05039 37.58380, -122.05312 37.5...  \n",
       "1  POLYGON ((-122.06751 37.54066, -122.06782 37.5...  \n",
       "2  POLYGON ((-122.05048 37.58394, -122.05026 37.5...  \n",
       "3  POLYGON ((-122.02642 37.55096, -122.02762 37.5...  \n",
       "4  POLYGON ((-122.00703 37.58295, -122.00699 37.5...  "
      ]
     },
     "execution_count": 4,
     "metadata": {},
     "output_type": "execute_result"
    }
   ],
   "source": [
    "from geopandas import GeoDataFrame\n",
    "\n",
    "neighborhoods_shp_old_projection = GeoDataFrame.from_file(data_path + '/Data processing/Raw/Demand/OD demand/Fremont neighborhoods/Neighborhoods.shp')\n",
    "\n",
    "neighborhoods_shp = neighborhoods_shp_old_projection.to_crs('epsg:4326')\n",
    "\n",
    "assert(neighborhoods_shp.crs == 'epsg:4326'),'Neighborhoods shapefile Coordinate Reference System missmatch! CRS is not EPSG:4326.'\n",
    "print('Neighborhoods shapefile Coordinate Reference System is epsg:4326, which is good!')\n",
    "\n",
    "neighborhoods_shp.head()"
   ]
  },
  {
   "cell_type": "markdown",
   "metadata": {},
   "source": [
    "***"
   ]
  },
  {
   "cell_type": "markdown",
   "metadata": {},
   "source": [
    "## 2. Split neighborhoods into parts"
   ]
  },
  {
   "cell_type": "markdown",
   "metadata": {},
   "source": [
    "We're going to use `geovoronoi` module here to do the splitting. We generate random points within each neighborhood boundaries and they will used as input centroids, from which Voronoi diagrams will be generated.\n",
    "\n",
    "These Voronoi diagrams will then be converted into `Polygon`s. We'll generate new `GeoDataFrame` which will contain all of the new generated `Polygons` and set `CentroidID` and `NeighborhoodID` to each one of them."
   ]
  },
  {
   "cell_type": "code",
   "execution_count": 5,
   "metadata": {},
   "outputs": [
    {
     "data": {
      "text/html": [
       "<div>\n",
       "<style scoped>\n",
       "    .dataframe tbody tr th:only-of-type {\n",
       "        vertical-align: middle;\n",
       "    }\n",
       "\n",
       "    .dataframe tbody tr th {\n",
       "        vertical-align: top;\n",
       "    }\n",
       "\n",
       "    .dataframe thead th {\n",
       "        text-align: right;\n",
       "    }\n",
       "</style>\n",
       "<table border=\"1\" class=\"dataframe\">\n",
       "  <thead>\n",
       "    <tr style=\"text-align: right;\">\n",
       "      <th></th>\n",
       "      <th>CentroidID</th>\n",
       "      <th>NeighborhoodID</th>\n",
       "      <th>centroid_lat</th>\n",
       "      <th>centroid_lng</th>\n",
       "      <th>geometry</th>\n",
       "      <th>neighborhood_name</th>\n",
       "    </tr>\n",
       "  </thead>\n",
       "  <tbody>\n",
       "    <tr>\n",
       "      <th>0</th>\n",
       "      <td>1.0</td>\n",
       "      <td>1.0</td>\n",
       "      <td>37.581518</td>\n",
       "      <td>-122.054469</td>\n",
       "      <td>POLYGON ((-122.05677 37.58162, -122.05531 37.5...</td>\n",
       "      <td>Lakes and Birds</td>\n",
       "    </tr>\n",
       "    <tr>\n",
       "      <th>1</th>\n",
       "      <td>2.0</td>\n",
       "      <td>1.0</td>\n",
       "      <td>37.583721</td>\n",
       "      <td>-122.056755</td>\n",
       "      <td>POLYGON ((-122.05531 37.58281, -122.05677 37.5...</td>\n",
       "      <td>Lakes and Birds</td>\n",
       "    </tr>\n",
       "    <tr>\n",
       "      <th>2</th>\n",
       "      <td>3.0</td>\n",
       "      <td>1.0</td>\n",
       "      <td>37.581641</td>\n",
       "      <td>-122.059747</td>\n",
       "      <td>POLYGON ((-122.05677 37.58162, -122.05674 37.5...</td>\n",
       "      <td>Lakes and Birds</td>\n",
       "    </tr>\n",
       "    <tr>\n",
       "      <th>3</th>\n",
       "      <td>4.0</td>\n",
       "      <td>1.0</td>\n",
       "      <td>37.577701</td>\n",
       "      <td>-122.059779</td>\n",
       "      <td>POLYGON ((-122.06083 37.57974, -122.05939 37.5...</td>\n",
       "      <td>Lakes and Birds</td>\n",
       "    </tr>\n",
       "    <tr>\n",
       "      <th>4</th>\n",
       "      <td>5.0</td>\n",
       "      <td>1.0</td>\n",
       "      <td>37.585313</td>\n",
       "      <td>-122.060500</td>\n",
       "      <td>POLYGON ((-122.05908 37.58342, -122.06228 37.5...</td>\n",
       "      <td>Lakes and Birds</td>\n",
       "    </tr>\n",
       "  </tbody>\n",
       "</table>\n",
       "</div>"
      ],
      "text/plain": [
       "   CentroidID  NeighborhoodID  centroid_lat  centroid_lng  \\\n",
       "0         1.0             1.0     37.581518   -122.054469   \n",
       "1         2.0             1.0     37.583721   -122.056755   \n",
       "2         3.0             1.0     37.581641   -122.059747   \n",
       "3         4.0             1.0     37.577701   -122.059779   \n",
       "4         5.0             1.0     37.585313   -122.060500   \n",
       "\n",
       "                                            geometry neighborhood_name  \n",
       "0  POLYGON ((-122.05677 37.58162, -122.05531 37.5...   Lakes and Birds  \n",
       "1  POLYGON ((-122.05531 37.58281, -122.05677 37.5...   Lakes and Birds  \n",
       "2  POLYGON ((-122.05677 37.58162, -122.05674 37.5...   Lakes and Birds  \n",
       "3  POLYGON ((-122.06083 37.57974, -122.05939 37.5...   Lakes and Birds  \n",
       "4  POLYGON ((-122.05908 37.58342, -122.06228 37.5...   Lakes and Birds  "
      ]
     },
     "execution_count": 5,
     "metadata": {},
     "output_type": "execute_result"
    }
   ],
   "source": [
    "import numpy as np\n",
    "import geopandas as gpd\n",
    "from demandutils import voronoi_within_neighborhood\n",
    "\n",
    "np.random.seed(123)\n",
    "\n",
    "partitioned_neighborhood_centroids = gpd.GeoDataFrame()\n",
    "\n",
    "for neighborhood_index, neighborhood_name in enumerate(neighborhoods_shp['NAME'].unique()):\n",
    "    neighborhood_id = neighborhoods_shp.loc[neighborhood_index]['OBJECTID']\n",
    "    poly_shapes, pts, poly_to_pt_assignments = voronoi_within_neighborhood(neighborhoods_shp, neighborhood_name, n_points=15)\n",
    "\n",
    "    for index, pp in enumerate(poly_shapes):\n",
    "        new_row = {'CentroidID':int(index+1), 'centroid_lng':pp.centroid.x, 'centroid_lat':pp.centroid.y, 'NeighborhoodID':neighborhood_id, 'neighborhood_name':neighborhood_name, 'geometry':pp}\n",
    "        partitioned_neighborhood_centroids = partitioned_neighborhood_centroids.append(new_row, ignore_index=True)\n",
    "    \n",
    "partitioned_neighborhood_centroids.head()"
   ]
  },
  {
   "cell_type": "code",
   "execution_count": 6,
   "metadata": {},
   "outputs": [
    {
     "name": "stdout",
     "output_type": "stream",
     "text": [
      "We created 218 centroids within 28 neighborhoods.\n"
     ]
    }
   ],
   "source": [
    "print('We created {x} centroids within {y} neighborhoods.'.format(x=repr(len(partitioned_neighborhood_centroids)), y=repr(len(neighborhoods_shp['NAME'].unique()))))"
   ]
  },
  {
   "cell_type": "markdown",
   "metadata": {},
   "source": [
    "## 3. Visual check of generated centroid zones within Fremont Neighborhoods"
   ]
  },
  {
   "cell_type": "code",
   "execution_count": 7,
   "metadata": {
    "scrolled": false
   },
   "outputs": [
    {
     "name": "stdout",
     "output_type": "stream",
     "text": [
      "User Guide: https://github.com/keplergl/kepler.gl/blob/master/docs/keplergl-jupyter/user-guide.md\n"
     ]
    },
    {
     "data": {
      "application/vnd.jupyter.widget-view+json": {
       "model_id": "af9aca78eb1d4f8b8e9cf81d9545a5cc",
       "version_major": 2,
       "version_minor": 0
      },
      "text/plain": [
       "KeplerGl(data={'Neighborhoods split into multiple centroid zones': {'index': [0, 1, 2, 3, 4, 5, 6, 7, 8, 9, 10…"
      ]
     },
     "metadata": {},
     "output_type": "display_data"
    }
   ],
   "source": [
    "from keplergl import KeplerGl\n",
    "fremont_map = KeplerGl(height=600)\n",
    "fremont_map.add_data(data=partitioned_neighborhood_centroids, name=\"Neighborhoods split into multiple centroid zones\")\n",
    "fremont_map.add_data(data=neighborhoods_shp, name=\"Fremont neighborhoods\")\n",
    "fremont_map"
   ]
  },
  {
   "cell_type": "markdown",
   "metadata": {},
   "source": [
    "***"
   ]
  },
  {
   "cell_type": "markdown",
   "metadata": {},
   "source": [
    "## 4. Export the neighborhoods centroid zones"
   ]
  },
  {
   "cell_type": "code",
   "execution_count": 10,
   "metadata": {},
   "outputs": [],
   "source": [
    "partitioned_neighborhood_centroids.to_csv(aux_files+'/Demand/OD demand/neighborhoods_centroid_zones.csv')"
   ]
  }
 ],
 "metadata": {
  "kernelspec": {
   "display_name": "Python 3.8.1 64-bit ('geo_env': conda)",
   "language": "python",
   "name": "python38164bitgeoenvconda79a30b56b4ac46138529178ecf2fe65a"
  },
  "language_info": {
   "codemirror_mode": {
    "name": "ipython",
    "version": 3
   },
   "file_extension": ".py",
   "mimetype": "text/x-python",
   "name": "python",
   "nbconvert_exporter": "python",
   "pygments_lexer": "ipython3",
   "version": "3.8.1"
  }
 },
 "nbformat": 4,
 "nbformat_minor": 4
}
